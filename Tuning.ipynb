{
 "cells": [
  {
   "cell_type": "markdown",
   "id": "fd155408",
   "metadata": {},
   "source": [
    "# <center> Deep Learning Project:"
   ]
  },
  {
   "cell_type": "markdown",
   "id": "a954f1cd",
   "metadata": {},
   "source": [
    "> - __Ahmed Abdelazeem__ (m20210433)\n",
    "> - __Omar Jarir__ (m20201378)  \n",
    "> - __Chung-Ting Huang__ (m20210437) "
   ]
  },
  {
   "cell_type": "markdown",
   "id": "011bfc00",
   "metadata": {},
   "source": [
    "***"
   ]
  },
  {
   "cell_type": "markdown",
   "id": "680a8114",
   "metadata": {},
   "source": [
    "- __The objective of this notebook is to perform hyperparameters tuning:__\n",
    "- Some references:\n",
    "   - https://neptune.ai/blog/keras-tuner-tuning-hyperparameters-deep-learning-model/amp\n",
    "   - https://keras.io/guides/keras_tuner/getting_started/\n",
    "   - https://keras.io/api/utils/serialization_utils/\n",
    "   - https://www.tensorflow.org/tutorials/keras/keras_tuner\n",
    "   - https://scikit-learn.org/stable/auto_examples/feature_selection/plot_feature_selection.html#sphx-glr-auto-examples-feature-selection-plot-feature-selection-py"
   ]
  },
  {
   "cell_type": "code",
   "execution_count": 42,
   "id": "31fcad8c",
   "metadata": {
    "scrolled": true
   },
   "outputs": [],
   "source": [
    "                # !pip install keras-tuner --upgrade\n",
    "# !pip install -q -U keras-tuner\n",
    "#!pip install findspark\n",
    "#!pip install tensorflow-addons"
   ]
  },
  {
   "cell_type": "code",
   "execution_count": 43,
   "id": "0f3facbb",
   "metadata": {
    "scrolled": true
   },
   "outputs": [],
   "source": [
    "import time\n",
    "t1 = time.perf_counter()"
   ]
  },
  {
   "cell_type": "markdown",
   "id": "66dd1018",
   "metadata": {},
   "source": [
    "***"
   ]
  },
  {
   "cell_type": "markdown",
   "id": "70d3f3c4",
   "metadata": {},
   "source": [
    "- __Importing the necessary libraries 📚:__"
   ]
  },
  {
   "cell_type": "code",
   "execution_count": 103,
   "id": "d8c7afd4",
   "metadata": {
    "scrolled": true
   },
   "outputs": [],
   "source": [
    "import numpy as np\n",
    "import random as python_random\n",
    "import pandas as pd\n",
    "import matplotlib.pyplot as plt\n",
    "import seaborn as sns\n",
    "\n",
    "import tensorflow as tf\n",
    "from tensorflow import keras \n",
    "import keras_tuner as kt\n",
    "import keras.backend as K\n",
    "import tensorflow_addons as tfa"
   ]
  },
  {
   "cell_type": "code",
   "execution_count": 162,
   "id": "67be2fc2",
   "metadata": {
    "scrolled": true
   },
   "outputs": [],
   "source": [
    "from keras.models import Model, Sequential\n",
    "from keras import layers\n",
    "from keras.callbacks import EarlyStopping, ModelCheckpoint, History, ReduceLROnPlateau \n",
    "from keras import optimizers\n",
    "\n",
    "from sklearn.model_selection import train_test_split, StratifiedKFold\n",
    "from sklearn.feature_selection import SelectKBest, chi2, mutual_info_classif, f_classif \n",
    "from sklearn.utils import class_weight\n",
    "\n",
    "from sklearn.preprocessing import MinMaxScaler, StandardScaler\n",
    "from sklearn import metrics\n",
    "from sklearn.metrics import classification_report, confusion_matrix\n",
    "\n",
    "import IPython"
   ]
  },
  {
   "cell_type": "code",
   "execution_count": 46,
   "id": "7c52987b",
   "metadata": {
    "scrolled": true
   },
   "outputs": [],
   "source": [
    "import warnings\n",
    "warnings.filterwarnings(\"ignore\")"
   ]
  },
  {
   "cell_type": "code",
   "execution_count": 47,
   "id": "8b710363",
   "metadata": {
    "scrolled": true
   },
   "outputs": [],
   "source": [
    "SEED = 2022"
   ]
  },
  {
   "cell_type": "markdown",
   "id": "bb6defba",
   "metadata": {},
   "source": [
    "Fixing the random number seed to ensure that the results are reproducible."
   ]
  },
  {
   "cell_type": "code",
   "execution_count": 48,
   "id": "195b17cb",
   "metadata": {
    "scrolled": true
   },
   "outputs": [],
   "source": [
    "session = K.get_session()\n",
    "\n",
    "np.random.seed(SEED)\n",
    "tf.random.set_seed(SEED)\n",
    "python_random.seed(SEED)"
   ]
  },
  {
   "cell_type": "markdown",
   "id": "87c1d56c",
   "metadata": {},
   "source": [
    "- __Helper functions:__"
   ]
  },
  {
   "cell_type": "code",
   "execution_count": 49,
   "id": "b37a0c45",
   "metadata": {
    "scrolled": true
   },
   "outputs": [],
   "source": [
    "# Function to create dataframe with metrics\n",
    "\n",
    "def performanceMetricsDF(metricsObj, yTrain, yPredTrain, yTest, yPredTest):\n",
    "    measures_list = ['ACCURACY','PRECISION', 'RECALL','F1 SCORE','AUC']\n",
    "    train_results = [metricsObj.accuracy_score(yTrain, yPredTrain),\n",
    "                metricsObj.precision_score(yTrain, yPredTrain),\n",
    "                metricsObj.recall_score(yTrain, yPredTrain, average='macro'),\n",
    "                metricsObj.f1_score(yTrain, yPredTrain, average='macro'),\n",
    "                metricsObj.roc_auc_score(yTrain, yPredTrain),    \n",
    "                ]\n",
    "    test_results = [metricsObj.accuracy_score(yTest, yPredTest),\n",
    "               metricsObj.precision_score(yTest, yPredTest),\n",
    "               metricsObj.recall_score(yTest, yPredTest, average='macro'),\n",
    "               metricsObj.f1_score(yTest, yPredTest, average='macro'),\n",
    "               metricsObj.roc_auc_score(yTest, yPredTest), \n",
    "               ]\n",
    "    resultsDF = pd.DataFrame({'Measure': measures_list, 'Train': train_results, 'Test':test_results}, index=measures_list)\n",
    "    return resultsDF"
   ]
  },
  {
   "cell_type": "code",
   "execution_count": 50,
   "id": "6221a8c1",
   "metadata": {
    "scrolled": true
   },
   "outputs": [],
   "source": [
    "# Function to plot confusion matrix - Adapted from https://github.com/DTrimarchi10/confusion_matrix/blob/master/cf_matrix.py\n",
    "def make_confusion_matrix(cf,\n",
    "                          group_names=None,\n",
    "                          categories='auto',\n",
    "                          count=True,\n",
    "                          percent=True,\n",
    "                          cbar=True,\n",
    "                          xyticks=True,\n",
    "                          xyplotlabels=True,\n",
    "                          sum_stats=True,\n",
    "                          figsize=None,\n",
    "                          cmap='Blues',\n",
    "                          title=None):\n",
    "    '''\n",
    "    This function will make a pretty plot of an sklearn Confusion Matrix cm using a Seaborn heatmap visualization.\n",
    "    Arguments\n",
    "    ---------\n",
    "    cf:            confusion matrix to be passed in\n",
    "    group_names:   List of strings that represent the labels row by row to be shown in each square.\n",
    "    categories:    List of strings containing the categories to be displayed on the x,y axis. Default is 'auto'\n",
    "    count:         If True, show the raw number in the confusion matrix. Default is True.\n",
    "    normalize:     If True, show the proportions for each category. Default is True.\n",
    "    cbar:          If True, show the color bar. The cbar values are based off the values in the confusion matrix.\n",
    "                   Default is True.\n",
    "    xyticks:       If True, show x and y ticks. Default is True.\n",
    "    xyplotlabels:  If True, show 'True Label' and 'Predicted Label' on the figure. Default is True.\n",
    "    sum_stats:     If True, display summary statistics below the figure. Default is True.\n",
    "    figsize:       Tuple representing the figure size. Default will be the matplotlib rcParams value.\n",
    "    cmap:          Colormap of the values displayed from matplotlib.pyplot.cm. Default is 'Blues'\n",
    "                   See http://matplotlib.org/examples/color/colormaps_reference.html\n",
    "                   \n",
    "    title:         Title for the heatmap. Default is None.\n",
    "    '''\n",
    "\n",
    "\n",
    "    # CODE TO GENERATE TEXT INSIDE EACH SQUARE\n",
    "    blanks = ['' for i in range(cf.size)]\n",
    "\n",
    "    if group_names and len(group_names)==cf.size:\n",
    "        group_labels = [\"{}\\n\".format(value) for value in group_names]\n",
    "    else:\n",
    "        group_labels = blanks\n",
    "\n",
    "    if count:\n",
    "        group_counts = [\"{0:0.0f}\\n\".format(value) for value in cf.flatten()]\n",
    "    else:\n",
    "        group_counts = blanks\n",
    "\n",
    "    if percent:\n",
    "        group_percentages = [\"{0:.2%}\".format(value) for value in cf.flatten()/np.sum(cf)]\n",
    "    else:\n",
    "        group_percentages = blanks\n",
    "\n",
    "    box_labels = [f\"{v1}{v2}{v3}\".strip() for v1, v2, v3 in zip(group_labels,group_counts,group_percentages)]\n",
    "    box_labels = np.asarray(box_labels).reshape(cf.shape[0],cf.shape[1])\n",
    "\n",
    "\n",
    "    # CODE TO GENERATE SUMMARY STATISTICS & TEXT FOR SUMMARY STATS\n",
    "    if sum_stats:\n",
    "        #Accuracy is sum of diagonal divided by total observations\n",
    "        accuracy  = np.trace(cf) / float(np.sum(cf))\n",
    "\n",
    "        #if it is a binary confusion matrix, show some more stats\n",
    "        if len(cf)==2:\n",
    "            #Metrics for Binary Confusion Matrices\n",
    "            precision = cf[1,1] / sum(cf[:,1])\n",
    "            recall    = cf[1,1] / sum(cf[1,:])\n",
    "            f1_score  = 2*precision*recall / (precision + recall)\n",
    "            stats_text = \"\\n\\nAccuracy={:0.3f}\\nPrecision={:0.3f}\\nRecall={:0.3f}\\nF1 Score={:0.3f}\".format(\n",
    "                accuracy,precision,recall,f1_score)\n",
    "        else:\n",
    "            stats_text = \"\\n\\nAccuracy={:0.3f}\".format(accuracy)\n",
    "    else:\n",
    "        stats_text = \"\"\n",
    "\n",
    "\n",
    "    # SET FIGURE PARAMETERS ACCORDING TO OTHER ARGUMENTS\n",
    "    if figsize==None:\n",
    "        #Get default figure size if not set\n",
    "        figsize = plt.rcParams.get('figure.figsize')\n",
    "\n",
    "    if xyticks==False:\n",
    "        #Do not show categories if xyticks is False\n",
    "        categories=False\n",
    "\n",
    "\n",
    "    # MAKE THE HEATMAP VISUALIZATION\n",
    "    plt.figure(figsize=figsize)\n",
    "    ax = sns.heatmap(cf,annot=box_labels, fmt=\"\",cmap=cmap,cbar=cbar,xticklabels=categories,yticklabels=categories)\n",
    "\n",
    "    if xyplotlabels:\n",
    "        plt.ylabel('True label')\n",
    "        plt.xlabel('Predicted label' + stats_text)\n",
    "    else:\n",
    "        plt.xlabel(stats_text)\n",
    "    \n",
    "    if title:\n",
    "        plt.title(title)"
   ]
  },
  {
   "cell_type": "code",
   "execution_count": 51,
   "id": "9d09be78",
   "metadata": {
    "scrolled": true
   },
   "outputs": [],
   "source": [
    "# Function to find outliers on columns based on percentile\n",
    "def removeOutliers(df, colList, lowPercentile=0.05, highPercentile=0.95, verbose=False):\n",
    "    quant_df = df[colList].quantile([lowPercentile, highPercentile])\n",
    "    if verbose:\n",
    "        print(quant_df)\n",
    "    for name in list(df[colList].columns):\n",
    "        df = df[(df[name] >= quant_df.loc[lowPercentile, name]) & (df[name] <= quant_df.loc[highPercentile, name])]\n",
    "    return df"
   ]
  },
  {
   "cell_type": "code",
   "execution_count": 145,
   "id": "71a200cc",
   "metadata": {},
   "outputs": [],
   "source": [
    "def MutualInfoScores(X, y):    \n",
    "    mi = pd.Series(mutual_info_classif(X, y))\n",
    "    mi /= mi.max()\n",
    "    mi.index = X.columns\n",
    "    mi.sort_values(ascending=False).plot.bar(figsize=(20, 6))\n",
    "    plt.title(\"Feature univariate score\")\n",
    "    plt.ylabel('Mutual Information')\n",
    "    plt.show();\n",
    "    return mi"
   ]
  },
  {
   "cell_type": "code",
   "execution_count": 150,
   "id": "f278bab8",
   "metadata": {},
   "outputs": [],
   "source": [
    "def FTestScores(X, y):\n",
    "    f_scores = pd.Series(-np.log10(f_classif(X, y)[1]))\n",
    "    f_scores /= f_scores.max()\n",
    "    f_scores.index = X.columns\n",
    "    f_scores = f_scores.sort_values(ascending=False)\n",
    "    f_scores.plot.bar(figsize=(20,6))\n",
    "    plt.title(\"Feature univariate score\")\n",
    "    plt.ylabel(r\"Univariate score ($-Log(p_{value})$)\")\n",
    "    plt.show()\n",
    "    return f_scores"
   ]
  },
  {
   "cell_type": "code",
   "execution_count": 107,
   "id": "1ced9f18",
   "metadata": {},
   "outputs": [],
   "source": [
    "def f1(y_true, y_pred):\n",
    "    y_pred = K.round(y_pred)\n",
    "    tp = K.sum(K.cast(y_true*y_pred, 'float'), axis=0)\n",
    "    fp = K.sum(K.cast((1-y_true)*y_pred, 'float'), axis=0)\n",
    "    fn = K.sum(K.cast(y_true*(1-y_pred), 'float'), axis=0)\n",
    "\n",
    "    p = tp / (tp + fp + K.epsilon())\n",
    "    r = tp / (tp + fn + K.epsilon())\n",
    "\n",
    "    f1 = 2*p*r / (p+r+K.epsilon())\n",
    "    f1 = tf.where(tf.math.is_nan(f1), tf.zeros_like(f1), f1)\n",
    "    return K.mean(f1)"
   ]
  },
  {
   "cell_type": "code",
   "execution_count": 137,
   "id": "c207ed72",
   "metadata": {},
   "outputs": [],
   "source": [
    "def remove_correlated(X):\n",
    "    corr = X.corr()\n",
    "    i = 1\n",
    "    for (index, row) in corr.iterrows():\n",
    "        for col in corr.columns[i:]:\n",
    "            if row[col] > 0.9:\n",
    "                print(f\"{index} vs. {col} are highly correlated {row[col]}\")\n",
    "        i += 1\n",
    "        # Select upper triangle of correlation matrix\n",
    "    corr_matrix = corr.where(np.triu(np.ones(corr.shape), k=1).astype(np.bool))\n",
    "    # Find features with correlation greater than 0.9\n",
    "    correlated_cols = [c for c in corr_matrix.columns if any(corr_matrix[c] > 0.9)]\n",
    "    # Drop correlated columns\n",
    "    return correlated_cols"
   ]
  },
  {
   "cell_type": "markdown",
   "id": "dd71b09e",
   "metadata": {},
   "source": [
    "***"
   ]
  },
  {
   "cell_type": "markdown",
   "id": "25c87322",
   "metadata": {},
   "source": [
    "- __Loading the dataset:__"
   ]
  },
  {
   "cell_type": "code",
   "execution_count": 55,
   "id": "d04c93f9",
   "metadata": {
    "scrolled": true
   },
   "outputs": [],
   "source": [
    "ds= pd.read_csv(\"data.csv\")"
   ]
  },
  {
   "cell_type": "code",
   "execution_count": 56,
   "id": "b589e519",
   "metadata": {
    "scrolled": true
   },
   "outputs": [
    {
     "data": {
      "text/html": [
       "<div>\n",
       "<style scoped>\n",
       "    .dataframe tbody tr th:only-of-type {\n",
       "        vertical-align: middle;\n",
       "    }\n",
       "\n",
       "    .dataframe tbody tr th {\n",
       "        vertical-align: top;\n",
       "    }\n",
       "\n",
       "    .dataframe thead th {\n",
       "        text-align: right;\n",
       "    }\n",
       "</style>\n",
       "<table border=\"1\" class=\"dataframe\">\n",
       "  <thead>\n",
       "    <tr style=\"text-align: right;\">\n",
       "      <th></th>\n",
       "      <th>Bankrupt?</th>\n",
       "      <th>ROA(C) before interest and depreciation before interest</th>\n",
       "      <th>ROA(A) before interest and % after tax</th>\n",
       "      <th>ROA(B) before interest and depreciation after tax</th>\n",
       "      <th>Operating Gross Margin</th>\n",
       "      <th>Realized Sales Gross Margin</th>\n",
       "      <th>Operating Profit Rate</th>\n",
       "      <th>Pre-tax net Interest Rate</th>\n",
       "      <th>After-tax net Interest Rate</th>\n",
       "      <th>Non-industry income and expenditure/revenue</th>\n",
       "      <th>...</th>\n",
       "      <th>Net Income to Total Assets</th>\n",
       "      <th>Total assets to GNP price</th>\n",
       "      <th>No-credit Interval</th>\n",
       "      <th>Gross Profit to Sales</th>\n",
       "      <th>Net Income to Stockholder's Equity</th>\n",
       "      <th>Liability to Equity</th>\n",
       "      <th>Degree of Financial Leverage (DFL)</th>\n",
       "      <th>Interest Coverage Ratio (Interest expense to EBIT)</th>\n",
       "      <th>Net Income Flag</th>\n",
       "      <th>Equity to Liability</th>\n",
       "    </tr>\n",
       "  </thead>\n",
       "  <tbody>\n",
       "    <tr>\n",
       "      <th>0</th>\n",
       "      <td>1</td>\n",
       "      <td>0.370594</td>\n",
       "      <td>0.424389</td>\n",
       "      <td>0.405750</td>\n",
       "      <td>0.601457</td>\n",
       "      <td>0.601457</td>\n",
       "      <td>0.998969</td>\n",
       "      <td>0.796887</td>\n",
       "      <td>0.808809</td>\n",
       "      <td>0.302646</td>\n",
       "      <td>...</td>\n",
       "      <td>0.716845</td>\n",
       "      <td>0.009219</td>\n",
       "      <td>0.622879</td>\n",
       "      <td>0.601453</td>\n",
       "      <td>0.827890</td>\n",
       "      <td>0.290202</td>\n",
       "      <td>0.026601</td>\n",
       "      <td>0.564050</td>\n",
       "      <td>1</td>\n",
       "      <td>0.016469</td>\n",
       "    </tr>\n",
       "    <tr>\n",
       "      <th>1</th>\n",
       "      <td>1</td>\n",
       "      <td>0.464291</td>\n",
       "      <td>0.538214</td>\n",
       "      <td>0.516730</td>\n",
       "      <td>0.610235</td>\n",
       "      <td>0.610235</td>\n",
       "      <td>0.998946</td>\n",
       "      <td>0.797380</td>\n",
       "      <td>0.809301</td>\n",
       "      <td>0.303556</td>\n",
       "      <td>...</td>\n",
       "      <td>0.795297</td>\n",
       "      <td>0.008323</td>\n",
       "      <td>0.623652</td>\n",
       "      <td>0.610237</td>\n",
       "      <td>0.839969</td>\n",
       "      <td>0.283846</td>\n",
       "      <td>0.264577</td>\n",
       "      <td>0.570175</td>\n",
       "      <td>1</td>\n",
       "      <td>0.020794</td>\n",
       "    </tr>\n",
       "    <tr>\n",
       "      <th>2</th>\n",
       "      <td>1</td>\n",
       "      <td>0.426071</td>\n",
       "      <td>0.499019</td>\n",
       "      <td>0.472295</td>\n",
       "      <td>0.601450</td>\n",
       "      <td>0.601364</td>\n",
       "      <td>0.998857</td>\n",
       "      <td>0.796403</td>\n",
       "      <td>0.808388</td>\n",
       "      <td>0.302035</td>\n",
       "      <td>...</td>\n",
       "      <td>0.774670</td>\n",
       "      <td>0.040003</td>\n",
       "      <td>0.623841</td>\n",
       "      <td>0.601449</td>\n",
       "      <td>0.836774</td>\n",
       "      <td>0.290189</td>\n",
       "      <td>0.026555</td>\n",
       "      <td>0.563706</td>\n",
       "      <td>1</td>\n",
       "      <td>0.016474</td>\n",
       "    </tr>\n",
       "    <tr>\n",
       "      <th>3</th>\n",
       "      <td>1</td>\n",
       "      <td>0.399844</td>\n",
       "      <td>0.451265</td>\n",
       "      <td>0.457733</td>\n",
       "      <td>0.583541</td>\n",
       "      <td>0.583541</td>\n",
       "      <td>0.998700</td>\n",
       "      <td>0.796967</td>\n",
       "      <td>0.808966</td>\n",
       "      <td>0.303350</td>\n",
       "      <td>...</td>\n",
       "      <td>0.739555</td>\n",
       "      <td>0.003252</td>\n",
       "      <td>0.622929</td>\n",
       "      <td>0.583538</td>\n",
       "      <td>0.834697</td>\n",
       "      <td>0.281721</td>\n",
       "      <td>0.026697</td>\n",
       "      <td>0.564663</td>\n",
       "      <td>1</td>\n",
       "      <td>0.023982</td>\n",
       "    </tr>\n",
       "    <tr>\n",
       "      <th>4</th>\n",
       "      <td>1</td>\n",
       "      <td>0.465022</td>\n",
       "      <td>0.538432</td>\n",
       "      <td>0.522298</td>\n",
       "      <td>0.598783</td>\n",
       "      <td>0.598783</td>\n",
       "      <td>0.998973</td>\n",
       "      <td>0.797366</td>\n",
       "      <td>0.809304</td>\n",
       "      <td>0.303475</td>\n",
       "      <td>...</td>\n",
       "      <td>0.795016</td>\n",
       "      <td>0.003878</td>\n",
       "      <td>0.623521</td>\n",
       "      <td>0.598782</td>\n",
       "      <td>0.839973</td>\n",
       "      <td>0.278514</td>\n",
       "      <td>0.024752</td>\n",
       "      <td>0.575617</td>\n",
       "      <td>1</td>\n",
       "      <td>0.035490</td>\n",
       "    </tr>\n",
       "  </tbody>\n",
       "</table>\n",
       "<p>5 rows × 96 columns</p>\n",
       "</div>"
      ],
      "text/plain": [
       "   Bankrupt?   ROA(C) before interest and depreciation before interest  \\\n",
       "0          1                                           0.370594          \n",
       "1          1                                           0.464291          \n",
       "2          1                                           0.426071          \n",
       "3          1                                           0.399844          \n",
       "4          1                                           0.465022          \n",
       "\n",
       "    ROA(A) before interest and % after tax  \\\n",
       "0                                 0.424389   \n",
       "1                                 0.538214   \n",
       "2                                 0.499019   \n",
       "3                                 0.451265   \n",
       "4                                 0.538432   \n",
       "\n",
       "    ROA(B) before interest and depreciation after tax  \\\n",
       "0                                           0.405750    \n",
       "1                                           0.516730    \n",
       "2                                           0.472295    \n",
       "3                                           0.457733    \n",
       "4                                           0.522298    \n",
       "\n",
       "    Operating Gross Margin   Realized Sales Gross Margin  \\\n",
       "0                 0.601457                      0.601457   \n",
       "1                 0.610235                      0.610235   \n",
       "2                 0.601450                      0.601364   \n",
       "3                 0.583541                      0.583541   \n",
       "4                 0.598783                      0.598783   \n",
       "\n",
       "    Operating Profit Rate   Pre-tax net Interest Rate  \\\n",
       "0                0.998969                    0.796887   \n",
       "1                0.998946                    0.797380   \n",
       "2                0.998857                    0.796403   \n",
       "3                0.998700                    0.796967   \n",
       "4                0.998973                    0.797366   \n",
       "\n",
       "    After-tax net Interest Rate   Non-industry income and expenditure/revenue  \\\n",
       "0                      0.808809                                      0.302646   \n",
       "1                      0.809301                                      0.303556   \n",
       "2                      0.808388                                      0.302035   \n",
       "3                      0.808966                                      0.303350   \n",
       "4                      0.809304                                      0.303475   \n",
       "\n",
       "   ...   Net Income to Total Assets   Total assets to GNP price  \\\n",
       "0  ...                     0.716845                    0.009219   \n",
       "1  ...                     0.795297                    0.008323   \n",
       "2  ...                     0.774670                    0.040003   \n",
       "3  ...                     0.739555                    0.003252   \n",
       "4  ...                     0.795016                    0.003878   \n",
       "\n",
       "    No-credit Interval   Gross Profit to Sales  \\\n",
       "0             0.622879                0.601453   \n",
       "1             0.623652                0.610237   \n",
       "2             0.623841                0.601449   \n",
       "3             0.622929                0.583538   \n",
       "4             0.623521                0.598782   \n",
       "\n",
       "    Net Income to Stockholder's Equity   Liability to Equity  \\\n",
       "0                             0.827890              0.290202   \n",
       "1                             0.839969              0.283846   \n",
       "2                             0.836774              0.290189   \n",
       "3                             0.834697              0.281721   \n",
       "4                             0.839973              0.278514   \n",
       "\n",
       "    Degree of Financial Leverage (DFL)  \\\n",
       "0                             0.026601   \n",
       "1                             0.264577   \n",
       "2                             0.026555   \n",
       "3                             0.026697   \n",
       "4                             0.024752   \n",
       "\n",
       "    Interest Coverage Ratio (Interest expense to EBIT)   Net Income Flag  \\\n",
       "0                                           0.564050                   1   \n",
       "1                                           0.570175                   1   \n",
       "2                                           0.563706                   1   \n",
       "3                                           0.564663                   1   \n",
       "4                                           0.575617                   1   \n",
       "\n",
       "    Equity to Liability  \n",
       "0              0.016469  \n",
       "1              0.020794  \n",
       "2              0.016474  \n",
       "3              0.023982  \n",
       "4              0.035490  \n",
       "\n",
       "[5 rows x 96 columns]"
      ]
     },
     "execution_count": 56,
     "metadata": {},
     "output_type": "execute_result"
    }
   ],
   "source": [
    "ds.head()"
   ]
  },
  {
   "cell_type": "code",
   "execution_count": 57,
   "id": "63537575",
   "metadata": {
    "scrolled": true
   },
   "outputs": [
    {
     "data": {
      "text/plain": [
       "(6819, 96)"
      ]
     },
     "execution_count": 57,
     "metadata": {},
     "output_type": "execute_result"
    }
   ],
   "source": [
    "# Checking the shape of the dataset:\n",
    "\n",
    "ds.shape"
   ]
  },
  {
   "cell_type": "code",
   "execution_count": 58,
   "id": "a89c4453",
   "metadata": {},
   "outputs": [
    {
     "data": {
      "text/plain": [
       "0"
      ]
     },
     "execution_count": 58,
     "metadata": {},
     "output_type": "execute_result"
    }
   ],
   "source": [
    "# We can see that our dataset does not contain any duplicates.\n",
    "\n",
    "ds.duplicated().sum()"
   ]
  },
  {
   "cell_type": "code",
   "execution_count": 59,
   "id": "0ba58569",
   "metadata": {},
   "outputs": [
    {
     "data": {
      "text/plain": [
       "Bankrupt?                                                     int64\n",
       " ROA(C) before interest and depreciation before interest    float64\n",
       " ROA(A) before interest and % after tax                     float64\n",
       " ROA(B) before interest and depreciation after tax          float64\n",
       " Operating Gross Margin                                     float64\n",
       "                                                             ...   \n",
       " Liability to Equity                                        float64\n",
       " Degree of Financial Leverage (DFL)                         float64\n",
       " Interest Coverage Ratio (Interest expense to EBIT)         float64\n",
       " Net Income Flag                                              int64\n",
       " Equity to Liability                                        float64\n",
       "Length: 96, dtype: object"
      ]
     },
     "execution_count": 59,
     "metadata": {},
     "output_type": "execute_result"
    }
   ],
   "source": [
    "# Checking the type of the columns:\n",
    "\n",
    "ds.dtypes"
   ]
  },
  {
   "cell_type": "code",
   "execution_count": 60,
   "id": "37900e73",
   "metadata": {},
   "outputs": [
    {
     "data": {
      "image/png": "[encoded data removed]",
      "text/plain": [
       "<Figure size 432x288 with 1 Axes>"
      ]
     },
     "metadata": {
      "needs_background": "light"
     },
     "output_type": "display_data"
    }
   ],
   "source": [
    "# Checking that the target distribution is imbalanced.\n",
    "\n",
    "sns.countplot(y='Bankrupt?', data = ds, palette='viridis', orient = 'h');"
   ]
  },
  {
   "cell_type": "code",
   "execution_count": 61,
   "id": "6fcda901",
   "metadata": {},
   "outputs": [
    {
     "data": {
      "text/plain": [
       "0    0.967737\n",
       "1    0.032263\n",
       "Name: Bankrupt?, dtype: float64"
      ]
     },
     "execution_count": 61,
     "metadata": {},
     "output_type": "execute_result"
    }
   ],
   "source": [
    "ds[\"Bankrupt?\"].value_counts(normalize=True)"
   ]
  },
  {
   "cell_type": "code",
   "execution_count": 62,
   "id": "8fcc8fb1",
   "metadata": {},
   "outputs": [],
   "source": [
    "# MutualInfoScores(ds.drop(columns=\"Bankrupt?\"), ds[\"Bankrupt?\"])"
   ]
  },
  {
   "cell_type": "code",
   "execution_count": 133,
   "id": "5a39ae33",
   "metadata": {},
   "outputs": [],
   "source": [
    "X = ds.copy(deep=True)\n",
    "\n",
    "y = X[\"Bankrupt?\"]\n",
    "X = X.drop(columns=[\"Bankrupt?\"])"
   ]
  },
  {
   "cell_type": "markdown",
   "id": "52fa52fc",
   "metadata": {},
   "source": [
    "### Splitting the dataset:"
   ]
  },
  {
   "cell_type": "code",
   "execution_count": 134,
   "id": "8e6a34dc",
   "metadata": {},
   "outputs": [],
   "source": [
    "# Split the dataset intro train and test sets.\n",
    "\n",
    "x_train, x_val, y_train, y_val = train_test_split(X, y, test_size = 0.3,\n",
    "                                   shuffle =True, stratify=y, random_state=SEED)\n",
    "\n",
    "x_train, x_test, y_train, y_test = train_test_split(x_train, y_train, test_size = 0.3,\n",
    "                                                   shuffle = True, stratify=y_train, random_state=SEED)"
   ]
  },
  {
   "cell_type": "markdown",
   "id": "b3cce5a3",
   "metadata": {},
   "source": [
    "### Correlation"
   ]
  },
  {
   "cell_type": "code",
   "execution_count": 139,
   "id": "7ee6b849",
   "metadata": {},
   "outputs": [
    {
     "name": "stdout",
     "output_type": "stream",
     "text": [
      " ROA(C) before interest and depreciation before interest vs.  ROA(A) before interest and % after tax are highly correlated 0.9446419463916639\n",
      " ROA(C) before interest and depreciation before interest vs.  ROA(B) before interest and depreciation after tax are highly correlated 0.9864245462264032\n",
      " ROA(A) before interest and % after tax vs.  ROA(B) before interest and depreciation after tax are highly correlated 0.9615395188598046\n",
      " ROA(A) before interest and % after tax vs.  Net Income to Total Assets are highly correlated 0.9552847017108241\n",
      " ROA(B) before interest and depreciation after tax vs.  Net Income to Total Assets are highly correlated 0.911624147935095\n",
      " Operating Gross Margin vs.  Realized Sales Gross Margin are highly correlated 0.9994220651059769\n",
      " Operating Gross Margin vs.  Gross Profit to Sales are highly correlated 0.9999999904240435\n",
      " Realized Sales Gross Margin vs.  Gross Profit to Sales are highly correlated 0.9994219264950949\n",
      " Pre-tax net Interest Rate vs.  After-tax net Interest Rate are highly correlated 0.9919010057831489\n",
      " Pre-tax net Interest Rate vs.  Continuous interest rate (after tax) are highly correlated 0.9361804098459192\n",
      " After-tax net Interest Rate vs.  Continuous interest rate (after tax) are highly correlated 0.952164794904385\n",
      " Cash flow rate vs.  Operating Funds to Liability are highly correlated 0.9292764390538911\n",
      " Net Value Per Share (B) vs.  Net Value Per Share (A) are highly correlated 0.9997783148829014\n",
      " Net Value Per Share (B) vs.  Net Value Per Share (C) are highly correlated 0.9996561373100951\n",
      " Net Value Per Share (A) vs.  Net Value Per Share (C) are highly correlated 0.9998786333064162\n",
      " Persistent EPS in the Last Four Seasons vs.  Per Share Net profit before tax (Yuan ¥) are highly correlated 0.9515080397709247\n",
      " Persistent EPS in the Last Four Seasons vs.  Net profit before tax/Paid-in capital are highly correlated 0.9541730442709515\n",
      " Operating Profit Per Share (Yuan ¥) vs.  Operating profit/Paid-in capital are highly correlated 0.9984996099781928\n",
      " Operating Profit Per Share (Yuan ¥) vs.  Net profit before tax/Paid-in capital are highly correlated 0.9112900966822015\n",
      " Per Share Net profit before tax (Yuan ¥) vs.  Net profit before tax/Paid-in capital are highly correlated 0.9431190155695524\n",
      " After-tax Net Profit Growth Rate vs.  Regular Net Profit Growth Rate are highly correlated 0.9993936622087916\n",
      " Current Ratio vs.  Quick Assets/Current Liability are highly correlated 0.9150053827828905\n",
      " Borrowing dependency vs.  Liability to Equity are highly correlated 0.9652747523160327\n",
      " Operating profit/Paid-in capital vs.  Net profit before tax/Paid-in capital are highly correlated 0.9126494394280977\n",
      " Current Liabilities/Liability vs.  Current Liability to Liability are highly correlated 1.0\n",
      " Current Liabilities/Equity vs.  Current Liability to Equity are highly correlated 1.0\n",
      " Current Liabilities/Equity vs.  Liability to Equity are highly correlated 0.9440124155176661\n",
      " Current Liability to Equity vs.  Liability to Equity are highly correlated 0.9440124155176661\n"
     ]
    }
   ],
   "source": [
    "correlated_cols = remove_correlated(x_train)\n",
    "x_train = x_train.drop(columns=correlated_cols)\n",
    "x_val = x_val.drop(columns=correlated_cols)\n",
    "x_test = x_test.drop(columns=correlated_cols)"
   ]
  },
  {
   "cell_type": "markdown",
   "id": "6e8e4be6",
   "metadata": {},
   "source": [
    "### Dealing with outliers:"
   ]
  },
  {
   "cell_type": "code",
   "execution_count": 140,
   "id": "e94570b4",
   "metadata": {},
   "outputs": [
    {
     "name": "stdout",
     "output_type": "stream",
     "text": [
      "(3341, 77)\n",
      "(2046, 77)\n",
      "(1432, 77)\n"
     ]
    }
   ],
   "source": [
    "print(x_train.shape)\n",
    "print(x_val.shape)\n",
    "print(x_test.shape)"
   ]
  },
  {
   "cell_type": "code",
   "execution_count": 66,
   "id": "4a0ed84b",
   "metadata": {},
   "outputs": [],
   "source": [
    "# x_train = removeOutliers(x_train, colList=x_train.columns , lowPercentile=0.01, highPercentile=0.99, verbose=False)\n",
    "# x_val = removeOutliers(x_val, colList=x_val.columns , lowPercentile=0.01, highPercentile=0.99, verbose=False)\n",
    "# x_test = removeOutliers(x_test, colList=x_test.columns , lowPercentile=0.01, highPercentile=0.99, verbose=False)"
   ]
  },
  {
   "cell_type": "code",
   "execution_count": 141,
   "id": "81489080",
   "metadata": {},
   "outputs": [
    {
     "name": "stdout",
     "output_type": "stream",
     "text": [
      "(3341, 77)\n",
      "(2046, 77)\n",
      "(1432, 77)\n"
     ]
    }
   ],
   "source": [
    "print(x_train.shape)\n",
    "print(x_val.shape)\n",
    "print(x_test.shape)"
   ]
  },
  {
   "cell_type": "code",
   "execution_count": 142,
   "id": "9fed6fe9",
   "metadata": {},
   "outputs": [
    {
     "name": "stdout",
     "output_type": "stream",
     "text": [
      "0    0.967674\n",
      "1    0.032326\n",
      "Name: Bankrupt?, dtype: float64\n",
      "0    0.967742\n",
      "1    0.032258\n",
      "Name: Bankrupt?, dtype: float64\n",
      "0    0.967877\n",
      "1    0.032123\n",
      "Name: Bankrupt?, dtype: float64\n"
     ]
    }
   ],
   "source": [
    "print(y_train.value_counts(normalize=True))\n",
    "print(y_val.value_counts(normalize=True))\n",
    "print(y_test.value_counts(normalize=True))"
   ]
  },
  {
   "cell_type": "code",
   "execution_count": 69,
   "id": "96310f03",
   "metadata": {},
   "outputs": [],
   "source": [
    "# selector = SelectKBest(f_classif, k=4)\n",
    "# selector.fit(X_train, y_train)\n",
    "# scores = -np.log10(selector.pvalues_)\n",
    "# scores /= scores.max()"
   ]
  },
  {
   "cell_type": "code",
   "execution_count": 143,
   "id": "ee08d849",
   "metadata": {},
   "outputs": [
    {
     "data": {
      "image/png": "[encoded data removed]",
      "text/plain": [
       "<Figure size 1440x432 with 1 Axes>"
      ]
     },
     "metadata": {
      "needs_background": "light"
     },
     "output_type": "display_data"
    }
   ],
   "source": [
    "MutualInfoScores(x_train, y_train)"
   ]
  },
  {
   "cell_type": "code",
   "execution_count": 151,
   "id": "badb52c2",
   "metadata": {},
   "outputs": [
    {
     "data": {
      "image/png": "[encoded data removed]",
      "text/plain": [
       "<Figure size 1440x432 with 1 Axes>"
      ]
     },
     "metadata": {
      "needs_background": "light"
     },
     "output_type": "display_data"
    },
    {
     "data": {
      "text/plain": [
       " ROA(C) before interest and depreciation before interest    1.000000\n",
       " Debt ratio %                                               0.942312\n",
       " Net worth/Assets                                           0.942312\n",
       " Current Liability to Current Assets                        0.704320\n",
       " Borrowing dependency                                       0.686083\n",
       " Current Liabilities/Equity                                 0.628991\n",
       " Persistent EPS in the Last Four Seasons                    0.621427\n",
       " Retained Earnings to Total Assets                          0.612668\n",
       " Current Liability to Assets                                0.584177\n",
       " Working Capital/Equity                                     0.544025\n",
       " Working Capital to Total Assets                            0.511760\n",
       " Net Income to Stockholder's Equity                         0.407750\n",
       " Equity to Long-term Liability                              0.403083\n",
       " Total expense/Assets                                       0.362626\n",
       " Net Value Per Share (B)                                    0.349932\n",
       " Liability-Assets Flag                                      0.283096\n",
       " CFO to Assets                                              0.258114\n",
       " Inventory and accounts receivable/Net value                0.241695\n",
       " Operating Profit Per Share (Yuan ¥)                        0.227554\n",
       "dtype: float64"
      ]
     },
     "execution_count": 151,
     "metadata": {},
     "output_type": "execute_result"
    }
   ],
   "source": [
    "f_scores = FTestScores(x_train, y_train)\n",
    "f_scores.loc[f_scores > 0.2]"
   ]
  },
  {
   "cell_type": "markdown",
   "id": "bc5d42fb",
   "metadata": {},
   "source": [
    "- The figure above shows that the number of features to select is equal to 24,because they have a value superior than 0.2"
   ]
  },
  {
   "cell_type": "code",
   "execution_count": 72,
   "id": "c85a14f0",
   "metadata": {},
   "outputs": [],
   "source": [
    "# MutualInfoScores(x_train, y_train)"
   ]
  },
  {
   "cell_type": "code",
   "execution_count": 152,
   "id": "5ce876a9",
   "metadata": {},
   "outputs": [],
   "source": [
    "selector = SelectKBest(f_classif, k=len(f_scores.loc[f_scores > 0.2]))\n",
    "\n",
    "# selecting the features:\n",
    "selector.fit(x_train, y_train)\n",
    "\n",
    "kept_columns = list(x_train.columns[selector.get_support()]) "
   ]
  },
  {
   "cell_type": "code",
   "execution_count": 153,
   "id": "23dd31cf",
   "metadata": {},
   "outputs": [
    {
     "data": {
      "text/plain": [
       "[' ROA(C) before interest and depreciation before interest',\n",
       " ' Net Value Per Share (B)',\n",
       " ' Persistent EPS in the Last Four Seasons',\n",
       " ' Operating Profit Per Share (Yuan ¥)',\n",
       " ' Debt ratio %',\n",
       " ' Net worth/Assets',\n",
       " ' Borrowing dependency',\n",
       " ' Inventory and accounts receivable/Net value',\n",
       " ' Working Capital to Total Assets',\n",
       " ' Current Liability to Assets',\n",
       " ' Working Capital/Equity',\n",
       " ' Current Liabilities/Equity',\n",
       " ' Retained Earnings to Total Assets',\n",
       " ' Total expense/Assets',\n",
       " ' Equity to Long-term Liability',\n",
       " ' CFO to Assets',\n",
       " ' Current Liability to Current Assets',\n",
       " ' Liability-Assets Flag',\n",
       " \" Net Income to Stockholder's Equity\"]"
      ]
     },
     "execution_count": 153,
     "metadata": {},
     "output_type": "execute_result"
    }
   ],
   "source": [
    "kept_columns"
   ]
  },
  {
   "cell_type": "code",
   "execution_count": 154,
   "id": "694264de",
   "metadata": {},
   "outputs": [],
   "source": [
    "x_train = x_train[kept_columns]\n",
    "x_val = x_val[kept_columns]\n",
    "x_test = x_test[kept_columns]"
   ]
  },
  {
   "cell_type": "markdown",
   "id": "0e66007a",
   "metadata": {},
   "source": [
    "# Data Pre-processing:"
   ]
  },
  {
   "cell_type": "code",
   "execution_count": 76,
   "id": "b46e2482",
   "metadata": {},
   "outputs": [],
   "source": [
    "# X = ds.copy(deep=True)\n",
    "\n",
    "# y = X[\"Bankrupt?\"]\n",
    "# X = X.drop(columns=[\"Bankrupt?\"])"
   ]
  },
  {
   "cell_type": "markdown",
   "id": "bb34c042",
   "metadata": {},
   "source": [
    "## Data Normalization:"
   ]
  },
  {
   "cell_type": "code",
   "execution_count": 155,
   "id": "199499da",
   "metadata": {
    "scrolled": true
   },
   "outputs": [],
   "source": [
    "# We use the standard scaler in order to normalize the data:\n",
    "\n",
    "scaler = StandardScaler() \n",
    "x_train = scaler.fit_transform(x_train) \n",
    "x_val = scaler.transform(x_val)\n",
    "x_test = scaler.transform(x_test)"
   ]
  },
  {
   "cell_type": "markdown",
   "id": "e7a94ca7",
   "metadata": {},
   "source": [
    "# Hyper parameters tuning:"
   ]
  },
  {
   "cell_type": "markdown",
   "id": "c8f5e6de",
   "metadata": {},
   "source": [
    "__Using Keras tuner:__"
   ]
  },
  {
   "cell_type": "code",
   "execution_count": 156,
   "id": "1b5a8950",
   "metadata": {},
   "outputs": [
    {
     "data": {
      "text/plain": [
       "{0: 0.5167027528611197, 1: 15.467592592592593}"
      ]
     },
     "execution_count": 156,
     "metadata": {},
     "output_type": "execute_result"
    }
   ],
   "source": [
    "ClassWeights = dict(enumerate(class_weight.compute_class_weight('balanced', \n",
    "                            classes=np.unique(y_train), y=y_train)))\n",
    "ClassWeights"
   ]
  },
  {
   "cell_type": "code",
   "execution_count": 157,
   "id": "111ce45c",
   "metadata": {},
   "outputs": [],
   "source": [
    "EarlyStop = EarlyStopping(monitor='val_f1', patience=3, verbose=0)\n",
    "\n",
    "CallBacksList = [EarlyStop,]  "
   ]
  },
  {
   "cell_type": "code",
   "execution_count": 223,
   "id": "e17149fb",
   "metadata": {},
   "outputs": [],
   "source": [
    "class MyHyperModel(kt.HyperModel):\n",
    "    def __init__(self, k=3):\n",
    "        self.k = k\n",
    "\n",
    "    def build(self ,hp):\n",
    "\n",
    "        hp_units_1 = hp.Choice(\"Layer 1\", [64, 128, 256])\n",
    "        hp_units_2 = hp.Choice(\"Layer 2\", [16, 32]) # 64\n",
    "        hp_units_3 = hp.Choice(\"Layer 3\", [4, 8, 16]) # 32, 64, 16 \n",
    "        hp_activation = hp.Choice(\"activation\", [\"relu\", \"tanh\"])\n",
    "        hp_kernel_initializer = hp.Choice(\"kernel_initializer\", [\"glorot_uniform\", \"glorot_normal\"])\n",
    "        hp_learning_rate = hp.Float(\"learning_rate\", 1e-4, 1e-2, sampling=\"log\", default=1e-3)  \n",
    "        hp_loss = hp.Choice(\"loss_type\", [\"BC\", \"FL\"])\n",
    "        hp_gamma = hp.Choice(\"Gamma\", [0.0, 0.5, 1.0, 2.0])\n",
    "        hp_dropout = hp.Choice(\"rate\", [0.2, 0.35, 0.5])\n",
    "        \n",
    "        model = Sequential()\n",
    "    \n",
    "        model.add(layers.Dense(units = hp_units_1,\n",
    "                        kernel_initializer = hp_kernel_initializer,\n",
    "                        kernel_regularizer = tf.keras.regularizers.L2(0.1),\n",
    "                        activation = hp_activation,\n",
    "                        input_dim = x_train.shape[-1]   \n",
    "                           )) \n",
    "    \n",
    "        # Tune whether to use dropout.\n",
    "        if hp.Boolean(\"Dropout 1\"):\n",
    "            model.add(layers.Dropout(rate=hp_dropout))\n",
    "    \n",
    "        model.add(layers.Dense(units = hp_units_2, \n",
    "                            kernel_initializer = hp_kernel_initializer,    \n",
    "                            activation = hp_activation))\n",
    "            \n",
    "        if hp.Boolean(\"Dropout 2\"):\n",
    "            model.add(layers.Dropout(rate=hp_dropout))\n",
    "            \n",
    "        model.add(layers.Dense(units = hp_units_3, \n",
    "                            kernel_initializer = hp_kernel_initializer,    \n",
    "                            activation = hp_activation))\n",
    "            \n",
    "        if hp.Boolean(\"Dropout 3\"):\n",
    "            model.add(layers.Dropout(rate=hp_dropout))\n",
    "            \n",
    "        model.add(layers.Dense(units=1, \n",
    "                            kernel_initializer = hp_kernel_initializer,\n",
    "                            activation=\"sigmoid\"))\n",
    "            \n",
    "        if hp_loss == \"BC\":\n",
    "            with hp.conditional_scope(\"loss_type\", [\"BC\"]):\n",
    "                model.compile(optimizer=tf.keras.optimizers.Adam(learning_rate = hp_learning_rate),\n",
    "                        loss = tf.keras.losses.BinaryCrossentropy(),\n",
    "                        metrics= [tf.keras.metrics.Accuracy(), tf.keras.metrics.AUC(), \n",
    "                                  tf.keras.metrics.Recall(), f1])\n",
    "        if hp_loss == \"FL\":\n",
    "            with hp.conditional_scope(\"loss_type\", [\"FL\"]):\n",
    "                model.compile(optimizer=tf.keras.optimizers.Adam(learning_rate = hp_learning_rate),\n",
    "                        loss = tf.keras.losses.BinaryFocalCrossentropy(gamma = hp_gamma), \n",
    "                        metrics= [tf.keras.metrics.Accuracy(), tf.keras.metrics.AUC(), \n",
    "                                  tf.keras.metrics.Recall(), f1])\n",
    "    \n",
    "        return model\n",
    "\n",
    "    def kfold_split(self, x, y):\n",
    "        x = np.array(x)\n",
    "        y = np.array(y)\n",
    "        kfold = StratifiedKFold(n_splits=self.k)\n",
    "        x_train, x_val, y_train, y_val = [], [], [], []\n",
    "        for train_index, val_index in kfold.split(x, y):\n",
    "            x_train.append(x[train_index])\n",
    "            x_val.append(x[val_index])\n",
    "            # Need to use y directly because y_train is Series\n",
    "            y_train.append(y[train_index])\n",
    "            y_val.append(y[val_index])\n",
    "        return x_train, x_val, y_train, y_val\n",
    "\n",
    "\n",
    "    def fit(self, hp, model, x, y, **kwargs):\n",
    "        hp_batch_size = hp.Choice(\"batch_size\", [16, 32, 64])\n",
    "        if hp.Boolean(\"normalize\"):\n",
    "            x = layers.Normalization()(x)\n",
    "        f1_scores = np.zeros(self.k)\n",
    "        x_train, x_val, y_train, y_val = self.kfold_split(x, y)\n",
    "        for i in range(self.k):\n",
    "            hist = model.fit(\n",
    "                x_train[i],\n",
    "                y_train[i],\n",
    "                # Tune whether to shuffle the data in each epoch.\n",
    "                shuffle=hp.Boolean(\"shuffle\"),\n",
    "                validation_data=(x_val[i], y_val[i]),\n",
    "                batch_size = hp_batch_size,\n",
    "                class_weight = ClassWeights,\n",
    "                **kwargs,\n",
    "            )\n",
    "            f1_scores[i] = hist.history['val_f1'][-1]\n",
    "\n",
    "        return {'val_f1': f1_scores[i].mean()}"
   ]
  },
  {
   "cell_type": "code",
   "execution_count": 224,
   "id": "020e4ee0",
   "metadata": {},
   "outputs": [],
   "source": [
    "tuner = kt.BayesianOptimization(\n",
    "    hypermodel = MyHyperModel(),\n",
    "    objective = kt.Objective(\"val_f1\", direction=\"max\"), \n",
    "    seed = SEED,\n",
    "    max_trials = 200,\n",
    "    overwrite=True,\n",
    "    directory = 'Deep_learning_project',\n",
    "    project_name = \"Default_predictions\"\n",
    ")"
   ]
  },
  {
   "cell_type": "code",
   "execution_count": 225,
   "id": "200beb5a",
   "metadata": {},
   "outputs": [
    {
     "name": "stdout",
     "output_type": "stream",
     "text": [
      "Trial 1 Complete [00h 00m 20s]\n",
      "val_f1: 0.19142858684062958\n",
      "\n",
      "Best val_f1 So Far: 0.19142858684062958\n",
      "Total elapsed time: 00h 00m 20s\n",
      "\n",
      "Search: Running Trial #2\n",
      "\n",
      "Value             |Best Value So Far |Hyperparameter\n",
      "64                |256               |Layer 1\n",
      "32                |32                |Layer 2\n",
      "4                 |8                 |Layer 3\n",
      "tanh              |relu              |activation\n",
      "glorot_uniform    |glorot_uniform    |kernel_initializer\n",
      "0.0080798         |0.00016469        |learning_rate\n",
      "FL                |FL                |loss_type\n",
      "0                 |2                 |Gamma\n",
      "0.35              |0.35              |rate\n",
      "False             |True              |Dropout 1\n",
      "True              |True              |Dropout 2\n",
      "True              |False             |Dropout 3\n",
      "64                |16                |batch_size\n",
      "True              |False             |normalize\n",
      "False             |False             |shuffle\n",
      "\n",
      "[1019 1115 1116 ... 3338 3339 3340]\n",
      "<class 'numpy.ndarray'>\n",
      "<class 'numpy.ndarray'>\n",
      "[   0    1    2 ... 3338 3339 3340]\n",
      "<class 'numpy.ndarray'>\n",
      "<class 'numpy.ndarray'>\n",
      "[   0    1    2 ... 2225 2226 2274]\n",
      "<class 'numpy.ndarray'>\n",
      "<class 'numpy.ndarray'>\n",
      "Epoch 1/100\n",
      "35/35 - 3s - loss: 1.2967 - accuracy: 0.0000e+00 - auc: 0.8811 - recall: 0.8889 - f1: 0.1995 - val_loss: 0.5133 - val_accuracy: 0.0000e+00 - val_auc: 0.9205 - val_recall: 0.8611 - val_f1: 0.2249 - 3s/epoch - 93ms/step\n",
      "Epoch 2/100\n",
      "35/35 - 0s - loss: 0.5390 - accuracy: 0.0000e+00 - auc: 0.8874 - recall: 0.8889 - f1: 0.2395 - val_loss: 0.4579 - val_accuracy: 0.0000e+00 - val_auc: 0.9435 - val_recall: 0.9722 - val_f1: 0.2125 - 350ms/epoch - 10ms/step\n",
      "Epoch 3/100\n",
      "35/35 - 0s - loss: 0.4947 - accuracy: 0.0000e+00 - auc: 0.8813 - recall: 0.8333 - f1: 0.2235 - val_loss: 0.4250 - val_accuracy: 0.0000e+00 - val_auc: 0.9326 - val_recall: 0.8889 - val_f1: 0.2169 - 258ms/epoch - 7ms/step\n",
      "Epoch 4/100\n",
      "35/35 - 0s - loss: 0.5341 - accuracy: 0.0000e+00 - auc: 0.8612 - recall: 0.8194 - f1: 0.1946 - val_loss: 0.5523 - val_accuracy: 0.0000e+00 - val_auc: 0.9167 - val_recall: 0.9444 - val_f1: 0.1674 - 401ms/epoch - 11ms/step\n",
      "Epoch 5/100\n",
      "35/35 - 0s - loss: 0.4946 - accuracy: 0.0000e+00 - auc: 0.8847 - recall: 0.8611 - f1: 0.2032 - val_loss: 0.6011 - val_accuracy: 0.0000e+00 - val_auc: 0.9260 - val_recall: 0.9167 - val_f1: 0.1738 - 323ms/epoch - 9ms/step\n",
      "Epoch 6/100\n",
      "35/35 - 0s - loss: 0.5325 - accuracy: 0.0000e+00 - auc: 0.8549 - recall: 0.7778 - f1: 0.2317 - val_loss: 0.5336 - val_accuracy: 0.0000e+00 - val_auc: 0.9474 - val_recall: 0.9722 - val_f1: 0.1923 - 430ms/epoch - 12ms/step\n",
      "Epoch 7/100\n",
      "35/35 - 0s - loss: 0.4740 - accuracy: 0.0000e+00 - auc: 0.8870 - recall: 0.8194 - f1: 0.2198 - val_loss: 0.6118 - val_accuracy: 0.0000e+00 - val_auc: 0.9196 - val_recall: 0.8889 - val_f1: 0.1624 - 472ms/epoch - 13ms/step\n",
      "Epoch 8/100\n",
      "35/35 - 1s - loss: 0.5357 - accuracy: 0.0000e+00 - auc: 0.8575 - recall: 0.7917 - f1: 0.1859 - val_loss: 0.4697 - val_accuracy: 0.0000e+00 - val_auc: 0.9472 - val_recall: 0.9722 - val_f1: 0.2209 - 517ms/epoch - 15ms/step\n",
      "Epoch 9/100\n",
      "35/35 - 1s - loss: 0.4449 - accuracy: 0.0000e+00 - auc: 0.9031 - recall: 0.8611 - f1: 0.2392 - val_loss: 0.4125 - val_accuracy: 0.0000e+00 - val_auc: 0.9401 - val_recall: 0.9167 - val_f1: 0.2376 - 722ms/epoch - 21ms/step\n",
      "Epoch 10/100\n",
      "35/35 - 0s - loss: 0.5235 - accuracy: 0.0000e+00 - auc: 0.8821 - recall: 0.8194 - f1: 0.2231 - val_loss: 0.4495 - val_accuracy: 0.0000e+00 - val_auc: 0.9348 - val_recall: 0.8611 - val_f1: 0.2349 - 340ms/epoch - 10ms/step\n",
      "Epoch 1/100\n",
      "35/35 - 1s - loss: 0.5921 - accuracy: 0.0000e+00 - auc: 0.8691 - recall: 0.8472 - f1: 0.2228 - val_loss: 0.6367 - val_accuracy: 0.0000e+00 - val_auc: 0.9194 - val_recall: 0.9444 - val_f1: 0.2045 - 631ms/epoch - 18ms/step\n",
      "Epoch 2/100\n",
      "35/35 - 0s - loss: 0.4857 - accuracy: 0.0000e+00 - auc: 0.9010 - recall: 0.8333 - f1: 0.2418 - val_loss: 0.4115 - val_accuracy: 0.0000e+00 - val_auc: 0.9232 - val_recall: 0.8889 - val_f1: 0.2812 - 470ms/epoch - 13ms/step\n",
      "Epoch 3/100\n",
      "35/35 - 0s - loss: 0.4934 - accuracy: 0.0000e+00 - auc: 0.8872 - recall: 0.8611 - f1: 0.2194 - val_loss: 0.6495 - val_accuracy: 0.0000e+00 - val_auc: 0.8867 - val_recall: 0.8889 - val_f1: 0.1997 - 313ms/epoch - 9ms/step\n",
      "Epoch 4/100\n",
      "35/35 - 0s - loss: 0.4728 - accuracy: 0.0000e+00 - auc: 0.8987 - recall: 0.8750 - f1: 0.2252 - val_loss: 0.4409 - val_accuracy: 0.0000e+00 - val_auc: 0.9334 - val_recall: 0.9167 - val_f1: 0.2535 - 267ms/epoch - 8ms/step\n",
      "Epoch 5/100\n",
      "35/35 - 0s - loss: 0.4403 - accuracy: 0.0000e+00 - auc: 0.9036 - recall: 0.8889 - f1: 0.2504 - val_loss: 0.4958 - val_accuracy: 0.0000e+00 - val_auc: 0.8993 - val_recall: 0.8611 - val_f1: 0.2499 - 251ms/epoch - 7ms/step\n",
      "Epoch 6/100\n",
      "35/35 - 0s - loss: 0.4537 - accuracy: 0.0000e+00 - auc: 0.8995 - recall: 0.9028 - f1: 0.2307 - val_loss: 0.5263 - val_accuracy: 0.0000e+00 - val_auc: 0.9207 - val_recall: 0.8889 - val_f1: 0.2472 - 346ms/epoch - 10ms/step\n",
      "Epoch 1/100\n",
      "35/35 - 0s - loss: 0.4140 - accuracy: 0.0000e+00 - auc: 0.9144 - recall: 0.8750 - f1: 0.2399 - val_loss: 0.4658 - val_accuracy: 0.0000e+00 - val_auc: 0.9108 - val_recall: 0.8611 - val_f1: 0.2301 - 339ms/epoch - 10ms/step\n",
      "Epoch 2/100\n",
      "35/35 - 0s - loss: 0.4489 - accuracy: 0.0000e+00 - auc: 0.9097 - recall: 0.8611 - f1: 0.2236 - val_loss: 0.5728 - val_accuracy: 0.0000e+00 - val_auc: 0.8982 - val_recall: 0.8889 - val_f1: 0.1953 - 385ms/epoch - 11ms/step\n",
      "Epoch 3/100\n",
      "35/35 - 0s - loss: 0.4528 - accuracy: 0.0000e+00 - auc: 0.9028 - recall: 0.8472 - f1: 0.2467 - val_loss: 0.4812 - val_accuracy: 0.0000e+00 - val_auc: 0.9087 - val_recall: 0.8611 - val_f1: 0.2180 - 280ms/epoch - 8ms/step\n",
      "Epoch 4/100\n",
      "35/35 - 0s - loss: 0.4115 - accuracy: 0.0000e+00 - auc: 0.9149 - recall: 0.8889 - f1: 0.2712 - val_loss: 0.5069 - val_accuracy: 0.0000e+00 - val_auc: 0.9074 - val_recall: 0.9167 - val_f1: 0.2046 - 354ms/epoch - 10ms/step\n",
      "Epoch 5/100\n"
     ]
    }
   ],
   "source": [
    "tuner.search(x_train, y_train,\n",
    "             epochs = 100,\n",
    "             verbose = 2,\n",
    "             initial_epoch = 0,\n",
    "             callbacks = CallBacksList,\n",
    "             use_multiprocessing = True,\n",
    "            )"
   ]
  },
  {
   "cell_type": "code",
   "execution_count": 125,
   "id": "9ae2148e",
   "metadata": {},
   "outputs": [
    {
     "name": "stdout",
     "output_type": "stream",
     "text": [
      "\n",
      "The hyperparameter search is complete. The optimal hyper parameters are:\n",
      "The first layer: 64. \n",
      "\n",
      "The second layer: 32. \n",
      "\n",
      "The third layer: 8. \n",
      "\n",
      "The activation function: tanh. \n",
      "\n",
      "The kernel initializer: glorot_normal. \n",
      "\n",
      "The loss function: BC. \n",
      "  \n",
      "The learning rate: 0.01. \n",
      "\n",
      "The batch size: 64. \n",
      "\n",
      "Normalize the data: True. \n",
      "\n",
      "Dropout 1: False. \n",
      "\n",
      "Dropout 2: False. \n",
      "\n",
      "Dropout 3: True. \n",
      "\n",
      "Shuffle: True. \n",
      "\n",
      "Gamma: 0.0. \n",
      "\n",
      "Dropout rate: 0.2 \n",
      "\n",
      "\n"
     ]
    }
   ],
   "source": [
    "# Get the optimal hyperparameters\n",
    "best_hps=tuner.get_best_hyperparameters(num_trials=1)[0]\n",
    "\n",
    "print(f\"\"\"\n",
    "The hyperparameter search is complete. The optimal hyper parameters are:\n",
    "The first layer: {best_hps.get(\"Layer 1\")}. \\n\n",
    "The second layer: {best_hps.get(\"Layer 2\")}. \\n\n",
    "The third layer: {best_hps.get(\"Layer 3\")}. \\n\n",
    "The activation function: {best_hps.get(\"activation\")}. \\n\n",
    "The kernel initializer: {best_hps.get(\"kernel_initializer\")}. \\n\n",
    "The loss function: {best_hps.get(\"loss_type\")}. \\n  \n",
    "The learning rate: {best_hps.get(\"learning_rate\")}. \\n\n",
    "The batch size: {best_hps.get(\"batch_size\")}. \\n\n",
    "Normalize the data: {best_hps.get(\"normalize\")}. \\n\n",
    "Dropout 1: {best_hps.get(\"Dropout 1\")}. \\n\n",
    "Dropout 2: {best_hps.get(\"Dropout 2\")}. \\n\n",
    "Dropout 3: {best_hps.get(\"Dropout 3\")}. \\n\n",
    "Shuffle: {best_hps.get(\"shuffle\")}. \\n\n",
    "Gamma: {best_hps.get(\"Gamma\")}. \\n\n",
    "Dropout rate: {best_hps.get(\"rate\")} \\n\n",
    "\"\"\")"
   ]
  },
  {
   "cell_type": "code",
   "execution_count": 118,
   "id": "a515e986",
   "metadata": {},
   "outputs": [
    {
     "data": {
      "text/plain": [
       "<keras.engine.sequential.Sequential at 0x7fad0c626700>"
      ]
     },
     "execution_count": 118,
     "metadata": {},
     "output_type": "execute_result"
    }
   ],
   "source": [
    "best_model_params = MyHyperModel().build(best_hps)\n",
    "best_model_params"
   ]
  },
  {
   "cell_type": "code",
   "execution_count": 119,
   "id": "579eea47",
   "metadata": {},
   "outputs": [
    {
     "name": "stdout",
     "output_type": "stream",
     "text": [
      "Epoch 1/100\n",
      "53/53 [==============================] - 2s 15ms/step - loss: 1.0155 - accuracy: 0.0000e+00 - auc_1: 0.8870 - recall_1: 0.8333 - f1: 0.2025 - val_loss: 0.4335 - val_accuracy: 0.0000e+00 - val_auc_1: 0.9017 - val_recall_1: 0.8333 - val_f1: 0.2305\n",
      "Epoch 2/100\n",
      "53/53 [==============================] - 0s 8ms/step - loss: 0.4410 - accuracy: 0.0000e+00 - auc_1: 0.9018 - recall_1: 0.8519 - f1: 0.2539 - val_loss: 0.6027 - val_accuracy: 0.0000e+00 - val_auc_1: 0.9094 - val_recall_1: 0.8939 - val_f1: 0.1847\n",
      "Epoch 3/100\n",
      "53/53 [==============================] - 0s 7ms/step - loss: 0.4645 - accuracy: 0.0000e+00 - auc_1: 0.8975 - recall_1: 0.8611 - f1: 0.2194 - val_loss: 0.5314 - val_accuracy: 0.0000e+00 - val_auc_1: 0.9086 - val_recall_1: 0.8788 - val_f1: 0.1986\n",
      "Epoch 4/100\n",
      "53/53 [==============================] - 0s 7ms/step - loss: 0.3800 - accuracy: 0.0000e+00 - auc_1: 0.9267 - recall_1: 0.8889 - f1: 0.2661 - val_loss: 0.2902 - val_accuracy: 0.0000e+00 - val_auc_1: 0.9072 - val_recall_1: 0.7121 - val_f1: 0.2815\n",
      "Epoch 5/100\n",
      "53/53 [==============================] - 0s 9ms/step - loss: 0.3873 - accuracy: 0.0000e+00 - auc_1: 0.9220 - recall_1: 0.8704 - f1: 0.2750 - val_loss: 0.4400 - val_accuracy: 0.0000e+00 - val_auc_1: 0.9013 - val_recall_1: 0.8333 - val_f1: 0.2143\n"
     ]
    },
    {
     "data": {
      "text/plain": [
       "<keras.callbacks.History at 0x7fad0e951430>"
      ]
     },
     "execution_count": 119,
     "metadata": {},
     "output_type": "execute_result"
    }
   ],
   "source": [
    "best_model_params.fit(x_train,\n",
    "            y_train,\n",
    "            epochs = 100,\n",
    "            # Tune whether to shuffle the data in each epoch.\n",
    "            shuffle= True,\n",
    "            validation_data = (x_val, y_val),\n",
    "            batch_size = 64,\n",
    "            class_weight = ClassWeights,\n",
    "            callbacks = CallBacksList,\n",
    "            )"
   ]
  },
  {
   "cell_type": "code",
   "execution_count": 120,
   "id": "6a973554",
   "metadata": {},
   "outputs": [
    {
     "name": "stdout",
     "output_type": "stream",
     "text": [
      "Model: \"sequential_1\"\n",
      "_________________________________________________________________\n",
      " Layer (type)                Output Shape              Param #   \n",
      "=================================================================\n",
      " dense_4 (Dense)             (None, 64)                1024      \n",
      "                                                                 \n",
      " dense_5 (Dense)             (None, 32)                2080      \n",
      "                                                                 \n",
      " dense_6 (Dense)             (None, 8)                 264       \n",
      "                                                                 \n",
      " dropout_1 (Dropout)         (None, 8)                 0         \n",
      "                                                                 \n",
      " dense_7 (Dense)             (None, 1)                 9         \n",
      "                                                                 \n",
      "=================================================================\n",
      "Total params: 3,377\n",
      "Trainable params: 3,377\n",
      "Non-trainable params: 0\n",
      "_________________________________________________________________\n"
     ]
    }
   ],
   "source": [
    "best_model_params.summary()"
   ]
  },
  {
   "cell_type": "code",
   "execution_count": 121,
   "id": "d31a4742",
   "metadata": {},
   "outputs": [],
   "source": [
    "y_pred_train = best_model_params.predict(x_train)\n",
    "y_pred_test = best_model_params.predict(x_test)"
   ]
  },
  {
   "cell_type": "code",
   "execution_count": 122,
   "id": "28633294",
   "metadata": {},
   "outputs": [],
   "source": [
    "y_pred_train = (y_pred_train>0.5).astype(int)\n",
    "y_pred_test = (y_pred_test>0.5).astype(int)"
   ]
  },
  {
   "cell_type": "code",
   "execution_count": 123,
   "id": "2fd5bc71",
   "metadata": {},
   "outputs": [
    {
     "data": {
      "image/png": "[encoded data removed]",
      "text/plain": [
       "<Figure size 432x288 with 2 Axes>"
      ]
     },
     "metadata": {
      "needs_background": "light"
     },
     "output_type": "display_data"
    }
   ],
   "source": [
    "# Showing the confusion matrix\n",
    "\n",
    "cm = metrics.confusion_matrix(y_test, y_pred_test)\n",
    "labels = ['True Neg','False Pos','False Neg','True Pos']\n",
    "categories = ['0', '1']\n",
    "make_confusion_matrix(cm, group_names=labels, categories=categories, cmap='Blues')"
   ]
  },
  {
   "cell_type": "code",
   "execution_count": null,
   "id": "40233f15",
   "metadata": {},
   "outputs": [],
   "source": [
    "# Showing the classification report:\n",
    "\n",
    "TargetNames=[\"No Default\", \"Default\"]\n",
    "print(classification_report(y_test, y_pred_test, target_names = TargetNames))"
   ]
  },
  {
   "cell_type": "code",
   "execution_count": null,
   "id": "1d0d74e0",
   "metadata": {},
   "outputs": [],
   "source": [
    "# Showing the results performance.\n",
    "\n",
    "resultsDF = performanceMetricsDF(metrics, y_train, y_pred_train, y_test, y_pred_test)\n",
    "resultsDF"
   ]
  },
  {
   "cell_type": "code",
   "execution_count": null,
   "id": "435d14e0",
   "metadata": {},
   "outputs": [],
   "source": [
    "# NOTICE THE DIFFERENCE BETWENN THESE TWO MODELS ONE IS BUILT USING BEST_PARAMS,\n",
    "# AND ONE USING GET_BEST_PARAMS THIS IS A WIERD SITUATION."
   ]
  },
  {
   "cell_type": "code",
   "execution_count": null,
   "id": "58dee889",
   "metadata": {},
   "outputs": [],
   "source": [
    "best_model = tuner.get_best_models(1)[0]\n",
    "best_model.summary()"
   ]
  },
  {
   "cell_type": "code",
   "execution_count": null,
   "id": "b83d5177",
   "metadata": {},
   "outputs": [],
   "source": [
    "y_pred_train = best_model.predict(x_train)\n",
    "y_pred_test = best_model.predict(x_test)"
   ]
  },
  {
   "cell_type": "code",
   "execution_count": null,
   "id": "1824a7b1",
   "metadata": {},
   "outputs": [],
   "source": [
    "y_pred_train = (y_pred_train>0.5).astype(int)\n",
    "y_pred_test = (y_pred_test>0.5).astype(int)"
   ]
  },
  {
   "cell_type": "code",
   "execution_count": null,
   "id": "bc304e4e",
   "metadata": {},
   "outputs": [],
   "source": [
    "# Showing the confusion matrix\n",
    "\n",
    "cm = metrics.confusion_matrix(y_test, y_pred_test)\n",
    "labels = ['True Neg','False Pos','False Neg','True Pos']\n",
    "categories = ['0', '1']\n",
    "make_confusion_matrix(cm, group_names=labels, categories=categories, cmap='Blues')"
   ]
  },
  {
   "cell_type": "code",
   "execution_count": null,
   "id": "7a582d67",
   "metadata": {},
   "outputs": [],
   "source": [
    "# Showing the classification report:\n",
    "\n",
    "TargetNames=[\"No Default\", \"Default\"]\n",
    "print(classification_report(y_test, y_pred_test, target_names = TargetNames))"
   ]
  },
  {
   "cell_type": "code",
   "execution_count": null,
   "id": "ed93e1f3",
   "metadata": {},
   "outputs": [],
   "source": [
    "# Showing the results performance.\n",
    "\n",
    "resultsDF = performanceMetricsDF(metrics, y_train, y_pred_train, y_test, y_pred_test)\n",
    "resultsDF"
   ]
  },
  {
   "cell_type": "markdown",
   "id": "4ffd62cc",
   "metadata": {},
   "source": [
    "***"
   ]
  },
  {
   "cell_type": "code",
   "execution_count": null,
   "id": "3ff69c83",
   "metadata": {
    "scrolled": true
   },
   "outputs": [],
   "source": [
    "t2 = time.perf_counter()\n",
    "print('Time taken to run in minutes:',(t2-t1)/60.0)"
   ]
  }
 ],
 "metadata": {
  "celltoolbar": "Format de la Cellule Texte Brut",
  "interpreter": {
   "hash": "906eca577c2ad557738f7e0b329f306984fd9e1bcf6cf4e2410c28cafd87502b"
  },
  "kernelspec": {
   "display_name": "Python 3.8.8 ('base')",
   "language": "python",
   "name": "python3"
  },
  "language_info": {
   "codemirror_mode": {
    "name": "ipython",
    "version": 3
   },
   "file_extension": ".py",
   "mimetype": "text/x-python",
   "name": "python",
   "nbconvert_exporter": "python",
   "pygments_lexer": "ipython3",
   "version": "3.8.8"
  }
 },
 "nbformat": 4,
 "nbformat_minor": 5
}
