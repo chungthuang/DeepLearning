{
 "cells": [
  {
   "cell_type": "markdown",
   "id": "fd155408",
   "metadata": {},
   "source": [
    "# <center> Deep Learning Project:"
   ]
  },
  {
   "cell_type": "markdown",
   "id": "a954f1cd",
   "metadata": {},
   "source": [
    "> - __Ahmed Abdelazeem__ (m20210433)\n",
    "> - __Omar Jarir__ (m20201378)  \n",
    "> - __Chung-Ting Huang__ (m20210437) "
   ]
  },
  {
   "cell_type": "markdown",
   "id": "680a8114",
   "metadata": {},
   "source": [
    "- The project is organized as follows:"
   ]
  },
  {
   "cell_type": "code",
   "execution_count": 1,
   "id": "31fcad8c",
   "metadata": {
    "scrolled": true
   },
   "outputs": [],
   "source": [
    "# !pip install keras-tuner --upgrade\n",
    "# !pip install -q -U keras-tuner\n",
    "#!pip install findspark\n",
    "#!pip install tensorflow-addons"
   ]
  },
  {
   "cell_type": "code",
   "execution_count": 2,
   "id": "0f3facbb",
   "metadata": {
    "scrolled": true
   },
   "outputs": [],
   "source": [
    "import time\n",
    "t1 = time.perf_counter()"
   ]
  },
  {
   "cell_type": "markdown",
   "id": "70d3f3c4",
   "metadata": {},
   "source": [
    "- __Importing the necessary libraries 📚:__"
   ]
  },
  {
   "cell_type": "code",
   "execution_count": 3,
   "id": "d8c7afd4",
   "metadata": {
    "scrolled": true
   },
   "outputs": [],
   "source": [
    "import os\n",
    "from zipfile import ZipFile\n",
    "import numpy as np\n",
    "import random as python_random\n",
    "import pandas as pd\n",
    "import matplotlib.pyplot as plt\n",
    "import seaborn as sns\n",
    "from tqdm import tqdm \n",
    "import tensorflow as tf\n",
    "from tensorflow import keras \n",
    "import keras_tuner as kt\n",
    "import tensorflow_addons as tfa"
   ]
  },
  {
   "cell_type": "code",
   "execution_count": 4,
   "id": "67be2fc2",
   "metadata": {
    "scrolled": true
   },
   "outputs": [],
   "source": [
    "from keras.models import Model, Sequential\n",
    "from keras import layers\n",
    "#from keras.layers import Dense, BatchNormalization, LSTM, Embedding, Input, Dropout, SimpleRNN, RNN, Bidirectional\n",
    "#from keras.Optimizer import Adam, SGD, RMSprop, Adam, Adadelta, Adagrad, Adamax, Nadam, Ftrl, schedules\n",
    "from keras.callbacks import EarlyStopping, ModelCheckpoint, CSVLogger, History, ReduceLROnPlateau \n",
    "#from keras.utils import plot_model\n",
    "from keras import optimizers\n",
    "from keras.wrappers.scikit_learn import KerasClassifier, KerasRegressor \n",
    "import keras.backend as K\n",
    "\n",
    "from sklearn.model_selection import GridSearchCV, RandomizedSearchCV, train_test_split, cross_val_score, StratifiedKFold, KFold\n",
    "from sklearn.model_selection import TimeSeriesSplit\n",
    "from sklearn.feature_selection import SelectKBest, chi2, mutual_info_classif\n",
    "from sklearn.preprocessing import MinMaxScaler, StandardScaler\n",
    "from sklearn.metrics import mean_squared_error, r2_score\n",
    "from sklearn.utils import class_weight\n",
    "\n",
    "from pprint import pprint\n",
    "import IPython"
   ]
  },
  {
   "cell_type": "code",
   "execution_count": 5,
   "id": "41169d55",
   "metadata": {
    "scrolled": true
   },
   "outputs": [
    {
     "name": "stderr",
     "output_type": "stream",
     "text": [
      "C:\\Users\\user\\AppData\\Local\\Temp/ipykernel_24624/593143688.py:32: DeprecationWarning: `import kerastuner` is deprecated, please use `import keras_tuner`.\n",
      "  import kerastuner as kt\n"
     ]
    }
   ],
   "source": [
    "from sklearn import preprocessing\n",
    "from sklearn.model_selection import train_test_split,cross_val_score\n",
    "from sklearn import linear_model\n",
    "from sklearn import metrics\n",
    "from sklearn import tree\n",
    "from sklearn.ensemble import RandomForestClassifier\n",
    "from sklearn.ensemble import HistGradientBoostingClassifier\n",
    "from sklearn.ensemble import GradientBoostingClassifier\n",
    "from sklearn.model_selection import GridSearchCV\n",
    "from sklearn.metrics import confusion_matrix\n",
    "import category_encoders as ce\n",
    "from sklearn.metrics import accuracy_score,classification_report,confusion_matrix,mean_squared_error, ConfusionMatrixDisplay\n",
    "from sklearn.preprocessing import MinMaxScaler, StandardScaler\n",
    "\n",
    "from imblearn.pipeline import make_pipeline\n",
    "from sklearn.pipeline import Pipeline\n",
    "from imblearn.under_sampling import RandomUnderSampler\n",
    "from yellowbrick.classifier import ClassificationReport\n",
    "\n",
    "import scikitplot as skplt\n",
    "import xgboost\n",
    "\n",
    "from mlxtend.evaluate import mcnemar\n",
    "from mlxtend.evaluate import mcnemar_table\n",
    "\n",
    "from imblearn.over_sampling import SMOTE\n",
    "\n",
    "from yellowbrick.model_selection import RFECV\n",
    "from yellowbrick.model_selection import LearningCurve\n",
    "\n",
    "from sklearn.ensemble import RandomForestClassifier\n",
    "import kerastuner as kt"
   ]
  },
  {
   "cell_type": "code",
   "execution_count": 6,
   "id": "7c52987b",
   "metadata": {
    "scrolled": true
   },
   "outputs": [],
   "source": [
    "import warnings\n",
    "warnings.filterwarnings(\"ignore\")"
   ]
  },
  {
   "cell_type": "code",
   "execution_count": 7,
   "id": "8b710363",
   "metadata": {
    "scrolled": true
   },
   "outputs": [],
   "source": [
    "SEED = 2022\n",
    "\n",
    "LEARNING_RATE = 0.001\n",
    "BATCH_SIZE = 256\n",
    "EPOCHS = 10\n",
    "time_steps=5"
   ]
  },
  {
   "cell_type": "markdown",
   "id": "bb6defba",
   "metadata": {},
   "source": [
    "Fixing the random number seed to ensure our results are reproducible."
   ]
  },
  {
   "cell_type": "code",
   "execution_count": 8,
   "id": "195b17cb",
   "metadata": {
    "scrolled": true
   },
   "outputs": [],
   "source": [
    "session = K.get_session()\n",
    "# init_op = tf.group(tf.tables_initializer(),tf.global_variables_initializer(),\n",
    "# tf.local_variables_initializer())\n",
    "#session.run(init_op)\n",
    "\n",
    "np.random.seed(SEED)\n",
    "tf.random.set_seed(SEED)\n",
    "python_random.seed(SEED)"
   ]
  },
  {
   "cell_type": "markdown",
   "id": "87c1d56c",
   "metadata": {},
   "source": [
    "- __Helper functions:__"
   ]
  },
  {
   "cell_type": "code",
   "execution_count": 9,
   "id": "b37a0c45",
   "metadata": {
    "scrolled": true
   },
   "outputs": [],
   "source": [
    "# Function to create dataframe with metrics\n",
    "\n",
    "def performanceMetricsDF(metricsObj, yTrain, yPredTrain, yTest, yPredTest):\n",
    "    measures_list = ['ACCURACY','PRECISION', 'RECALL','F1 SCORE','AUC']\n",
    "    train_results = [metricsObj.accuracy_score(yTrain, yPredTrain),\n",
    "                metricsObj.precision_score(yTrain, yPredTrain),\n",
    "                metricsObj.recall_score(yTrain, yPredTrain, average='binary'),\n",
    "                metricsObj.f1_score(yTrain, yPredTrain, average='binary'),\n",
    "                metricsObj.roc_auc_score(yTrain, yPredTrain),    \n",
    "                ]\n",
    "    test_results = [metricsObj.accuracy_score(yTest, yPredTest),\n",
    "               metricsObj.precision_score(yTest, yPredTest),\n",
    "               metricsObj.recall_score(yTest, yPredTest, average='binary'),\n",
    "               metricsObj.f1_score(yTest, yPredTest, average='binary'),\n",
    "               metricsObj.roc_auc_score(yTest, yPredTest), \n",
    "               ]\n",
    "    resultsDF = pd.DataFrame({'Measure': measures_list, 'Train': train_results, 'Test':test_results})\n",
    "    return(resultsDF)"
   ]
  },
  {
   "cell_type": "code",
   "execution_count": 10,
   "id": "6221a8c1",
   "metadata": {
    "scrolled": true
   },
   "outputs": [],
   "source": [
    "# Function to plot confusion matrix - Adapted from https://github.com/DTrimarchi10/confusion_matrix/blob/master/cf_matrix.py\n",
    "def make_confusion_matrix(cf,\n",
    "                          group_names=None,\n",
    "                          categories='auto',\n",
    "                          count=True,\n",
    "                          percent=True,\n",
    "                          cbar=True,\n",
    "                          xyticks=True,\n",
    "                          xyplotlabels=True,\n",
    "                          sum_stats=True,\n",
    "                          figsize=None,\n",
    "                          cmap='Blues',\n",
    "                          title=None):\n",
    "    '''\n",
    "    This function will make a pretty plot of an sklearn Confusion Matrix cm using a Seaborn heatmap visualization.\n",
    "    Arguments\n",
    "    ---------\n",
    "    cf:            confusion matrix to be passed in\n",
    "    group_names:   List of strings that represent the labels row by row to be shown in each square.\n",
    "    categories:    List of strings containing the categories to be displayed on the x,y axis. Default is 'auto'\n",
    "    count:         If True, show the raw number in the confusion matrix. Default is True.\n",
    "    normalize:     If True, show the proportions for each category. Default is True.\n",
    "    cbar:          If True, show the color bar. The cbar values are based off the values in the confusion matrix.\n",
    "                   Default is True.\n",
    "    xyticks:       If True, show x and y ticks. Default is True.\n",
    "    xyplotlabels:  If True, show 'True Label' and 'Predicted Label' on the figure. Default is True.\n",
    "    sum_stats:     If True, display summary statistics below the figure. Default is True.\n",
    "    figsize:       Tuple representing the figure size. Default will be the matplotlib rcParams value.\n",
    "    cmap:          Colormap of the values displayed from matplotlib.pyplot.cm. Default is 'Blues'\n",
    "                   See http://matplotlib.org/examples/color/colormaps_reference.html\n",
    "                   \n",
    "    title:         Title for the heatmap. Default is None.\n",
    "    '''\n",
    "\n",
    "\n",
    "    # CODE TO GENERATE TEXT INSIDE EACH SQUARE\n",
    "    blanks = ['' for i in range(cf.size)]\n",
    "\n",
    "    if group_names and len(group_names)==cf.size:\n",
    "        group_labels = [\"{}\\n\".format(value) for value in group_names]\n",
    "    else:\n",
    "        group_labels = blanks\n",
    "\n",
    "    if count:\n",
    "        group_counts = [\"{0:0.0f}\\n\".format(value) for value in cf.flatten()]\n",
    "    else:\n",
    "        group_counts = blanks\n",
    "\n",
    "    if percent:\n",
    "        group_percentages = [\"{0:.2%}\".format(value) for value in cf.flatten()/np.sum(cf)]\n",
    "    else:\n",
    "        group_percentages = blanks\n",
    "\n",
    "    box_labels = [f\"{v1}{v2}{v3}\".strip() for v1, v2, v3 in zip(group_labels,group_counts,group_percentages)]\n",
    "    box_labels = np.asarray(box_labels).reshape(cf.shape[0],cf.shape[1])\n",
    "\n",
    "\n",
    "    # CODE TO GENERATE SUMMARY STATISTICS & TEXT FOR SUMMARY STATS\n",
    "    if sum_stats:\n",
    "        #Accuracy is sum of diagonal divided by total observations\n",
    "        accuracy  = np.trace(cf) / float(np.sum(cf))\n",
    "\n",
    "        #if it is a binary confusion matrix, show some more stats\n",
    "        if len(cf)==2:\n",
    "            #Metrics for Binary Confusion Matrices\n",
    "            precision = cf[1,1] / sum(cf[:,1])\n",
    "            recall    = cf[1,1] / sum(cf[1,:])\n",
    "            f1_score  = 2*precision*recall / (precision + recall)\n",
    "            stats_text = \"\\n\\nAccuracy={:0.3f}\\nPrecision={:0.3f}\\nRecall={:0.3f}\\nF1 Score={:0.3f}\".format(\n",
    "                accuracy,precision,recall,f1_score)\n",
    "        else:\n",
    "            stats_text = \"\\n\\nAccuracy={:0.3f}\".format(accuracy)\n",
    "    else:\n",
    "        stats_text = \"\"\n",
    "\n",
    "\n",
    "    # SET FIGURE PARAMETERS ACCORDING TO OTHER ARGUMENTS\n",
    "    if figsize==None:\n",
    "        #Get default figure size if not set\n",
    "        figsize = plt.rcParams.get('figure.figsize')\n",
    "\n",
    "    if xyticks==False:\n",
    "        #Do not show categories if xyticks is False\n",
    "        categories=False\n",
    "\n",
    "\n",
    "    # MAKE THE HEATMAP VISUALIZATION\n",
    "    plt.figure(figsize=figsize)\n",
    "    ax = sns.heatmap(cf,annot=box_labels, fmt=\"\",cmap=cmap,cbar=cbar,xticklabels=categories,yticklabels=categories)\n",
    "\n",
    "    if xyplotlabels:\n",
    "        plt.ylabel('True label')\n",
    "        plt.xlabel('Predicted label' + stats_text)\n",
    "    else:\n",
    "        plt.xlabel(stats_text)\n",
    "    \n",
    "    if title:\n",
    "        plt.title(title)"
   ]
  },
  {
   "cell_type": "code",
   "execution_count": 11,
   "id": "9d09be78",
   "metadata": {
    "scrolled": true
   },
   "outputs": [],
   "source": [
    "# Function to find outliers on columns based on percentile\n",
    "def removeOutliers(df, colList, lowPercentile=0.05, highPercentile=0.95, verbose=False):\n",
    "    quant_df = df[colList].quantile([lowPercentile, highPercentile])\n",
    "    if verbose:\n",
    "        print(quant_df)\n",
    "    for name in list(df[colList].columns):\n",
    "        df = df[(df[name] >= quant_df.loc[lowPercentile, name]) & (df[name] <= quant_df.loc[highPercentile, name])]\n",
    "    return df"
   ]
  },
  {
   "cell_type": "code",
   "execution_count": 12,
   "id": "94c74269",
   "metadata": {
    "scrolled": true
   },
   "outputs": [],
   "source": [
    "def create_model(nl=1, nn=256):\n",
    "    model = Sequential()\n",
    "    model.add(Dense(16, input_shape=(2,), activation=\"relu\"))\n",
    "    # Add as many hidden layers as specified in nl\n",
    "    for i in range(nl):\n",
    "        # Layers have nn neurons\n",
    "        model.add(Dense(nn, activation='relu'))\n",
    "    # End defining and compiling your model..."
   ]
  },
  {
   "cell_type": "code",
   "execution_count": 13,
   "id": "4a64253c",
   "metadata": {
    "scrolled": true
   },
   "outputs": [],
   "source": [
    "def show_raw_visualization(data):\n",
    "    time_data = data[date_time_key]\n",
    "    fig, axes = plt.subplots(\n",
    "        nrows=7, ncols=2, figsize=(15, 20), dpi=80, facecolor=\"w\", edgecolor=\"k\"\n",
    "    )\n",
    "    for i in range(len(feature_keys)):\n",
    "        key = feature_keys[i]\n",
    "        c = colors[i % (len(colors))]\n",
    "        t_data = data[key]\n",
    "        t_data.index = time_data\n",
    "        t_data.head()\n",
    "        ax = t_data.plot(\n",
    "            ax=axes[i // 2, i % 2],\n",
    "            color=c,\n",
    "            title=\"{} - {}\".format(titles[i], key),\n",
    "            rot=25,\n",
    "        )\n",
    "        ax.legend([titles[i]])\n",
    "    plt.tight_layout()\n",
    "    plt.show()"
   ]
  },
  {
   "cell_type": "code",
   "execution_count": 14,
   "id": "9edb99cc",
   "metadata": {
    "scrolled": true
   },
   "outputs": [],
   "source": [
    "def show_heatmap(data):\n",
    "    plt.matshow(data.corr())\n",
    "    plt.xticks(range(data.shape[1]), data.columns, fontsize=14, rotation=90)\n",
    "    plt.gca().xaxis.tick_bottom()\n",
    "    plt.yticks(range(data.shape[1]), data.columns, fontsize=14)\n",
    "\n",
    "    cb = plt.colorbar()\n",
    "    cb.ax.tick_params(labelsize=14)\n",
    "    plt.title(\"Feature Correlation Heatmap\", fontsize=14)\n",
    "    plt.tight_layout()\n",
    "    plt.show()\n"
   ]
  },
  {
   "cell_type": "code",
   "execution_count": 15,
   "id": "e25ab3cc",
   "metadata": {
    "scrolled": true
   },
   "outputs": [],
   "source": [
    "# This function plot the \"loss\" and the \"val_loss\" variables.\n",
    "def visualize_loss(history, title):\n",
    "    \"\"\"\n",
    "    history: history of the model.\n",
    "    title: Title of the plot.\n",
    "    \"\"\"\n",
    "    loss = history.history[\"loss\"]\n",
    "    val_loss = history.history[\"val_loss\"]\n",
    "    epochs = range(1, len(loss)+1)\n",
    "    plt.plot(epochs, loss, \"g\", label=\"Training loss\")\n",
    "    plt.plot(epochs, val_loss, \"b\", label=\"Validation loss\")\n",
    "    plt.title(title)\n",
    "    plt.xlabel(\"Epochs\")\n",
    "    plt.ylabel(\"Loss\")\n",
    "    plt.legend()\n",
    "    plt.tight_layout()\n",
    "    plt.show()"
   ]
  },
  {
   "cell_type": "code",
   "execution_count": 16,
   "id": "02379c28",
   "metadata": {
    "scrolled": true
   },
   "outputs": [],
   "source": [
    "# This function plot the \"accuracy\" and the \"val_accuracy\" variables.\n",
    "def visualize_accuracy(history, title):\n",
    "    \"\"\"\n",
    "    history: history of the model.\n",
    "    title: Title of the plot.\n",
    "    \"\"\"\n",
    "    loss = history.history[\"accuracy\"]\n",
    "    val_loss = history.history[\"val_accuracy\"]\n",
    "    epochs = range(1, len(loss)+1)\n",
    "    plt.plot(epochs, loss, \"g\", label=\"Training accuracy\")\n",
    "    plt.plot(epochs, val_loss, \"b\", label=\"Validation accuracy\")\n",
    "    plt.title(title)\n",
    "    plt.xlabel(\"Epochs\")\n",
    "    plt.ylabel(\"Accuracy\")\n",
    "    plt.legend()\n",
    "    plt.tight_layout()\n",
    "    plt.show()"
   ]
  },
  {
   "cell_type": "code",
   "execution_count": 17,
   "id": "4185d55e",
   "metadata": {
    "scrolled": true
   },
   "outputs": [],
   "source": [
    "# This function plot the \"error\" and the \"val_error\" variables.\n",
    "def visualize_error(history, title):\n",
    "    \"\"\"\n",
    "    history: history of the model.\n",
    "    title: Title of the plot.\n",
    "    \"\"\"\n",
    "    error = history.history[\"mae\"]\n",
    "    val_error = history.history[\"val_mae\"]\n",
    "    epochs = range(len(error))\n",
    "    plt.figure(figsize=(10, 10))\n",
    "    plt.plot(epochs, error, \"b\", label=\"Training error\")\n",
    "    plt.plot(epochs, val_error, \"r\", label=\"Validation error\")\n",
    "    plt.title(title)\n",
    "    plt.xlabel(\"Epochs\")\n",
    "    plt.ylabel(\"Error\")\n",
    "    plt.legend()\n",
    "    plt.tight_layout()\n",
    "    plt.show()"
   ]
  },
  {
   "cell_type": "code",
   "execution_count": 18,
   "id": "6a3d3c87",
   "metadata": {
    "scrolled": true
   },
   "outputs": [],
   "source": [
    "def show_plot(plot_data, delta, title):\n",
    "    \"\"\"\n",
    "    plot_data:\n",
    "    delta:\n",
    "    title:\n",
    "    \"\"\"\n",
    "    labels = [\"History\", \"True Future\", \"Model Prediction\"]\n",
    "    marker = [\".-\", \"rx\", \"go\"]\n",
    "    time_steps = list(range(-(plot_data[0].shape[0]), 0))\n",
    "    if delta:\n",
    "        future = delta\n",
    "    else:\n",
    "        future = 0\n",
    "\n",
    "    plt.title(title)\n",
    "    for i, val in enumerate(plot_data):\n",
    "        if i:\n",
    "            plt.plot(future, plot_data[i], marker[i], markersize=10, label=labels[i])\n",
    "        else:\n",
    "            plt.plot(time_steps, plot_data[i].flatten(), marker[i], label=labels[i])\n",
    "    plt.legend()\n",
    "    plt.xlim([time_steps[0], (future + 5) * 2])\n",
    "    plt.xlabel(\"Time-Step\")\n",
    "    plt.tight_layout()\n",
    "    plt.show()\n",
    "    return"
   ]
  },
  {
   "cell_type": "code",
   "execution_count": 19,
   "id": "cc8b92b3",
   "metadata": {
    "scrolled": true
   },
   "outputs": [],
   "source": [
    "def plot_predictions(val, predicted, title, date):\n",
    "    plt.figure(figsize=(16,4))\n",
    "    plt.plot(date, val, color='blue',label='Actual') # date, \n",
    "    plt.plot(date,predicted, alpha=0.7, color='red',label='Predict') # date, \n",
    "    plt.title(title)\n",
    "    plt.xlabel('Date')\n",
    "    plt.ylabel('Something')\n",
    "    plt.legend()\n",
    "    plt.tight_layout()\n",
    "    plt.show()"
   ]
  },
  {
   "cell_type": "code",
   "execution_count": 20,
   "id": "de0f7d91",
   "metadata": {},
   "outputs": [],
   "source": [
    "# def focal_loss(gamma=2., alpha=4.):\n",
    "\n",
    "#     gamma = float(gamma)\n",
    "#     alpha = float(alpha)\n",
    "\n",
    "#     def focal_loss_fixed(y_true, y_pred):\n",
    "#         \"\"\"Focal loss for multi-classification\n",
    "#         FL(p_t)=-alpha(1-p_t)^{gamma}ln(p_t)\n",
    "#         Notice: y_pred is probability after softmax\n",
    "#         gradient is d(Fl)/d(p_t) not d(Fl)/d(x) as described in paper\n",
    "#         d(Fl)/d(p_t) * [p_t(1-p_t)] = d(Fl)/d(x)\n",
    "#         Focal Loss for Dense Object Detection\n",
    "#         https://arxiv.org/abs/1708.02002\n",
    "\n",
    "#         Arguments:\n",
    "#             y_true {tensor} -- ground truth labels, shape of [batch_size, num_cls]\n",
    "#             y_pred {tensor} -- model's output, shape of [batch_size, num_cls]\n",
    "\n",
    "#         Keyword Arguments:\n",
    "#             gamma {float} -- (default: {2.0})\n",
    "#             alpha {float} -- (default: {4.0})\n",
    "\n",
    "#         Returns:\n",
    "#             [tensor] -- loss.\n",
    "#         \"\"\"\n",
    "#         epsilon = 1.e-9\n",
    "#         y_true = tf.convert_to_tensor(y_true, tf.float32)\n",
    "#         y_pred = tf.convert_to_tensor(y_pred, tf.float32)\n",
    "\n",
    "#         model_out = tf.add(y_pred, epsilon)\n",
    "#         ce = tf.multiply(y_true, -tf.math.log(model_out))\n",
    "#         weight = tf.multiply(y_true, tf.pow(tf.subtract(1., model_out), gamma))\n",
    "#         fl = tf.multiply(alpha, tf.multiply(weight, ce))\n",
    "#         reduced_fl = tf.reduce_max(fl, axis=1)\n",
    "#         return tf.reduce_mean(reduced_fl)\n",
    "#     return focal_loss_fixed"
   ]
  },
  {
   "cell_type": "code",
   "execution_count": null,
   "id": "7cfe12f9",
   "metadata": {},
   "outputs": [],
   "source": []
  },
  {
   "cell_type": "code",
   "execution_count": null,
   "id": "fd027e95",
   "metadata": {},
   "outputs": [],
   "source": []
  },
  {
   "cell_type": "markdown",
   "id": "25c87322",
   "metadata": {},
   "source": [
    "- __Loading the dataset:__"
   ]
  },
  {
   "cell_type": "code",
   "execution_count": 21,
   "id": "d04c93f9",
   "metadata": {
    "scrolled": true
   },
   "outputs": [],
   "source": [
    "ds= pd.read_csv(\"data.csv\")"
   ]
  },
  {
   "cell_type": "code",
   "execution_count": 22,
   "id": "b589e519",
   "metadata": {
    "scrolled": true
   },
   "outputs": [
    {
     "data": {
      "text/html": [
       "<div>\n",
       "<style scoped>\n",
       "    .dataframe tbody tr th:only-of-type {\n",
       "        vertical-align: middle;\n",
       "    }\n",
       "\n",
       "    .dataframe tbody tr th {\n",
       "        vertical-align: top;\n",
       "    }\n",
       "\n",
       "    .dataframe thead th {\n",
       "        text-align: right;\n",
       "    }\n",
       "</style>\n",
       "<table border=\"1\" class=\"dataframe\">\n",
       "  <thead>\n",
       "    <tr style=\"text-align: right;\">\n",
       "      <th></th>\n",
       "      <th>Bankrupt?</th>\n",
       "      <th>ROA(C) before interest and depreciation before interest</th>\n",
       "      <th>ROA(A) before interest and % after tax</th>\n",
       "      <th>ROA(B) before interest and depreciation after tax</th>\n",
       "      <th>Operating Gross Margin</th>\n",
       "      <th>Realized Sales Gross Margin</th>\n",
       "      <th>Operating Profit Rate</th>\n",
       "      <th>Pre-tax net Interest Rate</th>\n",
       "      <th>After-tax net Interest Rate</th>\n",
       "      <th>Non-industry income and expenditure/revenue</th>\n",
       "      <th>...</th>\n",
       "      <th>Net Income to Total Assets</th>\n",
       "      <th>Total assets to GNP price</th>\n",
       "      <th>No-credit Interval</th>\n",
       "      <th>Gross Profit to Sales</th>\n",
       "      <th>Net Income to Stockholder's Equity</th>\n",
       "      <th>Liability to Equity</th>\n",
       "      <th>Degree of Financial Leverage (DFL)</th>\n",
       "      <th>Interest Coverage Ratio (Interest expense to EBIT)</th>\n",
       "      <th>Net Income Flag</th>\n",
       "      <th>Equity to Liability</th>\n",
       "    </tr>\n",
       "  </thead>\n",
       "  <tbody>\n",
       "    <tr>\n",
       "      <th>0</th>\n",
       "      <td>1</td>\n",
       "      <td>0.370594</td>\n",
       "      <td>0.424389</td>\n",
       "      <td>0.405750</td>\n",
       "      <td>0.601457</td>\n",
       "      <td>0.601457</td>\n",
       "      <td>0.998969</td>\n",
       "      <td>0.796887</td>\n",
       "      <td>0.808809</td>\n",
       "      <td>0.302646</td>\n",
       "      <td>...</td>\n",
       "      <td>0.716845</td>\n",
       "      <td>0.009219</td>\n",
       "      <td>0.622879</td>\n",
       "      <td>0.601453</td>\n",
       "      <td>0.827890</td>\n",
       "      <td>0.290202</td>\n",
       "      <td>0.026601</td>\n",
       "      <td>0.564050</td>\n",
       "      <td>1</td>\n",
       "      <td>0.016469</td>\n",
       "    </tr>\n",
       "    <tr>\n",
       "      <th>1</th>\n",
       "      <td>1</td>\n",
       "      <td>0.464291</td>\n",
       "      <td>0.538214</td>\n",
       "      <td>0.516730</td>\n",
       "      <td>0.610235</td>\n",
       "      <td>0.610235</td>\n",
       "      <td>0.998946</td>\n",
       "      <td>0.797380</td>\n",
       "      <td>0.809301</td>\n",
       "      <td>0.303556</td>\n",
       "      <td>...</td>\n",
       "      <td>0.795297</td>\n",
       "      <td>0.008323</td>\n",
       "      <td>0.623652</td>\n",
       "      <td>0.610237</td>\n",
       "      <td>0.839969</td>\n",
       "      <td>0.283846</td>\n",
       "      <td>0.264577</td>\n",
       "      <td>0.570175</td>\n",
       "      <td>1</td>\n",
       "      <td>0.020794</td>\n",
       "    </tr>\n",
       "    <tr>\n",
       "      <th>2</th>\n",
       "      <td>1</td>\n",
       "      <td>0.426071</td>\n",
       "      <td>0.499019</td>\n",
       "      <td>0.472295</td>\n",
       "      <td>0.601450</td>\n",
       "      <td>0.601364</td>\n",
       "      <td>0.998857</td>\n",
       "      <td>0.796403</td>\n",
       "      <td>0.808388</td>\n",
       "      <td>0.302035</td>\n",
       "      <td>...</td>\n",
       "      <td>0.774670</td>\n",
       "      <td>0.040003</td>\n",
       "      <td>0.623841</td>\n",
       "      <td>0.601449</td>\n",
       "      <td>0.836774</td>\n",
       "      <td>0.290189</td>\n",
       "      <td>0.026555</td>\n",
       "      <td>0.563706</td>\n",
       "      <td>1</td>\n",
       "      <td>0.016474</td>\n",
       "    </tr>\n",
       "    <tr>\n",
       "      <th>3</th>\n",
       "      <td>1</td>\n",
       "      <td>0.399844</td>\n",
       "      <td>0.451265</td>\n",
       "      <td>0.457733</td>\n",
       "      <td>0.583541</td>\n",
       "      <td>0.583541</td>\n",
       "      <td>0.998700</td>\n",
       "      <td>0.796967</td>\n",
       "      <td>0.808966</td>\n",
       "      <td>0.303350</td>\n",
       "      <td>...</td>\n",
       "      <td>0.739555</td>\n",
       "      <td>0.003252</td>\n",
       "      <td>0.622929</td>\n",
       "      <td>0.583538</td>\n",
       "      <td>0.834697</td>\n",
       "      <td>0.281721</td>\n",
       "      <td>0.026697</td>\n",
       "      <td>0.564663</td>\n",
       "      <td>1</td>\n",
       "      <td>0.023982</td>\n",
       "    </tr>\n",
       "    <tr>\n",
       "      <th>4</th>\n",
       "      <td>1</td>\n",
       "      <td>0.465022</td>\n",
       "      <td>0.538432</td>\n",
       "      <td>0.522298</td>\n",
       "      <td>0.598783</td>\n",
       "      <td>0.598783</td>\n",
       "      <td>0.998973</td>\n",
       "      <td>0.797366</td>\n",
       "      <td>0.809304</td>\n",
       "      <td>0.303475</td>\n",
       "      <td>...</td>\n",
       "      <td>0.795016</td>\n",
       "      <td>0.003878</td>\n",
       "      <td>0.623521</td>\n",
       "      <td>0.598782</td>\n",
       "      <td>0.839973</td>\n",
       "      <td>0.278514</td>\n",
       "      <td>0.024752</td>\n",
       "      <td>0.575617</td>\n",
       "      <td>1</td>\n",
       "      <td>0.035490</td>\n",
       "    </tr>\n",
       "  </tbody>\n",
       "</table>\n",
       "<p>5 rows × 96 columns</p>\n",
       "</div>"
      ],
      "text/plain": [
       "   Bankrupt?   ROA(C) before interest and depreciation before interest  \\\n",
       "0          1                                           0.370594          \n",
       "1          1                                           0.464291          \n",
       "2          1                                           0.426071          \n",
       "3          1                                           0.399844          \n",
       "4          1                                           0.465022          \n",
       "\n",
       "    ROA(A) before interest and % after tax  \\\n",
       "0                                 0.424389   \n",
       "1                                 0.538214   \n",
       "2                                 0.499019   \n",
       "3                                 0.451265   \n",
       "4                                 0.538432   \n",
       "\n",
       "    ROA(B) before interest and depreciation after tax  \\\n",
       "0                                           0.405750    \n",
       "1                                           0.516730    \n",
       "2                                           0.472295    \n",
       "3                                           0.457733    \n",
       "4                                           0.522298    \n",
       "\n",
       "    Operating Gross Margin   Realized Sales Gross Margin  \\\n",
       "0                 0.601457                      0.601457   \n",
       "1                 0.610235                      0.610235   \n",
       "2                 0.601450                      0.601364   \n",
       "3                 0.583541                      0.583541   \n",
       "4                 0.598783                      0.598783   \n",
       "\n",
       "    Operating Profit Rate   Pre-tax net Interest Rate  \\\n",
       "0                0.998969                    0.796887   \n",
       "1                0.998946                    0.797380   \n",
       "2                0.998857                    0.796403   \n",
       "3                0.998700                    0.796967   \n",
       "4                0.998973                    0.797366   \n",
       "\n",
       "    After-tax net Interest Rate   Non-industry income and expenditure/revenue  \\\n",
       "0                      0.808809                                      0.302646   \n",
       "1                      0.809301                                      0.303556   \n",
       "2                      0.808388                                      0.302035   \n",
       "3                      0.808966                                      0.303350   \n",
       "4                      0.809304                                      0.303475   \n",
       "\n",
       "   ...   Net Income to Total Assets   Total assets to GNP price  \\\n",
       "0  ...                     0.716845                    0.009219   \n",
       "1  ...                     0.795297                    0.008323   \n",
       "2  ...                     0.774670                    0.040003   \n",
       "3  ...                     0.739555                    0.003252   \n",
       "4  ...                     0.795016                    0.003878   \n",
       "\n",
       "    No-credit Interval   Gross Profit to Sales  \\\n",
       "0             0.622879                0.601453   \n",
       "1             0.623652                0.610237   \n",
       "2             0.623841                0.601449   \n",
       "3             0.622929                0.583538   \n",
       "4             0.623521                0.598782   \n",
       "\n",
       "    Net Income to Stockholder's Equity   Liability to Equity  \\\n",
       "0                             0.827890              0.290202   \n",
       "1                             0.839969              0.283846   \n",
       "2                             0.836774              0.290189   \n",
       "3                             0.834697              0.281721   \n",
       "4                             0.839973              0.278514   \n",
       "\n",
       "    Degree of Financial Leverage (DFL)  \\\n",
       "0                             0.026601   \n",
       "1                             0.264577   \n",
       "2                             0.026555   \n",
       "3                             0.026697   \n",
       "4                             0.024752   \n",
       "\n",
       "    Interest Coverage Ratio (Interest expense to EBIT)   Net Income Flag  \\\n",
       "0                                           0.564050                   1   \n",
       "1                                           0.570175                   1   \n",
       "2                                           0.563706                   1   \n",
       "3                                           0.564663                   1   \n",
       "4                                           0.575617                   1   \n",
       "\n",
       "    Equity to Liability  \n",
       "0              0.016469  \n",
       "1              0.020794  \n",
       "2              0.016474  \n",
       "3              0.023982  \n",
       "4              0.035490  \n",
       "\n",
       "[5 rows x 96 columns]"
      ]
     },
     "execution_count": 22,
     "metadata": {},
     "output_type": "execute_result"
    }
   ],
   "source": [
    "ds.head()"
   ]
  },
  {
   "cell_type": "code",
   "execution_count": 23,
   "id": "63537575",
   "metadata": {
    "scrolled": true
   },
   "outputs": [
    {
     "data": {
      "text/plain": [
       "(6819, 96)"
      ]
     },
     "execution_count": 23,
     "metadata": {},
     "output_type": "execute_result"
    }
   ],
   "source": [
    "# Checking the shape of the dataset:\n",
    "\n",
    "ds.shape"
   ]
  },
  {
   "cell_type": "code",
   "execution_count": 24,
   "id": "a0e6a7c0",
   "metadata": {
    "scrolled": true
   },
   "outputs": [
    {
     "data": {
      "text/plain": [
       "array([1, 0], dtype=int64)"
      ]
     },
     "execution_count": 24,
     "metadata": {},
     "output_type": "execute_result"
    }
   ],
   "source": [
    "# This is the target variable.\n",
    "ds[\"Bankrupt?\"].unique()"
   ]
  },
  {
   "cell_type": "code",
   "execution_count": 25,
   "id": "a41332b7",
   "metadata": {},
   "outputs": [],
   "source": [
    "def MutualInfoScores(X, y):    \n",
    "    mi = pd.Series(mutual_info_classif(X, y))\n",
    "    mi.index = X.columns\n",
    "    mi.sort_values(ascending=False).plot.bar(figsize=(20, 6))\n",
    "    plt.ylabel('Mutual Information')"
   ]
  },
  {
   "cell_type": "code",
   "execution_count": 26,
   "id": "8fcc8fb1",
   "metadata": {},
   "outputs": [
    {
     "data": {
      "image/png": "[encoded data removed]",
      "text/plain": [
       "<Figure size 1440x432 with 1 Axes>"
      ]
     },
     "metadata": {},
     "output_type": "display_data"
    }
   ],
   "source": [
    "MutualInfoScores(ds.drop(columns=\"Bankrupt?\"), ds[\"Bankrupt?\"])"
   ]
  },
  {
   "cell_type": "code",
   "execution_count": 27,
   "id": "5ce876a9",
   "metadata": {},
   "outputs": [],
   "source": [
    "selector = SelectKBest(mutual_info_classif, k=20)\n",
    "\n",
    "# selecting the features:\n",
    "selector.fit(ds.drop(columns=\"Bankrupt?\"), ds[\"Bankrupt?\"])\n",
    "\n",
    "kept_columns = list(ds.drop(columns=\"Bankrupt?\").columns[selector.get_support()]) + [\"Bankrupt?\"]"
   ]
  },
  {
   "cell_type": "code",
   "execution_count": 28,
   "id": "560857f6",
   "metadata": {},
   "outputs": [],
   "source": [
    "ds = ds[kept_columns]"
   ]
  },
  {
   "cell_type": "code",
   "execution_count": 29,
   "id": "f9e35d8e",
   "metadata": {},
   "outputs": [
    {
     "data": {
      "text/plain": [
       "(6819, 21)"
      ]
     },
     "execution_count": 29,
     "metadata": {},
     "output_type": "execute_result"
    }
   ],
   "source": [
    "ds.shape"
   ]
  },
  {
   "cell_type": "code",
   "execution_count": 30,
   "id": "51e8575f",
   "metadata": {},
   "outputs": [
    {
     "data": {
      "text/html": [
       "<div>\n",
       "<style scoped>\n",
       "    .dataframe tbody tr th:only-of-type {\n",
       "        vertical-align: middle;\n",
       "    }\n",
       "\n",
       "    .dataframe tbody tr th {\n",
       "        vertical-align: top;\n",
       "    }\n",
       "\n",
       "    .dataframe thead th {\n",
       "        text-align: right;\n",
       "    }\n",
       "</style>\n",
       "<table border=\"1\" class=\"dataframe\">\n",
       "  <thead>\n",
       "    <tr style=\"text-align: right;\">\n",
       "      <th></th>\n",
       "      <th>ROA(C) before interest and depreciation before interest</th>\n",
       "      <th>ROA(A) before interest and % after tax</th>\n",
       "      <th>ROA(B) before interest and depreciation after tax</th>\n",
       "      <th>Continuous interest rate (after tax)</th>\n",
       "      <th>Net Value Per Share (B)</th>\n",
       "      <th>Persistent EPS in the Last Four Seasons</th>\n",
       "      <th>Per Share Net profit before tax (Yuan ¥)</th>\n",
       "      <th>Interest Expense Ratio</th>\n",
       "      <th>Debt ratio %</th>\n",
       "      <th>Net worth/Assets</th>\n",
       "      <th>...</th>\n",
       "      <th>Net profit before tax/Paid-in capital</th>\n",
       "      <th>Retained Earnings to Total Assets</th>\n",
       "      <th>Total income/Total expense</th>\n",
       "      <th>Net Income to Total Assets</th>\n",
       "      <th>Net Income to Stockholder's Equity</th>\n",
       "      <th>Liability to Equity</th>\n",
       "      <th>Degree of Financial Leverage (DFL)</th>\n",
       "      <th>Interest Coverage Ratio (Interest expense to EBIT)</th>\n",
       "      <th>Equity to Liability</th>\n",
       "      <th>Bankrupt?</th>\n",
       "    </tr>\n",
       "  </thead>\n",
       "  <tbody>\n",
       "    <tr>\n",
       "      <th>0</th>\n",
       "      <td>0.370594</td>\n",
       "      <td>0.424389</td>\n",
       "      <td>0.405750</td>\n",
       "      <td>0.780985</td>\n",
       "      <td>0.147950</td>\n",
       "      <td>0.169141</td>\n",
       "      <td>0.138736</td>\n",
       "      <td>0.629951</td>\n",
       "      <td>0.207576</td>\n",
       "      <td>0.792424</td>\n",
       "      <td>...</td>\n",
       "      <td>0.137757</td>\n",
       "      <td>0.903225</td>\n",
       "      <td>0.002022</td>\n",
       "      <td>0.716845</td>\n",
       "      <td>0.827890</td>\n",
       "      <td>0.290202</td>\n",
       "      <td>0.026601</td>\n",
       "      <td>0.564050</td>\n",
       "      <td>0.016469</td>\n",
       "      <td>1</td>\n",
       "    </tr>\n",
       "    <tr>\n",
       "      <th>1</th>\n",
       "      <td>0.464291</td>\n",
       "      <td>0.538214</td>\n",
       "      <td>0.516730</td>\n",
       "      <td>0.781506</td>\n",
       "      <td>0.182251</td>\n",
       "      <td>0.208944</td>\n",
       "      <td>0.169918</td>\n",
       "      <td>0.635172</td>\n",
       "      <td>0.171176</td>\n",
       "      <td>0.828824</td>\n",
       "      <td>...</td>\n",
       "      <td>0.168962</td>\n",
       "      <td>0.931065</td>\n",
       "      <td>0.002226</td>\n",
       "      <td>0.795297</td>\n",
       "      <td>0.839969</td>\n",
       "      <td>0.283846</td>\n",
       "      <td>0.264577</td>\n",
       "      <td>0.570175</td>\n",
       "      <td>0.020794</td>\n",
       "      <td>1</td>\n",
       "    </tr>\n",
       "    <tr>\n",
       "      <th>2</th>\n",
       "      <td>0.426071</td>\n",
       "      <td>0.499019</td>\n",
       "      <td>0.472295</td>\n",
       "      <td>0.780284</td>\n",
       "      <td>0.177911</td>\n",
       "      <td>0.180581</td>\n",
       "      <td>0.142803</td>\n",
       "      <td>0.629631</td>\n",
       "      <td>0.207516</td>\n",
       "      <td>0.792484</td>\n",
       "      <td>...</td>\n",
       "      <td>0.148036</td>\n",
       "      <td>0.909903</td>\n",
       "      <td>0.002060</td>\n",
       "      <td>0.774670</td>\n",
       "      <td>0.836774</td>\n",
       "      <td>0.290189</td>\n",
       "      <td>0.026555</td>\n",
       "      <td>0.563706</td>\n",
       "      <td>0.016474</td>\n",
       "      <td>1</td>\n",
       "    </tr>\n",
       "    <tr>\n",
       "      <th>3</th>\n",
       "      <td>0.399844</td>\n",
       "      <td>0.451265</td>\n",
       "      <td>0.457733</td>\n",
       "      <td>0.781241</td>\n",
       "      <td>0.154187</td>\n",
       "      <td>0.193722</td>\n",
       "      <td>0.148603</td>\n",
       "      <td>0.630228</td>\n",
       "      <td>0.151465</td>\n",
       "      <td>0.848535</td>\n",
       "      <td>...</td>\n",
       "      <td>0.147561</td>\n",
       "      <td>0.906902</td>\n",
       "      <td>0.001831</td>\n",
       "      <td>0.739555</td>\n",
       "      <td>0.834697</td>\n",
       "      <td>0.281721</td>\n",
       "      <td>0.026697</td>\n",
       "      <td>0.564663</td>\n",
       "      <td>0.023982</td>\n",
       "      <td>1</td>\n",
       "    </tr>\n",
       "    <tr>\n",
       "      <th>4</th>\n",
       "      <td>0.465022</td>\n",
       "      <td>0.538432</td>\n",
       "      <td>0.522298</td>\n",
       "      <td>0.781550</td>\n",
       "      <td>0.167502</td>\n",
       "      <td>0.212537</td>\n",
       "      <td>0.168412</td>\n",
       "      <td>0.636055</td>\n",
       "      <td>0.106509</td>\n",
       "      <td>0.893491</td>\n",
       "      <td>...</td>\n",
       "      <td>0.167461</td>\n",
       "      <td>0.913850</td>\n",
       "      <td>0.002224</td>\n",
       "      <td>0.795016</td>\n",
       "      <td>0.839973</td>\n",
       "      <td>0.278514</td>\n",
       "      <td>0.024752</td>\n",
       "      <td>0.575617</td>\n",
       "      <td>0.035490</td>\n",
       "      <td>1</td>\n",
       "    </tr>\n",
       "  </tbody>\n",
       "</table>\n",
       "<p>5 rows × 21 columns</p>\n",
       "</div>"
      ],
      "text/plain": [
       "    ROA(C) before interest and depreciation before interest  \\\n",
       "0                                           0.370594          \n",
       "1                                           0.464291          \n",
       "2                                           0.426071          \n",
       "3                                           0.399844          \n",
       "4                                           0.465022          \n",
       "\n",
       "    ROA(A) before interest and % after tax  \\\n",
       "0                                 0.424389   \n",
       "1                                 0.538214   \n",
       "2                                 0.499019   \n",
       "3                                 0.451265   \n",
       "4                                 0.538432   \n",
       "\n",
       "    ROA(B) before interest and depreciation after tax  \\\n",
       "0                                           0.405750    \n",
       "1                                           0.516730    \n",
       "2                                           0.472295    \n",
       "3                                           0.457733    \n",
       "4                                           0.522298    \n",
       "\n",
       "    Continuous interest rate (after tax)   Net Value Per Share (B)  \\\n",
       "0                               0.780985                  0.147950   \n",
       "1                               0.781506                  0.182251   \n",
       "2                               0.780284                  0.177911   \n",
       "3                               0.781241                  0.154187   \n",
       "4                               0.781550                  0.167502   \n",
       "\n",
       "    Persistent EPS in the Last Four Seasons  \\\n",
       "0                                  0.169141   \n",
       "1                                  0.208944   \n",
       "2                                  0.180581   \n",
       "3                                  0.193722   \n",
       "4                                  0.212537   \n",
       "\n",
       "    Per Share Net profit before tax (Yuan ¥)   Interest Expense Ratio  \\\n",
       "0                                   0.138736                 0.629951   \n",
       "1                                   0.169918                 0.635172   \n",
       "2                                   0.142803                 0.629631   \n",
       "3                                   0.148603                 0.630228   \n",
       "4                                   0.168412                 0.636055   \n",
       "\n",
       "    Debt ratio %   Net worth/Assets  ...  \\\n",
       "0       0.207576           0.792424  ...   \n",
       "1       0.171176           0.828824  ...   \n",
       "2       0.207516           0.792484  ...   \n",
       "3       0.151465           0.848535  ...   \n",
       "4       0.106509           0.893491  ...   \n",
       "\n",
       "    Net profit before tax/Paid-in capital   Retained Earnings to Total Assets  \\\n",
       "0                                0.137757                            0.903225   \n",
       "1                                0.168962                            0.931065   \n",
       "2                                0.148036                            0.909903   \n",
       "3                                0.147561                            0.906902   \n",
       "4                                0.167461                            0.913850   \n",
       "\n",
       "    Total income/Total expense   Net Income to Total Assets  \\\n",
       "0                     0.002022                     0.716845   \n",
       "1                     0.002226                     0.795297   \n",
       "2                     0.002060                     0.774670   \n",
       "3                     0.001831                     0.739555   \n",
       "4                     0.002224                     0.795016   \n",
       "\n",
       "    Net Income to Stockholder's Equity   Liability to Equity  \\\n",
       "0                             0.827890              0.290202   \n",
       "1                             0.839969              0.283846   \n",
       "2                             0.836774              0.290189   \n",
       "3                             0.834697              0.281721   \n",
       "4                             0.839973              0.278514   \n",
       "\n",
       "    Degree of Financial Leverage (DFL)  \\\n",
       "0                             0.026601   \n",
       "1                             0.264577   \n",
       "2                             0.026555   \n",
       "3                             0.026697   \n",
       "4                             0.024752   \n",
       "\n",
       "    Interest Coverage Ratio (Interest expense to EBIT)   Equity to Liability  \\\n",
       "0                                           0.564050                0.016469   \n",
       "1                                           0.570175                0.020794   \n",
       "2                                           0.563706                0.016474   \n",
       "3                                           0.564663                0.023982   \n",
       "4                                           0.575617                0.035490   \n",
       "\n",
       "   Bankrupt?  \n",
       "0          1  \n",
       "1          1  \n",
       "2          1  \n",
       "3          1  \n",
       "4          1  \n",
       "\n",
       "[5 rows x 21 columns]"
      ]
     },
     "execution_count": 30,
     "metadata": {},
     "output_type": "execute_result"
    }
   ],
   "source": [
    "ds.head()"
   ]
  },
  {
   "cell_type": "code",
   "execution_count": 31,
   "id": "7250c13b",
   "metadata": {},
   "outputs": [],
   "source": [
    "# # here we will select the top 10 features\n",
    "# # based on their mutual information value\n",
    "\n",
    "# selector = SelectKBest(mutual_info_classif, k=10)\n",
    "\n",
    "# # select features\n",
    "# X_train = selector.fit_transform(X_train, y_train)\n",
    "\n",
    "\n",
    "# X_test = selector.transform(X_test)"
   ]
  },
  {
   "cell_type": "code",
   "execution_count": 32,
   "id": "1d10a6d2",
   "metadata": {
    "scrolled": true
   },
   "outputs": [],
   "source": [
    "# # Initializing the model:\n",
    "\n",
    "# rf_model = RandomForestClassifier(n_estimators=10, random_state=SEED)"
   ]
  },
  {
   "cell_type": "code",
   "execution_count": 33,
   "id": "b3fc1a9a",
   "metadata": {
    "scrolled": true
   },
   "outputs": [],
   "source": [
    "# %%timeit\n",
    "\n",
    "# # I get to select 17 features.\n",
    "\n",
    "# # Applying RFECV (Recursive Feature Elimination) to select features\n",
    "# # see https://www.scikit-yb.org/en/latest/api/model_selection/rfecv.html\n",
    "# cv = StratifiedKFold(3)\n",
    "# vis = RFECV(rf_model, scoring='f1_weighted') ## , cv=cv, we dont need to use cross validation\n",
    "# vis.fit(ds.drop(columns=\"Bankrupt?\"), ds[\"Bankrupt?\"])\n",
    "# vis.show()"
   ]
  },
  {
   "cell_type": "code",
   "execution_count": 34,
   "id": "faf1b942",
   "metadata": {
    "scrolled": true
   },
   "outputs": [],
   "source": [
    "# vis.ranking_"
   ]
  },
  {
   "cell_type": "code",
   "execution_count": 35,
   "id": "bed380da",
   "metadata": {
    "scrolled": true
   },
   "outputs": [],
   "source": [
    "# # Features to include: \n",
    "# ds.columns[vis.support_]"
   ]
  },
  {
   "cell_type": "code",
   "execution_count": 36,
   "id": "d1463333",
   "metadata": {},
   "outputs": [],
   "source": [
    "# # This should be the the new data set.\n",
    "\n",
    "# ds[ds.columns[vis_support_]]"
   ]
  },
  {
   "cell_type": "code",
   "execution_count": 37,
   "id": "57220333",
   "metadata": {
    "scrolled": true
   },
   "outputs": [],
   "source": [
    "# ds"
   ]
  },
  {
   "cell_type": "code",
   "execution_count": 38,
   "id": "2f14b9e3",
   "metadata": {
    "scrolled": true
   },
   "outputs": [
    {
     "data": {
      "image/png": "[encoded data removed]",
      "text/plain": [
       "<Figure size 576x396 with 1 Axes>"
      ]
     },
     "metadata": {},
     "output_type": "display_data"
    }
   ],
   "source": [
    "# Checking that the target distribution is imbalanced.\n",
    "\n",
    "sns.countplot(y='Bankrupt?', data = ds, palette='viridis', orient = 'h');"
   ]
  },
  {
   "cell_type": "markdown",
   "id": "de312ac0",
   "metadata": {},
   "source": [
    "# Data Exploration:"
   ]
  },
  {
   "cell_type": "code",
   "execution_count": 39,
   "id": "0752ed97",
   "metadata": {
    "scrolled": true
   },
   "outputs": [
    {
     "data": {
      "text/html": [
       "<div>\n",
       "<style scoped>\n",
       "    .dataframe tbody tr th:only-of-type {\n",
       "        vertical-align: middle;\n",
       "    }\n",
       "\n",
       "    .dataframe tbody tr th {\n",
       "        vertical-align: top;\n",
       "    }\n",
       "\n",
       "    .dataframe thead th {\n",
       "        text-align: right;\n",
       "    }\n",
       "</style>\n",
       "<table border=\"1\" class=\"dataframe\">\n",
       "  <thead>\n",
       "    <tr style=\"text-align: right;\">\n",
       "      <th></th>\n",
       "      <th>ROA(C) before interest and depreciation before interest</th>\n",
       "      <th>ROA(A) before interest and % after tax</th>\n",
       "      <th>ROA(B) before interest and depreciation after tax</th>\n",
       "      <th>Continuous interest rate (after tax)</th>\n",
       "      <th>Net Value Per Share (B)</th>\n",
       "      <th>Persistent EPS in the Last Four Seasons</th>\n",
       "      <th>Per Share Net profit before tax (Yuan ¥)</th>\n",
       "      <th>Interest Expense Ratio</th>\n",
       "      <th>Debt ratio %</th>\n",
       "      <th>Net worth/Assets</th>\n",
       "      <th>...</th>\n",
       "      <th>Net profit before tax/Paid-in capital</th>\n",
       "      <th>Retained Earnings to Total Assets</th>\n",
       "      <th>Total income/Total expense</th>\n",
       "      <th>Net Income to Total Assets</th>\n",
       "      <th>Net Income to Stockholder's Equity</th>\n",
       "      <th>Liability to Equity</th>\n",
       "      <th>Degree of Financial Leverage (DFL)</th>\n",
       "      <th>Interest Coverage Ratio (Interest expense to EBIT)</th>\n",
       "      <th>Equity to Liability</th>\n",
       "      <th>Bankrupt?</th>\n",
       "    </tr>\n",
       "  </thead>\n",
       "  <tbody>\n",
       "    <tr>\n",
       "      <th>0</th>\n",
       "      <td>0.370594</td>\n",
       "      <td>0.424389</td>\n",
       "      <td>0.405750</td>\n",
       "      <td>0.780985</td>\n",
       "      <td>0.147950</td>\n",
       "      <td>0.169141</td>\n",
       "      <td>0.138736</td>\n",
       "      <td>0.629951</td>\n",
       "      <td>0.207576</td>\n",
       "      <td>0.792424</td>\n",
       "      <td>...</td>\n",
       "      <td>0.137757</td>\n",
       "      <td>0.903225</td>\n",
       "      <td>0.002022</td>\n",
       "      <td>0.716845</td>\n",
       "      <td>0.827890</td>\n",
       "      <td>0.290202</td>\n",
       "      <td>0.026601</td>\n",
       "      <td>0.564050</td>\n",
       "      <td>0.016469</td>\n",
       "      <td>1</td>\n",
       "    </tr>\n",
       "    <tr>\n",
       "      <th>1</th>\n",
       "      <td>0.464291</td>\n",
       "      <td>0.538214</td>\n",
       "      <td>0.516730</td>\n",
       "      <td>0.781506</td>\n",
       "      <td>0.182251</td>\n",
       "      <td>0.208944</td>\n",
       "      <td>0.169918</td>\n",
       "      <td>0.635172</td>\n",
       "      <td>0.171176</td>\n",
       "      <td>0.828824</td>\n",
       "      <td>...</td>\n",
       "      <td>0.168962</td>\n",
       "      <td>0.931065</td>\n",
       "      <td>0.002226</td>\n",
       "      <td>0.795297</td>\n",
       "      <td>0.839969</td>\n",
       "      <td>0.283846</td>\n",
       "      <td>0.264577</td>\n",
       "      <td>0.570175</td>\n",
       "      <td>0.020794</td>\n",
       "      <td>1</td>\n",
       "    </tr>\n",
       "    <tr>\n",
       "      <th>2</th>\n",
       "      <td>0.426071</td>\n",
       "      <td>0.499019</td>\n",
       "      <td>0.472295</td>\n",
       "      <td>0.780284</td>\n",
       "      <td>0.177911</td>\n",
       "      <td>0.180581</td>\n",
       "      <td>0.142803</td>\n",
       "      <td>0.629631</td>\n",
       "      <td>0.207516</td>\n",
       "      <td>0.792484</td>\n",
       "      <td>...</td>\n",
       "      <td>0.148036</td>\n",
       "      <td>0.909903</td>\n",
       "      <td>0.002060</td>\n",
       "      <td>0.774670</td>\n",
       "      <td>0.836774</td>\n",
       "      <td>0.290189</td>\n",
       "      <td>0.026555</td>\n",
       "      <td>0.563706</td>\n",
       "      <td>0.016474</td>\n",
       "      <td>1</td>\n",
       "    </tr>\n",
       "    <tr>\n",
       "      <th>3</th>\n",
       "      <td>0.399844</td>\n",
       "      <td>0.451265</td>\n",
       "      <td>0.457733</td>\n",
       "      <td>0.781241</td>\n",
       "      <td>0.154187</td>\n",
       "      <td>0.193722</td>\n",
       "      <td>0.148603</td>\n",
       "      <td>0.630228</td>\n",
       "      <td>0.151465</td>\n",
       "      <td>0.848535</td>\n",
       "      <td>...</td>\n",
       "      <td>0.147561</td>\n",
       "      <td>0.906902</td>\n",
       "      <td>0.001831</td>\n",
       "      <td>0.739555</td>\n",
       "      <td>0.834697</td>\n",
       "      <td>0.281721</td>\n",
       "      <td>0.026697</td>\n",
       "      <td>0.564663</td>\n",
       "      <td>0.023982</td>\n",
       "      <td>1</td>\n",
       "    </tr>\n",
       "    <tr>\n",
       "      <th>4</th>\n",
       "      <td>0.465022</td>\n",
       "      <td>0.538432</td>\n",
       "      <td>0.522298</td>\n",
       "      <td>0.781550</td>\n",
       "      <td>0.167502</td>\n",
       "      <td>0.212537</td>\n",
       "      <td>0.168412</td>\n",
       "      <td>0.636055</td>\n",
       "      <td>0.106509</td>\n",
       "      <td>0.893491</td>\n",
       "      <td>...</td>\n",
       "      <td>0.167461</td>\n",
       "      <td>0.913850</td>\n",
       "      <td>0.002224</td>\n",
       "      <td>0.795016</td>\n",
       "      <td>0.839973</td>\n",
       "      <td>0.278514</td>\n",
       "      <td>0.024752</td>\n",
       "      <td>0.575617</td>\n",
       "      <td>0.035490</td>\n",
       "      <td>1</td>\n",
       "    </tr>\n",
       "  </tbody>\n",
       "</table>\n",
       "<p>5 rows × 21 columns</p>\n",
       "</div>"
      ],
      "text/plain": [
       "    ROA(C) before interest and depreciation before interest  \\\n",
       "0                                           0.370594          \n",
       "1                                           0.464291          \n",
       "2                                           0.426071          \n",
       "3                                           0.399844          \n",
       "4                                           0.465022          \n",
       "\n",
       "    ROA(A) before interest and % after tax  \\\n",
       "0                                 0.424389   \n",
       "1                                 0.538214   \n",
       "2                                 0.499019   \n",
       "3                                 0.451265   \n",
       "4                                 0.538432   \n",
       "\n",
       "    ROA(B) before interest and depreciation after tax  \\\n",
       "0                                           0.405750    \n",
       "1                                           0.516730    \n",
       "2                                           0.472295    \n",
       "3                                           0.457733    \n",
       "4                                           0.522298    \n",
       "\n",
       "    Continuous interest rate (after tax)   Net Value Per Share (B)  \\\n",
       "0                               0.780985                  0.147950   \n",
       "1                               0.781506                  0.182251   \n",
       "2                               0.780284                  0.177911   \n",
       "3                               0.781241                  0.154187   \n",
       "4                               0.781550                  0.167502   \n",
       "\n",
       "    Persistent EPS in the Last Four Seasons  \\\n",
       "0                                  0.169141   \n",
       "1                                  0.208944   \n",
       "2                                  0.180581   \n",
       "3                                  0.193722   \n",
       "4                                  0.212537   \n",
       "\n",
       "    Per Share Net profit before tax (Yuan ¥)   Interest Expense Ratio  \\\n",
       "0                                   0.138736                 0.629951   \n",
       "1                                   0.169918                 0.635172   \n",
       "2                                   0.142803                 0.629631   \n",
       "3                                   0.148603                 0.630228   \n",
       "4                                   0.168412                 0.636055   \n",
       "\n",
       "    Debt ratio %   Net worth/Assets  ...  \\\n",
       "0       0.207576           0.792424  ...   \n",
       "1       0.171176           0.828824  ...   \n",
       "2       0.207516           0.792484  ...   \n",
       "3       0.151465           0.848535  ...   \n",
       "4       0.106509           0.893491  ...   \n",
       "\n",
       "    Net profit before tax/Paid-in capital   Retained Earnings to Total Assets  \\\n",
       "0                                0.137757                            0.903225   \n",
       "1                                0.168962                            0.931065   \n",
       "2                                0.148036                            0.909903   \n",
       "3                                0.147561                            0.906902   \n",
       "4                                0.167461                            0.913850   \n",
       "\n",
       "    Total income/Total expense   Net Income to Total Assets  \\\n",
       "0                     0.002022                     0.716845   \n",
       "1                     0.002226                     0.795297   \n",
       "2                     0.002060                     0.774670   \n",
       "3                     0.001831                     0.739555   \n",
       "4                     0.002224                     0.795016   \n",
       "\n",
       "    Net Income to Stockholder's Equity   Liability to Equity  \\\n",
       "0                             0.827890              0.290202   \n",
       "1                             0.839969              0.283846   \n",
       "2                             0.836774              0.290189   \n",
       "3                             0.834697              0.281721   \n",
       "4                             0.839973              0.278514   \n",
       "\n",
       "    Degree of Financial Leverage (DFL)  \\\n",
       "0                             0.026601   \n",
       "1                             0.264577   \n",
       "2                             0.026555   \n",
       "3                             0.026697   \n",
       "4                             0.024752   \n",
       "\n",
       "    Interest Coverage Ratio (Interest expense to EBIT)   Equity to Liability  \\\n",
       "0                                           0.564050                0.016469   \n",
       "1                                           0.570175                0.020794   \n",
       "2                                           0.563706                0.016474   \n",
       "3                                           0.564663                0.023982   \n",
       "4                                           0.575617                0.035490   \n",
       "\n",
       "   Bankrupt?  \n",
       "0          1  \n",
       "1          1  \n",
       "2          1  \n",
       "3          1  \n",
       "4          1  \n",
       "\n",
       "[5 rows x 21 columns]"
      ]
     },
     "execution_count": 39,
     "metadata": {},
     "output_type": "execute_result"
    }
   ],
   "source": [
    "ds.head()"
   ]
  },
  {
   "cell_type": "code",
   "execution_count": 40,
   "id": "d357dfcc",
   "metadata": {
    "scrolled": true
   },
   "outputs": [
    {
     "data": {
      "text/plain": [
       "0"
      ]
     },
     "execution_count": 40,
     "metadata": {},
     "output_type": "execute_result"
    }
   ],
   "source": [
    "# We can see that our dataset does not contain any duplicates.\n",
    "\n",
    "ds.duplicated().sum()"
   ]
  },
  {
   "cell_type": "code",
   "execution_count": 41,
   "id": "0114c1de",
   "metadata": {
    "scrolled": true
   },
   "outputs": [
    {
     "data": {
      "text/plain": [
       " ROA(C) before interest and depreciation before interest    float64\n",
       " ROA(A) before interest and % after tax                     float64\n",
       " ROA(B) before interest and depreciation after tax          float64\n",
       " Continuous interest rate (after tax)                       float64\n",
       " Net Value Per Share (B)                                    float64\n",
       " Persistent EPS in the Last Four Seasons                    float64\n",
       " Per Share Net profit before tax (Yuan ¥)                   float64\n",
       " Interest Expense Ratio                                     float64\n",
       " Debt ratio %                                               float64\n",
       " Net worth/Assets                                           float64\n",
       " Borrowing dependency                                       float64\n",
       " Net profit before tax/Paid-in capital                      float64\n",
       " Retained Earnings to Total Assets                          float64\n",
       " Total income/Total expense                                 float64\n",
       " Net Income to Total Assets                                 float64\n",
       " Net Income to Stockholder's Equity                         float64\n",
       " Liability to Equity                                        float64\n",
       " Degree of Financial Leverage (DFL)                         float64\n",
       " Interest Coverage Ratio (Interest expense to EBIT)         float64\n",
       " Equity to Liability                                        float64\n",
       "Bankrupt?                                                     int64\n",
       "dtype: object"
      ]
     },
     "execution_count": 41,
     "metadata": {},
     "output_type": "execute_result"
    }
   ],
   "source": [
    "# Checking the type of the columns\n",
    "ds.dtypes"
   ]
  },
  {
   "cell_type": "markdown",
   "id": "0e66007a",
   "metadata": {},
   "source": [
    "# Data Pre-processing:"
   ]
  },
  {
   "cell_type": "code",
   "execution_count": 42,
   "id": "a344a975",
   "metadata": {},
   "outputs": [],
   "source": [
    "X = ds.copy(deep=True)"
   ]
  },
  {
   "cell_type": "markdown",
   "id": "f1822409",
   "metadata": {},
   "source": [
    "## Dealing with outliers:"
   ]
  },
  {
   "cell_type": "code",
   "execution_count": 43,
   "id": "8dfe362f",
   "metadata": {},
   "outputs": [
    {
     "data": {
      "text/plain": [
       "Index([' ROA(C) before interest and depreciation before interest',\n",
       "       ' ROA(A) before interest and % after tax',\n",
       "       ' ROA(B) before interest and depreciation after tax',\n",
       "       ' Continuous interest rate (after tax)', ' Net Value Per Share (B)',\n",
       "       ' Persistent EPS in the Last Four Seasons',\n",
       "       ' Per Share Net profit before tax (Yuan ¥)', ' Interest Expense Ratio',\n",
       "       ' Debt ratio %', ' Net worth/Assets', ' Borrowing dependency',\n",
       "       ' Net profit before tax/Paid-in capital',\n",
       "       ' Retained Earnings to Total Assets', ' Total income/Total expense',\n",
       "       ' Net Income to Total Assets', ' Net Income to Stockholder's Equity',\n",
       "       ' Liability to Equity', ' Degree of Financial Leverage (DFL)',\n",
       "       ' Interest Coverage Ratio (Interest expense to EBIT)',\n",
       "       ' Equity to Liability', 'Bankrupt?'],\n",
       "      dtype='object')"
      ]
     },
     "execution_count": 43,
     "metadata": {},
     "output_type": "execute_result"
    }
   ],
   "source": [
    "X.columns"
   ]
  },
  {
   "cell_type": "code",
   "execution_count": 44,
   "id": "9365126f",
   "metadata": {
    "scrolled": true
   },
   "outputs": [],
   "source": [
    "# cols = X.drop(columns=\"Bankrupt?\").columns\n",
    "\n",
    "# X = removeOutliers(X, colList=cols , lowPercentile=0.03, highPercentile=0.97, verbose=True) "
   ]
  },
  {
   "cell_type": "markdown",
   "id": "f28f8d64",
   "metadata": {},
   "source": [
    "## One Hot encoding the categorical features:"
   ]
  },
  {
   "cell_type": "code",
   "execution_count": 45,
   "id": "d0a1bc7f",
   "metadata": {
    "scrolled": true
   },
   "outputs": [],
   "source": [
    "# # Transforming a list of columns to categorical.\n",
    "# # I need to get the categorical features:\n",
    "\n",
    "# cols = [\"\", \"\", \"\"]\n",
    "# ds[cols] = ds[cols].apply(lambda x:x.astype(\"category\"))"
   ]
  },
  {
   "cell_type": "code",
   "execution_count": 46,
   "id": "0e7881e1",
   "metadata": {
    "scrolled": true
   },
   "outputs": [],
   "source": [
    "# # Encode categorical values into dummy variables.\n",
    "\n",
    "# cols = [\"\", \"\", \"\"]\n",
    "# ce_one_hot = ce.OneHotEncoder(cols = cols, use_cat_names=True)\n",
    "# X = ce_one_hot.fit_transform(X)"
   ]
  },
  {
   "cell_type": "code",
   "execution_count": 47,
   "id": "4ea1190a",
   "metadata": {
    "scrolled": true
   },
   "outputs": [],
   "source": [
    "y = X[\"Bankrupt?\"]\n",
    "X = X.drop(columns=[\"Bankrupt?\"])"
   ]
  },
  {
   "cell_type": "markdown",
   "id": "557cd9e9",
   "metadata": {},
   "source": [
    "## Splitting the dataset:"
   ]
  },
  {
   "cell_type": "code",
   "execution_count": 48,
   "id": "b0f97d7e",
   "metadata": {
    "scrolled": true
   },
   "outputs": [],
   "source": [
    "# Split the dataset intro train and test sets.\n",
    "\n",
    "x_train, x_val, y_train, y_val = train_test_split(X, y, test_size = 0.3,\n",
    "                                   shuffle =True, stratify=y, random_state=SEED)\n",
    "\n",
    "x_train, x_test, y_train, y_test = train_test_split(x_train, y_train, test_size = 0.3,\n",
    "                                                   shuffle = True, stratify=y_train, random_state=SEED)"
   ]
  },
  {
   "cell_type": "code",
   "execution_count": 49,
   "id": "89cc946f",
   "metadata": {
    "scrolled": true
   },
   "outputs": [
    {
     "data": {
      "text/plain": [
       "0    3233\n",
       "1     108\n",
       "Name: Bankrupt?, dtype: int64"
      ]
     },
     "execution_count": 49,
     "metadata": {},
     "output_type": "execute_result"
    }
   ],
   "source": [
    "y_train.value_counts()"
   ]
  },
  {
   "cell_type": "code",
   "execution_count": 50,
   "id": "84fb6579",
   "metadata": {
    "scrolled": true
   },
   "outputs": [
    {
     "data": {
      "text/plain": [
       "0    1980\n",
       "1      66\n",
       "Name: Bankrupt?, dtype: int64"
      ]
     },
     "execution_count": 50,
     "metadata": {},
     "output_type": "execute_result"
    }
   ],
   "source": [
    "y_val.value_counts()"
   ]
  },
  {
   "cell_type": "code",
   "execution_count": 51,
   "id": "d06f4f7c",
   "metadata": {},
   "outputs": [
    {
     "data": {
      "text/plain": [
       "0    1386\n",
       "1      46\n",
       "Name: Bankrupt?, dtype: int64"
      ]
     },
     "execution_count": 51,
     "metadata": {},
     "output_type": "execute_result"
    }
   ],
   "source": [
    "y_test.value_counts()"
   ]
  },
  {
   "cell_type": "code",
   "execution_count": 52,
   "id": "a84b2759",
   "metadata": {},
   "outputs": [],
   "source": [
    "#y_train = tf.reshape(y_train, [-1, 1])\n",
    "#y_test = tf.reshape(y_test, [-1, 1])"
   ]
  },
  {
   "cell_type": "code",
   "execution_count": 53,
   "id": "076139e9",
   "metadata": {},
   "outputs": [],
   "source": [
    "#y_train.shape"
   ]
  },
  {
   "cell_type": "markdown",
   "id": "bb34c042",
   "metadata": {},
   "source": [
    "## Data Normalization:"
   ]
  },
  {
   "cell_type": "code",
   "execution_count": 54,
   "id": "199499da",
   "metadata": {
    "scrolled": true
   },
   "outputs": [],
   "source": [
    "# We use the standard scaler in order to normalize the data:\n",
    "\n",
    "scaler = StandardScaler() \n",
    "x_train = scaler.fit_transform(x_train) \n",
    "x_val = scaler.transform(x_val)\n",
    "x_test = scaler.transform(x_test)"
   ]
  },
  {
   "cell_type": "code",
   "execution_count": 55,
   "id": "98e14fc6",
   "metadata": {},
   "outputs": [],
   "source": [
    "# x_train = tf.reshape(x_train, [x_train.shape[0], x_train.shape[1]])\n",
    "# x_test = tf.reshape(x_test, [x_test.shape[0], x_test.shape[1]])"
   ]
  },
  {
   "cell_type": "code",
   "execution_count": 56,
   "id": "c1e3a924",
   "metadata": {},
   "outputs": [
    {
     "data": {
      "text/plain": [
       "(3341, 20)"
      ]
     },
     "execution_count": 56,
     "metadata": {},
     "output_type": "execute_result"
    }
   ],
   "source": [
    "x_train.shape"
   ]
  },
  {
   "cell_type": "markdown",
   "id": "172051c1",
   "metadata": {},
   "source": [
    "# Modelling:"
   ]
  },
  {
   "cell_type": "markdown",
   "id": "9e692acf",
   "metadata": {},
   "source": [
    "## Building The First Model:"
   ]
  },
  {
   "cell_type": "code",
   "execution_count": 57,
   "id": "737b076d",
   "metadata": {},
   "outputs": [],
   "source": [
    "# METRICS = [\n",
    "#     FalseNegatives(name='fn'), BinaryAccuracy(name='accuracy'),\n",
    "#     Precision(name='precision'), Recall(name='recall'), AUC(name='auc'),]"
   ]
  },
  {
   "cell_type": "code",
   "execution_count": 58,
   "id": "3c565be0",
   "metadata": {
    "scrolled": true
   },
   "outputs": [],
   "source": [
    "# # Building the first model\n",
    "\n",
    "# def create_model(nn=16, nl=1, learning_rate=0.001, activation=\"relu\", optim=\"adam\", \n",
    "#                  init=\"glorot_uniform\", loss = \"binary_crossentropy\"):\n",
    "#     classifier = Sequential()\n",
    "#     # Let's add the first hidden layers\n",
    "#     classifier.add(Dense(units=nn, kernel_initializer=init, activation=activation,\n",
    "#                          input_dim=X_train.shape[1])) \n",
    "    \n",
    "#     for _ in range(nl):\n",
    "#         classifier.add(Dense(units=8, kernel_initializer=init, activation=activation))\n",
    "#         classifier.add(Dense(units=1, kernel_initializer=init, activation=\"sigmoid\"))\n",
    "    \n",
    "#     classifier.compile(optimizer=optim, loss=loss, metrics=) # need to fill this.\n",
    "#     return classifier"
   ]
  },
  {
   "cell_type": "markdown",
   "id": "e7a94ca7",
   "metadata": {},
   "source": [
    "### Hyper parameters tuning:"
   ]
  },
  {
   "cell_type": "markdown",
   "id": "c8f5e6de",
   "metadata": {},
   "source": [
    "#### Using Keras tuner:"
   ]
  },
  {
   "cell_type": "markdown",
   "id": "1a1f052f",
   "metadata": {},
   "source": [
    "- This part is inspired from: https://neptune.ai/blog/keras-tuner-tuning-hyperparameters-deep-learning-model/amp\n",
    "- https://keras.io/guides/keras_tuner/getting_started/\n",
    "- https://keras.io/api/utils/serialization_utils/"
   ]
  },
  {
   "cell_type": "code",
   "execution_count": 59,
   "id": "5d89ac70",
   "metadata": {},
   "outputs": [],
   "source": [
    "# # S.M.O.T.E\n",
    "\n",
    "# sm = SMOTE(k_neighbors=3, random_state=SEED)\n",
    "# x_train, y_train = sm.fit_resample(x_train, y_train)"
   ]
  },
  {
   "cell_type": "code",
   "execution_count": 60,
   "id": "36192b3a",
   "metadata": {},
   "outputs": [],
   "source": [
    "def focal_loss(gamma=2., alpha=.25):\n",
    "    def focal_loss_fixed(y_true, y_pred):\n",
    "        pt_1 = tf.where(tf.equal(y_true, 1), y_pred, tf.ones_like(y_pred))\n",
    "        pt_0 = tf.where(tf.equal(y_true, 0), y_pred, tf.zeros_like(y_pred))\n",
    "        return -K.mean(alpha * K.pow(1. - pt_1, gamma) * K.log(pt_1+K.epsilon())) - K.mean((1 - alpha) * K.pow(pt_0, gamma) * K.log(1. - pt_0 + K.epsilon()))\n",
    "    return focal_loss_fixed"
   ]
  },
  {
   "cell_type": "code",
   "execution_count": 61,
   "id": "d8171a21",
   "metadata": {},
   "outputs": [],
   "source": [
    "class_weights=dict(enumerate(class_weight.compute_class_weight('balanced', \n",
    "                            classes=np.unique(y_train), y=y_train)))"
   ]
  },
  {
   "cell_type": "code",
   "execution_count": 62,
   "id": "d6a257ec",
   "metadata": {},
   "outputs": [
    {
     "data": {
      "text/plain": [
       "(3341,)"
      ]
     },
     "execution_count": 62,
     "metadata": {},
     "output_type": "execute_result"
    }
   ],
   "source": [
    "y_train.shape"
   ]
  },
  {
   "cell_type": "code",
   "execution_count": 63,
   "id": "ad90cd4c",
   "metadata": {},
   "outputs": [],
   "source": [
    "# Defining the Recall, Precision and the F1-score:\n",
    "\n",
    "def recall_m(y_true, y_pred):\n",
    "    true_positives = K.sum(K.round(K.clip(y_true * y_pred, 0, 1)))\n",
    "    possible_positives = K.sum(K.round(K.clip(y_true, 0, 1)))\n",
    "    recall = true_positives / (possible_positives + K.epsilon())\n",
    "    return recall\n",
    "\n",
    "def precision_m(y_true, y_pred):\n",
    "    true_positives = K.sum(K.round(K.clip(y_true * y_pred, 0, 1)))\n",
    "    predicted_positives = K.sum(K.round(K.clip(y_pred, 0, 1)))\n",
    "    precision = true_positives / (predicted_positives + K.epsilon())\n",
    "    return precision\n",
    "\n",
    "def f1_m(y_true, y_pred):\n",
    "    precision = precision_m(y_true, y_pred)\n",
    "    recall = recall_m(y_true, y_pred)\n",
    "    return 2*((precision*recall)/(precision+recall+K.epsilon()))"
   ]
  },
  {
   "cell_type": "code",
   "execution_count": 64,
   "id": "83e26520",
   "metadata": {},
   "outputs": [],
   "source": [
    "# defining a call that will clean out output at the end of every training epoch\n",
    " \n",
    "class ClearTrainingOutput(tf.keras.callbacks.Callback):\n",
    "    def on_train_end(*args, **kwargs):\n",
    "        IPython.display.clear_output(wait = True)"
   ]
  },
  {
   "cell_type": "code",
   "execution_count": 65,
   "id": "111ce45c",
   "metadata": {},
   "outputs": [],
   "source": [
    "EarlyStop = EarlyStopping(monitor='f1_m', patience=3)\n",
    "Clear =  ClearTrainingOutput()\n",
    "Hist = History()\n",
    "\n",
    "CallBacksList = [EarlyStop, Clear, Hist] # Clear"
   ]
  },
  {
   "cell_type": "code",
   "execution_count": 66,
   "id": "44b386c7",
   "metadata": {},
   "outputs": [],
   "source": [
    "class FocalLoss(tf.keras.losses.Loss):\n",
    "    #def __init__(self, gamma, alpha):\n",
    "    def call(self, gamma, alpha, y_true, y_pred):\n",
    "        gamma = float(gamma)\n",
    "        alpha = float(alpha)\n",
    "        #def focal_loss_fixed(y_true, y_pred):\n",
    "        epsilon = 1.e-9\n",
    "        y_true = tf.convert_to_tensor(y_true, tf.float32)\n",
    "        y_pred = tf.convert_to_tensor(y_pred, tf.float32)\n",
    "\n",
    "        model_out = tf.add(y_pred, epsilon)\n",
    "        ce = tf.multiply(y_true, -tf.math.log(model_out))\n",
    "        weight = tf.multiply(y_true, tf.pow(tf.subtract(1., model_out), gamma))\n",
    "        fl = tf.multiply(alpha, tf.multiply(weight, ce))\n",
    "        reduced_fl = tf.reduce_max(fl, axis=1)\n",
    "        return tf.reduce_mean(reduced_fl)\n",
    "    #return focal_loss_fixed"
   ]
  },
  {
   "cell_type": "code",
   "execution_count": 67,
   "id": "b56f2786",
   "metadata": {},
   "outputs": [
    {
     "data": {
      "text/plain": [
       "<tensorflow_addons.losses.focal_loss.SigmoidFocalCrossEntropy at 0x172fae48af0>"
      ]
     },
     "execution_count": 67,
     "metadata": {},
     "output_type": "execute_result"
    }
   ],
   "source": [
    "tfa.losses.SigmoidFocalCrossEntropy()"
   ]
  },
  {
   "cell_type": "code",
   "execution_count": 68,
   "id": "1adf1468",
   "metadata": {},
   "outputs": [
    {
     "data": {
      "text/plain": [
       "<keras.losses.BinaryCrossentropy at 0x172dc582880>"
      ]
     },
     "execution_count": 68,
     "metadata": {},
     "output_type": "execute_result"
    }
   ],
   "source": [
    "tf.keras.losses.BinaryCrossentropy()"
   ]
  },
  {
   "cell_type": "code",
   "execution_count": 69,
   "id": "e17149fb",
   "metadata": {},
   "outputs": [],
   "source": [
    "class MyHyperModel(kt.HyperModel):\n",
    "\n",
    "    def build(self ,hp):\n",
    "\n",
    "        hp_units_1 = hp.Choice(\"Layer 1\", [32, 64, 128,])\n",
    "        hp_units_2 = hp.Choice(\"Layer 2\", [16, 32, 64])\n",
    "        hp_units_3 = hp.Choice(\"Layer 3\", [4, 8, 16])\n",
    "        #hp_units_4 = hp.Choice(\"Layer 4\", [4, 8, 16])\n",
    "        hp_activation = hp.Choice(\"activation\", [\"relu\", \"tanh\"])\n",
    "        hp_learning_rate = hp.Float(\"learning_rate\", 1e-4, 1e-2, sampling=\"log\", default=1e-3)  \n",
    "        hp_loss = hp.Choice(\"loss_type\", [\"BC\", \"FL\"])\n",
    "                                          \n",
    "        model = Sequential()\n",
    "    \n",
    "        model.add(layers.Dense(units = hp_units_1,\n",
    "                        kernel_initializer = \"random_normal\", #\"glorot_uniform\",\n",
    "                        kernel_regularizer = tf.keras.regularizers.L2(0.1),\n",
    "                        activation = hp_activation,\n",
    "                        input_dim = x_train.shape[1]   \n",
    "                           )) \n",
    "    \n",
    "        # Tune whether to use dropout.\n",
    "#         if hp.Boolean(\"dropout\"):\n",
    "#             model.add(layers.Dropout(rate=0.5))\n",
    "    \n",
    "        model.add(layers.Dense(units = hp_units_2, \n",
    "                            kernel_initializer = \"random_normal\",   #\"glorot_uniform\", \n",
    "                            activation = hp_activation))\n",
    "            \n",
    "#         if hp.Boolean(\"dropout\"):\n",
    "#             model.add(layers.Dropout(rate=0.5))\n",
    "            \n",
    "        model.add(layers.Dense(units = hp_units_3, \n",
    "                            kernel_initializer = \"random_normal\",   #\"glorot_uniform\", \n",
    "                            activation = hp_activation))\n",
    "            \n",
    "#         if hp.Boolean(\"dropout\"):\n",
    "#             model.add(layers.Dropout(rate=0.5))\n",
    "            \n",
    "#         model.add(layers.Dense(units = hp_units_4, \n",
    "#                             kernel_initializer = \"random_normal\",   #\"glorot_uniform\", \n",
    "#                             activation = hp_activation))\n",
    "            \n",
    "#         if hp.Boolean(\"dropout\"):\n",
    "#             model.add(layers.Dropout(rate=0.5))\n",
    "            \n",
    "        model.add(layers.Dense(units=1, \n",
    "                            kernel_initializer = \"random_normal\",  #\"glorot_uniform\",\n",
    "                            activation=\"sigmoid\"))\n",
    "            \n",
    "        if hp_loss == \"BC\":\n",
    "            with hp.conditional_scope(\"loss_type\", [\"BC\"]):\n",
    "                model.compile(optimizer=tf.keras.optimizers.Adam(learning_rate = hp_learning_rate),\n",
    "                        loss = \"binary_crossentropy\",\n",
    "                        metrics= [\"accuracy\", tf.keras.metrics.AUC(), tf.keras.metrics.Recall()\n",
    "                            , f1_m])\n",
    "        if hp_loss == \"FL\":\n",
    "            with hp.conditional_scope(\"loss_type\", [\"FL\"]):\n",
    "                model.compile(optimizer=tf.keras.optimizers.Adam(learning_rate = hp_learning_rate),\n",
    "                        loss = focal_loss(alpha=.25, gamma=2),  \n",
    "                        metrics= [\"accuracy\", tf.keras.metrics.AUC(), tf.keras.metrics.Recall()\n",
    "                                    , f1_m])\n",
    "    \n",
    "        return model\n",
    "\n",
    "    def fit(self, hp, model, x, y, validation_data=None, **kwargs):\n",
    "        hp_batch_size = hp.Choice(\"batch_size\", [16, 32, 64])\n",
    "        #hp_epochs = hp.Choice(\"epochs\", [5, 10, 100])\n",
    "        \n",
    "#         if hp.Boolean(\"normalize\"):\n",
    "#             x = layers.Normalization()(x)\n",
    "        return model.fit(\n",
    "            x,\n",
    "            y,\n",
    "            # Tune whether to shuffle the data in each epoch.\n",
    "            shuffle=hp.Boolean(\"shuffle\"),\n",
    "            validation_data=validation_data,\n",
    "            #epochs = hp_epochs\n",
    "            batch_size = hp_batch_size,\n",
    "            class_weight = class_weights,\n",
    "            **kwargs,\n",
    "        )"
   ]
  },
  {
   "cell_type": "code",
   "execution_count": 71,
   "id": "020e4ee0",
   "metadata": {},
   "outputs": [],
   "source": [
    "tuner = kt.Hyperband(\n",
    "    hypermodel = MyHyperModel(),\n",
    "    objective = kt.Objective(\"f1_m\", direction=\"max\"),\n",
    "    #objective = 'val_accuracy', # to change\n",
    "    executions_per_trial=2, \n",
    "    overwrite=True,\n",
    "    directory = 'Deep_learning_project',\n",
    "    project_name=\"Default_predictions\"\n",
    ")"
   ]
  },
  {
   "cell_type": "code",
   "execution_count": 72,
   "id": "200beb5a",
   "metadata": {},
   "outputs": [
    {
     "name": "stdout",
     "output_type": "stream",
     "text": [
      "Trial 254 Complete [00h 00m 16s]\n",
      "val_accuracy: 0.8729227781295776\n",
      "\n",
      "Best val_accuracy So Far: 0.9701857566833496\n",
      "Total elapsed time: 00h 38m 15s\n",
      "INFO:tensorflow:Oracle triggered exit\n"
     ]
    }
   ],
   "source": [
    "tuner.search(x_train, y_train,\n",
    "             validation_data = (x_val, y_val),\n",
    "             epochs = 100,\n",
    "             verbose = 1,\n",
    "             initial_epoch = 0,\n",
    "             callbacks = CallBacksList,\n",
    "             use_multiprocessing = True,\n",
    "            )"
   ]
  },
  {
   "cell_type": "code",
   "execution_count": 73,
   "id": "9ae2148e",
   "metadata": {},
   "outputs": [
    {
     "name": "stdout",
     "output_type": "stream",
     "text": [
      "\n",
      "The hyperparameter search is complete. The optimal number of units in the first densely-connected\n",
      "layer is 128, the second layer is 64, \n",
      "the third layer is 16, the optimal activation function is tanh, \n",
      "the best loss function is FL  \n",
      "and the optimal learning rate for the optimizer\n",
      "is 0.00040724829066850297.\n",
      "\n"
     ]
    }
   ],
   "source": [
    "# Get the optimal hyperparameters\n",
    "best_hps=tuner.get_best_hyperparameters(num_trials=1)[0]\n",
    "\n",
    "print(f\"\"\"\n",
    "The hyperparameter search is complete. The optimal number of units in the first densely-connected\n",
    "layer is {best_hps.get(\"Layer 1\")}, the second layer is {best_hps.get(\"Layer 2\")}, \n",
    "the third layer is {best_hps.get(\"Layer 3\")}, the optimal activation function is {best_hps.get(\"activation\")}, \n",
    "the best loss function is {best_hps.get(\"loss_type\")}  \n",
    "and the optimal learning rate for the optimizer\n",
    "is {best_hps.get('learning_rate')}.\n",
    "\"\"\")\n"
   ]
  },
  {
   "cell_type": "code",
   "execution_count": 74,
   "id": "78ee9071",
   "metadata": {},
   "outputs": [],
   "source": [
    "x_all = np.concatenate((x_train, x_val))\n",
    "y_all = np.concatenate((y_train, y_val))"
   ]
  },
  {
   "cell_type": "code",
   "execution_count": 77,
   "id": "2cd8daa3",
   "metadata": {},
   "outputs": [],
   "source": [
    "EarlyStop = EarlyStopping(monitor='accuracy', patience=3) # f1_m\n",
    "Hist = History()\n",
    "\n",
    "callbacks_list = [EarlyStop, Hist] # Clear"
   ]
  },
  {
   "cell_type": "code",
   "execution_count": 87,
   "id": "8b145655",
   "metadata": {},
   "outputs": [
    {
     "name": "stdout",
     "output_type": "stream",
     "text": [
      "Epoch 1/100\n",
      "105/105 [==============================] - 3s 9ms/step - loss: 0.4218 - accuracy: 0.9231 - auc_4: 0.6754 - recall_4: 0.3981 - f1_m: 0.1749 - val_loss: 0.1736 - val_accuracy: 0.9673 - val_auc_4: 0.8586 - val_recall_4: 0.0303 - val_f1_m: 0.0208\n",
      "Epoch 2/100\n",
      "105/105 [==============================] - 0s 4ms/step - loss: 0.1005 - accuracy: 0.9683 - auc_4: 0.7989 - recall_4: 0.0556 - f1_m: 0.0419 - val_loss: 0.0542 - val_accuracy: 0.9682 - val_auc_4: 0.9035 - val_recall_4: 0.0303 - val_f1_m: 0.0208\n",
      "Epoch 3/100\n",
      "105/105 [==============================] - 0s 4ms/step - loss: 0.0363 - accuracy: 0.9677 - auc_4: 0.9181 - recall_4: 0.0556 - f1_m: 0.0337 - val_loss: 0.0241 - val_accuracy: 0.9682 - val_auc_4: 0.8961 - val_recall_4: 0.0455 - val_f1_m: 0.0312\n",
      "Epoch 4/100\n",
      "105/105 [==============================] - 0s 4ms/step - loss: 0.0186 - accuracy: 0.9689 - auc_4: 0.9234 - recall_4: 0.0741 - f1_m: 0.0448 - val_loss: 0.0162 - val_accuracy: 0.9692 - val_auc_4: 0.9034 - val_recall_4: 0.1364 - val_f1_m: 0.0922\n",
      "Epoch 5/100\n",
      "105/105 [==============================] - 0s 4ms/step - loss: 0.0157 - accuracy: 0.9665 - auc_4: 0.7619 - recall_4: 0.0278 - f1_m: 0.0222 - val_loss: 0.0147 - val_accuracy: 0.9677 - val_auc_4: 0.8576 - val_recall_4: 0.0303 - val_f1_m: 0.0208\n",
      "Epoch 6/100\n",
      "105/105 [==============================] - 0s 4ms/step - loss: 0.0134 - accuracy: 0.9674 - auc_4: 0.8968 - recall_4: 0.0556 - f1_m: 0.0292 - val_loss: 0.0140 - val_accuracy: 0.9673 - val_auc_4: 0.8660 - val_recall_4: 0.0303 - val_f1_m: 0.0208\n",
      "Epoch 7/100\n",
      "105/105 [==============================] - 0s 4ms/step - loss: 0.0128 - accuracy: 0.9677 - auc_4: 0.8731 - recall_4: 0.0370 - f1_m: 0.0270 - val_loss: 0.0129 - val_accuracy: 0.9682 - val_auc_4: 0.8858 - val_recall_4: 0.0455 - val_f1_m: 0.0312\n",
      "Epoch 8/100\n",
      "105/105 [==============================] - 0s 4ms/step - loss: 0.0126 - accuracy: 0.9668 - auc_4: 0.8973 - recall_4: 0.0463 - f1_m: 0.0324 - val_loss: 0.0137 - val_accuracy: 0.9677 - val_auc_4: 0.7923 - val_recall_4: 0.0000e+00 - val_f1_m: 0.0000e+00\n",
      "Epoch 9/100\n",
      "105/105 [==============================] - 0s 4ms/step - loss: 0.0125 - accuracy: 0.9686 - auc_4: 0.7835 - recall_4: 0.0463 - f1_m: 0.0349 - val_loss: 0.0136 - val_accuracy: 0.9677 - val_auc_4: 0.8452 - val_recall_4: 0.0152 - val_f1_m: 0.0104\n",
      "Epoch 10/100\n",
      "105/105 [==============================] - 0s 3ms/step - loss: 0.0116 - accuracy: 0.9695 - auc_4: 0.9161 - recall_4: 0.0741 - f1_m: 0.0422 - val_loss: 0.0139 - val_accuracy: 0.9668 - val_auc_4: 0.9014 - val_recall_4: 0.1212 - val_f1_m: 0.0870\n",
      "Epoch 11/100\n",
      "105/105 [==============================] - 0s 4ms/step - loss: 0.0122 - accuracy: 0.9674 - auc_4: 0.8854 - recall_4: 0.0463 - f1_m: 0.0317 - val_loss: 0.0128 - val_accuracy: 0.9677 - val_auc_4: 0.8846 - val_recall_4: 0.0152 - val_f1_m: 0.0104\n",
      "Epoch 12/100\n",
      "105/105 [==============================] - 0s 4ms/step - loss: 0.0116 - accuracy: 0.9677 - auc_4: 0.9110 - recall_4: 0.0463 - f1_m: 0.0317 - val_loss: 0.0125 - val_accuracy: 0.9687 - val_auc_4: 0.9039 - val_recall_4: 0.1061 - val_f1_m: 0.0807\n",
      "Epoch 13/100\n",
      "105/105 [==============================] - 0s 4ms/step - loss: 0.0126 - accuracy: 0.9668 - auc_4: 0.8930 - recall_4: 0.0278 - f1_m: 0.0254 - val_loss: 0.0142 - val_accuracy: 0.9677 - val_auc_4: 0.9008 - val_recall_4: 0.0909 - val_f1_m: 0.0703\n",
      "Epoch 14/100\n",
      "105/105 [==============================] - 0s 4ms/step - loss: 0.0119 - accuracy: 0.9674 - auc_4: 0.9080 - recall_4: 0.0278 - f1_m: 0.0206 - val_loss: 0.0119 - val_accuracy: 0.9682 - val_auc_4: 0.8994 - val_recall_4: 0.0606 - val_f1_m: 0.0469\n",
      "Epoch 15/100\n",
      "105/105 [==============================] - 0s 4ms/step - loss: 0.0116 - accuracy: 0.9686 - auc_4: 0.8987 - recall_4: 0.0741 - f1_m: 0.0587 - val_loss: 0.0121 - val_accuracy: 0.9682 - val_auc_4: 0.8913 - val_recall_4: 0.0606 - val_f1_m: 0.0469\n",
      "Epoch 16/100\n",
      "105/105 [==============================] - 0s 4ms/step - loss: 0.0114 - accuracy: 0.9683 - auc_4: 0.9153 - recall_4: 0.0648 - f1_m: 0.0530 - val_loss: 0.0141 - val_accuracy: 0.9673 - val_auc_4: 0.8840 - val_recall_4: 0.0303 - val_f1_m: 0.0208\n",
      "Epoch 17/100\n",
      "105/105 [==============================] - 0s 3ms/step - loss: 0.0114 - accuracy: 0.9692 - auc_4: 0.9066 - recall_4: 0.0648 - f1_m: 0.0508 - val_loss: 0.0137 - val_accuracy: 0.9668 - val_auc_4: 0.8996 - val_recall_4: 0.1364 - val_f1_m: 0.0818\n",
      "Epoch 18/100\n",
      "105/105 [==============================] - 0s 4ms/step - loss: 0.0117 - accuracy: 0.9686 - auc_4: 0.9024 - recall_4: 0.1019 - f1_m: 0.0794 - val_loss: 0.0143 - val_accuracy: 0.9677 - val_auc_4: 0.8427 - val_recall_4: 0.0303 - val_f1_m: 0.0208\n",
      "Epoch 19/100\n",
      "105/105 [==============================] - 0s 4ms/step - loss: 0.0119 - accuracy: 0.9680 - auc_4: 0.8858 - recall_4: 0.0556 - f1_m: 0.0292 - val_loss: 0.0125 - val_accuracy: 0.9702 - val_auc_4: 0.8940 - val_recall_4: 0.1061 - val_f1_m: 0.0844\n",
      "Epoch 20/100\n",
      "105/105 [==============================] - 0s 4ms/step - loss: 0.0118 - accuracy: 0.9671 - auc_4: 0.8978 - recall_4: 0.0278 - f1_m: 0.0222 - val_loss: 0.0129 - val_accuracy: 0.9687 - val_auc_4: 0.8997 - val_recall_4: 0.0909 - val_f1_m: 0.0703\n",
      "Epoch 21/100\n",
      "105/105 [==============================] - 0s 4ms/step - loss: 0.0113 - accuracy: 0.9686 - auc_4: 0.9196 - recall_4: 0.0833 - f1_m: 0.0689 - val_loss: 0.0127 - val_accuracy: 0.9677 - val_auc_4: 0.8555 - val_recall_4: 0.0000e+00 - val_f1_m: 0.0000e+00\n",
      "Epoch 22/100\n",
      "105/105 [==============================] - 0s 3ms/step - loss: 0.0116 - accuracy: 0.9677 - auc_4: 0.9081 - recall_4: 0.0370 - f1_m: 0.0270 - val_loss: 0.0129 - val_accuracy: 0.9682 - val_auc_4: 0.8997 - val_recall_4: 0.1212 - val_f1_m: 0.0870\n",
      "Epoch 23/100\n",
      "105/105 [==============================] - 0s 3ms/step - loss: 0.0117 - accuracy: 0.9683 - auc_4: 0.9021 - recall_4: 0.0648 - f1_m: 0.0508 - val_loss: 0.0113 - val_accuracy: 0.9707 - val_auc_4: 0.8953 - val_recall_4: 0.1212 - val_f1_m: 0.0948\n",
      "Epoch 24/100\n",
      "105/105 [==============================] - 0s 3ms/step - loss: 0.0111 - accuracy: 0.9677 - auc_4: 0.9214 - recall_4: 0.0648 - f1_m: 0.0492 - val_loss: 0.0116 - val_accuracy: 0.9677 - val_auc_4: 0.8941 - val_recall_4: 0.0152 - val_f1_m: 0.0104\n",
      "Epoch 25/100\n",
      "105/105 [==============================] - 0s 3ms/step - loss: 0.0117 - accuracy: 0.9671 - auc_4: 0.8937 - recall_4: 0.0278 - f1_m: 0.0286 - val_loss: 0.0119 - val_accuracy: 0.9687 - val_auc_4: 0.9012 - val_recall_4: 0.1061 - val_f1_m: 0.0792\n",
      "Epoch 26/100\n",
      "105/105 [==============================] - 0s 3ms/step - loss: 0.0110 - accuracy: 0.9683 - auc_4: 0.9195 - recall_4: 0.0648 - f1_m: 0.0492 - val_loss: 0.0143 - val_accuracy: 0.9673 - val_auc_4: 0.9022 - val_recall_4: 0.1212 - val_f1_m: 0.0870\n",
      "Epoch 27/100\n",
      "105/105 [==============================] - 0s 4ms/step - loss: 0.0114 - accuracy: 0.9671 - auc_4: 0.9081 - recall_4: 0.0370 - f1_m: 0.0267 - val_loss: 0.0131 - val_accuracy: 0.9677 - val_auc_4: 0.9002 - val_recall_4: 0.1212 - val_f1_m: 0.0818\n",
      "Epoch 28/100\n",
      "105/105 [==============================] - 0s 4ms/step - loss: 0.0110 - accuracy: 0.9683 - auc_4: 0.9172 - recall_4: 0.0648 - f1_m: 0.0508 - val_loss: 0.0134 - val_accuracy: 0.9682 - val_auc_4: 0.8992 - val_recall_4: 0.0909 - val_f1_m: 0.0729\n",
      "Epoch 29/100\n",
      "105/105 [==============================] - 0s 4ms/step - loss: 0.0113 - accuracy: 0.9677 - auc_4: 0.9097 - recall_4: 0.0648 - f1_m: 0.0556 - val_loss: 0.0111 - val_accuracy: 0.9692 - val_auc_4: 0.9007 - val_recall_4: 0.0909 - val_f1_m: 0.0729\n",
      "Epoch 30/100\n",
      "105/105 [==============================] - 0s 4ms/step - loss: 0.0113 - accuracy: 0.9689 - auc_4: 0.8798 - recall_4: 0.0741 - f1_m: 0.0610 - val_loss: 0.0132 - val_accuracy: 0.9668 - val_auc_4: 0.9027 - val_recall_4: 0.1061 - val_f1_m: 0.0714\n",
      "Epoch 31/100\n",
      "105/105 [==============================] - 0s 4ms/step - loss: 0.0113 - accuracy: 0.9680 - auc_4: 0.8971 - recall_4: 0.0741 - f1_m: 0.0635 - val_loss: 0.0116 - val_accuracy: 0.9692 - val_auc_4: 0.8989 - val_recall_4: 0.0909 - val_f1_m: 0.0729\n",
      "Epoch 32/100\n",
      "105/105 [==============================] - 0s 4ms/step - loss: 0.0106 - accuracy: 0.9695 - auc_4: 0.9259 - recall_4: 0.0741 - f1_m: 0.0594 - val_loss: 0.0123 - val_accuracy: 0.9682 - val_auc_4: 0.9023 - val_recall_4: 0.1061 - val_f1_m: 0.0766\n"
     ]
    },
    {
     "name": "stdout",
     "output_type": "stream",
     "text": [
      "Epoch 33/100\n",
      "105/105 [==============================] - 0s 4ms/step - loss: 0.0108 - accuracy: 0.9680 - auc_4: 0.9100 - recall_4: 0.0741 - f1_m: 0.0492 - val_loss: 0.0127 - val_accuracy: 0.9682 - val_auc_4: 0.8936 - val_recall_4: 0.1061 - val_f1_m: 0.0740\n",
      "Epoch 34/100\n",
      "105/105 [==============================] - 0s 3ms/step - loss: 0.0107 - accuracy: 0.9683 - auc_4: 0.9224 - recall_4: 0.0648 - f1_m: 0.0476 - val_loss: 0.0113 - val_accuracy: 0.9692 - val_auc_4: 0.9030 - val_recall_4: 0.0758 - val_f1_m: 0.0625\n",
      "Epoch 35/100\n",
      "105/105 [==============================] - 0s 3ms/step - loss: 0.0108 - accuracy: 0.9689 - auc_4: 0.9061 - recall_4: 0.0741 - f1_m: 0.0616 - val_loss: 0.0129 - val_accuracy: 0.9687 - val_auc_4: 0.8997 - val_recall_4: 0.0909 - val_f1_m: 0.0703\n",
      "Epoch 36/100\n",
      "105/105 [==============================] - 0s 3ms/step - loss: 0.0105 - accuracy: 0.9680 - auc_4: 0.9225 - recall_4: 0.0648 - f1_m: 0.0397 - val_loss: 0.0157 - val_accuracy: 0.9653 - val_auc_4: 0.9036 - val_recall_4: 0.1212 - val_f1_m: 0.0807\n",
      "Epoch 37/100\n",
      "105/105 [==============================] - 0s 3ms/step - loss: 0.0108 - accuracy: 0.9674 - auc_4: 0.9263 - recall_4: 0.0741 - f1_m: 0.0420 - val_loss: 0.0122 - val_accuracy: 0.9682 - val_auc_4: 0.9010 - val_recall_4: 0.0758 - val_f1_m: 0.0573\n",
      "Epoch 38/100\n",
      "105/105 [==============================] - 0s 3ms/step - loss: 0.0105 - accuracy: 0.9686 - auc_4: 0.9205 - recall_4: 0.0741 - f1_m: 0.0587 - val_loss: 0.0119 - val_accuracy: 0.9673 - val_auc_4: 0.9024 - val_recall_4: 0.0455 - val_f1_m: 0.0312\n",
      "Epoch 39/100\n",
      "105/105 [==============================] - 0s 3ms/step - loss: 0.0107 - accuracy: 0.9683 - auc_4: 0.9231 - recall_4: 0.0648 - f1_m: 0.0571 - val_loss: 0.0118 - val_accuracy: 0.9682 - val_auc_4: 0.9019 - val_recall_4: 0.0909 - val_f1_m: 0.0755\n",
      "Epoch 40/100\n",
      "105/105 [==============================] - 0s 3ms/step - loss: 0.0105 - accuracy: 0.9686 - auc_4: 0.9264 - recall_4: 0.0926 - f1_m: 0.0714 - val_loss: 0.0108 - val_accuracy: 0.9697 - val_auc_4: 0.9039 - val_recall_4: 0.1061 - val_f1_m: 0.0885\n",
      "Epoch 41/100\n",
      "105/105 [==============================] - 0s 3ms/step - loss: 0.0106 - accuracy: 0.9680 - auc_4: 0.9260 - recall_4: 0.0370 - f1_m: 0.0286 - val_loss: 0.0126 - val_accuracy: 0.9673 - val_auc_4: 0.9035 - val_recall_4: 0.0909 - val_f1_m: 0.0729\n",
      "Epoch 42/100\n",
      "105/105 [==============================] - 0s 3ms/step - loss: 0.0107 - accuracy: 0.9677 - auc_4: 0.9248 - recall_4: 0.0556 - f1_m: 0.0403 - val_loss: 0.0127 - val_accuracy: 0.9677 - val_auc_4: 0.9039 - val_recall_4: 0.0758 - val_f1_m: 0.0573\n",
      "Epoch 43/100\n",
      "105/105 [==============================] - 0s 3ms/step - loss: 0.0105 - accuracy: 0.9689 - auc_4: 0.9228 - recall_4: 0.0741 - f1_m: 0.0521 - val_loss: 0.0114 - val_accuracy: 0.9692 - val_auc_4: 0.9013 - val_recall_4: 0.1212 - val_f1_m: 0.0896\n",
      "Epoch 44/100\n",
      "105/105 [==============================] - 0s 3ms/step - loss: 0.0104 - accuracy: 0.9686 - auc_4: 0.9278 - recall_4: 0.0926 - f1_m: 0.0597 - val_loss: 0.0117 - val_accuracy: 0.9677 - val_auc_4: 0.8997 - val_recall_4: 0.0455 - val_f1_m: 0.0312\n",
      "Epoch 45/100\n",
      "105/105 [==============================] - 0s 3ms/step - loss: 0.0106 - accuracy: 0.9680 - auc_4: 0.9231 - recall_4: 0.0648 - f1_m: 0.0587 - val_loss: 0.0118 - val_accuracy: 0.9687 - val_auc_4: 0.9016 - val_recall_4: 0.0758 - val_f1_m: 0.0625\n",
      "Epoch 46/100\n",
      "105/105 [==============================] - 0s 3ms/step - loss: 0.0105 - accuracy: 0.9692 - auc_4: 0.9221 - recall_4: 0.0833 - f1_m: 0.0721 - val_loss: 0.0111 - val_accuracy: 0.9687 - val_auc_4: 0.9022 - val_recall_4: 0.0606 - val_f1_m: 0.0469\n",
      "Epoch 47/100\n",
      "105/105 [==============================] - 0s 3ms/step - loss: 0.0103 - accuracy: 0.9686 - auc_4: 0.9254 - recall_4: 0.0648 - f1_m: 0.0508 - val_loss: 0.0120 - val_accuracy: 0.9682 - val_auc_4: 0.9039 - val_recall_4: 0.0909 - val_f1_m: 0.0755\n",
      "Epoch 48/100\n",
      "105/105 [==============================] - 0s 3ms/step - loss: 0.0103 - accuracy: 0.9692 - auc_4: 0.9281 - recall_4: 0.0833 - f1_m: 0.0578 - val_loss: 0.0109 - val_accuracy: 0.9702 - val_auc_4: 0.9044 - val_recall_4: 0.1061 - val_f1_m: 0.0885\n",
      "Epoch 49/100\n",
      "105/105 [==============================] - 0s 3ms/step - loss: 0.0101 - accuracy: 0.9689 - auc_4: 0.9278 - recall_4: 0.0648 - f1_m: 0.0508 - val_loss: 0.0123 - val_accuracy: 0.9677 - val_auc_4: 0.9043 - val_recall_4: 0.1364 - val_f1_m: 0.0870\n",
      "Epoch 50/100\n",
      "105/105 [==============================] - 0s 4ms/step - loss: 0.0102 - accuracy: 0.9686 - auc_4: 0.9245 - recall_4: 0.0926 - f1_m: 0.0784 - val_loss: 0.0120 - val_accuracy: 0.9682 - val_auc_4: 0.9028 - val_recall_4: 0.0455 - val_f1_m: 0.0312\n",
      "Epoch 51/100\n",
      "105/105 [==============================] - 0s 3ms/step - loss: 0.0102 - accuracy: 0.9692 - auc_4: 0.9311 - recall_4: 0.0741 - f1_m: 0.0413 - val_loss: 0.0139 - val_accuracy: 0.9658 - val_auc_4: 0.9029 - val_recall_4: 0.1364 - val_f1_m: 0.0870\n",
      "Epoch 52/100\n",
      "105/105 [==============================] - 0s 3ms/step - loss: 0.0103 - accuracy: 0.9683 - auc_4: 0.9280 - recall_4: 0.0833 - f1_m: 0.0616 - val_loss: 0.0121 - val_accuracy: 0.9673 - val_auc_4: 0.8992 - val_recall_4: 0.0455 - val_f1_m: 0.0312\n",
      "Epoch 53/100\n",
      "105/105 [==============================] - 0s 3ms/step - loss: 0.0102 - accuracy: 0.9689 - auc_4: 0.9306 - recall_4: 0.0926 - f1_m: 0.0683 - val_loss: 0.0125 - val_accuracy: 0.9677 - val_auc_4: 0.9035 - val_recall_4: 0.0303 - val_f1_m: 0.0208\n",
      "Epoch 54/100\n",
      "105/105 [==============================] - 0s 3ms/step - loss: 0.0102 - accuracy: 0.9686 - auc_4: 0.9242 - recall_4: 0.0741 - f1_m: 0.0610 - val_loss: 0.0110 - val_accuracy: 0.9707 - val_auc_4: 0.9032 - val_recall_4: 0.1212 - val_f1_m: 0.0948\n",
      "Epoch 55/100\n",
      "105/105 [==============================] - 0s 3ms/step - loss: 0.0100 - accuracy: 0.9698 - auc_4: 0.9307 - recall_4: 0.0926 - f1_m: 0.0810 - val_loss: 0.0113 - val_accuracy: 0.9692 - val_auc_4: 0.9047 - val_recall_4: 0.1212 - val_f1_m: 0.0896\n",
      "Epoch 56/100\n",
      "105/105 [==============================] - 0s 4ms/step - loss: 0.0100 - accuracy: 0.9692 - auc_4: 0.9353 - recall_4: 0.1019 - f1_m: 0.0778 - val_loss: 0.0109 - val_accuracy: 0.9692 - val_auc_4: 0.9048 - val_recall_4: 0.0909 - val_f1_m: 0.0677\n",
      "Epoch 57/100\n",
      "105/105 [==============================] - 0s 3ms/step - loss: 0.0099 - accuracy: 0.9680 - auc_4: 0.9271 - recall_4: 0.0741 - f1_m: 0.0476 - val_loss: 0.0118 - val_accuracy: 0.9682 - val_auc_4: 0.9056 - val_recall_4: 0.1061 - val_f1_m: 0.0833\n",
      "Epoch 58/100\n",
      "105/105 [==============================] - 0s 4ms/step - loss: 0.0100 - accuracy: 0.9680 - auc_4: 0.9340 - recall_4: 0.0648 - f1_m: 0.0451 - val_loss: 0.0117 - val_accuracy: 0.9692 - val_auc_4: 0.9042 - val_recall_4: 0.1061 - val_f1_m: 0.0833\n",
      "Epoch 59/100\n",
      "105/105 [==============================] - 0s 4ms/step - loss: 0.0099 - accuracy: 0.9695 - auc_4: 0.9291 - recall_4: 0.0926 - f1_m: 0.0568 - val_loss: 0.0122 - val_accuracy: 0.9682 - val_auc_4: 0.9050 - val_recall_4: 0.1364 - val_f1_m: 0.0922\n",
      "Epoch 60/100\n",
      "105/105 [==============================] - 0s 4ms/step - loss: 0.0101 - accuracy: 0.9692 - auc_4: 0.9315 - recall_4: 0.0926 - f1_m: 0.0730 - val_loss: 0.0120 - val_accuracy: 0.9687 - val_auc_4: 0.9053 - val_recall_4: 0.1061 - val_f1_m: 0.0833\n",
      "Epoch 61/100\n",
      "105/105 [==============================] - 0s 4ms/step - loss: 0.0102 - accuracy: 0.9689 - auc_4: 0.9329 - recall_4: 0.0833 - f1_m: 0.0489 - val_loss: 0.0117 - val_accuracy: 0.9677 - val_auc_4: 0.9052 - val_recall_4: 0.0455 - val_f1_m: 0.0312\n",
      "Epoch 62/100\n",
      "105/105 [==============================] - 0s 4ms/step - loss: 0.0101 - accuracy: 0.9686 - auc_4: 0.9316 - recall_4: 0.0926 - f1_m: 0.0711 - val_loss: 0.0121 - val_accuracy: 0.9677 - val_auc_4: 0.9052 - val_recall_4: 0.1061 - val_f1_m: 0.0833\n",
      "Epoch 63/100\n",
      "105/105 [==============================] - 1s 5ms/step - loss: 0.0101 - accuracy: 0.9689 - auc_4: 0.9320 - recall_4: 0.0833 - f1_m: 0.0746 - val_loss: 0.0113 - val_accuracy: 0.9687 - val_auc_4: 0.9047 - val_recall_4: 0.0909 - val_f1_m: 0.0781\n",
      "Epoch 64/100\n",
      "105/105 [==============================] - 0s 4ms/step - loss: 0.0098 - accuracy: 0.9698 - auc_4: 0.9334 - recall_4: 0.0926 - f1_m: 0.0594 - val_loss: 0.0112 - val_accuracy: 0.9687 - val_auc_4: 0.9047 - val_recall_4: 0.1061 - val_f1_m: 0.0833\n",
      "Epoch 65/100\n"
     ]
    },
    {
     "name": "stdout",
     "output_type": "stream",
     "text": [
      "105/105 [==============================] - 0s 4ms/step - loss: 0.0100 - accuracy: 0.9683 - auc_4: 0.9334 - recall_4: 0.0833 - f1_m: 0.0730 - val_loss: 0.0108 - val_accuracy: 0.9697 - val_auc_4: 0.9061 - val_recall_4: 0.1061 - val_f1_m: 0.0885\n",
      "Epoch 66/100\n",
      "105/105 [==============================] - 0s 4ms/step - loss: 0.0102 - accuracy: 0.9686 - auc_4: 0.9327 - recall_4: 0.0833 - f1_m: 0.0619 - val_loss: 0.0110 - val_accuracy: 0.9692 - val_auc_4: 0.9039 - val_recall_4: 0.0606 - val_f1_m: 0.0469\n",
      "Epoch 67/100\n",
      "105/105 [==============================] - 0s 5ms/step - loss: 0.0101 - accuracy: 0.9692 - auc_4: 0.9323 - recall_4: 0.0926 - f1_m: 0.0641 - val_loss: 0.0121 - val_accuracy: 0.9677 - val_auc_4: 0.9062 - val_recall_4: 0.1061 - val_f1_m: 0.0807\n",
      "Epoch 68/100\n",
      "105/105 [==============================] - 0s 4ms/step - loss: 0.0101 - accuracy: 0.9677 - auc_4: 0.9264 - recall_4: 0.0556 - f1_m: 0.0346 - val_loss: 0.0115 - val_accuracy: 0.9677 - val_auc_4: 0.9060 - val_recall_4: 0.1212 - val_f1_m: 0.0818\n",
      "Epoch 69/100\n",
      "105/105 [==============================] - 0s 5ms/step - loss: 0.0098 - accuracy: 0.9686 - auc_4: 0.9323 - recall_4: 0.0741 - f1_m: 0.0635 - val_loss: 0.0112 - val_accuracy: 0.9687 - val_auc_4: 0.9059 - val_recall_4: 0.1061 - val_f1_m: 0.0833\n",
      "Epoch 70/100\n",
      "105/105 [==============================] - 0s 4ms/step - loss: 0.0100 - accuracy: 0.9692 - auc_4: 0.9300 - recall_4: 0.1019 - f1_m: 0.0619 - val_loss: 0.0114 - val_accuracy: 0.9682 - val_auc_4: 0.9044 - val_recall_4: 0.0909 - val_f1_m: 0.0677\n",
      "Epoch 71/100\n",
      "105/105 [==============================] - 0s 4ms/step - loss: 0.0101 - accuracy: 0.9689 - auc_4: 0.9275 - recall_4: 0.0741 - f1_m: 0.0619 - val_loss: 0.0114 - val_accuracy: 0.9687 - val_auc_4: 0.9070 - val_recall_4: 0.1061 - val_f1_m: 0.0859\n",
      "Epoch 72/100\n",
      "105/105 [==============================] - 1s 5ms/step - loss: 0.0100 - accuracy: 0.9680 - auc_4: 0.9384 - recall_4: 0.0833 - f1_m: 0.0505 - val_loss: 0.0112 - val_accuracy: 0.9692 - val_auc_4: 0.9061 - val_recall_4: 0.1061 - val_f1_m: 0.0885\n",
      "Epoch 73/100\n",
      "105/105 [==============================] - 1s 5ms/step - loss: 0.0099 - accuracy: 0.9686 - auc_4: 0.9326 - recall_4: 0.0741 - f1_m: 0.0498 - val_loss: 0.0109 - val_accuracy: 0.9692 - val_auc_4: 0.9041 - val_recall_4: 0.1061 - val_f1_m: 0.0833\n",
      "Epoch 74/100\n",
      "105/105 [==============================] - 0s 3ms/step - loss: 0.0100 - accuracy: 0.9683 - auc_4: 0.9338 - recall_4: 0.0648 - f1_m: 0.0404 - val_loss: 0.0114 - val_accuracy: 0.9682 - val_auc_4: 0.9049 - val_recall_4: 0.1061 - val_f1_m: 0.0833\n",
      "Epoch 75/100\n",
      "105/105 [==============================] - 0s 3ms/step - loss: 0.0099 - accuracy: 0.9680 - auc_4: 0.9347 - recall_4: 0.0741 - f1_m: 0.0651 - val_loss: 0.0110 - val_accuracy: 0.9682 - val_auc_4: 0.9045 - val_recall_4: 0.0455 - val_f1_m: 0.0312\n",
      "Epoch 76/100\n",
      "105/105 [==============================] - 0s 3ms/step - loss: 0.0101 - accuracy: 0.9683 - auc_4: 0.9327 - recall_4: 0.0556 - f1_m: 0.0387 - val_loss: 0.0111 - val_accuracy: 0.9697 - val_auc_4: 0.9053 - val_recall_4: 0.1061 - val_f1_m: 0.0833\n",
      "Epoch 77/100\n",
      "105/105 [==============================] - 0s 3ms/step - loss: 0.0098 - accuracy: 0.9695 - auc_4: 0.9343 - recall_4: 0.0926 - f1_m: 0.0698 - val_loss: 0.0111 - val_accuracy: 0.9682 - val_auc_4: 0.9050 - val_recall_4: 0.0606 - val_f1_m: 0.0469\n",
      "Epoch 78/100\n",
      "105/105 [==============================] - 0s 3ms/step - loss: 0.0100 - accuracy: 0.9695 - auc_4: 0.9294 - recall_4: 0.0833 - f1_m: 0.0673 - val_loss: 0.0113 - val_accuracy: 0.9692 - val_auc_4: 0.9059 - val_recall_4: 0.1061 - val_f1_m: 0.0885\n",
      "Epoch 79/100\n",
      "105/105 [==============================] - 0s 3ms/step - loss: 0.0100 - accuracy: 0.9683 - auc_4: 0.9362 - recall_4: 0.0833 - f1_m: 0.0556 - val_loss: 0.0131 - val_accuracy: 0.9673 - val_auc_4: 0.9038 - val_recall_4: 0.1061 - val_f1_m: 0.0740\n",
      "Epoch 80/100\n",
      "105/105 [==============================] - 0s 3ms/step - loss: 0.0106 - accuracy: 0.9677 - auc_4: 0.9323 - recall_4: 0.0556 - f1_m: 0.0419 - val_loss: 0.0115 - val_accuracy: 0.9682 - val_auc_4: 0.9053 - val_recall_4: 0.1061 - val_f1_m: 0.0833\n",
      "Epoch 81/100\n",
      "105/105 [==============================] - 0s 3ms/step - loss: 0.0099 - accuracy: 0.9680 - auc_4: 0.9340 - recall_4: 0.0741 - f1_m: 0.0524 - val_loss: 0.0111 - val_accuracy: 0.9692 - val_auc_4: 0.9047 - val_recall_4: 0.1061 - val_f1_m: 0.0833\n",
      "Epoch 82/100\n",
      "105/105 [==============================] - 0s 3ms/step - loss: 0.0099 - accuracy: 0.9680 - auc_4: 0.9318 - recall_4: 0.0648 - f1_m: 0.0467 - val_loss: 0.0115 - val_accuracy: 0.9692 - val_auc_4: 0.9062 - val_recall_4: 0.1061 - val_f1_m: 0.0885\n",
      "Epoch 83/100\n",
      "105/105 [==============================] - 0s 3ms/step - loss: 0.0099 - accuracy: 0.9686 - auc_4: 0.9345 - recall_4: 0.0741 - f1_m: 0.0530 - val_loss: 0.0110 - val_accuracy: 0.9697 - val_auc_4: 0.9048 - val_recall_4: 0.1061 - val_f1_m: 0.0833\n",
      "Epoch 84/100\n",
      "105/105 [==============================] - 0s 3ms/step - loss: 0.0097 - accuracy: 0.9686 - auc_4: 0.9346 - recall_4: 0.0833 - f1_m: 0.0667 - val_loss: 0.0112 - val_accuracy: 0.9687 - val_auc_4: 0.9047 - val_recall_4: 0.1061 - val_f1_m: 0.0833\n",
      "Epoch 85/100\n",
      "105/105 [==============================] - 0s 3ms/step - loss: 0.0098 - accuracy: 0.9692 - auc_4: 0.9337 - recall_4: 0.0833 - f1_m: 0.0524 - val_loss: 0.0118 - val_accuracy: 0.9687 - val_auc_4: 0.9063 - val_recall_4: 0.0909 - val_f1_m: 0.0729\n",
      "Epoch 86/100\n",
      "105/105 [==============================] - 0s 3ms/step - loss: 0.0100 - accuracy: 0.9683 - auc_4: 0.9299 - recall_4: 0.0741 - f1_m: 0.0505 - val_loss: 0.0111 - val_accuracy: 0.9697 - val_auc_4: 0.9058 - val_recall_4: 0.1061 - val_f1_m: 0.0833\n",
      "Epoch 87/100\n",
      "105/105 [==============================] - 0s 3ms/step - loss: 0.0099 - accuracy: 0.9689 - auc_4: 0.9330 - recall_4: 0.0741 - f1_m: 0.0426 - val_loss: 0.0120 - val_accuracy: 0.9677 - val_auc_4: 0.9057 - val_recall_4: 0.1061 - val_f1_m: 0.0807\n",
      "Epoch 88/100\n",
      "105/105 [==============================] - 0s 3ms/step - loss: 0.0098 - accuracy: 0.9689 - auc_4: 0.9355 - recall_4: 0.0833 - f1_m: 0.0495 - val_loss: 0.0117 - val_accuracy: 0.9682 - val_auc_4: 0.9051 - val_recall_4: 0.1364 - val_f1_m: 0.0870\n",
      "Epoch 89/100\n",
      "105/105 [==============================] - 0s 3ms/step - loss: 0.0100 - accuracy: 0.9683 - auc_4: 0.9334 - recall_4: 0.0926 - f1_m: 0.0619 - val_loss: 0.0113 - val_accuracy: 0.9687 - val_auc_4: 0.9057 - val_recall_4: 0.1061 - val_f1_m: 0.0833\n",
      "Epoch 90/100\n",
      "105/105 [==============================] - 0s 3ms/step - loss: 0.0099 - accuracy: 0.9683 - auc_4: 0.9334 - recall_4: 0.0833 - f1_m: 0.0667 - val_loss: 0.0115 - val_accuracy: 0.9687 - val_auc_4: 0.9079 - val_recall_4: 0.0909 - val_f1_m: 0.0755\n",
      "Epoch 91/100\n",
      "105/105 [==============================] - 0s 3ms/step - loss: 0.0098 - accuracy: 0.9692 - auc_4: 0.9354 - recall_4: 0.0833 - f1_m: 0.0616 - val_loss: 0.0110 - val_accuracy: 0.9687 - val_auc_4: 0.9065 - val_recall_4: 0.1212 - val_f1_m: 0.0844\n",
      "Epoch 92/100\n",
      "105/105 [==============================] - 0s 3ms/step - loss: 0.0099 - accuracy: 0.9689 - auc_4: 0.9302 - recall_4: 0.0926 - f1_m: 0.0768 - val_loss: 0.0113 - val_accuracy: 0.9697 - val_auc_4: 0.9043 - val_recall_4: 0.1061 - val_f1_m: 0.0833\n",
      "Epoch 93/100\n",
      "105/105 [==============================] - 0s 3ms/step - loss: 0.0097 - accuracy: 0.9701 - auc_4: 0.9344 - recall_4: 0.1204 - f1_m: 0.0917 - val_loss: 0.0116 - val_accuracy: 0.9677 - val_auc_4: 0.9069 - val_recall_4: 0.0152 - val_f1_m: 0.0104\n",
      "Epoch 94/100\n",
      "105/105 [==============================] - 0s 3ms/step - loss: 0.0110 - accuracy: 0.9674 - auc_4: 0.9181 - recall_4: 0.0556 - f1_m: 0.0349 - val_loss: 0.0116 - val_accuracy: 0.9687 - val_auc_4: 0.9029 - val_recall_4: 0.0909 - val_f1_m: 0.0677\n",
      "Epoch 95/100\n",
      "105/105 [==============================] - 0s 3ms/step - loss: 0.0103 - accuracy: 0.9683 - auc_4: 0.9295 - recall_4: 0.0556 - f1_m: 0.0476 - val_loss: 0.0109 - val_accuracy: 0.9692 - val_auc_4: 0.9053 - val_recall_4: 0.1061 - val_f1_m: 0.0885\n",
      "Epoch 96/100\n",
      "105/105 [==============================] - 0s 3ms/step - loss: 0.0098 - accuracy: 0.9689 - auc_4: 0.9334 - recall_4: 0.0833 - f1_m: 0.0714 - val_loss: 0.0111 - val_accuracy: 0.9697 - val_auc_4: 0.9058 - val_recall_4: 0.1061 - val_f1_m: 0.0833\n",
      "Epoch 97/100\n"
     ]
    },
    {
     "name": "stdout",
     "output_type": "stream",
     "text": [
      "105/105 [==============================] - 0s 4ms/step - loss: 0.0098 - accuracy: 0.9683 - auc_4: 0.9341 - recall_4: 0.0648 - f1_m: 0.0530 - val_loss: 0.0116 - val_accuracy: 0.9682 - val_auc_4: 0.9042 - val_recall_4: 0.0758 - val_f1_m: 0.0573\n",
      "Epoch 98/100\n",
      "105/105 [==============================] - 0s 3ms/step - loss: 0.0099 - accuracy: 0.9686 - auc_4: 0.9285 - recall_4: 0.0741 - f1_m: 0.0530 - val_loss: 0.0111 - val_accuracy: 0.9692 - val_auc_4: 0.9048 - val_recall_4: 0.1061 - val_f1_m: 0.0885\n",
      "Epoch 99/100\n",
      "105/105 [==============================] - 0s 3ms/step - loss: 0.0098 - accuracy: 0.9692 - auc_4: 0.9345 - recall_4: 0.0833 - f1_m: 0.0530 - val_loss: 0.0111 - val_accuracy: 0.9682 - val_auc_4: 0.9054 - val_recall_4: 0.1061 - val_f1_m: 0.0833\n",
      "Epoch 100/100\n",
      "105/105 [==============================] - 0s 3ms/step - loss: 0.0098 - accuracy: 0.9686 - auc_4: 0.9347 - recall_4: 0.0833 - f1_m: 0.0778 - val_loss: 0.0110 - val_accuracy: 0.9702 - val_auc_4: 0.9054 - val_recall_4: 0.1061 - val_f1_m: 0.0885\n",
      "Best epoch: 23\n"
     ]
    }
   ],
   "source": [
    "# Build the model with the optimal hyperparameters and train it on the data for 100 epochs\n",
    "model = tuner.hypermodel.build(best_hps)\n",
    "history = model.fit(x_train, y_train, validation_data=(x_val,y_val), epochs=100)\n",
    "# , callbacks = callbacks_list\n",
    "\n",
    "val_f1_per_epoch = history.history['val_f1_m']\n",
    "best_epoch = val_f1_per_epoch.index(max(val_f1_per_epoch)) + 1\n",
    "print('Best epoch: %d' % (best_epoch,))"
   ]
  },
  {
   "cell_type": "code",
   "execution_count": 88,
   "id": "4ee164e6",
   "metadata": {},
   "outputs": [
    {
     "data": {
      "text/plain": [
       "{'loss': [0.42175406217575073,\n",
       "  0.10052339732646942,\n",
       "  0.03630569577217102,\n",
       "  0.018628953024744987,\n",
       "  0.015739453956484795,\n",
       "  0.013441482558846474,\n",
       "  0.012836749665439129,\n",
       "  0.01261678896844387,\n",
       "  0.012539070099592209,\n",
       "  0.011610695160925388,\n",
       "  0.012238762341439724,\n",
       "  0.011609954759478569,\n",
       "  0.012625277042388916,\n",
       "  0.011918645352125168,\n",
       "  0.011648333631455898,\n",
       "  0.011428159661591053,\n",
       "  0.011396813206374645,\n",
       "  0.011689157225191593,\n",
       "  0.011910272762179375,\n",
       "  0.011790861375629902,\n",
       "  0.01131787896156311,\n",
       "  0.011581066995859146,\n",
       "  0.011655694805085659,\n",
       "  0.011066732928156853,\n",
       "  0.011676643043756485,\n",
       "  0.011017602868378162,\n",
       "  0.011411784216761589,\n",
       "  0.01098715141415596,\n",
       "  0.01131640374660492,\n",
       "  0.011259942315518856,\n",
       "  0.011343657970428467,\n",
       "  0.01062491163611412,\n",
       "  0.010828151367604733,\n",
       "  0.010703201405704021,\n",
       "  0.010755525901913643,\n",
       "  0.010524765588343143,\n",
       "  0.010774550959467888,\n",
       "  0.010485663078725338,\n",
       "  0.010736233554780483,\n",
       "  0.010512537322938442,\n",
       "  0.01055993977934122,\n",
       "  0.01066606119275093,\n",
       "  0.010492412373423576,\n",
       "  0.010439245961606503,\n",
       "  0.010564549826085567,\n",
       "  0.010485479608178139,\n",
       "  0.010309059172868729,\n",
       "  0.010314065963029861,\n",
       "  0.010101808235049248,\n",
       "  0.010203870944678783,\n",
       "  0.010217754170298576,\n",
       "  0.010333601385354996,\n",
       "  0.010196045972406864,\n",
       "  0.010193625465035439,\n",
       "  0.010006542317569256,\n",
       "  0.010020690970122814,\n",
       "  0.009934975765645504,\n",
       "  0.010040102526545525,\n",
       "  0.00990662258118391,\n",
       "  0.010133815929293633,\n",
       "  0.0101617481559515,\n",
       "  0.010131784714758396,\n",
       "  0.01007821410894394,\n",
       "  0.009812276810407639,\n",
       "  0.009971764869987965,\n",
       "  0.010241487994790077,\n",
       "  0.010111805982887745,\n",
       "  0.01008107140660286,\n",
       "  0.009837815538048744,\n",
       "  0.009956981055438519,\n",
       "  0.010076833888888359,\n",
       "  0.010040510445833206,\n",
       "  0.009923758916556835,\n",
       "  0.009989463724195957,\n",
       "  0.00991909671574831,\n",
       "  0.010061618871986866,\n",
       "  0.009843877516686916,\n",
       "  0.009991500526666641,\n",
       "  0.010038266889750957,\n",
       "  0.01056040171533823,\n",
       "  0.009898318909108639,\n",
       "  0.00987485982477665,\n",
       "  0.009947320446372032,\n",
       "  0.009749865159392357,\n",
       "  0.009849544614553452,\n",
       "  0.009972283616662025,\n",
       "  0.009918179363012314,\n",
       "  0.009764296934008598,\n",
       "  0.009964407421648502,\n",
       "  0.009857047349214554,\n",
       "  0.009822609834372997,\n",
       "  0.0098825478926301,\n",
       "  0.00968026090413332,\n",
       "  0.01099985372275114,\n",
       "  0.01033005677163601,\n",
       "  0.009796743281185627,\n",
       "  0.009787158109247684,\n",
       "  0.009871379472315311,\n",
       "  0.009805107489228249,\n",
       "  0.009829523973166943],\n",
       " 'accuracy': [0.9230769276618958,\n",
       "  0.9682729840278625,\n",
       "  0.9676743745803833,\n",
       "  0.9688715934753418,\n",
       "  0.96647709608078,\n",
       "  0.9673750400543213,\n",
       "  0.9676743745803833,\n",
       "  0.966776430606842,\n",
       "  0.9685722589492798,\n",
       "  0.969470202922821,\n",
       "  0.9673750400543213,\n",
       "  0.9676743745803833,\n",
       "  0.966776430606842,\n",
       "  0.9673750400543213,\n",
       "  0.9685722589492798,\n",
       "  0.9682729840278625,\n",
       "  0.9691709280014038,\n",
       "  0.9685722589492798,\n",
       "  0.9679736495018005,\n",
       "  0.9670757055282593,\n",
       "  0.9685722589492798,\n",
       "  0.9676743745803833,\n",
       "  0.9682729840278625,\n",
       "  0.9676743745803833,\n",
       "  0.9670757055282593,\n",
       "  0.9682729840278625,\n",
       "  0.9670757055282593,\n",
       "  0.9682729840278625,\n",
       "  0.9676743745803833,\n",
       "  0.9688715934753418,\n",
       "  0.9679736495018005,\n",
       "  0.969470202922821,\n",
       "  0.9679736495018005,\n",
       "  0.9682729840278625,\n",
       "  0.9688715934753418,\n",
       "  0.9679736495018005,\n",
       "  0.9673750400543213,\n",
       "  0.9685722589492798,\n",
       "  0.9682729840278625,\n",
       "  0.9685722589492798,\n",
       "  0.9679736495018005,\n",
       "  0.9676743745803833,\n",
       "  0.9688715934753418,\n",
       "  0.9685722589492798,\n",
       "  0.9679736495018005,\n",
       "  0.9691709280014038,\n",
       "  0.9685722589492798,\n",
       "  0.9691709280014038,\n",
       "  0.9688715934753418,\n",
       "  0.9685722589492798,\n",
       "  0.9691709280014038,\n",
       "  0.9682729840278625,\n",
       "  0.9688715934753418,\n",
       "  0.9685722589492798,\n",
       "  0.9697695374488831,\n",
       "  0.9691709280014038,\n",
       "  0.9679736495018005,\n",
       "  0.9679736495018005,\n",
       "  0.969470202922821,\n",
       "  0.9691709280014038,\n",
       "  0.9688715934753418,\n",
       "  0.9685722589492798,\n",
       "  0.9688715934753418,\n",
       "  0.9697695374488831,\n",
       "  0.9682729840278625,\n",
       "  0.9685722589492798,\n",
       "  0.9691709280014038,\n",
       "  0.9676743745803833,\n",
       "  0.9685722589492798,\n",
       "  0.9691709280014038,\n",
       "  0.9688715934753418,\n",
       "  0.9679736495018005,\n",
       "  0.9685722589492798,\n",
       "  0.9682729840278625,\n",
       "  0.9679736495018005,\n",
       "  0.9682729840278625,\n",
       "  0.969470202922821,\n",
       "  0.969470202922821,\n",
       "  0.9682729840278625,\n",
       "  0.9676743745803833,\n",
       "  0.9679736495018005,\n",
       "  0.9679736495018005,\n",
       "  0.9685722589492798,\n",
       "  0.9685722589492798,\n",
       "  0.9691709280014038,\n",
       "  0.9682729840278625,\n",
       "  0.9688715934753418,\n",
       "  0.9688715934753418,\n",
       "  0.9682729840278625,\n",
       "  0.9682729840278625,\n",
       "  0.9691709280014038,\n",
       "  0.9688715934753418,\n",
       "  0.9700688123703003,\n",
       "  0.9673750400543213,\n",
       "  0.9682729840278625,\n",
       "  0.9688715934753418,\n",
       "  0.9682729840278625,\n",
       "  0.9685722589492798,\n",
       "  0.9691709280014038,\n",
       "  0.9685722589492798],\n",
       " 'auc_4': [0.6753917932510376,\n",
       "  0.7989397644996643,\n",
       "  0.9181157946586609,\n",
       "  0.9233870506286621,\n",
       "  0.7619212865829468,\n",
       "  0.8968493342399597,\n",
       "  0.8731068968772888,\n",
       "  0.897311806678772,\n",
       "  0.783532977104187,\n",
       "  0.9160552024841309,\n",
       "  0.8853890895843506,\n",
       "  0.9109830856323242,\n",
       "  0.8930301666259766,\n",
       "  0.9079586863517761,\n",
       "  0.8986893892288208,\n",
       "  0.9153091907501221,\n",
       "  0.9066470265388489,\n",
       "  0.9023581743240356,\n",
       "  0.8858258724212646,\n",
       "  0.897820234298706,\n",
       "  0.9195936322212219,\n",
       "  0.9080833196640015,\n",
       "  0.9020975828170776,\n",
       "  0.921446681022644,\n",
       "  0.893667459487915,\n",
       "  0.9195306897163391,\n",
       "  0.9080990552902222,\n",
       "  0.917156457901001,\n",
       "  0.9096828699111938,\n",
       "  0.8797513246536255,\n",
       "  0.897051215171814,\n",
       "  0.9258930087089539,\n",
       "  0.9100151062011719,\n",
       "  0.9223659634590149,\n",
       "  0.9060685038566589,\n",
       "  0.9224977493286133,\n",
       "  0.9262782335281372,\n",
       "  0.9204986095428467,\n",
       "  0.9230891466140747,\n",
       "  0.9264342784881592,\n",
       "  0.9260075092315674,\n",
       "  0.9247946739196777,\n",
       "  0.9227840900421143,\n",
       "  0.9277689456939697,\n",
       "  0.9230962991714478,\n",
       "  0.9221183061599731,\n",
       "  0.9254476428031921,\n",
       "  0.9281469583511353,\n",
       "  0.927811861038208,\n",
       "  0.9244996309280396,\n",
       "  0.9311212301254272,\n",
       "  0.9280495643615723,\n",
       "  0.9306156635284424,\n",
       "  0.9241674542427063,\n",
       "  0.9307116270065308,\n",
       "  0.9353240728378296,\n",
       "  0.9271144866943359,\n",
       "  0.9339522123336792,\n",
       "  0.92912358045578,\n",
       "  0.9315221309661865,\n",
       "  0.9328768253326416,\n",
       "  0.9315952062606812,\n",
       "  0.9319617748260498,\n",
       "  0.9334324598312378,\n",
       "  0.9333736896514893,\n",
       "  0.9327322244644165,\n",
       "  0.9323083162307739,\n",
       "  0.9263970851898193,\n",
       "  0.9323341250419617,\n",
       "  0.9300028085708618,\n",
       "  0.9274982810020447,\n",
       "  0.9384400844573975,\n",
       "  0.9325617551803589,\n",
       "  0.9337689876556396,\n",
       "  0.9346997737884521,\n",
       "  0.9326505661010742,\n",
       "  0.93434739112854,\n",
       "  0.9294114112854004,\n",
       "  0.9361546635627747,\n",
       "  0.9323469400405884,\n",
       "  0.9340094923973083,\n",
       "  0.9318372011184692,\n",
       "  0.9344663023948669,\n",
       "  0.9345937371253967,\n",
       "  0.9337331652641296,\n",
       "  0.9298853874206543,\n",
       "  0.9329999685287476,\n",
       "  0.9355489015579224,\n",
       "  0.9333550930023193,\n",
       "  0.9334424734115601,\n",
       "  0.935361385345459,\n",
       "  0.9302476644515991,\n",
       "  0.9343703389167786,\n",
       "  0.9181416630744934,\n",
       "  0.929471492767334,\n",
       "  0.933428168296814,\n",
       "  0.9341168999671936,\n",
       "  0.9285235404968262,\n",
       "  0.9345235824584961,\n",
       "  0.9346811175346375],\n",
       " 'recall_4': [0.39814814925193787,\n",
       "  0.0555555559694767,\n",
       "  0.0555555559694767,\n",
       "  0.07407407462596893,\n",
       "  0.02777777798473835,\n",
       "  0.0555555559694767,\n",
       "  0.03703703731298447,\n",
       "  0.046296294778585434,\n",
       "  0.046296294778585434,\n",
       "  0.07407407462596893,\n",
       "  0.046296294778585434,\n",
       "  0.046296294778585434,\n",
       "  0.02777777798473835,\n",
       "  0.02777777798473835,\n",
       "  0.07407407462596893,\n",
       "  0.06481481343507767,\n",
       "  0.06481481343507767,\n",
       "  0.10185185074806213,\n",
       "  0.0555555559694767,\n",
       "  0.02777777798473835,\n",
       "  0.0833333358168602,\n",
       "  0.03703703731298447,\n",
       "  0.06481481343507767,\n",
       "  0.06481481343507767,\n",
       "  0.02777777798473835,\n",
       "  0.06481481343507767,\n",
       "  0.03703703731298447,\n",
       "  0.06481481343507767,\n",
       "  0.06481481343507767,\n",
       "  0.07407407462596893,\n",
       "  0.07407407462596893,\n",
       "  0.07407407462596893,\n",
       "  0.07407407462596893,\n",
       "  0.06481481343507767,\n",
       "  0.07407407462596893,\n",
       "  0.06481481343507767,\n",
       "  0.07407407462596893,\n",
       "  0.07407407462596893,\n",
       "  0.06481481343507767,\n",
       "  0.09259258955717087,\n",
       "  0.03703703731298447,\n",
       "  0.0555555559694767,\n",
       "  0.07407407462596893,\n",
       "  0.09259258955717087,\n",
       "  0.06481481343507767,\n",
       "  0.0833333358168602,\n",
       "  0.06481481343507767,\n",
       "  0.0833333358168602,\n",
       "  0.06481481343507767,\n",
       "  0.09259258955717087,\n",
       "  0.07407407462596893,\n",
       "  0.0833333358168602,\n",
       "  0.09259258955717087,\n",
       "  0.07407407462596893,\n",
       "  0.09259258955717087,\n",
       "  0.10185185074806213,\n",
       "  0.07407407462596893,\n",
       "  0.06481481343507767,\n",
       "  0.09259258955717087,\n",
       "  0.09259258955717087,\n",
       "  0.0833333358168602,\n",
       "  0.09259258955717087,\n",
       "  0.0833333358168602,\n",
       "  0.09259258955717087,\n",
       "  0.0833333358168602,\n",
       "  0.0833333358168602,\n",
       "  0.09259258955717087,\n",
       "  0.0555555559694767,\n",
       "  0.07407407462596893,\n",
       "  0.10185185074806213,\n",
       "  0.07407407462596893,\n",
       "  0.0833333358168602,\n",
       "  0.07407407462596893,\n",
       "  0.06481481343507767,\n",
       "  0.07407407462596893,\n",
       "  0.0555555559694767,\n",
       "  0.09259258955717087,\n",
       "  0.0833333358168602,\n",
       "  0.0833333358168602,\n",
       "  0.0555555559694767,\n",
       "  0.07407407462596893,\n",
       "  0.06481481343507767,\n",
       "  0.07407407462596893,\n",
       "  0.0833333358168602,\n",
       "  0.0833333358168602,\n",
       "  0.07407407462596893,\n",
       "  0.07407407462596893,\n",
       "  0.0833333358168602,\n",
       "  0.09259258955717087,\n",
       "  0.0833333358168602,\n",
       "  0.0833333358168602,\n",
       "  0.09259258955717087,\n",
       "  0.12037037312984467,\n",
       "  0.0555555559694767,\n",
       "  0.0555555559694767,\n",
       "  0.0833333358168602,\n",
       "  0.06481481343507767,\n",
       "  0.07407407462596893,\n",
       "  0.0833333358168602,\n",
       "  0.0833333358168602],\n",
       " 'f1_m': [0.17492267489433289,\n",
       "  0.0419047549366951,\n",
       "  0.03365078940987587,\n",
       "  0.04476189985871315,\n",
       "  0.02222221903502941,\n",
       "  0.029206344857811928,\n",
       "  0.026984121650457382,\n",
       "  0.03238094970583916,\n",
       "  0.03492062911391258,\n",
       "  0.042222216725349426,\n",
       "  0.0317460261285305,\n",
       "  0.0317460261285305,\n",
       "  0.02539682202041149,\n",
       "  0.02063491754233837,\n",
       "  0.058730147778987885,\n",
       "  0.05301586911082268,\n",
       "  0.05079364404082298,\n",
       "  0.0793650671839714,\n",
       "  0.029206346720457077,\n",
       "  0.02222221903502941,\n",
       "  0.06888888031244278,\n",
       "  0.026984121650457382,\n",
       "  0.05079364404082298,\n",
       "  0.04920634254813194,\n",
       "  0.028571423143148422,\n",
       "  0.049206338822841644,\n",
       "  0.026666661724448204,\n",
       "  0.05079364404082298,\n",
       "  0.0555555485188961,\n",
       "  0.06095237284898758,\n",
       "  0.0634920597076416,\n",
       "  0.05936507135629654,\n",
       "  0.04920634254813194,\n",
       "  0.0476190447807312,\n",
       "  0.061587296426296234,\n",
       "  0.0396825335919857,\n",
       "  0.041950106620788574,\n",
       "  0.05873015150427818,\n",
       "  0.057142846286296844,\n",
       "  0.0714285597205162,\n",
       "  0.028571423143148422,\n",
       "  0.04031745344400406,\n",
       "  0.052063487470149994,\n",
       "  0.059682536870241165,\n",
       "  0.05873015150427818,\n",
       "  0.07206348329782486,\n",
       "  0.05079364404082298,\n",
       "  0.0577777698636055,\n",
       "  0.05079364404082298,\n",
       "  0.07841268926858902,\n",
       "  0.04126983880996704,\n",
       "  0.061587292701005936,\n",
       "  0.06825395673513412,\n",
       "  0.06095237284898758,\n",
       "  0.08095236867666245,\n",
       "  0.07777777314186096,\n",
       "  0.0476190447807312,\n",
       "  0.04507935792207718,\n",
       "  0.056825391948223114,\n",
       "  0.07301586121320724,\n",
       "  0.04888887703418732,\n",
       "  0.07111110538244247,\n",
       "  0.07460317015647888,\n",
       "  0.059365078806877136,\n",
       "  0.07301586866378784,\n",
       "  0.06190475448966026,\n",
       "  0.06412697583436966,\n",
       "  0.034603167325258255,\n",
       "  0.0634920597076416,\n",
       "  0.06190475821495056,\n",
       "  0.06190475448966026,\n",
       "  0.05052153766155243,\n",
       "  0.0498412624001503,\n",
       "  0.040362801402807236,\n",
       "  0.06507936120033264,\n",
       "  0.03873015195131302,\n",
       "  0.06984126567840576,\n",
       "  0.06730157881975174,\n",
       "  0.0555555485188961,\n",
       "  0.0419047586619854,\n",
       "  0.052380941808223724,\n",
       "  0.04666665941476822,\n",
       "  0.05301586166024208,\n",
       "  0.06666665524244308,\n",
       "  0.052380941808223724,\n",
       "  0.050476185977458954,\n",
       "  0.04258502647280693,\n",
       "  0.04952380433678627,\n",
       "  0.06190475821495056,\n",
       "  0.06666666269302368,\n",
       "  0.061587296426296234,\n",
       "  0.07682538777589798,\n",
       "  0.091746024787426,\n",
       "  0.03492063283920288,\n",
       "  0.047619037330150604,\n",
       "  0.0714285597205162,\n",
       "  0.05301586166024208,\n",
       "  0.05301586911082268,\n",
       "  0.05301586911082268,\n",
       "  0.07777777314186096],\n",
       " 'val_loss': [0.17362089455127716,\n",
       "  0.05421341583132744,\n",
       "  0.024084096774458885,\n",
       "  0.016243737190961838,\n",
       "  0.01467076875269413,\n",
       "  0.01404033973813057,\n",
       "  0.012911518104374409,\n",
       "  0.013718119822442532,\n",
       "  0.013591802679002285,\n",
       "  0.013904455117881298,\n",
       "  0.01277930662035942,\n",
       "  0.012514181435108185,\n",
       "  0.014228727668523788,\n",
       "  0.011899233795702457,\n",
       "  0.012147215195000172,\n",
       "  0.014141838997602463,\n",
       "  0.01368268858641386,\n",
       "  0.014276664704084396,\n",
       "  0.012482516467571259,\n",
       "  0.012948856689035892,\n",
       "  0.012663368135690689,\n",
       "  0.012911265715956688,\n",
       "  0.011321274563670158,\n",
       "  0.011626392602920532,\n",
       "  0.011948084458708763,\n",
       "  0.01427129004150629,\n",
       "  0.013056989759206772,\n",
       "  0.013373536989092827,\n",
       "  0.011087237857282162,\n",
       "  0.01321206521242857,\n",
       "  0.011643140576779842,\n",
       "  0.012274987995624542,\n",
       "  0.012686793692409992,\n",
       "  0.011317194439470768,\n",
       "  0.012933224439620972,\n",
       "  0.01570150814950466,\n",
       "  0.01222795620560646,\n",
       "  0.011935772374272346,\n",
       "  0.011848797090351582,\n",
       "  0.010770510882139206,\n",
       "  0.012566524557769299,\n",
       "  0.012726770713925362,\n",
       "  0.011394275352358818,\n",
       "  0.01166807021945715,\n",
       "  0.011769799515604973,\n",
       "  0.011136574670672417,\n",
       "  0.01200625579804182,\n",
       "  0.010853168554604053,\n",
       "  0.012297345325350761,\n",
       "  0.011975380592048168,\n",
       "  0.013940490782260895,\n",
       "  0.012122422456741333,\n",
       "  0.012491281144320965,\n",
       "  0.010977541096508503,\n",
       "  0.011268739588558674,\n",
       "  0.010911563411355019,\n",
       "  0.011774156242609024,\n",
       "  0.011718212626874447,\n",
       "  0.01222266722470522,\n",
       "  0.012004424817860126,\n",
       "  0.011701461859047413,\n",
       "  0.012059662491083145,\n",
       "  0.011276466771960258,\n",
       "  0.01116874162107706,\n",
       "  0.010785943828523159,\n",
       "  0.011020989157259464,\n",
       "  0.012057018466293812,\n",
       "  0.011541351675987244,\n",
       "  0.01121576502919197,\n",
       "  0.011415950953960419,\n",
       "  0.011444702744483948,\n",
       "  0.011212070472538471,\n",
       "  0.010946819558739662,\n",
       "  0.011434844695031643,\n",
       "  0.010963000357151031,\n",
       "  0.01108597218990326,\n",
       "  0.011055128648877144,\n",
       "  0.011251911520957947,\n",
       "  0.013118917122483253,\n",
       "  0.011503379791975021,\n",
       "  0.011118413880467415,\n",
       "  0.011535868048667908,\n",
       "  0.011011529713869095,\n",
       "  0.011168546043336391,\n",
       "  0.011757215484976768,\n",
       "  0.01109613012522459,\n",
       "  0.012018617242574692,\n",
       "  0.01173336710780859,\n",
       "  0.011340077966451645,\n",
       "  0.011453839018940926,\n",
       "  0.011038294062018394,\n",
       "  0.011340087279677391,\n",
       "  0.011562659405171871,\n",
       "  0.011618540622293949,\n",
       "  0.0109013756737113,\n",
       "  0.011129423044621944,\n",
       "  0.011614755727350712,\n",
       "  0.011114637367427349,\n",
       "  0.011110803112387657,\n",
       "  0.011029078625142574],\n",
       " 'val_accuracy': [0.9672531485557556,\n",
       "  0.968230664730072,\n",
       "  0.968230664730072,\n",
       "  0.9692082405090332,\n",
       "  0.9677419066429138,\n",
       "  0.9672531485557556,\n",
       "  0.968230664730072,\n",
       "  0.9677419066429138,\n",
       "  0.9677419066429138,\n",
       "  0.9667643904685974,\n",
       "  0.9677419066429138,\n",
       "  0.9687194228172302,\n",
       "  0.9677419066429138,\n",
       "  0.968230664730072,\n",
       "  0.968230664730072,\n",
       "  0.9672531485557556,\n",
       "  0.9667643904685974,\n",
       "  0.9677419066429138,\n",
       "  0.9701857566833496,\n",
       "  0.9687194228172302,\n",
       "  0.9677419066429138,\n",
       "  0.968230664730072,\n",
       "  0.9706745147705078,\n",
       "  0.9677419066429138,\n",
       "  0.9687194228172302,\n",
       "  0.9672531485557556,\n",
       "  0.9677419066429138,\n",
       "  0.968230664730072,\n",
       "  0.9692082405090332,\n",
       "  0.9667643904685974,\n",
       "  0.9692082405090332,\n",
       "  0.968230664730072,\n",
       "  0.968230664730072,\n",
       "  0.9692082405090332,\n",
       "  0.9687194228172302,\n",
       "  0.9652981162071228,\n",
       "  0.968230664730072,\n",
       "  0.9672531485557556,\n",
       "  0.968230664730072,\n",
       "  0.9696969985961914,\n",
       "  0.9672531485557556,\n",
       "  0.9677419066429138,\n",
       "  0.9692082405090332,\n",
       "  0.9677419066429138,\n",
       "  0.9687194228172302,\n",
       "  0.9687194228172302,\n",
       "  0.968230664730072,\n",
       "  0.9701857566833496,\n",
       "  0.9677419066429138,\n",
       "  0.968230664730072,\n",
       "  0.965786874294281,\n",
       "  0.9672531485557556,\n",
       "  0.9677419066429138,\n",
       "  0.9706745147705078,\n",
       "  0.9692082405090332,\n",
       "  0.9692082405090332,\n",
       "  0.968230664730072,\n",
       "  0.9692082405090332,\n",
       "  0.968230664730072,\n",
       "  0.9687194228172302,\n",
       "  0.9677419066429138,\n",
       "  0.9677419066429138,\n",
       "  0.9687194228172302,\n",
       "  0.9687194228172302,\n",
       "  0.9696969985961914,\n",
       "  0.9692082405090332,\n",
       "  0.9677419066429138,\n",
       "  0.9677419066429138,\n",
       "  0.9687194228172302,\n",
       "  0.968230664730072,\n",
       "  0.9687194228172302,\n",
       "  0.9692082405090332,\n",
       "  0.9692082405090332,\n",
       "  0.968230664730072,\n",
       "  0.968230664730072,\n",
       "  0.9696969985961914,\n",
       "  0.968230664730072,\n",
       "  0.9692082405090332,\n",
       "  0.9672531485557556,\n",
       "  0.968230664730072,\n",
       "  0.9692082405090332,\n",
       "  0.9692082405090332,\n",
       "  0.9696969985961914,\n",
       "  0.9687194228172302,\n",
       "  0.9687194228172302,\n",
       "  0.9696969985961914,\n",
       "  0.9677419066429138,\n",
       "  0.968230664730072,\n",
       "  0.9687194228172302,\n",
       "  0.9687194228172302,\n",
       "  0.9687194228172302,\n",
       "  0.9696969985961914,\n",
       "  0.9677419066429138,\n",
       "  0.9687194228172302,\n",
       "  0.9692082405090332,\n",
       "  0.9696969985961914,\n",
       "  0.968230664730072,\n",
       "  0.9692082405090332,\n",
       "  0.968230664730072,\n",
       "  0.9701857566833496],\n",
       " 'val_auc_4': [0.8586049675941467,\n",
       "  0.9034894704818726,\n",
       "  0.8960896730422974,\n",
       "  0.9034473896026611,\n",
       "  0.8575681447982788,\n",
       "  0.8659588694572449,\n",
       "  0.8858203291893005,\n",
       "  0.7923247814178467,\n",
       "  0.8452440500259399,\n",
       "  0.9014233350753784,\n",
       "  0.8845500946044922,\n",
       "  0.9039486646652222,\n",
       "  0.9008073806762695,\n",
       "  0.8993954658508301,\n",
       "  0.8912649154663086,\n",
       "  0.8839876651763916,\n",
       "  0.8996480703353882,\n",
       "  0.8427112102508545,\n",
       "  0.8940005898475647,\n",
       "  0.899732232093811,\n",
       "  0.8555249571800232,\n",
       "  0.8996901512145996,\n",
       "  0.895313024520874,\n",
       "  0.8940503597259521,\n",
       "  0.9011938571929932,\n",
       "  0.9022268056869507,\n",
       "  0.9002143144607544,\n",
       "  0.8991506099700928,\n",
       "  0.9006619453430176,\n",
       "  0.9027012586593628,\n",
       "  0.8988713026046753,\n",
       "  0.9022995829582214,\n",
       "  0.8935720920562744,\n",
       "  0.9030455350875854,\n",
       "  0.8997092247009277,\n",
       "  0.9035506844520569,\n",
       "  0.9010406732559204,\n",
       "  0.9023951292037964,\n",
       "  0.9018557071685791,\n",
       "  0.9039064645767212,\n",
       "  0.9035123586654663,\n",
       "  0.903944730758667,\n",
       "  0.9013314843177795,\n",
       "  0.8996595144271851,\n",
       "  0.9016491174697876,\n",
       "  0.9021540880203247,\n",
       "  0.9039256572723389,\n",
       "  0.9043541550636292,\n",
       "  0.9042623043060303,\n",
       "  0.9027587175369263,\n",
       "  0.9028849005699158,\n",
       "  0.899158239364624,\n",
       "  0.9034550189971924,\n",
       "  0.9031872749328613,\n",
       "  0.9046564102172852,\n",
       "  0.9047903418540955,\n",
       "  0.9056473970413208,\n",
       "  0.9042355418205261,\n",
       "  0.9049739837646484,\n",
       "  0.9053068161010742,\n",
       "  0.9051538705825806,\n",
       "  0.9052494764328003,\n",
       "  0.9046984910964966,\n",
       "  0.9046832323074341,\n",
       "  0.9060835838317871,\n",
       "  0.9039026498794556,\n",
       "  0.9061524271965027,\n",
       "  0.9060185551643372,\n",
       "  0.9058769941329956,\n",
       "  0.9044268727302551,\n",
       "  0.9069521427154541,\n",
       "  0.9060606956481934,\n",
       "  0.904090166091919,\n",
       "  0.9049012660980225,\n",
       "  0.9045301675796509,\n",
       "  0.9052609205245972,\n",
       "  0.9049892425537109,\n",
       "  0.9059382081031799,\n",
       "  0.9037649631500244,\n",
       "  0.905299186706543,\n",
       "  0.9046525955200195,\n",
       "  0.906175434589386,\n",
       "  0.9047826528549194,\n",
       "  0.9047099351882935,\n",
       "  0.9062939882278442,\n",
       "  0.9057698249816895,\n",
       "  0.9057239294052124,\n",
       "  0.9051461815834045,\n",
       "  0.9056588411331177,\n",
       "  0.9078704118728638,\n",
       "  0.906523585319519,\n",
       "  0.9043465256690979,\n",
       "  0.9068984985351562,\n",
       "  0.9029040336608887,\n",
       "  0.9053336381912231,\n",
       "  0.9058042764663696,\n",
       "  0.9042431712150574,\n",
       "  0.9047712087631226,\n",
       "  0.9054446220397949,\n",
       "  0.9053680896759033],\n",
       " 'val_recall_4': [0.03030303120613098,\n",
       "  0.03030303120613098,\n",
       "  0.04545454680919647,\n",
       "  0.13636364042758942,\n",
       "  0.03030303120613098,\n",
       "  0.03030303120613098,\n",
       "  0.04545454680919647,\n",
       "  0.0,\n",
       "  0.01515151560306549,\n",
       "  0.12121212482452393,\n",
       "  0.01515151560306549,\n",
       "  0.10606060922145844,\n",
       "  0.09090909361839294,\n",
       "  0.06060606241226196,\n",
       "  0.06060606241226196,\n",
       "  0.03030303120613098,\n",
       "  0.13636364042758942,\n",
       "  0.03030303120613098,\n",
       "  0.10606060922145844,\n",
       "  0.09090909361839294,\n",
       "  0.0,\n",
       "  0.12121212482452393,\n",
       "  0.12121212482452393,\n",
       "  0.01515151560306549,\n",
       "  0.10606060922145844,\n",
       "  0.12121212482452393,\n",
       "  0.12121212482452393,\n",
       "  0.09090909361839294,\n",
       "  0.09090909361839294,\n",
       "  0.10606060922145844,\n",
       "  0.09090909361839294,\n",
       "  0.10606060922145844,\n",
       "  0.10606060922145844,\n",
       "  0.07575757801532745,\n",
       "  0.09090909361839294,\n",
       "  0.12121212482452393,\n",
       "  0.07575757801532745,\n",
       "  0.04545454680919647,\n",
       "  0.09090909361839294,\n",
       "  0.10606060922145844,\n",
       "  0.09090909361839294,\n",
       "  0.07575757801532745,\n",
       "  0.12121212482452393,\n",
       "  0.04545454680919647,\n",
       "  0.07575757801532745,\n",
       "  0.06060606241226196,\n",
       "  0.09090909361839294,\n",
       "  0.10606060922145844,\n",
       "  0.13636364042758942,\n",
       "  0.04545454680919647,\n",
       "  0.13636364042758942,\n",
       "  0.04545454680919647,\n",
       "  0.03030303120613098,\n",
       "  0.12121212482452393,\n",
       "  0.12121212482452393,\n",
       "  0.09090909361839294,\n",
       "  0.10606060922145844,\n",
       "  0.10606060922145844,\n",
       "  0.13636364042758942,\n",
       "  0.10606060922145844,\n",
       "  0.04545454680919647,\n",
       "  0.10606060922145844,\n",
       "  0.09090909361839294,\n",
       "  0.10606060922145844,\n",
       "  0.10606060922145844,\n",
       "  0.06060606241226196,\n",
       "  0.10606060922145844,\n",
       "  0.12121212482452393,\n",
       "  0.10606060922145844,\n",
       "  0.09090909361839294,\n",
       "  0.10606060922145844,\n",
       "  0.10606060922145844,\n",
       "  0.10606060922145844,\n",
       "  0.10606060922145844,\n",
       "  0.04545454680919647,\n",
       "  0.10606060922145844,\n",
       "  0.06060606241226196,\n",
       "  0.10606060922145844,\n",
       "  0.10606060922145844,\n",
       "  0.10606060922145844,\n",
       "  0.10606060922145844,\n",
       "  0.10606060922145844,\n",
       "  0.10606060922145844,\n",
       "  0.10606060922145844,\n",
       "  0.09090909361839294,\n",
       "  0.10606060922145844,\n",
       "  0.10606060922145844,\n",
       "  0.13636364042758942,\n",
       "  0.10606060922145844,\n",
       "  0.09090909361839294,\n",
       "  0.12121212482452393,\n",
       "  0.10606060922145844,\n",
       "  0.01515151560306549,\n",
       "  0.09090909361839294,\n",
       "  0.10606060922145844,\n",
       "  0.10606060922145844,\n",
       "  0.07575757801532745,\n",
       "  0.10606060922145844,\n",
       "  0.10606060922145844,\n",
       "  0.10606060922145844],\n",
       " 'val_f1_m': [0.02083333022892475,\n",
       "  0.02083333022892475,\n",
       "  0.0312499962747097,\n",
       "  0.09218748658895493,\n",
       "  0.02083333022892475,\n",
       "  0.02083333022892475,\n",
       "  0.0312499962747097,\n",
       "  0.0,\n",
       "  0.010416665114462376,\n",
       "  0.08697915077209473,\n",
       "  0.010416665114462376,\n",
       "  0.0807291567325592,\n",
       "  0.0703124850988388,\n",
       "  0.0468749925494194,\n",
       "  0.0468749925494194,\n",
       "  0.02083333022892475,\n",
       "  0.08177082240581512,\n",
       "  0.02083333022892475,\n",
       "  0.08437498658895493,\n",
       "  0.0703124850988388,\n",
       "  0.0,\n",
       "  0.08697915077209473,\n",
       "  0.09479165077209473,\n",
       "  0.010416665114462376,\n",
       "  0.07916665077209473,\n",
       "  0.08697915077209473,\n",
       "  0.08177082240581512,\n",
       "  0.0729166567325592,\n",
       "  0.0729166567325592,\n",
       "  0.07135415822267532,\n",
       "  0.0729166567325592,\n",
       "  0.07656248658895493,\n",
       "  0.07395832240581512,\n",
       "  0.062499988824129105,\n",
       "  0.0703124850988388,\n",
       "  0.0807291567325592,\n",
       "  0.057291656732559204,\n",
       "  0.0312499962747097,\n",
       "  0.075520820915699,\n",
       "  0.08854164928197861,\n",
       "  0.0729166567325592,\n",
       "  0.057291656732559204,\n",
       "  0.08958331495523453,\n",
       "  0.0312499962747097,\n",
       "  0.062499988824129105,\n",
       "  0.0468749925494194,\n",
       "  0.075520820915699,\n",
       "  0.08854164928197861,\n",
       "  0.08697915822267532,\n",
       "  0.0312499962747097,\n",
       "  0.08697915822267532,\n",
       "  0.0312499962747097,\n",
       "  0.02083333022892475,\n",
       "  0.09479165077209473,\n",
       "  0.08958331495523453,\n",
       "  0.067708320915699,\n",
       "  0.083333320915699,\n",
       "  0.083333320915699,\n",
       "  0.09218748658895493,\n",
       "  0.083333320915699,\n",
       "  0.0312499962747097,\n",
       "  0.083333320915699,\n",
       "  0.0781249850988388,\n",
       "  0.083333320915699,\n",
       "  0.08854164928197861,\n",
       "  0.0468749925494194,\n",
       "  0.0807291567325592,\n",
       "  0.08177082240581512,\n",
       "  0.083333320915699,\n",
       "  0.067708320915699,\n",
       "  0.0859374850988388,\n",
       "  0.08854164928197861,\n",
       "  0.083333320915699,\n",
       "  0.083333320915699,\n",
       "  0.0312499962747097,\n",
       "  0.083333320915699,\n",
       "  0.0468749925494194,\n",
       "  0.08854164928197861,\n",
       "  0.07395832240581512,\n",
       "  0.083333320915699,\n",
       "  0.083333320915699,\n",
       "  0.08854164928197861,\n",
       "  0.083333320915699,\n",
       "  0.083333320915699,\n",
       "  0.0729166567325592,\n",
       "  0.083333320915699,\n",
       "  0.0807291567325592,\n",
       "  0.08697915822267532,\n",
       "  0.083333320915699,\n",
       "  0.075520820915699,\n",
       "  0.08437498658895493,\n",
       "  0.083333320915699,\n",
       "  0.010416665114462376,\n",
       "  0.067708320915699,\n",
       "  0.08854164928197861,\n",
       "  0.083333320915699,\n",
       "  0.057291656732559204,\n",
       "  0.08854164928197861,\n",
       "  0.083333320915699,\n",
       "  0.08854164928197861]}"
      ]
     },
     "execution_count": 88,
     "metadata": {},
     "output_type": "execute_result"
    }
   ],
   "source": [
    "history.history"
   ]
  },
  {
   "cell_type": "code",
   "execution_count": 89,
   "id": "6c50aa84",
   "metadata": {},
   "outputs": [
    {
     "data": {
      "image/png": "[encoded data removed]",
      "text/plain": [
       "<Figure size 576x396 with 1 Axes>"
      ]
     },
     "metadata": {},
     "output_type": "display_data"
    }
   ],
   "source": [
    "visualize_accuracy(history, \"title\")"
   ]
  },
  {
   "cell_type": "code",
   "execution_count": 90,
   "id": "4ca41dac",
   "metadata": {},
   "outputs": [
    {
     "name": "stdout",
     "output_type": "stream",
     "text": [
      "Epoch 1/23\n",
      "169/169 [==============================] - 4s 3ms/step - loss: 0.3150 - accuracy: 0.9467 - auc_5: 0.6142 - recall_5: 0.1954 - f1_m: 0.0956\n",
      "Epoch 2/23\n",
      "169/169 [==============================] - 1s 3ms/step - loss: 0.0420 - accuracy: 0.9684 - auc_5: 0.8451 - recall_5: 0.0575 - f1_m: 0.0402\n",
      "Epoch 3/23\n",
      "169/169 [==============================] - 0s 2ms/step - loss: 0.0159 - accuracy: 0.9684 - auc_5: 0.8919 - recall_5: 0.0517 - f1_m: 0.0333\n",
      "Epoch 4/23\n",
      "169/169 [==============================] - 0s 2ms/step - loss: 0.0148 - accuracy: 0.9670 - auc_5: 0.7086 - recall_5: 0.0230 - f1_m: 0.0168\n",
      "Epoch 5/23\n",
      "169/169 [==============================] - 0s 2ms/step - loss: 0.0130 - accuracy: 0.9681 - auc_5: 0.8784 - recall_5: 0.0575 - f1_m: 0.0373\n",
      "Epoch 6/23\n",
      "169/169 [==============================] - 0s 2ms/step - loss: 0.0126 - accuracy: 0.9677 - auc_5: 0.8876 - recall_5: 0.0345 - f1_m: 0.0256\n",
      "Epoch 7/23\n",
      "169/169 [==============================] - 0s 2ms/step - loss: 0.0128 - accuracy: 0.9679 - auc_5: 0.8753 - recall_5: 0.0460 - f1_m: 0.0329\n",
      "Epoch 8/23\n",
      "169/169 [==============================] - 0s 2ms/step - loss: 0.0130 - accuracy: 0.9679 - auc_5: 0.8673 - recall_5: 0.0460 - f1_m: 0.0359\n",
      "Epoch 9/23\n",
      "169/169 [==============================] - 0s 2ms/step - loss: 0.0132 - accuracy: 0.9681 - auc_5: 0.7972 - recall_5: 0.0517 - f1_m: 0.0404\n",
      "Epoch 10/23\n",
      "169/169 [==============================] - 0s 2ms/step - loss: 0.0121 - accuracy: 0.9675 - auc_5: 0.8839 - recall_5: 0.0517 - f1_m: 0.0385\n",
      "Epoch 11/23\n",
      "169/169 [==============================] - 0s 2ms/step - loss: 0.0123 - accuracy: 0.9681 - auc_5: 0.8705 - recall_5: 0.0517 - f1_m: 0.0438\n",
      "Epoch 12/23\n",
      "169/169 [==============================] - 0s 2ms/step - loss: 0.0128 - accuracy: 0.9681 - auc_5: 0.8140 - recall_5: 0.0575 - f1_m: 0.0394\n",
      "Epoch 13/23\n",
      "169/169 [==============================] - 0s 2ms/step - loss: 0.0131 - accuracy: 0.9675 - auc_5: 0.8593 - recall_5: 0.0460 - f1_m: 0.0385\n",
      "Epoch 14/23\n",
      "169/169 [==============================] - 0s 2ms/step - loss: 0.0125 - accuracy: 0.9681 - auc_5: 0.8703 - recall_5: 0.0575 - f1_m: 0.0387\n",
      "Epoch 15/23\n",
      "169/169 [==============================] - 0s 2ms/step - loss: 0.0120 - accuracy: 0.9688 - auc_5: 0.8802 - recall_5: 0.0690 - f1_m: 0.0531\n",
      "Epoch 16/23\n",
      "169/169 [==============================] - 0s 3ms/step - loss: 0.0120 - accuracy: 0.9684 - auc_5: 0.8836 - recall_5: 0.0632 - f1_m: 0.0527\n",
      "Epoch 17/23\n",
      "169/169 [==============================] - 0s 3ms/step - loss: 0.0120 - accuracy: 0.9681 - auc_5: 0.8903 - recall_5: 0.0690 - f1_m: 0.0542\n",
      "Epoch 18/23\n",
      "169/169 [==============================] - 0s 2ms/step - loss: 0.0127 - accuracy: 0.9686 - auc_5: 0.8342 - recall_5: 0.0517 - f1_m: 0.0349\n",
      "Epoch 19/23\n",
      "169/169 [==============================] - 0s 2ms/step - loss: 0.0113 - accuracy: 0.9696 - auc_5: 0.8947 - recall_5: 0.0805 - f1_m: 0.0690\n",
      "Epoch 20/23\n",
      "169/169 [==============================] - 0s 2ms/step - loss: 0.0114 - accuracy: 0.9686 - auc_5: 0.9046 - recall_5: 0.0690 - f1_m: 0.0418\n",
      "Epoch 21/23\n",
      "169/169 [==============================] - 0s 2ms/step - loss: 0.0116 - accuracy: 0.9690 - auc_5: 0.8870 - recall_5: 0.0747 - f1_m: 0.0491\n",
      "Epoch 22/23\n",
      "169/169 [==============================] - 0s 3ms/step - loss: 0.0125 - accuracy: 0.9675 - auc_5: 0.8898 - recall_5: 0.0632 - f1_m: 0.0442\n",
      "Epoch 23/23\n",
      "169/169 [==============================] - 0s 2ms/step - loss: 0.0122 - accuracy: 0.9684 - auc_5: 0.8912 - recall_5: 0.0632 - f1_m: 0.0414\n"
     ]
    },
    {
     "data": {
      "text/plain": [
       "<keras.callbacks.History at 0x17299bcdfd0>"
      ]
     },
     "execution_count": 90,
     "metadata": {},
     "output_type": "execute_result"
    }
   ],
   "source": [
    "hypermodel = tuner.hypermodel.build(best_hps)\n",
    "\n",
    "# Retrain the model\n",
    "hypermodel.fit(x_all, y_all, epochs = best_epoch)"
   ]
  },
  {
   "cell_type": "markdown",
   "id": "d062bc71",
   "metadata": {},
   "source": [
    "- https://www.tensorflow.org/tutorials/keras/keras_tuner"
   ]
  },
  {
   "cell_type": "code",
   "execution_count": null,
   "id": "9a185bd1",
   "metadata": {},
   "outputs": [],
   "source": []
  },
  {
   "cell_type": "code",
   "execution_count": null,
   "id": "14efc71c",
   "metadata": {},
   "outputs": [],
   "source": []
  },
  {
   "cell_type": "code",
   "execution_count": null,
   "id": "5cf5068f",
   "metadata": {},
   "outputs": [],
   "source": []
  },
  {
   "cell_type": "code",
   "execution_count": null,
   "id": "924c6adf",
   "metadata": {},
   "outputs": [],
   "source": []
  },
  {
   "cell_type": "code",
   "execution_count": null,
   "id": "342836ef",
   "metadata": {},
   "outputs": [],
   "source": []
  },
  {
   "cell_type": "code",
   "execution_count": null,
   "id": "2746f3a8",
   "metadata": {},
   "outputs": [],
   "source": []
  },
  {
   "cell_type": "code",
   "execution_count": null,
   "id": "72b3aaf6",
   "metadata": {},
   "outputs": [],
   "source": []
  },
  {
   "cell_type": "code",
   "execution_count": null,
   "id": "75a1cc36",
   "metadata": {},
   "outputs": [],
   "source": []
  },
  {
   "cell_type": "code",
   "execution_count": null,
   "id": "ca040409",
   "metadata": {},
   "outputs": [],
   "source": []
  },
  {
   "cell_type": "code",
   "execution_count": null,
   "id": "88785f2c",
   "metadata": {},
   "outputs": [],
   "source": []
  },
  {
   "cell_type": "code",
   "execution_count": null,
   "id": "0ca5e7c4",
   "metadata": {},
   "outputs": [],
   "source": []
  },
  {
   "cell_type": "code",
   "execution_count": null,
   "id": "ca622922",
   "metadata": {},
   "outputs": [],
   "source": []
  },
  {
   "cell_type": "code",
   "execution_count": null,
   "id": "b8dfed4c",
   "metadata": {},
   "outputs": [],
   "source": []
  },
  {
   "cell_type": "code",
   "execution_count": null,
   "id": "c2964ca5",
   "metadata": {},
   "outputs": [],
   "source": []
  },
  {
   "cell_type": "code",
   "execution_count": null,
   "id": "d95dd7e7",
   "metadata": {},
   "outputs": [],
   "source": []
  },
  {
   "cell_type": "code",
   "execution_count": null,
   "id": "ca7df5aa",
   "metadata": {},
   "outputs": [],
   "source": []
  },
  {
   "cell_type": "code",
   "execution_count": null,
   "id": "42232035",
   "metadata": {},
   "outputs": [],
   "source": []
  },
  {
   "cell_type": "code",
   "execution_count": null,
   "id": "6b9629a8",
   "metadata": {},
   "outputs": [],
   "source": []
  },
  {
   "cell_type": "code",
   "execution_count": null,
   "id": "dde9042d",
   "metadata": {},
   "outputs": [],
   "source": []
  },
  {
   "cell_type": "code",
   "execution_count": 70,
   "id": "e529386f",
   "metadata": {},
   "outputs": [],
   "source": [
    "# # This function is similar to the one above:\n",
    "\n",
    "# def build_model(hp, nl=1):\n",
    "    \n",
    "#     hp_units = hp.Int('units', min_value = 32, max_value = 256, step = 32)\n",
    "#     hp_activation = hp.Choice(\"activation\", [\"relu\", \"tanh\"])\n",
    "#     hp_learning_rate = hp.Choice('learning_rate', values = [1e-2, 1e-3, 1e-4])\n",
    "#     classifier = Sequential()\n",
    "    \n",
    "#     classifier.add(Dense(units= hp_units,\n",
    "#                          kernel_initializer=\"glorot_uniform\",\n",
    "#                          kernel_regularizer = tf.keras.regularizers.L2(0.1),\n",
    "#                          activation = hp_activation,\n",
    "#                          input_shape = (X_train.shape[1], )\n",
    "#                         )) \n",
    "    \n",
    "#     # Tune whether to use dropout.\n",
    "#     if hp.Boolean(\"dropout\"):\n",
    "#         classifier.add(layers.Dropout(rate=0.25))\n",
    "    \n",
    "#     #for _ in range(nl):\n",
    "#     classifier.add(Dense(units=16, \n",
    "#                          kernel_initializer=\"glorot_uniform\", \n",
    "#                          activation = hp_activation))\n",
    "#     classifier.add(Dense(units=1, \n",
    "#                          kernel_initializer=\"glorot_uniform\",\n",
    "#                          activation=\"sigmoid\"))\n",
    "            \n",
    "#     classifier.compile(optimizer=tf.keras.optimizers.Adam(learning_rate = hp_learning_rate),\n",
    "#                 loss='binary_crossentropy',metrics= f1_m)\n",
    "    \n",
    "#     return classifier"
   ]
  },
  {
   "cell_type": "code",
   "execution_count": 71,
   "id": "4de854ce",
   "metadata": {},
   "outputs": [],
   "source": [
    "# X_train.shape[1]"
   ]
  },
  {
   "cell_type": "code",
   "execution_count": 72,
   "id": "d18df4d7",
   "metadata": {},
   "outputs": [],
   "source": [
    "# # Does this use cross validation or not?\n",
    "\n",
    "# tuner = kt.Hyperband(\n",
    "#     hypermodel = build_model,\n",
    "#     objective = kt.Objective(\"f1_m\", direction=\"max\"),\n",
    "#     max_trials = 3,\n",
    "#     #max_epochs = 10,\n",
    "#     max_trials=3,\n",
    "#     executions_per_trial=2,\n",
    "#     overwrite=True,\n",
    "#     overwrite=True,\n",
    "#     directory = 'Deep_learning_project',\n",
    "#     project_name=\"Default_prediction\"\n",
    "# )"
   ]
  },
  {
   "cell_type": "code",
   "execution_count": 73,
   "id": "bd96a844",
   "metadata": {},
   "outputs": [],
   "source": [
    "# tuner.search_space_summary()"
   ]
  },
  {
   "cell_type": "code",
   "execution_count": null,
   "id": "6295de0f",
   "metadata": {},
   "outputs": [],
   "source": []
  },
  {
   "cell_type": "code",
   "execution_count": null,
   "id": "d8716597",
   "metadata": {},
   "outputs": [],
   "source": []
  },
  {
   "cell_type": "code",
   "execution_count": 74,
   "id": "adbe74a3",
   "metadata": {},
   "outputs": [],
   "source": [
    "# tuner.results_summary()"
   ]
  },
  {
   "cell_type": "code",
   "execution_count": 72,
   "id": "f5312487",
   "metadata": {},
   "outputs": [],
   "source": [
    "# x_all = np.concatenate((x_train, x_val))\n",
    "# y_all = np.concatenate((y_train, y_val))"
   ]
  },
  {
   "cell_type": "code",
   "execution_count": 74,
   "id": "45fee627",
   "metadata": {},
   "outputs": [],
   "source": [
    "# hypermodel = MyHyperModel()\n",
    "# best_hp = tuner.get_best_hyperparameters()[0]\n",
    "# model = hypermodel.build(best_hp)\n",
    "# #hist = hypermodel.fit(best_hp, model, x_all, y_all)"
   ]
  },
  {
   "cell_type": "code",
   "execution_count": 91,
   "id": "6e6ee3f4",
   "metadata": {},
   "outputs": [
    {
     "name": "stdout",
     "output_type": "stream",
     "text": [
      "Model: \"sequential_5\"\n",
      "_________________________________________________________________\n",
      " Layer (type)                Output Shape              Param #   \n",
      "=================================================================\n",
      " dense_20 (Dense)            (None, 128)               2688      \n",
      "                                                                 \n",
      " dense_21 (Dense)            (None, 64)                8256      \n",
      "                                                                 \n",
      " dense_22 (Dense)            (None, 16)                1040      \n",
      "                                                                 \n",
      " dense_23 (Dense)            (None, 1)                 17        \n",
      "                                                                 \n",
      "=================================================================\n",
      "Total params: 12,001\n",
      "Trainable params: 12,001\n",
      "Non-trainable params: 0\n",
      "_________________________________________________________________\n"
     ]
    }
   ],
   "source": [
    "hypermodel.summary()"
   ]
  },
  {
   "cell_type": "code",
   "execution_count": 78,
   "id": "b3aec9bb",
   "metadata": {},
   "outputs": [],
   "source": [
    "#model.history"
   ]
  },
  {
   "cell_type": "code",
   "execution_count": 92,
   "id": "365ea351",
   "metadata": {},
   "outputs": [],
   "source": [
    "# visualize_loss(hist, \"Loss function\")"
   ]
  },
  {
   "cell_type": "code",
   "execution_count": 77,
   "id": "776a33a1",
   "metadata": {},
   "outputs": [],
   "source": [
    "# best_hyperparameters = tuner.get_best_hyperparameters(1)[0]"
   ]
  },
  {
   "cell_type": "code",
   "execution_count": 78,
   "id": "bedd3c14",
   "metadata": {},
   "outputs": [],
   "source": [
    "# best_model.summary()"
   ]
  },
  {
   "cell_type": "code",
   "execution_count": null,
   "id": "c678aea5",
   "metadata": {},
   "outputs": [],
   "source": [
    "# I need to resbuild a model here."
   ]
  },
  {
   "cell_type": "code",
   "execution_count": 92,
   "id": "b83d5177",
   "metadata": {},
   "outputs": [],
   "source": [
    "y_pred_all = hypermodel.predict(x_all)\n",
    "y_pred_test = hypermodel.predict(x_test)"
   ]
  },
  {
   "cell_type": "code",
   "execution_count": 93,
   "id": "1824a7b1",
   "metadata": {},
   "outputs": [],
   "source": [
    "y_pred_all = (y_pred_all>0.5).astype(int)\n",
    "y_pred_test = (y_pred_test>0.5).astype(int)"
   ]
  },
  {
   "cell_type": "code",
   "execution_count": 94,
   "id": "bc304e4e",
   "metadata": {},
   "outputs": [
    {
     "data": {
      "image/png": "[encoded data removed]",
      "text/plain": [
       "<Figure size 576x396 with 2 Axes>"
      ]
     },
     "metadata": {},
     "output_type": "display_data"
    }
   ],
   "source": [
    "# Showing the confusion matrix\n",
    "\n",
    "cm = metrics.confusion_matrix(y_test, y_pred_test)\n",
    "labels = ['True Neg','False Pos','False Neg','True Pos']\n",
    "categories = ['0', '1']\n",
    "make_confusion_matrix(cm, group_names=labels, categories=categories, cmap='Blues')"
   ]
  },
  {
   "cell_type": "code",
   "execution_count": 95,
   "id": "7a582d67",
   "metadata": {},
   "outputs": [
    {
     "name": "stdout",
     "output_type": "stream",
     "text": [
      "              precision    recall  f1-score   support\n",
      "\n",
      "  No Default       0.97      1.00      0.98      1386\n",
      "     Default       0.50      0.09      0.15        46\n",
      "\n",
      "    accuracy                           0.97      1432\n",
      "   macro avg       0.74      0.54      0.57      1432\n",
      "weighted avg       0.96      0.97      0.96      1432\n",
      "\n"
     ]
    }
   ],
   "source": [
    "# Showing the classification report:\n",
    "\n",
    "target_names=[\"No Default\", \"Default\"]\n",
    "print(classification_report(y_test, y_pred_test, target_names=target_names))"
   ]
  },
  {
   "cell_type": "code",
   "execution_count": 96,
   "id": "ed93e1f3",
   "metadata": {},
   "outputs": [
    {
     "data": {
      "text/html": [
       "<div>\n",
       "<style scoped>\n",
       "    .dataframe tbody tr th:only-of-type {\n",
       "        vertical-align: middle;\n",
       "    }\n",
       "\n",
       "    .dataframe tbody tr th {\n",
       "        vertical-align: top;\n",
       "    }\n",
       "\n",
       "    .dataframe thead th {\n",
       "        text-align: right;\n",
       "    }\n",
       "</style>\n",
       "<table border=\"1\" class=\"dataframe\">\n",
       "  <thead>\n",
       "    <tr style=\"text-align: right;\">\n",
       "      <th></th>\n",
       "      <th>Measure</th>\n",
       "      <th>Train</th>\n",
       "      <th>Test</th>\n",
       "    </tr>\n",
       "  </thead>\n",
       "  <tbody>\n",
       "    <tr>\n",
       "      <th>0</th>\n",
       "      <td>ACCURACY</td>\n",
       "      <td>0.969371</td>\n",
       "      <td>0.967877</td>\n",
       "    </tr>\n",
       "    <tr>\n",
       "      <th>1</th>\n",
       "      <td>PRECISION</td>\n",
       "      <td>0.636364</td>\n",
       "      <td>0.500000</td>\n",
       "    </tr>\n",
       "    <tr>\n",
       "      <th>2</th>\n",
       "      <td>RECALL</td>\n",
       "      <td>0.120690</td>\n",
       "      <td>0.086957</td>\n",
       "    </tr>\n",
       "    <tr>\n",
       "      <th>3</th>\n",
       "      <td>F1 SCORE</td>\n",
       "      <td>0.202899</td>\n",
       "      <td>0.148148</td>\n",
       "    </tr>\n",
       "    <tr>\n",
       "      <th>4</th>\n",
       "      <td>AUC</td>\n",
       "      <td>0.559194</td>\n",
       "      <td>0.542035</td>\n",
       "    </tr>\n",
       "  </tbody>\n",
       "</table>\n",
       "</div>"
      ],
      "text/plain": [
       "     Measure     Train      Test\n",
       "0   ACCURACY  0.969371  0.967877\n",
       "1  PRECISION  0.636364  0.500000\n",
       "2     RECALL  0.120690  0.086957\n",
       "3   F1 SCORE  0.202899  0.148148\n",
       "4        AUC  0.559194  0.542035"
      ]
     },
     "execution_count": 96,
     "metadata": {},
     "output_type": "execute_result"
    }
   ],
   "source": [
    "# Showing the results performance.\n",
    "\n",
    "resultsDF = performanceMetricsDF(metrics, y_all, y_pred_all, \n",
    "                                 y_test, y_pred_test)\n",
    "resultsDF"
   ]
  },
  {
   "cell_type": "code",
   "execution_count": null,
   "id": "68c06283",
   "metadata": {},
   "outputs": [],
   "source": []
  },
  {
   "cell_type": "code",
   "execution_count": null,
   "id": "c0587ee8",
   "metadata": {},
   "outputs": [],
   "source": []
  },
  {
   "cell_type": "code",
   "execution_count": null,
   "id": "9be63f64",
   "metadata": {},
   "outputs": [],
   "source": []
  },
  {
   "cell_type": "markdown",
   "id": "0d7af136",
   "metadata": {},
   "source": [
    "#### Using Scikit Learn wrapper:"
   ]
  },
  {
   "cell_type": "markdown",
   "id": "abf9e7b0",
   "metadata": {},
   "source": [
    "https://machinelearningmastery.com/use-keras-deep-learning-models-scikit-learn-python/"
   ]
  },
  {
   "cell_type": "code",
   "execution_count": null,
   "id": "41fe316b",
   "metadata": {
    "scrolled": true
   },
   "outputs": [],
   "source": [
    "# keras_classifier = KerasClassifier(build_fn=create_model, verbose=1)\n",
    "# # epochs=50, batch_size=256"
   ]
  },
  {
   "cell_type": "code",
   "execution_count": null,
   "id": "80cd3753",
   "metadata": {
    "scrolled": true
   },
   "outputs": [],
   "source": [
    "# create model\n",
    "# evaluate using 10-fold cross validation\n",
    "\n",
    "# kfold = StratifiedKFold(n_splits=10, shuffle=True, random_state=SEED)\n",
    "# results = cross_val_score(keras_classifier, X_train, y_train, cv=kfold)\n",
    "# print(results.mean())\n",
    "# print(results.std())"
   ]
  },
  {
   "cell_type": "code",
   "execution_count": null,
   "id": "df03b5dc",
   "metadata": {
    "scrolled": false
   },
   "outputs": [],
   "source": [
    "# optimizers = ['rmsprop', 'adam']\n",
    "# init = ['glorot_uniform', 'normal', 'uniform']\n",
    "# epochs = [50, 100, 150]\n",
    "# batches = [64, 128, 256]\n",
    "\n",
    "# param_grid = dict(optim=optimizers, epochs=epochs, batch_size=batches, init=init)\n",
    "\n",
    "# random_search = RandomizedSearchCV(estimator=keras_classifier, param_distributions=param_grid)\n",
    "\n",
    "# random_search_results = grid.fit(X_train, y_train)\n",
    "\n",
    "\n",
    "# # summarize results\n",
    "# print(\"Best: %f using %s\" % (random_search_results.best_score_, random_search_results.best_params_))"
   ]
  },
  {
   "cell_type": "code",
   "execution_count": null,
   "id": "0c62b89e",
   "metadata": {
    "scrolled": true
   },
   "outputs": [],
   "source": [
    "# means = random_search_results.cv_results_['mean_test_score']\n",
    "# stds = random_search_results.cv_results_['std_test_score']\n",
    "# params = random_search_results.cv_results_['params']\n",
    "# for mean, stdev, param in zip(means, stds, params):\n",
    "#     print(\"%f (%f) with: %r\" % (mean, stdev, param))"
   ]
  },
  {
   "cell_type": "markdown",
   "id": "29375b4c",
   "metadata": {},
   "source": [
    "#### Building the model:"
   ]
  },
  {
   "cell_type": "code",
   "execution_count": null,
   "id": "cd6ea2ea",
   "metadata": {
    "scrolled": true
   },
   "outputs": [],
   "source": [
    "# Now that we have the best hyper parameters we can build the model:\n",
    "\n",
    "# classifier = create_model(nn=16, here i should include all the found parameters)"
   ]
  },
  {
   "cell_type": "code",
   "execution_count": null,
   "id": "95422cf4",
   "metadata": {
    "scrolled": true
   },
   "outputs": [],
   "source": [
    "classifier.summary()"
   ]
  },
  {
   "cell_type": "code",
   "execution_count": null,
   "id": "5a52577f",
   "metadata": {
    "scrolled": true
   },
   "outputs": [],
   "source": [
    "# Path + name of the file we wanna create.\n",
    "path_checkpoint = \"First_model.h5\"\n",
    "\n",
    "early_stopping = EarlyStopping(monitor=\"val_loss\", patience=10, mode=\"auto\") # I don't know if i should use this.\n",
    "\n",
    "model_save = ModelCheckpoint(monitor=\"val_loss\", filepath=path_checkpoint, verbose=1, \n",
    "                             save_best_only=True)\n",
    "\n",
    "Hist_first = History()"
   ]
  },
  {
   "cell_type": "code",
   "execution_count": null,
   "id": "b1155b2d",
   "metadata": {
    "scrolled": true
   },
   "outputs": [],
   "source": [
    "hist = classifier.fit(X_train, y_train,  \n",
    "                      batch_size=64,\n",
    "                      validation_split=0.2,\n",
    "                      # the number of epochs can be high, early stopping will stop training when the val_loss is not improving\n",
    "                      epochs=1000, \n",
    "                      callbacks = [early_stopping, model_save, Hist_first])"
   ]
  },
  {
   "cell_type": "code",
   "execution_count": null,
   "id": "1fdbad24",
   "metadata": {
    "scrolled": true
   },
   "outputs": [],
   "source": [
    "y_pred_train = classifier.predict(X_train)\n",
    "y_pred_test = classifier.predict(X_test)"
   ]
  },
  {
   "cell_type": "code",
   "execution_count": null,
   "id": "4abec128",
   "metadata": {
    "scrolled": true
   },
   "outputs": [],
   "source": [
    "# Converting the predictions to the right format:\n",
    "\n",
    "y_pred_train=(y_pred_train>0.5).astype(int)\n",
    "y_pred_test=(y_pred_test>0.5).astype(int)"
   ]
  },
  {
   "cell_type": "code",
   "execution_count": null,
   "id": "8ebc5608",
   "metadata": {
    "scrolled": true
   },
   "outputs": [],
   "source": [
    "# Showing the confusion matrix\n",
    "cm = metrics.confusion_matrix(y_test,y_pred_test)\n",
    "labels = ['True Neg','False Pos','False Neg','True Pos']\n",
    "categories = ['0', '1']\n",
    "make_confusion_matrix(cm, group_names=labels, categories=categories, cmap='Blues')"
   ]
  },
  {
   "cell_type": "code",
   "execution_count": null,
   "id": "e8533a0c",
   "metadata": {
    "scrolled": true
   },
   "outputs": [],
   "source": [
    "# Showing the classification report:\n",
    "\n",
    "target_names=[\"No Default\", \"Default\"]\n",
    "print(classification_report(y_test, y_pred_test, target_names=target_names))"
   ]
  },
  {
   "cell_type": "code",
   "execution_count": null,
   "id": "6dc56301",
   "metadata": {
    "scrolled": true
   },
   "outputs": [],
   "source": [
    "# Showing the results performance.\n",
    "\n",
    "resultsDF = performanceMetricsDF(metrics, y_train, y_pred_train, \n",
    "                                 y_test, y_pred_test)\n",
    "resultsDF"
   ]
  },
  {
   "cell_type": "code",
   "execution_count": null,
   "id": "4ba7b2ca",
   "metadata": {
    "scrolled": true
   },
   "outputs": [],
   "source": [
    "# Visualizing the train and validation loss:\n",
    "\n",
    "visualize_loss(hist, \"Training and validation loss\")"
   ]
  },
  {
   "cell_type": "code",
   "execution_count": null,
   "id": "66fccfca",
   "metadata": {
    "scrolled": true
   },
   "outputs": [],
   "source": [
    "# Visualizing the train and validation accuracy:\n",
    "\n",
    "visualize_accuracy(hist, \"Training and validation accuracy\")"
   ]
  },
  {
   "cell_type": "code",
   "execution_count": null,
   "id": "d2c69731",
   "metadata": {},
   "outputs": [],
   "source": [
    "# Maybe i can also add other plots."
   ]
  },
  {
   "cell_type": "markdown",
   "id": "0a27ee66",
   "metadata": {},
   "source": [
    "## Using class_weight:"
   ]
  },
  {
   "cell_type": "code",
   "execution_count": null,
   "id": "52c0abe7",
   "metadata": {},
   "outputs": [],
   "source": [
    "# Getting the weights of each class\n",
    "\n",
    "class_weights=dict(enumerate(class_weight.compute_class_weight('balanced', \n",
    "                            classes=np.unique(y_train), y=y_train)))"
   ]
  },
  {
   "cell_type": "code",
   "execution_count": null,
   "id": "29862270",
   "metadata": {},
   "outputs": [],
   "source": [
    "# Now that we have the best hyper parameters we can build the model:\n",
    "\n",
    "# classifier = create_model(nn=16, here i should include all the found parameters)"
   ]
  },
  {
   "cell_type": "code",
   "execution_count": null,
   "id": "faea4868",
   "metadata": {},
   "outputs": [],
   "source": [
    "# Path + name of the file we wanna create.\n",
    "path_checkpoint = \"Second_model.h5\"\n",
    "\n",
    "early_stopping = EarlyStopping(monitor=\"val_loss\", patience=10, mode=\"auto\")\n",
    "\n",
    "model_save = ModelCheckpoint(monitor=\"val_loss\", filepath=path_checkpoint, verbose=1, \n",
    "                             save_best_only=True)\n",
    "\n",
    "Hist_second = History()"
   ]
  },
  {
   "cell_type": "code",
   "execution_count": null,
   "id": "48f50cbf",
   "metadata": {},
   "outputs": [],
   "source": [
    "# I SHOULD PAY ATTENTION TO THE MODEL NAME.\n",
    "\n",
    "hist = classifier.fit(X_train, y_train,  \n",
    "                      batch_size=64,\n",
    "                      validation_split=0.2,\n",
    "                      epochs=1000,\n",
    "                      callbacks = [early_stopping, model_save, Hist_second],  \n",
    "                      class_weight=class_weights\n",
    "                     )"
   ]
  },
  {
   "cell_type": "code",
   "execution_count": null,
   "id": "4d5b8f08",
   "metadata": {},
   "outputs": [],
   "source": [
    "y_pred_train = classifier.predict(X_train)\n",
    "y_pred_test = classifier.predict(X_test)"
   ]
  },
  {
   "cell_type": "code",
   "execution_count": null,
   "id": "ed47fca9",
   "metadata": {},
   "outputs": [],
   "source": [
    "# Converting the predictions to the right format:\n",
    "\n",
    "y_pred_train=(y_pred_train>0.5).astype(int)\n",
    "y_pred_test=(y_pred_test>0.5).astype(int)"
   ]
  },
  {
   "cell_type": "code",
   "execution_count": null,
   "id": "c0e99100",
   "metadata": {},
   "outputs": [],
   "source": [
    "# Showing the confusion matrix\n",
    "\n",
    "cm = metrics.confusion_matrix(y_test,y_pred_test)\n",
    "labels = ['True Neg','False Pos','False Neg','True Pos']\n",
    "categories = ['0', '1']\n",
    "make_confusion_matrix(cm, group_names=labels, categories=categories, cmap='Blues')"
   ]
  },
  {
   "cell_type": "code",
   "execution_count": null,
   "id": "b01de49b",
   "metadata": {},
   "outputs": [],
   "source": [
    "# Showing the classification report:\n",
    "\n",
    "target_names=[\"No Default\", \"Default\"]\n",
    "print(classification_report(y_test, y_pred_test, target_names=target_names))"
   ]
  },
  {
   "cell_type": "code",
   "execution_count": null,
   "id": "b0757e4d",
   "metadata": {},
   "outputs": [],
   "source": [
    "# Showing the results performance.\n",
    "\n",
    "resultsDF = performanceMetricsDF(metrics, y_train, y_pred_train, \n",
    "                                 y_test, y_pred_test)\n",
    "resultsDF"
   ]
  },
  {
   "cell_type": "code",
   "execution_count": null,
   "id": "e76a9277",
   "metadata": {},
   "outputs": [],
   "source": [
    "# Visualizing the train and validation loss:\n",
    "\n",
    "visualize_loss(hist, \"Training and validation loss\")"
   ]
  },
  {
   "cell_type": "code",
   "execution_count": null,
   "id": "8711d2f9",
   "metadata": {},
   "outputs": [],
   "source": [
    "# Visualizing the train and validation accuracy:\n",
    "\n",
    "visualize_accuracy(hist, \"Training and validation accuracy\")"
   ]
  },
  {
   "cell_type": "markdown",
   "id": "0fdab4f3",
   "metadata": {},
   "source": [
    "## Using a Focal Loss:"
   ]
  },
  {
   "cell_type": "markdown",
   "id": "e041a17a",
   "metadata": {},
   "source": [
    "https://github.com/umbertogriffo/focal-loss-keras\n",
    "- I should add few comments about the focal loss function, and why we choose to use it.\n",
    "- \"focal loss down-weights the well-classified examples. This has the net effect of putting more training emphasis on that data that is hard to classify. In a practical setting where we have a data imbalance, our majority class will quickly become well-classified since we have much more data for it. Thus, in order to insure that we also achieve high accuracy on our minority class, we can use the focal loss to give those minority class examples more relative weight during training.\""
   ]
  },
  {
   "cell_type": "code",
   "execution_count": null,
   "id": "04e097a3",
   "metadata": {
    "scrolled": true
   },
   "outputs": [],
   "source": []
  },
  {
   "cell_type": "code",
   "execution_count": null,
   "id": "03af2589",
   "metadata": {
    "scrolled": true
   },
   "outputs": [],
   "source": [
    "# MAKE SURE YOU CHOOSE THE RIGHT PARAMETERS, I NEED TO CHECK THAT OLD FILE AND SEE IF ITS THE SAME OR NOT.\n",
    "\n",
    "create_model(loss = focal_loss(gamma=1.5,alpha=0.25))"
   ]
  },
  {
   "cell_type": "code",
   "execution_count": null,
   "id": "f9ba97f4",
   "metadata": {
    "scrolled": true
   },
   "outputs": [],
   "source": [
    "# Path + name of the file we wanna create.\n",
    "path_checkpoint = \"Third_model.h5\"\n",
    "\n",
    "early_stopping = EarlyStopping(monitor=\"val_loss\", patience=10, mode=\"auto\")\n",
    "\n",
    "model_save = ModelCheckpoint(monitor=\"val_loss\", filepath=path_checkpoint, verbose=1, \n",
    "                             save_best_only=True)\n",
    "\n",
    "Hist_third = History()"
   ]
  },
  {
   "cell_type": "code",
   "execution_count": null,
   "id": "572ea3c6",
   "metadata": {},
   "outputs": [],
   "source": [
    "# I SHOULD PAY ATTENTION TO THE MODEL NAME.\n",
    "\n",
    "hist = classifier.fit(X_train, y_train,  \n",
    "                      batch_size=64,\n",
    "                      validation_split=0.2,\n",
    "                      epochs=1000,\n",
    "                      callbacks = [early_stopping, model_save, Hist_third], \n",
    "                     )"
   ]
  },
  {
   "cell_type": "code",
   "execution_count": null,
   "id": "5dc71e31",
   "metadata": {},
   "outputs": [],
   "source": [
    "y_pred_train = classifier.predict(X_train)\n",
    "y_pred_test = classifier.predict(X_test)"
   ]
  },
  {
   "cell_type": "code",
   "execution_count": null,
   "id": "f14aa9f0",
   "metadata": {},
   "outputs": [],
   "source": [
    "# Converting the predictions to the right format:\n",
    "\n",
    "y_pred_train=(y_pred_train>0.5).astype(int)\n",
    "y_pred_test=(y_pred_test>0.5).astype(int)"
   ]
  },
  {
   "cell_type": "code",
   "execution_count": null,
   "id": "ea4b1c97",
   "metadata": {},
   "outputs": [],
   "source": [
    "# Showing the confusion matrix\n",
    "\n",
    "cm = metrics.confusion_matrix(y_test,y_pred_test)\n",
    "labels = ['True Neg','False Pos','False Neg','True Pos']\n",
    "categories = ['0', '1']\n",
    "make_confusion_matrix(cm, group_names=labels, categories=categories, cmap='Blues')"
   ]
  },
  {
   "cell_type": "code",
   "execution_count": null,
   "id": "b33e65e9",
   "metadata": {},
   "outputs": [],
   "source": [
    "# Showing the classification report:\n",
    "\n",
    "target_names=[\"No Default\", \"Default\"]\n",
    "print(classification_report(y_test, y_pred_test, target_names=target_names))"
   ]
  },
  {
   "cell_type": "code",
   "execution_count": null,
   "id": "195a20b3",
   "metadata": {},
   "outputs": [],
   "source": [
    "# Showing the results performance.\n",
    "\n",
    "resultsDF = performanceMetricsDF(metrics, y_train, y_pred_train, \n",
    "                                 y_test, y_pred_test)\n",
    "resultsDF"
   ]
  },
  {
   "cell_type": "code",
   "execution_count": null,
   "id": "761fe5ef",
   "metadata": {},
   "outputs": [],
   "source": [
    "# Visualizing the train and validation loss:\n",
    "\n",
    "visualize_loss(hist, \"Training and validation loss\")"
   ]
  },
  {
   "cell_type": "code",
   "execution_count": null,
   "id": "29eda88b",
   "metadata": {},
   "outputs": [],
   "source": [
    "# Visualizing the train and validation accuracy:\n",
    "\n",
    "visualize_accuracy(hist, \"Training and validation accuracy\")"
   ]
  },
  {
   "cell_type": "markdown",
   "id": "e731e1de",
   "metadata": {},
   "source": [
    "## Using S.M.O.T.E:"
   ]
  },
  {
   "cell_type": "markdown",
   "id": "6712856b",
   "metadata": {},
   "source": [
    "- Should insert a small introduction about what S.M.O.T.E is."
   ]
  },
  {
   "cell_type": "code",
   "execution_count": null,
   "id": "c2be74e2",
   "metadata": {
    "scrolled": true
   },
   "outputs": [],
   "source": [
    "# S.M.O.T.E\n",
    "\n",
    "sm = SMOTE(k_neighbors=10, random_state=SEED)\n",
    "X_train, y_train = sm.fit_resample(X_train, y_train)"
   ]
  },
  {
   "cell_type": "code",
   "execution_count": null,
   "id": "e1f7960a",
   "metadata": {
    "scrolled": true
   },
   "outputs": [],
   "source": [
    "# MAKE SURE YOU CHOOSE THE RIGHT PARAMETERS, I NEED TO CHECK THAT OLD FILE AND SEE IF ITS THE SAME OR NOT.\n",
    "\n",
    "# create_model()"
   ]
  },
  {
   "cell_type": "code",
   "execution_count": null,
   "id": "fb4e0851",
   "metadata": {},
   "outputs": [],
   "source": [
    "# Path + name of the file we wanna create.\n",
    "path_checkpoint = \"Fourth_model.h5\"\n",
    "\n",
    "early_stopping = EarlyStopping(monitor=\"val_loss\", patience=10, mode=\"auto\")\n",
    "\n",
    "model_save = ModelCheckpoint(monitor=\"val_loss\", filepath=path_checkpoint, verbose=1, \n",
    "                             save_best_only=True)\n",
    "\n",
    "Hist_fourth = History()"
   ]
  },
  {
   "cell_type": "code",
   "execution_count": null,
   "id": "87744a91",
   "metadata": {},
   "outputs": [],
   "source": [
    "# I SHOULD PAY ATTENTION TO THE MODEL NAME.\n",
    "\n",
    "hist = classifier.fit(X_train, y_train,  \n",
    "                      batch_size=64,\n",
    "                      validation_split=0.2,\n",
    "                      epochs=1000,\n",
    "                      callbacks = [early_stopping, model_save, Hist_third], \n",
    "                     )"
   ]
  },
  {
   "cell_type": "code",
   "execution_count": null,
   "id": "af6e869c",
   "metadata": {},
   "outputs": [],
   "source": [
    "y_pred_train = classifier.predict(X_train)\n",
    "y_pred_test = classifier.predict(X_test)"
   ]
  },
  {
   "cell_type": "code",
   "execution_count": null,
   "id": "28494505",
   "metadata": {},
   "outputs": [],
   "source": [
    "# Converting the predictions to the right format:\n",
    "\n",
    "y_pred_train=(y_pred_train>0.5).astype(int)\n",
    "y_pred_test=(y_pred_test>0.5).astype(int)"
   ]
  },
  {
   "cell_type": "code",
   "execution_count": null,
   "id": "143affae",
   "metadata": {},
   "outputs": [],
   "source": [
    "# Showing the confusion matrix\n",
    "\n",
    "cm = metrics.confusion_matrix(y_test,y_pred_test)\n",
    "labels = ['True Neg','False Pos','False Neg','True Pos']\n",
    "categories = ['0', '1']\n",
    "make_confusion_matrix(cm, group_names=labels, categories=categories, cmap='Blues')"
   ]
  },
  {
   "cell_type": "code",
   "execution_count": null,
   "id": "84f62fc1",
   "metadata": {},
   "outputs": [],
   "source": [
    "# Showing the classification report:\n",
    "\n",
    "target_names=[\"No Default\", \"Default\"]\n",
    "print(classification_report(y_test, y_pred_test, target_names=target_names))"
   ]
  },
  {
   "cell_type": "code",
   "execution_count": null,
   "id": "ea2b9dc7",
   "metadata": {},
   "outputs": [],
   "source": [
    "# Showing the results performance.\n",
    "\n",
    "resultsDF = performanceMetricsDF(metrics, y_train, y_pred_train, \n",
    "                                 y_test, y_pred_test)\n",
    "resultsDF"
   ]
  },
  {
   "cell_type": "code",
   "execution_count": null,
   "id": "e55b9950",
   "metadata": {},
   "outputs": [],
   "source": [
    "# Visualizing the train and validation loss:\n",
    "\n",
    "visualize_loss(hist, \"Training and validation loss\")"
   ]
  },
  {
   "cell_type": "code",
   "execution_count": null,
   "id": "f36b99c5",
   "metadata": {},
   "outputs": [],
   "source": [
    "# Visualizing the train and validation accuracy:\n",
    "\n",
    "visualize_accuracy(hist, \"Training and validation accuracy\")"
   ]
  },
  {
   "cell_type": "markdown",
   "id": "8d47be6b",
   "metadata": {},
   "source": [
    "## Results discussion:"
   ]
  },
  {
   "cell_type": "markdown",
   "id": "a63acf26",
   "metadata": {},
   "source": [
    "- Insert results discussion here:"
   ]
  },
  {
   "cell_type": "code",
   "execution_count": null,
   "id": "3ff69c83",
   "metadata": {
    "scrolled": true
   },
   "outputs": [],
   "source": [
    "t2 = time.perf_counter()\n",
    "print('time taken to run:',(t2-t1)/60.0)"
   ]
  }
 ],
 "metadata": {
  "kernelspec": {
   "display_name": "Python 3 (ipykernel)",
   "language": "python",
   "name": "python3"
  },
  "language_info": {
   "codemirror_mode": {
    "name": "ipython",
    "version": 3
   },
   "file_extension": ".py",
   "mimetype": "text/x-python",
   "name": "python",
   "nbconvert_exporter": "python",
   "pygments_lexer": "ipython3",
   "version": "3.9.7"
  }
 },
 "nbformat": 4,
 "nbformat_minor": 5
}
