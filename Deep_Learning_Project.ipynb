{
 "cells": [
  {
   "cell_type": "markdown",
   "id": "fd155408",
   "metadata": {},
   "source": [
    "# <center> Deep Learning Project:"
   ]
  },
  {
   "cell_type": "markdown",
   "id": "a954f1cd",
   "metadata": {},
   "source": [
    "> - __Ahmed Abdelazeem__ (m20210433)\n",
    "> - __Omar Jarir__ (m20201378)  \n",
    "> - __Chung-Ting Huang__ (m20210437) "
   ]
  },
  {
   "cell_type": "markdown",
   "id": "680a8114",
   "metadata": {},
   "source": [
    "- The project is organized as follows:"
   ]
  },
  {
   "cell_type": "code",
   "execution_count": 1,
   "id": "31fcad8c",
   "metadata": {
    "scrolled": true
   },
   "outputs": [],
   "source": [
    "# !pip install keras-tuner --upgrade\n",
    "# !pip install -q -U keras-tuner\n",
    "#!pip install findspark\n",
    "#!pip install tensorflow-addons"
   ]
  },
  {
   "cell_type": "code",
   "execution_count": 2,
   "id": "0f3facbb",
   "metadata": {
    "scrolled": true
   },
   "outputs": [],
   "source": [
    "import time\n",
    "t1 = time.perf_counter()"
   ]
  },
  {
   "cell_type": "markdown",
   "id": "70d3f3c4",
   "metadata": {},
   "source": [
    "- __Importing the necessary libraries 📚:__"
   ]
  },
  {
   "cell_type": "code",
   "execution_count": 3,
   "id": "d8c7afd4",
   "metadata": {
    "scrolled": true
   },
   "outputs": [],
   "source": [
    "import os\n",
    "from zipfile import ZipFile\n",
    "import numpy as np\n",
    "import random as python_random\n",
    "import pandas as pd\n",
    "import matplotlib.pyplot as plt\n",
    "import seaborn as sns\n",
    "from tqdm import tqdm \n",
    "import tensorflow as tf\n",
    "from tensorflow import keras \n",
    "import keras_tuner as kt\n",
    "import tensorflow_addons as tfa"
   ]
  },
  {
   "cell_type": "code",
   "execution_count": 4,
   "id": "67be2fc2",
   "metadata": {
    "scrolled": true
   },
   "outputs": [],
   "source": [
    "from keras.models import Model, Sequential\n",
    "from keras import layers\n",
    "#from keras.layers import Dense, BatchNormalization, LSTM, Embedding, Input, Dropout, SimpleRNN, RNN, Bidirectional\n",
    "#from keras.Optimizer import Adam, SGD, RMSprop, Adam, Adadelta, Adagrad, Adamax, Nadam, Ftrl, schedules\n",
    "from keras.callbacks import EarlyStopping, ModelCheckpoint, CSVLogger, History, ReduceLROnPlateau \n",
    "#from keras.utils import plot_model\n",
    "from keras import optimizers\n",
    "from keras.wrappers.scikit_learn import KerasClassifier, KerasRegressor \n",
    "import keras.backend as K\n",
    "\n",
    "from sklearn.model_selection import GridSearchCV, RandomizedSearchCV, train_test_split, cross_val_score, StratifiedKFold, KFold\n",
    "from sklearn.model_selection import TimeSeriesSplit\n",
    "from sklearn.feature_selection import SelectKBest, chi2, mutual_info_classif\n",
    "from sklearn.preprocessing import MinMaxScaler, StandardScaler\n",
    "from sklearn.metrics import mean_squared_error, r2_score\n",
    "from sklearn.utils import class_weight\n",
    "\n",
    "from pprint import pprint\n",
    "import IPython"
   ]
  },
  {
   "cell_type": "code",
   "execution_count": 7,
   "id": "41169d55",
   "metadata": {
    "scrolled": true
   },
   "outputs": [],
   "source": [
    "from sklearn import preprocessing\n",
    "from sklearn.model_selection import train_test_split,cross_val_score\n",
    "from sklearn import linear_model\n",
    "from sklearn import metrics\n",
    "from sklearn import tree\n",
    "from sklearn.ensemble import RandomForestClassifier\n",
    "from sklearn.ensemble import HistGradientBoostingClassifier\n",
    "from sklearn.ensemble import GradientBoostingClassifier\n",
    "from sklearn.model_selection import GridSearchCV\n",
    "from sklearn.metrics import confusion_matrix\n",
    "import category_encoders as ce\n",
    "from sklearn.metrics import accuracy_score,classification_report,confusion_matrix,mean_squared_error, ConfusionMatrixDisplay\n",
    "from sklearn.preprocessing import MinMaxScaler, StandardScaler\n",
    "\n",
    "from imblearn.over_sampling import SMOTE\n",
    "\n",
    "from sklearn.ensemble import RandomForestClassifier\n",
    "import keras_tuner as kt"
   ]
  },
  {
   "cell_type": "code",
   "execution_count": 8,
   "id": "7c52987b",
   "metadata": {
    "scrolled": true
   },
   "outputs": [],
   "source": [
    "import warnings\n",
    "warnings.filterwarnings(\"ignore\")"
   ]
  },
  {
   "cell_type": "code",
   "execution_count": 24,
   "id": "8b710363",
   "metadata": {
    "scrolled": true
   },
   "outputs": [],
   "source": [
    "SEED = 2022\n",
    "\n",
    "LEARNING_RATE = 0.001\n",
    "BATCH_SIZE = 256\n",
    "EPOCHS = 10\n",
    "time_steps=5"
   ]
  },
  {
   "cell_type": "markdown",
   "id": "bb6defba",
   "metadata": {},
   "source": [
    "Fixing the random number seed to ensure our results are reproducible."
   ]
  },
  {
   "cell_type": "code",
   "execution_count": 41,
   "id": "195b17cb",
   "metadata": {
    "scrolled": true
   },
   "outputs": [],
   "source": [
    "session = K.get_session()\n",
    "# init_op = tf.group(tf.tables_initializer(),tf.global_variables_initializer(),\n",
    "# tf.local_variables_initializer())\n",
    "#session.run(init_op)\n",
    "\n",
    "np.random.seed(SEED)\n",
    "tf.random.set_seed(SEED)\n",
    "python_random.seed(SEED)"
   ]
  },
  {
   "cell_type": "markdown",
   "id": "87c1d56c",
   "metadata": {},
   "source": [
    "- __Helper functions:__"
   ]
  },
  {
   "cell_type": "code",
   "execution_count": 42,
   "id": "b37a0c45",
   "metadata": {
    "scrolled": true
   },
   "outputs": [],
   "source": [
    "# Function to create dataframe with metrics\n",
    "\n",
    "def performanceMetricsDF(metricsObj, yTrain, yPredTrain, yTest, yPredTest):\n",
    "    measures_list = ['ACCURACY','PRECISION', 'RECALL','F1 SCORE','AUC']\n",
    "    train_results = [metricsObj.accuracy_score(yTrain, yPredTrain),\n",
    "                metricsObj.precision_score(yTrain, yPredTrain),\n",
    "                metricsObj.recall_score(yTrain, yPredTrain, average='binary'),\n",
    "                metricsObj.f1_score(yTrain, yPredTrain, average='binary'),\n",
    "                metricsObj.roc_auc_score(yTrain, yPredTrain),    \n",
    "                ]\n",
    "    test_results = [metricsObj.accuracy_score(yTest, yPredTest),\n",
    "               metricsObj.precision_score(yTest, yPredTest),\n",
    "               metricsObj.recall_score(yTest, yPredTest, average='binary'),\n",
    "               metricsObj.f1_score(yTest, yPredTest, average='binary'),\n",
    "               metricsObj.roc_auc_score(yTest, yPredTest), \n",
    "               ]\n",
    "    resultsDF = pd.DataFrame({'Measure': measures_list, 'Train': train_results, 'Test':test_results})\n",
    "    return(resultsDF)"
   ]
  },
  {
   "cell_type": "code",
   "execution_count": 43,
   "id": "6221a8c1",
   "metadata": {
    "scrolled": true
   },
   "outputs": [],
   "source": [
    "# Function to plot confusion matrix - Adapted from https://github.com/DTrimarchi10/confusion_matrix/blob/master/cf_matrix.py\n",
    "def make_confusion_matrix(cf,\n",
    "                          group_names=None,\n",
    "                          categories='auto',\n",
    "                          count=True,\n",
    "                          percent=True,\n",
    "                          cbar=True,\n",
    "                          xyticks=True,\n",
    "                          xyplotlabels=True,\n",
    "                          sum_stats=True,\n",
    "                          figsize=None,\n",
    "                          cmap='Blues',\n",
    "                          title=None):\n",
    "    '''\n",
    "    This function will make a pretty plot of an sklearn Confusion Matrix cm using a Seaborn heatmap visualization.\n",
    "    Arguments\n",
    "    ---------\n",
    "    cf:            confusion matrix to be passed in\n",
    "    group_names:   List of strings that represent the labels row by row to be shown in each square.\n",
    "    categories:    List of strings containing the categories to be displayed on the x,y axis. Default is 'auto'\n",
    "    count:         If True, show the raw number in the confusion matrix. Default is True.\n",
    "    normalize:     If True, show the proportions for each category. Default is True.\n",
    "    cbar:          If True, show the color bar. The cbar values are based off the values in the confusion matrix.\n",
    "                   Default is True.\n",
    "    xyticks:       If True, show x and y ticks. Default is True.\n",
    "    xyplotlabels:  If True, show 'True Label' and 'Predicted Label' on the figure. Default is True.\n",
    "    sum_stats:     If True, display summary statistics below the figure. Default is True.\n",
    "    figsize:       Tuple representing the figure size. Default will be the matplotlib rcParams value.\n",
    "    cmap:          Colormap of the values displayed from matplotlib.pyplot.cm. Default is 'Blues'\n",
    "                   See http://matplotlib.org/examples/color/colormaps_reference.html\n",
    "                   \n",
    "    title:         Title for the heatmap. Default is None.\n",
    "    '''\n",
    "\n",
    "\n",
    "    # CODE TO GENERATE TEXT INSIDE EACH SQUARE\n",
    "    blanks = ['' for i in range(cf.size)]\n",
    "\n",
    "    if group_names and len(group_names)==cf.size:\n",
    "        group_labels = [\"{}\\n\".format(value) for value in group_names]\n",
    "    else:\n",
    "        group_labels = blanks\n",
    "\n",
    "    if count:\n",
    "        group_counts = [\"{0:0.0f}\\n\".format(value) for value in cf.flatten()]\n",
    "    else:\n",
    "        group_counts = blanks\n",
    "\n",
    "    if percent:\n",
    "        group_percentages = [\"{0:.2%}\".format(value) for value in cf.flatten()/np.sum(cf)]\n",
    "    else:\n",
    "        group_percentages = blanks\n",
    "\n",
    "    box_labels = [f\"{v1}{v2}{v3}\".strip() for v1, v2, v3 in zip(group_labels,group_counts,group_percentages)]\n",
    "    box_labels = np.asarray(box_labels).reshape(cf.shape[0],cf.shape[1])\n",
    "\n",
    "\n",
    "    # CODE TO GENERATE SUMMARY STATISTICS & TEXT FOR SUMMARY STATS\n",
    "    if sum_stats:\n",
    "        #Accuracy is sum of diagonal divided by total observations\n",
    "        accuracy  = np.trace(cf) / float(np.sum(cf))\n",
    "\n",
    "        #if it is a binary confusion matrix, show some more stats\n",
    "        if len(cf)==2:\n",
    "            #Metrics for Binary Confusion Matrices\n",
    "            precision = cf[1,1] / sum(cf[:,1])\n",
    "            recall    = cf[1,1] / sum(cf[1,:])\n",
    "            f1_score  = 2*precision*recall / (precision + recall)\n",
    "            stats_text = \"\\n\\nAccuracy={:0.3f}\\nPrecision={:0.3f}\\nRecall={:0.3f}\\nF1 Score={:0.3f}\".format(\n",
    "                accuracy,precision,recall,f1_score)\n",
    "        else:\n",
    "            stats_text = \"\\n\\nAccuracy={:0.3f}\".format(accuracy)\n",
    "    else:\n",
    "        stats_text = \"\"\n",
    "\n",
    "\n",
    "    # SET FIGURE PARAMETERS ACCORDING TO OTHER ARGUMENTS\n",
    "    if figsize==None:\n",
    "        #Get default figure size if not set\n",
    "        figsize = plt.rcParams.get('figure.figsize')\n",
    "\n",
    "    if xyticks==False:\n",
    "        #Do not show categories if xyticks is False\n",
    "        categories=False\n",
    "\n",
    "\n",
    "    # MAKE THE HEATMAP VISUALIZATION\n",
    "    plt.figure(figsize=figsize)\n",
    "    ax = sns.heatmap(cf,annot=box_labels, fmt=\"\",cmap=cmap,cbar=cbar,xticklabels=categories,yticklabels=categories)\n",
    "\n",
    "    if xyplotlabels:\n",
    "        plt.ylabel('True label')\n",
    "        plt.xlabel('Predicted label' + stats_text)\n",
    "    else:\n",
    "        plt.xlabel(stats_text)\n",
    "    \n",
    "    if title:\n",
    "        plt.title(title)"
   ]
  },
  {
   "cell_type": "code",
   "execution_count": 44,
   "id": "9d09be78",
   "metadata": {
    "scrolled": true
   },
   "outputs": [],
   "source": [
    "# Function to find outliers on columns based on percentile\n",
    "def removeOutliers(df, colList, lowPercentile=0.05, highPercentile=0.95, verbose=False):\n",
    "    quant_df = df[colList].quantile([lowPercentile, highPercentile])\n",
    "    if verbose:\n",
    "        print(quant_df)\n",
    "    for name in list(df[colList].columns):\n",
    "        df = df[(df[name] >= quant_df.loc[lowPercentile, name]) & (df[name] <= quant_df.loc[highPercentile, name])]\n",
    "    return df"
   ]
  },
  {
   "cell_type": "code",
   "execution_count": 45,
   "id": "94c74269",
   "metadata": {
    "scrolled": true
   },
   "outputs": [],
   "source": [
    "def create_model(nl=1, nn=256):\n",
    "    model = Sequential()\n",
    "    model.add(Dense(16, input_shape=(2,), activation=\"relu\"))\n",
    "    # Add as many hidden layers as specified in nl\n",
    "    for i in range(nl):\n",
    "        # Layers have nn neurons\n",
    "        model.add(Dense(nn, activation='relu'))\n",
    "    # End defining and compiling your model..."
   ]
  },
  {
   "cell_type": "code",
   "execution_count": 46,
   "id": "4a64253c",
   "metadata": {
    "scrolled": true
   },
   "outputs": [],
   "source": [
    "def show_raw_visualization(data):\n",
    "    time_data = data[date_time_key]\n",
    "    fig, axes = plt.subplots(\n",
    "        nrows=7, ncols=2, figsize=(15, 20), dpi=80, facecolor=\"w\", edgecolor=\"k\"\n",
    "    )\n",
    "    for i in range(len(feature_keys)):\n",
    "        key = feature_keys[i]\n",
    "        c = colors[i % (len(colors))]\n",
    "        t_data = data[key]\n",
    "        t_data.index = time_data\n",
    "        t_data.head()\n",
    "        ax = t_data.plot(\n",
    "            ax=axes[i // 2, i % 2],\n",
    "            color=c,\n",
    "            title=\"{} - {}\".format(titles[i], key),\n",
    "            rot=25,\n",
    "        )\n",
    "        ax.legend([titles[i]])\n",
    "    plt.tight_layout()\n",
    "    plt.show()"
   ]
  },
  {
   "cell_type": "code",
   "execution_count": 47,
   "id": "9edb99cc",
   "metadata": {
    "scrolled": true
   },
   "outputs": [],
   "source": [
    "def show_heatmap(data):\n",
    "    plt.matshow(data.corr())\n",
    "    plt.xticks(range(data.shape[1]), data.columns, fontsize=14, rotation=90)\n",
    "    plt.gca().xaxis.tick_bottom()\n",
    "    plt.yticks(range(data.shape[1]), data.columns, fontsize=14)\n",
    "\n",
    "    cb = plt.colorbar()\n",
    "    cb.ax.tick_params(labelsize=14)\n",
    "    plt.title(\"Feature Correlation Heatmap\", fontsize=14)\n",
    "    plt.tight_layout()\n",
    "    plt.show()\n"
   ]
  },
  {
   "cell_type": "code",
   "execution_count": 48,
   "id": "e25ab3cc",
   "metadata": {
    "scrolled": true
   },
   "outputs": [],
   "source": [
    "# This function plot the \"loss\" and the \"val_loss\" variables.\n",
    "def visualize_loss(history, title):\n",
    "    \"\"\"\n",
    "    history: history of the model.\n",
    "    title: Title of the plot.\n",
    "    \"\"\"\n",
    "    loss = history.history[\"loss\"]\n",
    "    val_loss = history.history[\"val_loss\"]\n",
    "    epochs = range(1, len(loss)+1)\n",
    "    plt.plot(epochs, loss, \"g\", label=\"Training loss\")\n",
    "    plt.plot(epochs, val_loss, \"b\", label=\"Validation loss\")\n",
    "    plt.title(title)\n",
    "    plt.xlabel(\"Epochs\")\n",
    "    plt.ylabel(\"Loss\")\n",
    "    plt.legend()\n",
    "    plt.tight_layout()\n",
    "    plt.show()"
   ]
  },
  {
   "cell_type": "code",
   "execution_count": 49,
   "id": "02379c28",
   "metadata": {
    "scrolled": true
   },
   "outputs": [],
   "source": [
    "# This function plot the \"accuracy\" and the \"val_accuracy\" variables.\n",
    "def visualize_accuracy(history, title):\n",
    "    \"\"\"\n",
    "    history: history of the model.\n",
    "    title: Title of the plot.\n",
    "    \"\"\"\n",
    "    loss = history.history[\"accuracy\"]\n",
    "    val_loss = history.history[\"val_accuracy\"]\n",
    "    epochs = range(1, len(loss)+1)\n",
    "    plt.plot(epochs, loss, \"g\", label=\"Training accuracy\")\n",
    "    plt.plot(epochs, val_loss, \"b\", label=\"Validation accuracy\")\n",
    "    plt.title(title)\n",
    "    plt.xlabel(\"Epochs\")\n",
    "    plt.ylabel(\"Accuracy\")\n",
    "    plt.legend()\n",
    "    plt.tight_layout()\n",
    "    plt.show()"
   ]
  },
  {
   "cell_type": "code",
   "execution_count": 34,
   "id": "4185d55e",
   "metadata": {
    "scrolled": true
   },
   "outputs": [],
   "source": [
    "# This function plot the \"error\" and the \"val_error\" variables.\n",
    "def visualize_error(history, title):\n",
    "    \"\"\"\n",
    "    history: history of the model.\n",
    "    title: Title of the plot.\n",
    "    \"\"\"\n",
    "    error = history.history[\"mae\"]\n",
    "    val_error = history.history[\"val_mae\"]\n",
    "    epochs = range(len(error))\n",
    "    plt.figure(figsize=(10, 10))\n",
    "    plt.plot(epochs, error, \"b\", label=\"Training error\")\n",
    "    plt.plot(epochs, val_error, \"r\", label=\"Validation error\")\n",
    "    plt.title(title)\n",
    "    plt.xlabel(\"Epochs\")\n",
    "    plt.ylabel(\"Error\")\n",
    "    plt.legend()\n",
    "    plt.tight_layout()\n",
    "    plt.show()"
   ]
  },
  {
   "cell_type": "code",
   "execution_count": 50,
   "id": "6a3d3c87",
   "metadata": {
    "scrolled": true
   },
   "outputs": [],
   "source": [
    "def show_plot(plot_data, delta, title):\n",
    "    \"\"\"\n",
    "    plot_data:\n",
    "    delta:\n",
    "    title:\n",
    "    \"\"\"\n",
    "    labels = [\"History\", \"True Future\", \"Model Prediction\"]\n",
    "    marker = [\".-\", \"rx\", \"go\"]\n",
    "    time_steps = list(range(-(plot_data[0].shape[0]), 0))\n",
    "    if delta:\n",
    "        future = delta\n",
    "    else:\n",
    "        future = 0\n",
    "\n",
    "    plt.title(title)\n",
    "    for i, val in enumerate(plot_data):\n",
    "        if i:\n",
    "            plt.plot(future, plot_data[i], marker[i], markersize=10, label=labels[i])\n",
    "        else:\n",
    "            plt.plot(time_steps, plot_data[i].flatten(), marker[i], label=labels[i])\n",
    "    plt.legend()\n",
    "    plt.xlim([time_steps[0], (future + 5) * 2])\n",
    "    plt.xlabel(\"Time-Step\")\n",
    "    plt.tight_layout()\n",
    "    plt.show()\n",
    "    return"
   ]
  },
  {
   "cell_type": "code",
   "execution_count": 51,
   "id": "cc8b92b3",
   "metadata": {
    "scrolled": true
   },
   "outputs": [],
   "source": [
    "def plot_predictions(val, predicted, title, date):\n",
    "    plt.figure(figsize=(16,4))\n",
    "    plt.plot(date, val, color='blue',label='Actual') # date, \n",
    "    plt.plot(date,predicted, alpha=0.7, color='red',label='Predict') # date, \n",
    "    plt.title(title)\n",
    "    plt.xlabel('Date')\n",
    "    plt.ylabel('Something')\n",
    "    plt.legend()\n",
    "    plt.tight_layout()\n",
    "    plt.show()"
   ]
  },
  {
   "cell_type": "code",
   "execution_count": 37,
   "id": "de0f7d91",
   "metadata": {},
   "outputs": [],
   "source": [
    "# def focal_loss(gamma=2., alpha=4.):\n",
    "\n",
    "#     gamma = float(gamma)\n",
    "#     alpha = float(alpha)\n",
    "\n",
    "#     def focal_loss_fixed(y_true, y_pred):\n",
    "#         \"\"\"Focal loss for multi-classification\n",
    "#         FL(p_t)=-alpha(1-p_t)^{gamma}ln(p_t)\n",
    "#         Notice: y_pred is probability after softmax\n",
    "#         gradient is d(Fl)/d(p_t) not d(Fl)/d(x) as described in paper\n",
    "#         d(Fl)/d(p_t) * [p_t(1-p_t)] = d(Fl)/d(x)\n",
    "#         Focal Loss for Dense Object Detection\n",
    "#         https://arxiv.org/abs/1708.02002\n",
    "\n",
    "#         Arguments:\n",
    "#             y_true {tensor} -- ground truth labels, shape of [batch_size, num_cls]\n",
    "#             y_pred {tensor} -- model's output, shape of [batch_size, num_cls]\n",
    "\n",
    "#         Keyword Arguments:\n",
    "#             gamma {float} -- (default: {2.0})\n",
    "#             alpha {float} -- (default: {4.0})\n",
    "\n",
    "#         Returns:\n",
    "#             [tensor] -- loss.\n",
    "#         \"\"\"\n",
    "#         epsilon = 1.e-9\n",
    "#         y_true = tf.convert_to_tensor(y_true, tf.float32)\n",
    "#         y_pred = tf.convert_to_tensor(y_pred, tf.float32)\n",
    "\n",
    "#         model_out = tf.add(y_pred, epsilon)\n",
    "#         ce = tf.multiply(y_true, -tf.math.log(model_out))\n",
    "#         weight = tf.multiply(y_true, tf.pow(tf.subtract(1., model_out), gamma))\n",
    "#         fl = tf.multiply(alpha, tf.multiply(weight, ce))\n",
    "#         reduced_fl = tf.reduce_max(fl, axis=1)\n",
    "#         return tf.reduce_mean(reduced_fl)\n",
    "#     return focal_loss_fixed"
   ]
  },
  {
   "cell_type": "markdown",
   "id": "25c87322",
   "metadata": {},
   "source": [
    "- __Loading the dataset:__"
   ]
  },
  {
   "cell_type": "code",
   "execution_count": 52,
   "id": "d04c93f9",
   "metadata": {
    "scrolled": true
   },
   "outputs": [],
   "source": [
    "ds= pd.read_csv(\"bankruptcy.csv\")"
   ]
  },
  {
   "cell_type": "code",
   "execution_count": 53,
   "id": "b589e519",
   "metadata": {
    "scrolled": true
   },
   "outputs": [
    {
     "data": {
      "text/html": [
       "<div>\n",
       "<style scoped>\n",
       "    .dataframe tbody tr th:only-of-type {\n",
       "        vertical-align: middle;\n",
       "    }\n",
       "\n",
       "    .dataframe tbody tr th {\n",
       "        vertical-align: top;\n",
       "    }\n",
       "\n",
       "    .dataframe thead th {\n",
       "        text-align: right;\n",
       "    }\n",
       "</style>\n",
       "<table border=\"1\" class=\"dataframe\">\n",
       "  <thead>\n",
       "    <tr style=\"text-align: right;\">\n",
       "      <th></th>\n",
       "      <th>Bankrupt?</th>\n",
       "      <th>ROA(C) before interest and depreciation before interest</th>\n",
       "      <th>ROA(A) before interest and % after tax</th>\n",
       "      <th>ROA(B) before interest and depreciation after tax</th>\n",
       "      <th>Operating Gross Margin</th>\n",
       "      <th>Realized Sales Gross Margin</th>\n",
       "      <th>Operating Profit Rate</th>\n",
       "      <th>Pre-tax net Interest Rate</th>\n",
       "      <th>After-tax net Interest Rate</th>\n",
       "      <th>Non-industry income and expenditure/revenue</th>\n",
       "      <th>...</th>\n",
       "      <th>Net Income to Total Assets</th>\n",
       "      <th>Total assets to GNP price</th>\n",
       "      <th>No-credit Interval</th>\n",
       "      <th>Gross Profit to Sales</th>\n",
       "      <th>Net Income to Stockholder's Equity</th>\n",
       "      <th>Liability to Equity</th>\n",
       "      <th>Degree of Financial Leverage (DFL)</th>\n",
       "      <th>Interest Coverage Ratio (Interest expense to EBIT)</th>\n",
       "      <th>Net Income Flag</th>\n",
       "      <th>Equity to Liability</th>\n",
       "    </tr>\n",
       "  </thead>\n",
       "  <tbody>\n",
       "    <tr>\n",
       "      <th>0</th>\n",
       "      <td>1</td>\n",
       "      <td>0.370594</td>\n",
       "      <td>0.424389</td>\n",
       "      <td>0.405750</td>\n",
       "      <td>0.601457</td>\n",
       "      <td>0.601457</td>\n",
       "      <td>0.998969</td>\n",
       "      <td>0.796887</td>\n",
       "      <td>0.808809</td>\n",
       "      <td>0.302646</td>\n",
       "      <td>...</td>\n",
       "      <td>0.716845</td>\n",
       "      <td>0.009219</td>\n",
       "      <td>0.622879</td>\n",
       "      <td>0.601453</td>\n",
       "      <td>0.827890</td>\n",
       "      <td>0.290202</td>\n",
       "      <td>0.026601</td>\n",
       "      <td>0.564050</td>\n",
       "      <td>1</td>\n",
       "      <td>0.016469</td>\n",
       "    </tr>\n",
       "    <tr>\n",
       "      <th>1</th>\n",
       "      <td>1</td>\n",
       "      <td>0.464291</td>\n",
       "      <td>0.538214</td>\n",
       "      <td>0.516730</td>\n",
       "      <td>0.610235</td>\n",
       "      <td>0.610235</td>\n",
       "      <td>0.998946</td>\n",
       "      <td>0.797380</td>\n",
       "      <td>0.809301</td>\n",
       "      <td>0.303556</td>\n",
       "      <td>...</td>\n",
       "      <td>0.795297</td>\n",
       "      <td>0.008323</td>\n",
       "      <td>0.623652</td>\n",
       "      <td>0.610237</td>\n",
       "      <td>0.839969</td>\n",
       "      <td>0.283846</td>\n",
       "      <td>0.264577</td>\n",
       "      <td>0.570175</td>\n",
       "      <td>1</td>\n",
       "      <td>0.020794</td>\n",
       "    </tr>\n",
       "    <tr>\n",
       "      <th>2</th>\n",
       "      <td>1</td>\n",
       "      <td>0.426071</td>\n",
       "      <td>0.499019</td>\n",
       "      <td>0.472295</td>\n",
       "      <td>0.601450</td>\n",
       "      <td>0.601364</td>\n",
       "      <td>0.998857</td>\n",
       "      <td>0.796403</td>\n",
       "      <td>0.808388</td>\n",
       "      <td>0.302035</td>\n",
       "      <td>...</td>\n",
       "      <td>0.774670</td>\n",
       "      <td>0.040003</td>\n",
       "      <td>0.623841</td>\n",
       "      <td>0.601449</td>\n",
       "      <td>0.836774</td>\n",
       "      <td>0.290189</td>\n",
       "      <td>0.026555</td>\n",
       "      <td>0.563706</td>\n",
       "      <td>1</td>\n",
       "      <td>0.016474</td>\n",
       "    </tr>\n",
       "    <tr>\n",
       "      <th>3</th>\n",
       "      <td>1</td>\n",
       "      <td>0.399844</td>\n",
       "      <td>0.451265</td>\n",
       "      <td>0.457733</td>\n",
       "      <td>0.583541</td>\n",
       "      <td>0.583541</td>\n",
       "      <td>0.998700</td>\n",
       "      <td>0.796967</td>\n",
       "      <td>0.808966</td>\n",
       "      <td>0.303350</td>\n",
       "      <td>...</td>\n",
       "      <td>0.739555</td>\n",
       "      <td>0.003252</td>\n",
       "      <td>0.622929</td>\n",
       "      <td>0.583538</td>\n",
       "      <td>0.834697</td>\n",
       "      <td>0.281721</td>\n",
       "      <td>0.026697</td>\n",
       "      <td>0.564663</td>\n",
       "      <td>1</td>\n",
       "      <td>0.023982</td>\n",
       "    </tr>\n",
       "    <tr>\n",
       "      <th>4</th>\n",
       "      <td>1</td>\n",
       "      <td>0.465022</td>\n",
       "      <td>0.538432</td>\n",
       "      <td>0.522298</td>\n",
       "      <td>0.598783</td>\n",
       "      <td>0.598783</td>\n",
       "      <td>0.998973</td>\n",
       "      <td>0.797366</td>\n",
       "      <td>0.809304</td>\n",
       "      <td>0.303475</td>\n",
       "      <td>...</td>\n",
       "      <td>0.795016</td>\n",
       "      <td>0.003878</td>\n",
       "      <td>0.623521</td>\n",
       "      <td>0.598782</td>\n",
       "      <td>0.839973</td>\n",
       "      <td>0.278514</td>\n",
       "      <td>0.024752</td>\n",
       "      <td>0.575617</td>\n",
       "      <td>1</td>\n",
       "      <td>0.035490</td>\n",
       "    </tr>\n",
       "  </tbody>\n",
       "</table>\n",
       "<p>5 rows × 96 columns</p>\n",
       "</div>"
      ],
      "text/plain": [
       "   Bankrupt?   ROA(C) before interest and depreciation before interest  \\\n",
       "0          1                                           0.370594          \n",
       "1          1                                           0.464291          \n",
       "2          1                                           0.426071          \n",
       "3          1                                           0.399844          \n",
       "4          1                                           0.465022          \n",
       "\n",
       "    ROA(A) before interest and % after tax  \\\n",
       "0                                 0.424389   \n",
       "1                                 0.538214   \n",
       "2                                 0.499019   \n",
       "3                                 0.451265   \n",
       "4                                 0.538432   \n",
       "\n",
       "    ROA(B) before interest and depreciation after tax  \\\n",
       "0                                           0.405750    \n",
       "1                                           0.516730    \n",
       "2                                           0.472295    \n",
       "3                                           0.457733    \n",
       "4                                           0.522298    \n",
       "\n",
       "    Operating Gross Margin   Realized Sales Gross Margin  \\\n",
       "0                 0.601457                      0.601457   \n",
       "1                 0.610235                      0.610235   \n",
       "2                 0.601450                      0.601364   \n",
       "3                 0.583541                      0.583541   \n",
       "4                 0.598783                      0.598783   \n",
       "\n",
       "    Operating Profit Rate   Pre-tax net Interest Rate  \\\n",
       "0                0.998969                    0.796887   \n",
       "1                0.998946                    0.797380   \n",
       "2                0.998857                    0.796403   \n",
       "3                0.998700                    0.796967   \n",
       "4                0.998973                    0.797366   \n",
       "\n",
       "    After-tax net Interest Rate   Non-industry income and expenditure/revenue  \\\n",
       "0                      0.808809                                      0.302646   \n",
       "1                      0.809301                                      0.303556   \n",
       "2                      0.808388                                      0.302035   \n",
       "3                      0.808966                                      0.303350   \n",
       "4                      0.809304                                      0.303475   \n",
       "\n",
       "   ...   Net Income to Total Assets   Total assets to GNP price  \\\n",
       "0  ...                     0.716845                    0.009219   \n",
       "1  ...                     0.795297                    0.008323   \n",
       "2  ...                     0.774670                    0.040003   \n",
       "3  ...                     0.739555                    0.003252   \n",
       "4  ...                     0.795016                    0.003878   \n",
       "\n",
       "    No-credit Interval   Gross Profit to Sales  \\\n",
       "0             0.622879                0.601453   \n",
       "1             0.623652                0.610237   \n",
       "2             0.623841                0.601449   \n",
       "3             0.622929                0.583538   \n",
       "4             0.623521                0.598782   \n",
       "\n",
       "    Net Income to Stockholder's Equity   Liability to Equity  \\\n",
       "0                             0.827890              0.290202   \n",
       "1                             0.839969              0.283846   \n",
       "2                             0.836774              0.290189   \n",
       "3                             0.834697              0.281721   \n",
       "4                             0.839973              0.278514   \n",
       "\n",
       "    Degree of Financial Leverage (DFL)  \\\n",
       "0                             0.026601   \n",
       "1                             0.264577   \n",
       "2                             0.026555   \n",
       "3                             0.026697   \n",
       "4                             0.024752   \n",
       "\n",
       "    Interest Coverage Ratio (Interest expense to EBIT)   Net Income Flag  \\\n",
       "0                                           0.564050                   1   \n",
       "1                                           0.570175                   1   \n",
       "2                                           0.563706                   1   \n",
       "3                                           0.564663                   1   \n",
       "4                                           0.575617                   1   \n",
       "\n",
       "    Equity to Liability  \n",
       "0              0.016469  \n",
       "1              0.020794  \n",
       "2              0.016474  \n",
       "3              0.023982  \n",
       "4              0.035490  \n",
       "\n",
       "[5 rows x 96 columns]"
      ]
     },
     "execution_count": 53,
     "metadata": {},
     "output_type": "execute_result"
    }
   ],
   "source": [
    "ds.head()"
   ]
  },
  {
   "cell_type": "code",
   "execution_count": 54,
   "id": "63537575",
   "metadata": {
    "scrolled": true
   },
   "outputs": [
    {
     "data": {
      "text/plain": [
       "(6819, 96)"
      ]
     },
     "execution_count": 54,
     "metadata": {},
     "output_type": "execute_result"
    }
   ],
   "source": [
    "# Checking the shape of the dataset:\n",
    "ds.shape"
   ]
  },
  {
   "cell_type": "code",
   "execution_count": 55,
   "id": "a0e6a7c0",
   "metadata": {
    "scrolled": true
   },
   "outputs": [
    {
     "data": {
      "text/plain": [
       "array([1, 0])"
      ]
     },
     "execution_count": 55,
     "metadata": {},
     "output_type": "execute_result"
    }
   ],
   "source": [
    "# This is the target variable.\n",
    "ds[\"Bankrupt?\"].unique()"
   ]
  },
  {
   "cell_type": "markdown",
   "id": "474e1967",
   "metadata": {},
   "source": [
    "## Data Preprocessing"
   ]
  },
  {
   "cell_type": "markdown",
   "id": "f418602c",
   "metadata": {},
   "source": [
    "### Data Type\n",
    "All the columns are numeric. There are 2 binary flags that are already enocoded as 0 or 1.\n",
    "- 85: Liability-Assets Flag\n",
    "- 94: Net Income Flag"
   ]
  },
  {
   "cell_type": "code",
   "execution_count": 156,
   "id": "d7128b06",
   "metadata": {},
   "outputs": [
    {
     "name": "stdout",
     "output_type": "stream",
     "text": [
      "<class 'pandas.core.frame.DataFrame'>\n",
      "RangeIndex: 6819 entries, 0 to 6818\n",
      "Data columns (total 21 columns):\n",
      " #   Column                                                    Non-Null Count  Dtype  \n",
      "---  ------                                                    --------------  -----  \n",
      " 0    ROA(C) before interest and depreciation before interest  6819 non-null   float64\n",
      " 1    ROA(A) before interest and % after tax                   6819 non-null   float64\n",
      " 2    ROA(B) before interest and depreciation after tax        6819 non-null   float64\n",
      " 3    Continuous interest rate (after tax)                     6819 non-null   float64\n",
      " 4    Net Value Per Share (B)                                  6819 non-null   float64\n",
      " 5    Persistent EPS in the Last Four Seasons                  6819 non-null   float64\n",
      " 6    Per Share Net profit before tax (Yuan ¥)                 6819 non-null   float64\n",
      " 7    Interest Expense Ratio                                   6819 non-null   float64\n",
      " 8    Total debt/Total net worth                               6819 non-null   float64\n",
      " 9    Debt ratio %                                             6819 non-null   float64\n",
      " 10   Net worth/Assets                                         6819 non-null   float64\n",
      " 11   Borrowing dependency                                     6819 non-null   float64\n",
      " 12   Net profit before tax/Paid-in capital                    6819 non-null   float64\n",
      " 13   Retained Earnings to Total Assets                        6819 non-null   float64\n",
      " 14   Net Income to Total Assets                               6819 non-null   float64\n",
      " 15   Net Income to Stockholder's Equity                       6819 non-null   float64\n",
      " 16   Liability to Equity                                      6819 non-null   float64\n",
      " 17   Degree of Financial Leverage (DFL)                       6819 non-null   float64\n",
      " 18   Interest Coverage Ratio (Interest expense to EBIT)       6819 non-null   float64\n",
      " 19   Equity to Liability                                      6819 non-null   float64\n",
      " 20  Bankrupt?                                                 6819 non-null   int64  \n",
      "dtypes: float64(20), int64(1)\n",
      "memory usage: 1.1 MB\n"
     ]
    }
   ],
   "source": [
    "ds.info()"
   ]
  },
  {
   "cell_type": "markdown",
   "id": "14dc73ba",
   "metadata": {},
   "source": [
    "### Check For Duplicates"
   ]
  },
  {
   "cell_type": "code",
   "execution_count": 157,
   "id": "4efaa991",
   "metadata": {},
   "outputs": [
    {
     "data": {
      "text/plain": [
       "0"
      ]
     },
     "execution_count": 157,
     "metadata": {},
     "output_type": "execute_result"
    }
   ],
   "source": [
    "ds.duplicated().sum()"
   ]
  },
  {
   "cell_type": "markdown",
   "id": "3912a122",
   "metadata": {},
   "source": [
    "### Correlation"
   ]
  },
  {
   "cell_type": "code",
   "execution_count": 158,
   "id": "8fa3c5db",
   "metadata": {},
   "outputs": [
    {
     "name": "stdout",
     "output_type": "stream",
     "text": [
      " ROA(C) before interest and depreciation before interest vs.  ROA(A) before interest and % after tax are highly correlated 0.9401237079700807\n",
      " ROA(C) before interest and depreciation before interest vs.  ROA(B) before interest and depreciation after tax are highly correlated 0.9868494970182541\n",
      " ROA(A) before interest and % after tax vs.  ROA(B) before interest and depreciation after tax are highly correlated 0.9557406252835042\n",
      " ROA(A) before interest and % after tax vs.  Net Income to Total Assets are highly correlated 0.9615519166312979\n",
      " ROA(B) before interest and depreciation after tax vs.  Net Income to Total Assets are highly correlated 0.9120401733352151\n",
      " Persistent EPS in the Last Four Seasons vs.  Per Share Net profit before tax (Yuan ¥) are highly correlated 0.9555910456161516\n",
      " Persistent EPS in the Last Four Seasons vs.  Net profit before tax/Paid-in capital are highly correlated 0.9594608424800604\n",
      " Per Share Net profit before tax (Yuan ¥) vs.  Net profit before tax/Paid-in capital are highly correlated 0.9627228889556713\n",
      " Borrowing dependency vs.  Liability to Equity are highly correlated 0.9558567721071973\n"
     ]
    }
   ],
   "source": [
    "corr = ds.corr()\n",
    "i = 1\n",
    "for (index, row) in corr.iterrows():\n",
    "    for col in corr.columns[i:]:\n",
    "        if row[col] > 0.9:\n",
    "            print(f\"{index} vs. {col} are highly correlated {row[col]}\")\n",
    "    i += 1\n",
    "    \n",
    "# Select upper triangle of correlation matrix\n",
    "corr_matrix = corr.where(np.triu(np.ones(corr.shape), k=1).astype(np.bool))\n",
    "# Find features with correlation greater than 0.9\n",
    "correlated_cols = [c for c in corr_matrix.columns if any(corr_matrix[c] > 0.9)]\n",
    "# Drop correlated columns\n",
    "ds = ds.drop(correlated_cols, axis=1)"
   ]
  },
  {
   "cell_type": "markdown",
   "id": "2370a1b2",
   "metadata": {},
   "source": [
    "## Feature Selection"
   ]
  },
  {
   "cell_type": "code",
   "execution_count": 64,
   "id": "a41332b7",
   "metadata": {},
   "outputs": [],
   "source": [
    "def MutualInfoScores(X, y):    \n",
    "    mi = pd.Series(mutual_info_classif(X, y)).sort_values(ascending=False)\n",
    "    mi.index = X.columns\n",
    "    mi.plot.bar(figsize=(20, 6))\n",
    "    plt.ylabel('Mutual Information Score')\n",
    "    return mi"
   ]
  },
  {
   "cell_type": "code",
   "execution_count": 65,
   "id": "8fcc8fb1",
   "metadata": {},
   "outputs": [
    {
     "data": {
      "text/plain": [
       " Cash Flow to Liability                                0.001447\n",
       " CFO to Assets                                         0.001427\n",
       " Cash Flow to Equity                                   0.001404\n",
       " Current Liability to Current Assets                   0.001379\n",
       " Liability-Assets Flag                                 0.001328\n",
       " Net Income to Total Assets                            0.000437\n",
       " Total assets to GNP price                             0.000340\n",
       " No-credit Interval                                    0.000000\n",
       " Gross Profit to Sales                                 0.000000\n",
       " Net Income to Stockholder's Equity                    0.000000\n",
       " Liability to Equity                                   0.000000\n",
       " Degree of Financial Leverage (DFL)                    0.000000\n",
       " Interest Coverage Ratio (Interest expense to EBIT)    0.000000\n",
       " Net Income Flag                                       0.000000\n",
       " Equity to Liability                                   0.000000\n",
       "dtype: float64"
      ]
     },
     "execution_count": 65,
     "metadata": {},
     "output_type": "execute_result"
    },
    {
     "data": {
      "image/png": "[encoded data removed]",
      "text/plain": [
       "<Figure size 1440x432 with 1 Axes>"
      ]
     },
     "metadata": {},
     "output_type": "display_data"
    }
   ],
   "source": [
    "fs_scores = MutualInfoScores(ds.drop(columns=\"Bankrupt?\"), ds[\"Bankrupt?\"])\n",
    "fs_scores.tail(15)"
   ]
  },
  {
   "cell_type": "code",
   "execution_count": 66,
   "id": "71870049",
   "metadata": {},
   "outputs": [
    {
     "data": {
      "text/plain": [
       "(6819, 88)"
      ]
     },
     "execution_count": 66,
     "metadata": {},
     "output_type": "execute_result"
    }
   ],
   "source": [
    "zero_score_cols = fs_scores.loc[fs_scores == 0].index\n",
    "X = ds.drop(columns=zero_score_cols)\n",
    "X.shape"
   ]
  },
  {
   "cell_type": "code",
   "execution_count": 67,
   "id": "5ce876a9",
   "metadata": {},
   "outputs": [],
   "source": [
    "selector = SelectKBest(mutual_info_classif, k=20)\n",
    "\n",
    "# selecting the features:\n",
    "selector.fit(ds.drop(columns=\"Bankrupt?\"), ds[\"Bankrupt?\"])\n",
    "\n",
    "kept_columns = list(ds.drop(columns=\"Bankrupt?\").columns[selector.get_support()]) + [\"Bankrupt?\"]"
   ]
  },
  {
   "cell_type": "code",
   "execution_count": 68,
   "id": "560857f6",
   "metadata": {},
   "outputs": [],
   "source": [
    "ds = ds[kept_columns]"
   ]
  },
  {
   "cell_type": "code",
   "execution_count": 69,
   "id": "f9e35d8e",
   "metadata": {},
   "outputs": [
    {
     "data": {
      "text/plain": [
       "(6819, 21)"
      ]
     },
     "execution_count": 69,
     "metadata": {},
     "output_type": "execute_result"
    }
   ],
   "source": [
    "ds.shape"
   ]
  },
  {
   "cell_type": "code",
   "execution_count": 70,
   "id": "51e8575f",
   "metadata": {},
   "outputs": [
    {
     "data": {
      "text/html": [
       "<div>\n",
       "<style scoped>\n",
       "    .dataframe tbody tr th:only-of-type {\n",
       "        vertical-align: middle;\n",
       "    }\n",
       "\n",
       "    .dataframe tbody tr th {\n",
       "        vertical-align: top;\n",
       "    }\n",
       "\n",
       "    .dataframe thead th {\n",
       "        text-align: right;\n",
       "    }\n",
       "</style>\n",
       "<table border=\"1\" class=\"dataframe\">\n",
       "  <thead>\n",
       "    <tr style=\"text-align: right;\">\n",
       "      <th></th>\n",
       "      <th>ROA(C) before interest and depreciation before interest</th>\n",
       "      <th>ROA(A) before interest and % after tax</th>\n",
       "      <th>ROA(B) before interest and depreciation after tax</th>\n",
       "      <th>Continuous interest rate (after tax)</th>\n",
       "      <th>Net Value Per Share (B)</th>\n",
       "      <th>Persistent EPS in the Last Four Seasons</th>\n",
       "      <th>Per Share Net profit before tax (Yuan ¥)</th>\n",
       "      <th>Interest Expense Ratio</th>\n",
       "      <th>Total debt/Total net worth</th>\n",
       "      <th>Debt ratio %</th>\n",
       "      <th>...</th>\n",
       "      <th>Borrowing dependency</th>\n",
       "      <th>Net profit before tax/Paid-in capital</th>\n",
       "      <th>Retained Earnings to Total Assets</th>\n",
       "      <th>Net Income to Total Assets</th>\n",
       "      <th>Net Income to Stockholder's Equity</th>\n",
       "      <th>Liability to Equity</th>\n",
       "      <th>Degree of Financial Leverage (DFL)</th>\n",
       "      <th>Interest Coverage Ratio (Interest expense to EBIT)</th>\n",
       "      <th>Equity to Liability</th>\n",
       "      <th>Bankrupt?</th>\n",
       "    </tr>\n",
       "  </thead>\n",
       "  <tbody>\n",
       "    <tr>\n",
       "      <th>0</th>\n",
       "      <td>0.370594</td>\n",
       "      <td>0.424389</td>\n",
       "      <td>0.405750</td>\n",
       "      <td>0.780985</td>\n",
       "      <td>0.147950</td>\n",
       "      <td>0.169141</td>\n",
       "      <td>0.138736</td>\n",
       "      <td>0.629951</td>\n",
       "      <td>0.021266</td>\n",
       "      <td>0.207576</td>\n",
       "      <td>...</td>\n",
       "      <td>0.390284</td>\n",
       "      <td>0.137757</td>\n",
       "      <td>0.903225</td>\n",
       "      <td>0.716845</td>\n",
       "      <td>0.827890</td>\n",
       "      <td>0.290202</td>\n",
       "      <td>0.026601</td>\n",
       "      <td>0.564050</td>\n",
       "      <td>0.016469</td>\n",
       "      <td>1</td>\n",
       "    </tr>\n",
       "    <tr>\n",
       "      <th>1</th>\n",
       "      <td>0.464291</td>\n",
       "      <td>0.538214</td>\n",
       "      <td>0.516730</td>\n",
       "      <td>0.781506</td>\n",
       "      <td>0.182251</td>\n",
       "      <td>0.208944</td>\n",
       "      <td>0.169918</td>\n",
       "      <td>0.635172</td>\n",
       "      <td>0.012502</td>\n",
       "      <td>0.171176</td>\n",
       "      <td>...</td>\n",
       "      <td>0.376760</td>\n",
       "      <td>0.168962</td>\n",
       "      <td>0.931065</td>\n",
       "      <td>0.795297</td>\n",
       "      <td>0.839969</td>\n",
       "      <td>0.283846</td>\n",
       "      <td>0.264577</td>\n",
       "      <td>0.570175</td>\n",
       "      <td>0.020794</td>\n",
       "      <td>1</td>\n",
       "    </tr>\n",
       "    <tr>\n",
       "      <th>2</th>\n",
       "      <td>0.426071</td>\n",
       "      <td>0.499019</td>\n",
       "      <td>0.472295</td>\n",
       "      <td>0.780284</td>\n",
       "      <td>0.177911</td>\n",
       "      <td>0.180581</td>\n",
       "      <td>0.142803</td>\n",
       "      <td>0.629631</td>\n",
       "      <td>0.021248</td>\n",
       "      <td>0.207516</td>\n",
       "      <td>...</td>\n",
       "      <td>0.379093</td>\n",
       "      <td>0.148036</td>\n",
       "      <td>0.909903</td>\n",
       "      <td>0.774670</td>\n",
       "      <td>0.836774</td>\n",
       "      <td>0.290189</td>\n",
       "      <td>0.026555</td>\n",
       "      <td>0.563706</td>\n",
       "      <td>0.016474</td>\n",
       "      <td>1</td>\n",
       "    </tr>\n",
       "    <tr>\n",
       "      <th>3</th>\n",
       "      <td>0.399844</td>\n",
       "      <td>0.451265</td>\n",
       "      <td>0.457733</td>\n",
       "      <td>0.781241</td>\n",
       "      <td>0.154187</td>\n",
       "      <td>0.193722</td>\n",
       "      <td>0.148603</td>\n",
       "      <td>0.630228</td>\n",
       "      <td>0.009572</td>\n",
       "      <td>0.151465</td>\n",
       "      <td>...</td>\n",
       "      <td>0.379743</td>\n",
       "      <td>0.147561</td>\n",
       "      <td>0.906902</td>\n",
       "      <td>0.739555</td>\n",
       "      <td>0.834697</td>\n",
       "      <td>0.281721</td>\n",
       "      <td>0.026697</td>\n",
       "      <td>0.564663</td>\n",
       "      <td>0.023982</td>\n",
       "      <td>1</td>\n",
       "    </tr>\n",
       "    <tr>\n",
       "      <th>4</th>\n",
       "      <td>0.465022</td>\n",
       "      <td>0.538432</td>\n",
       "      <td>0.522298</td>\n",
       "      <td>0.781550</td>\n",
       "      <td>0.167502</td>\n",
       "      <td>0.212537</td>\n",
       "      <td>0.168412</td>\n",
       "      <td>0.636055</td>\n",
       "      <td>0.005150</td>\n",
       "      <td>0.106509</td>\n",
       "      <td>...</td>\n",
       "      <td>0.375025</td>\n",
       "      <td>0.167461</td>\n",
       "      <td>0.913850</td>\n",
       "      <td>0.795016</td>\n",
       "      <td>0.839973</td>\n",
       "      <td>0.278514</td>\n",
       "      <td>0.024752</td>\n",
       "      <td>0.575617</td>\n",
       "      <td>0.035490</td>\n",
       "      <td>1</td>\n",
       "    </tr>\n",
       "  </tbody>\n",
       "</table>\n",
       "<p>5 rows × 21 columns</p>\n",
       "</div>"
      ],
      "text/plain": [
       "    ROA(C) before interest and depreciation before interest  \\\n",
       "0                                           0.370594          \n",
       "1                                           0.464291          \n",
       "2                                           0.426071          \n",
       "3                                           0.399844          \n",
       "4                                           0.465022          \n",
       "\n",
       "    ROA(A) before interest and % after tax  \\\n",
       "0                                 0.424389   \n",
       "1                                 0.538214   \n",
       "2                                 0.499019   \n",
       "3                                 0.451265   \n",
       "4                                 0.538432   \n",
       "\n",
       "    ROA(B) before interest and depreciation after tax  \\\n",
       "0                                           0.405750    \n",
       "1                                           0.516730    \n",
       "2                                           0.472295    \n",
       "3                                           0.457733    \n",
       "4                                           0.522298    \n",
       "\n",
       "    Continuous interest rate (after tax)   Net Value Per Share (B)  \\\n",
       "0                               0.780985                  0.147950   \n",
       "1                               0.781506                  0.182251   \n",
       "2                               0.780284                  0.177911   \n",
       "3                               0.781241                  0.154187   \n",
       "4                               0.781550                  0.167502   \n",
       "\n",
       "    Persistent EPS in the Last Four Seasons  \\\n",
       "0                                  0.169141   \n",
       "1                                  0.208944   \n",
       "2                                  0.180581   \n",
       "3                                  0.193722   \n",
       "4                                  0.212537   \n",
       "\n",
       "    Per Share Net profit before tax (Yuan ¥)   Interest Expense Ratio  \\\n",
       "0                                   0.138736                 0.629951   \n",
       "1                                   0.169918                 0.635172   \n",
       "2                                   0.142803                 0.629631   \n",
       "3                                   0.148603                 0.630228   \n",
       "4                                   0.168412                 0.636055   \n",
       "\n",
       "    Total debt/Total net worth   Debt ratio %  ...   Borrowing dependency  \\\n",
       "0                     0.021266       0.207576  ...               0.390284   \n",
       "1                     0.012502       0.171176  ...               0.376760   \n",
       "2                     0.021248       0.207516  ...               0.379093   \n",
       "3                     0.009572       0.151465  ...               0.379743   \n",
       "4                     0.005150       0.106509  ...               0.375025   \n",
       "\n",
       "    Net profit before tax/Paid-in capital   Retained Earnings to Total Assets  \\\n",
       "0                                0.137757                            0.903225   \n",
       "1                                0.168962                            0.931065   \n",
       "2                                0.148036                            0.909903   \n",
       "3                                0.147561                            0.906902   \n",
       "4                                0.167461                            0.913850   \n",
       "\n",
       "    Net Income to Total Assets   Net Income to Stockholder's Equity  \\\n",
       "0                     0.716845                             0.827890   \n",
       "1                     0.795297                             0.839969   \n",
       "2                     0.774670                             0.836774   \n",
       "3                     0.739555                             0.834697   \n",
       "4                     0.795016                             0.839973   \n",
       "\n",
       "    Liability to Equity   Degree of Financial Leverage (DFL)  \\\n",
       "0              0.290202                             0.026601   \n",
       "1              0.283846                             0.264577   \n",
       "2              0.290189                             0.026555   \n",
       "3              0.281721                             0.026697   \n",
       "4              0.278514                             0.024752   \n",
       "\n",
       "    Interest Coverage Ratio (Interest expense to EBIT)   Equity to Liability  \\\n",
       "0                                           0.564050                0.016469   \n",
       "1                                           0.570175                0.020794   \n",
       "2                                           0.563706                0.016474   \n",
       "3                                           0.564663                0.023982   \n",
       "4                                           0.575617                0.035490   \n",
       "\n",
       "   Bankrupt?  \n",
       "0          1  \n",
       "1          1  \n",
       "2          1  \n",
       "3          1  \n",
       "4          1  \n",
       "\n",
       "[5 rows x 21 columns]"
      ]
     },
     "execution_count": 70,
     "metadata": {},
     "output_type": "execute_result"
    }
   ],
   "source": [
    "ds.head()"
   ]
  },
  {
   "cell_type": "code",
   "execution_count": 71,
   "id": "7250c13b",
   "metadata": {},
   "outputs": [],
   "source": [
    "# # here we will select the top 10 features\n",
    "# # based on their mutual information value\n",
    "\n",
    "# selector = SelectKBest(mutual_info_classif, k=10)\n",
    "\n",
    "# # select features\n",
    "# X_train = selector.fit_transform(X_train, y_train)\n",
    "\n",
    "\n",
    "# X_test = selector.transform(X_test)"
   ]
  },
  {
   "cell_type": "code",
   "execution_count": 72,
   "id": "1d10a6d2",
   "metadata": {
    "scrolled": true
   },
   "outputs": [],
   "source": [
    "# # Initializing the model:\n",
    "\n",
    "# rf_model = RandomForestClassifier(n_estimators=10, random_state=SEED)"
   ]
  },
  {
   "cell_type": "code",
   "execution_count": 73,
   "id": "b3fc1a9a",
   "metadata": {
    "scrolled": true
   },
   "outputs": [],
   "source": [
    "# %%timeit\n",
    "\n",
    "# # I get to select 17 features.\n",
    "\n",
    "# # Applying RFECV (Recursive Feature Elimination) to select features\n",
    "# # see https://www.scikit-yb.org/en/latest/api/model_selection/rfecv.html\n",
    "# cv = StratifiedKFold(3)\n",
    "# vis = RFECV(rf_model, scoring='f1_weighted') ## , cv=cv, we dont need to use cross validation\n",
    "# vis.fit(ds.drop(columns=\"Bankrupt?\"), ds[\"Bankrupt?\"])\n",
    "# vis.show()"
   ]
  },
  {
   "cell_type": "code",
   "execution_count": 74,
   "id": "faf1b942",
   "metadata": {
    "scrolled": true
   },
   "outputs": [],
   "source": [
    "# vis.ranking_"
   ]
  },
  {
   "cell_type": "code",
   "execution_count": 75,
   "id": "bed380da",
   "metadata": {
    "scrolled": true
   },
   "outputs": [],
   "source": [
    "# # Features to include: \n",
    "# ds.columns[vis.support_]"
   ]
  },
  {
   "cell_type": "code",
   "execution_count": 76,
   "id": "d1463333",
   "metadata": {},
   "outputs": [],
   "source": [
    "# # This should be the the new data set.\n",
    "\n",
    "# ds[ds.columns[vis_support_]]"
   ]
  },
  {
   "cell_type": "code",
   "execution_count": 77,
   "id": "57220333",
   "metadata": {
    "scrolled": true
   },
   "outputs": [],
   "source": [
    "# ds"
   ]
  },
  {
   "cell_type": "code",
   "execution_count": 78,
   "id": "2f14b9e3",
   "metadata": {
    "scrolled": true
   },
   "outputs": [
    {
     "data": {
      "image/png": "[encoded data removed]",
      "text/plain": [
       "<Figure size 576x396 with 1 Axes>"
      ]
     },
     "metadata": {},
     "output_type": "display_data"
    }
   ],
   "source": [
    "# Checking that the target distribution is imbalanced.\n",
    "\n",
    "sns.countplot(y='Bankrupt?', data = ds, palette='viridis', orient = 'h');"
   ]
  },
  {
   "cell_type": "markdown",
   "id": "de312ac0",
   "metadata": {},
   "source": [
    "# Data Exploration:"
   ]
  },
  {
   "cell_type": "code",
   "execution_count": 79,
   "id": "0752ed97",
   "metadata": {
    "scrolled": true
   },
   "outputs": [
    {
     "data": {
      "text/html": [
       "<div>\n",
       "<style scoped>\n",
       "    .dataframe tbody tr th:only-of-type {\n",
       "        vertical-align: middle;\n",
       "    }\n",
       "\n",
       "    .dataframe tbody tr th {\n",
       "        vertical-align: top;\n",
       "    }\n",
       "\n",
       "    .dataframe thead th {\n",
       "        text-align: right;\n",
       "    }\n",
       "</style>\n",
       "<table border=\"1\" class=\"dataframe\">\n",
       "  <thead>\n",
       "    <tr style=\"text-align: right;\">\n",
       "      <th></th>\n",
       "      <th>ROA(C) before interest and depreciation before interest</th>\n",
       "      <th>ROA(A) before interest and % after tax</th>\n",
       "      <th>ROA(B) before interest and depreciation after tax</th>\n",
       "      <th>Continuous interest rate (after tax)</th>\n",
       "      <th>Net Value Per Share (B)</th>\n",
       "      <th>Persistent EPS in the Last Four Seasons</th>\n",
       "      <th>Per Share Net profit before tax (Yuan ¥)</th>\n",
       "      <th>Interest Expense Ratio</th>\n",
       "      <th>Total debt/Total net worth</th>\n",
       "      <th>Debt ratio %</th>\n",
       "      <th>...</th>\n",
       "      <th>Borrowing dependency</th>\n",
       "      <th>Net profit before tax/Paid-in capital</th>\n",
       "      <th>Retained Earnings to Total Assets</th>\n",
       "      <th>Net Income to Total Assets</th>\n",
       "      <th>Net Income to Stockholder's Equity</th>\n",
       "      <th>Liability to Equity</th>\n",
       "      <th>Degree of Financial Leverage (DFL)</th>\n",
       "      <th>Interest Coverage Ratio (Interest expense to EBIT)</th>\n",
       "      <th>Equity to Liability</th>\n",
       "      <th>Bankrupt?</th>\n",
       "    </tr>\n",
       "  </thead>\n",
       "  <tbody>\n",
       "    <tr>\n",
       "      <th>0</th>\n",
       "      <td>0.370594</td>\n",
       "      <td>0.424389</td>\n",
       "      <td>0.405750</td>\n",
       "      <td>0.780985</td>\n",
       "      <td>0.147950</td>\n",
       "      <td>0.169141</td>\n",
       "      <td>0.138736</td>\n",
       "      <td>0.629951</td>\n",
       "      <td>0.021266</td>\n",
       "      <td>0.207576</td>\n",
       "      <td>...</td>\n",
       "      <td>0.390284</td>\n",
       "      <td>0.137757</td>\n",
       "      <td>0.903225</td>\n",
       "      <td>0.716845</td>\n",
       "      <td>0.827890</td>\n",
       "      <td>0.290202</td>\n",
       "      <td>0.026601</td>\n",
       "      <td>0.564050</td>\n",
       "      <td>0.016469</td>\n",
       "      <td>1</td>\n",
       "    </tr>\n",
       "    <tr>\n",
       "      <th>1</th>\n",
       "      <td>0.464291</td>\n",
       "      <td>0.538214</td>\n",
       "      <td>0.516730</td>\n",
       "      <td>0.781506</td>\n",
       "      <td>0.182251</td>\n",
       "      <td>0.208944</td>\n",
       "      <td>0.169918</td>\n",
       "      <td>0.635172</td>\n",
       "      <td>0.012502</td>\n",
       "      <td>0.171176</td>\n",
       "      <td>...</td>\n",
       "      <td>0.376760</td>\n",
       "      <td>0.168962</td>\n",
       "      <td>0.931065</td>\n",
       "      <td>0.795297</td>\n",
       "      <td>0.839969</td>\n",
       "      <td>0.283846</td>\n",
       "      <td>0.264577</td>\n",
       "      <td>0.570175</td>\n",
       "      <td>0.020794</td>\n",
       "      <td>1</td>\n",
       "    </tr>\n",
       "    <tr>\n",
       "      <th>2</th>\n",
       "      <td>0.426071</td>\n",
       "      <td>0.499019</td>\n",
       "      <td>0.472295</td>\n",
       "      <td>0.780284</td>\n",
       "      <td>0.177911</td>\n",
       "      <td>0.180581</td>\n",
       "      <td>0.142803</td>\n",
       "      <td>0.629631</td>\n",
       "      <td>0.021248</td>\n",
       "      <td>0.207516</td>\n",
       "      <td>...</td>\n",
       "      <td>0.379093</td>\n",
       "      <td>0.148036</td>\n",
       "      <td>0.909903</td>\n",
       "      <td>0.774670</td>\n",
       "      <td>0.836774</td>\n",
       "      <td>0.290189</td>\n",
       "      <td>0.026555</td>\n",
       "      <td>0.563706</td>\n",
       "      <td>0.016474</td>\n",
       "      <td>1</td>\n",
       "    </tr>\n",
       "    <tr>\n",
       "      <th>3</th>\n",
       "      <td>0.399844</td>\n",
       "      <td>0.451265</td>\n",
       "      <td>0.457733</td>\n",
       "      <td>0.781241</td>\n",
       "      <td>0.154187</td>\n",
       "      <td>0.193722</td>\n",
       "      <td>0.148603</td>\n",
       "      <td>0.630228</td>\n",
       "      <td>0.009572</td>\n",
       "      <td>0.151465</td>\n",
       "      <td>...</td>\n",
       "      <td>0.379743</td>\n",
       "      <td>0.147561</td>\n",
       "      <td>0.906902</td>\n",
       "      <td>0.739555</td>\n",
       "      <td>0.834697</td>\n",
       "      <td>0.281721</td>\n",
       "      <td>0.026697</td>\n",
       "      <td>0.564663</td>\n",
       "      <td>0.023982</td>\n",
       "      <td>1</td>\n",
       "    </tr>\n",
       "    <tr>\n",
       "      <th>4</th>\n",
       "      <td>0.465022</td>\n",
       "      <td>0.538432</td>\n",
       "      <td>0.522298</td>\n",
       "      <td>0.781550</td>\n",
       "      <td>0.167502</td>\n",
       "      <td>0.212537</td>\n",
       "      <td>0.168412</td>\n",
       "      <td>0.636055</td>\n",
       "      <td>0.005150</td>\n",
       "      <td>0.106509</td>\n",
       "      <td>...</td>\n",
       "      <td>0.375025</td>\n",
       "      <td>0.167461</td>\n",
       "      <td>0.913850</td>\n",
       "      <td>0.795016</td>\n",
       "      <td>0.839973</td>\n",
       "      <td>0.278514</td>\n",
       "      <td>0.024752</td>\n",
       "      <td>0.575617</td>\n",
       "      <td>0.035490</td>\n",
       "      <td>1</td>\n",
       "    </tr>\n",
       "  </tbody>\n",
       "</table>\n",
       "<p>5 rows × 21 columns</p>\n",
       "</div>"
      ],
      "text/plain": [
       "    ROA(C) before interest and depreciation before interest  \\\n",
       "0                                           0.370594          \n",
       "1                                           0.464291          \n",
       "2                                           0.426071          \n",
       "3                                           0.399844          \n",
       "4                                           0.465022          \n",
       "\n",
       "    ROA(A) before interest and % after tax  \\\n",
       "0                                 0.424389   \n",
       "1                                 0.538214   \n",
       "2                                 0.499019   \n",
       "3                                 0.451265   \n",
       "4                                 0.538432   \n",
       "\n",
       "    ROA(B) before interest and depreciation after tax  \\\n",
       "0                                           0.405750    \n",
       "1                                           0.516730    \n",
       "2                                           0.472295    \n",
       "3                                           0.457733    \n",
       "4                                           0.522298    \n",
       "\n",
       "    Continuous interest rate (after tax)   Net Value Per Share (B)  \\\n",
       "0                               0.780985                  0.147950   \n",
       "1                               0.781506                  0.182251   \n",
       "2                               0.780284                  0.177911   \n",
       "3                               0.781241                  0.154187   \n",
       "4                               0.781550                  0.167502   \n",
       "\n",
       "    Persistent EPS in the Last Four Seasons  \\\n",
       "0                                  0.169141   \n",
       "1                                  0.208944   \n",
       "2                                  0.180581   \n",
       "3                                  0.193722   \n",
       "4                                  0.212537   \n",
       "\n",
       "    Per Share Net profit before tax (Yuan ¥)   Interest Expense Ratio  \\\n",
       "0                                   0.138736                 0.629951   \n",
       "1                                   0.169918                 0.635172   \n",
       "2                                   0.142803                 0.629631   \n",
       "3                                   0.148603                 0.630228   \n",
       "4                                   0.168412                 0.636055   \n",
       "\n",
       "    Total debt/Total net worth   Debt ratio %  ...   Borrowing dependency  \\\n",
       "0                     0.021266       0.207576  ...               0.390284   \n",
       "1                     0.012502       0.171176  ...               0.376760   \n",
       "2                     0.021248       0.207516  ...               0.379093   \n",
       "3                     0.009572       0.151465  ...               0.379743   \n",
       "4                     0.005150       0.106509  ...               0.375025   \n",
       "\n",
       "    Net profit before tax/Paid-in capital   Retained Earnings to Total Assets  \\\n",
       "0                                0.137757                            0.903225   \n",
       "1                                0.168962                            0.931065   \n",
       "2                                0.148036                            0.909903   \n",
       "3                                0.147561                            0.906902   \n",
       "4                                0.167461                            0.913850   \n",
       "\n",
       "    Net Income to Total Assets   Net Income to Stockholder's Equity  \\\n",
       "0                     0.716845                             0.827890   \n",
       "1                     0.795297                             0.839969   \n",
       "2                     0.774670                             0.836774   \n",
       "3                     0.739555                             0.834697   \n",
       "4                     0.795016                             0.839973   \n",
       "\n",
       "    Liability to Equity   Degree of Financial Leverage (DFL)  \\\n",
       "0              0.290202                             0.026601   \n",
       "1              0.283846                             0.264577   \n",
       "2              0.290189                             0.026555   \n",
       "3              0.281721                             0.026697   \n",
       "4              0.278514                             0.024752   \n",
       "\n",
       "    Interest Coverage Ratio (Interest expense to EBIT)   Equity to Liability  \\\n",
       "0                                           0.564050                0.016469   \n",
       "1                                           0.570175                0.020794   \n",
       "2                                           0.563706                0.016474   \n",
       "3                                           0.564663                0.023982   \n",
       "4                                           0.575617                0.035490   \n",
       "\n",
       "   Bankrupt?  \n",
       "0          1  \n",
       "1          1  \n",
       "2          1  \n",
       "3          1  \n",
       "4          1  \n",
       "\n",
       "[5 rows x 21 columns]"
      ]
     },
     "execution_count": 79,
     "metadata": {},
     "output_type": "execute_result"
    }
   ],
   "source": [
    "ds.head()"
   ]
  },
  {
   "cell_type": "code",
   "execution_count": 80,
   "id": "d357dfcc",
   "metadata": {
    "scrolled": true
   },
   "outputs": [
    {
     "data": {
      "text/plain": [
       "0"
      ]
     },
     "execution_count": 80,
     "metadata": {},
     "output_type": "execute_result"
    }
   ],
   "source": [
    "# We can see that our dataset does not contain any duplicates.\n",
    "\n",
    "ds.duplicated().sum()"
   ]
  },
  {
   "cell_type": "code",
   "execution_count": 81,
   "id": "0114c1de",
   "metadata": {
    "scrolled": true
   },
   "outputs": [
    {
     "data": {
      "text/plain": [
       " ROA(C) before interest and depreciation before interest    float64\n",
       " ROA(A) before interest and % after tax                     float64\n",
       " ROA(B) before interest and depreciation after tax          float64\n",
       " Continuous interest rate (after tax)                       float64\n",
       " Net Value Per Share (B)                                    float64\n",
       " Persistent EPS in the Last Four Seasons                    float64\n",
       " Per Share Net profit before tax (Yuan ¥)                   float64\n",
       " Interest Expense Ratio                                     float64\n",
       " Total debt/Total net worth                                 float64\n",
       " Debt ratio %                                               float64\n",
       " Net worth/Assets                                           float64\n",
       " Borrowing dependency                                       float64\n",
       " Net profit before tax/Paid-in capital                      float64\n",
       " Retained Earnings to Total Assets                          float64\n",
       " Net Income to Total Assets                                 float64\n",
       " Net Income to Stockholder's Equity                         float64\n",
       " Liability to Equity                                        float64\n",
       " Degree of Financial Leverage (DFL)                         float64\n",
       " Interest Coverage Ratio (Interest expense to EBIT)         float64\n",
       " Equity to Liability                                        float64\n",
       "Bankrupt?                                                     int64\n",
       "dtype: object"
      ]
     },
     "execution_count": 81,
     "metadata": {},
     "output_type": "execute_result"
    }
   ],
   "source": [
    "# Checking the type of the columns\n",
    "ds.dtypes"
   ]
  },
  {
   "cell_type": "markdown",
   "id": "0e66007a",
   "metadata": {},
   "source": [
    "# Data Pre-processing:"
   ]
  },
  {
   "cell_type": "code",
   "execution_count": 82,
   "id": "a344a975",
   "metadata": {},
   "outputs": [],
   "source": [
    "X = ds.copy(deep=True)"
   ]
  },
  {
   "cell_type": "markdown",
   "id": "f1822409",
   "metadata": {},
   "source": [
    "## Dealing with outliers:"
   ]
  },
  {
   "cell_type": "code",
   "execution_count": 83,
   "id": "8dfe362f",
   "metadata": {},
   "outputs": [
    {
     "data": {
      "text/plain": [
       "Index([' ROA(C) before interest and depreciation before interest',\n",
       "       ' ROA(A) before interest and % after tax',\n",
       "       ' ROA(B) before interest and depreciation after tax',\n",
       "       ' Continuous interest rate (after tax)', ' Net Value Per Share (B)',\n",
       "       ' Persistent EPS in the Last Four Seasons',\n",
       "       ' Per Share Net profit before tax (Yuan ¥)', ' Interest Expense Ratio',\n",
       "       ' Total debt/Total net worth', ' Debt ratio %', ' Net worth/Assets',\n",
       "       ' Borrowing dependency', ' Net profit before tax/Paid-in capital',\n",
       "       ' Retained Earnings to Total Assets', ' Net Income to Total Assets',\n",
       "       ' Net Income to Stockholder's Equity', ' Liability to Equity',\n",
       "       ' Degree of Financial Leverage (DFL)',\n",
       "       ' Interest Coverage Ratio (Interest expense to EBIT)',\n",
       "       ' Equity to Liability', 'Bankrupt?'],\n",
       "      dtype='object')"
      ]
     },
     "execution_count": 83,
     "metadata": {},
     "output_type": "execute_result"
    }
   ],
   "source": [
    "X.columns"
   ]
  },
  {
   "cell_type": "code",
   "execution_count": 84,
   "id": "9365126f",
   "metadata": {
    "scrolled": true
   },
   "outputs": [],
   "source": [
    "# cols = X.drop(columns=\"Bankrupt?\").columns\n",
    "\n",
    "# X = removeOutliers(X, colList=cols , lowPercentile=0.03, highPercentile=0.97, verbose=True) "
   ]
  },
  {
   "cell_type": "markdown",
   "id": "557cd9e9",
   "metadata": {},
   "source": [
    "## Splitting the dataset:"
   ]
  },
  {
   "cell_type": "code",
   "execution_count": null,
   "id": "73e04346",
   "metadata": {},
   "outputs": [],
   "source": [
    "y = X[\"Bankrupt?\"]\n",
    "X = X.drop(columns=[\"Bankrupt?\"])"
   ]
  },
  {
   "cell_type": "code",
   "execution_count": 88,
   "id": "b0f97d7e",
   "metadata": {
    "scrolled": true
   },
   "outputs": [],
   "source": [
    "# Split the dataset intro train and test sets.\n",
    "\n",
    "x_train, x_val, y_train, y_val = train_test_split(X, y, test_size = 0.3,\n",
    "                                   shuffle =True, stratify=y, random_state=SEED)\n",
    "\n",
    "x_train, x_test, y_train, y_test = train_test_split(x_train, y_train, test_size = 0.3,\n",
    "                                                   shuffle = True, stratify=y_train, random_state=SEED)"
   ]
  },
  {
   "cell_type": "code",
   "execution_count": 89,
   "id": "89cc946f",
   "metadata": {
    "scrolled": true
   },
   "outputs": [
    {
     "data": {
      "text/plain": [
       "0    3233\n",
       "1     108\n",
       "Name: Bankrupt?, dtype: int64"
      ]
     },
     "execution_count": 89,
     "metadata": {},
     "output_type": "execute_result"
    }
   ],
   "source": [
    "y_train.value_counts()"
   ]
  },
  {
   "cell_type": "code",
   "execution_count": 90,
   "id": "84fb6579",
   "metadata": {
    "scrolled": true
   },
   "outputs": [
    {
     "data": {
      "text/plain": [
       "0    1980\n",
       "1      66\n",
       "Name: Bankrupt?, dtype: int64"
      ]
     },
     "execution_count": 90,
     "metadata": {},
     "output_type": "execute_result"
    }
   ],
   "source": [
    "y_val.value_counts()"
   ]
  },
  {
   "cell_type": "code",
   "execution_count": 91,
   "id": "d06f4f7c",
   "metadata": {},
   "outputs": [
    {
     "data": {
      "text/plain": [
       "0    1386\n",
       "1      46\n",
       "Name: Bankrupt?, dtype: int64"
      ]
     },
     "execution_count": 91,
     "metadata": {},
     "output_type": "execute_result"
    }
   ],
   "source": [
    "y_test.value_counts()"
   ]
  },
  {
   "cell_type": "code",
   "execution_count": 92,
   "id": "a84b2759",
   "metadata": {},
   "outputs": [],
   "source": [
    "#y_train = tf.reshape(y_train, [-1, 1])\n",
    "#y_test = tf.reshape(y_test, [-1, 1])"
   ]
  },
  {
   "cell_type": "code",
   "execution_count": 93,
   "id": "076139e9",
   "metadata": {},
   "outputs": [],
   "source": [
    "#y_train.shape"
   ]
  },
  {
   "cell_type": "markdown",
   "id": "bb34c042",
   "metadata": {},
   "source": [
    "## Data Normalization:"
   ]
  },
  {
   "cell_type": "code",
   "execution_count": 94,
   "id": "199499da",
   "metadata": {
    "scrolled": true
   },
   "outputs": [],
   "source": [
    "# We use the standard scaler in order to normalize the data:\n",
    "\n",
    "scaler = StandardScaler() \n",
    "x_train = scaler.fit_transform(x_train) \n",
    "x_val = scaler.transform(x_val)\n",
    "x_test = scaler.transform(x_test)"
   ]
  },
  {
   "cell_type": "code",
   "execution_count": 95,
   "id": "98e14fc6",
   "metadata": {},
   "outputs": [],
   "source": [
    "# x_train = tf.reshape(x_train, [x_train.shape[0], x_train.shape[1]])\n",
    "# x_test = tf.reshape(x_test, [x_test.shape[0], x_test.shape[1]])"
   ]
  },
  {
   "cell_type": "code",
   "execution_count": 96,
   "id": "c1e3a924",
   "metadata": {},
   "outputs": [
    {
     "data": {
      "text/plain": [
       "(3341, 20)"
      ]
     },
     "execution_count": 96,
     "metadata": {},
     "output_type": "execute_result"
    }
   ],
   "source": [
    "x_train.shape"
   ]
  },
  {
   "cell_type": "markdown",
   "id": "172051c1",
   "metadata": {},
   "source": [
    "# Modelling:"
   ]
  },
  {
   "cell_type": "markdown",
   "id": "9e692acf",
   "metadata": {},
   "source": [
    "## Building The First Model:"
   ]
  },
  {
   "cell_type": "code",
   "execution_count": 97,
   "id": "737b076d",
   "metadata": {},
   "outputs": [],
   "source": [
    "# METRICS = [\n",
    "#     FalseNegatives(name='fn'), BinaryAccuracy(name='accuracy'),\n",
    "#     Precision(name='precision'), Recall(name='recall'), AUC(name='auc'),]"
   ]
  },
  {
   "cell_type": "code",
   "execution_count": 98,
   "id": "3c565be0",
   "metadata": {
    "scrolled": true
   },
   "outputs": [],
   "source": [
    "# # Building the first model\n",
    "\n",
    "# def create_model(nn=16, nl=1, learning_rate=0.001, activation=\"relu\", optim=\"adam\", \n",
    "#                  init=\"glorot_uniform\", loss = \"binary_crossentropy\"):\n",
    "#     classifier = Sequential()\n",
    "#     # Let's add the first hidden layers\n",
    "#     classifier.add(Dense(units=nn, kernel_initializer=init, activation=activation,\n",
    "#                          input_dim=X_train.shape[1])) \n",
    "    \n",
    "#     for _ in range(nl):\n",
    "#         classifier.add(Dense(units=8, kernel_initializer=init, activation=activation))\n",
    "#         classifier.add(Dense(units=1, kernel_initializer=init, activation=\"sigmoid\"))\n",
    "    \n",
    "#     classifier.compile(optimizer=optim, loss=loss, metrics=) # need to fill this.\n",
    "#     return classifier"
   ]
  },
  {
   "cell_type": "markdown",
   "id": "e7a94ca7",
   "metadata": {},
   "source": [
    "### Hyper parameters tuning:"
   ]
  },
  {
   "cell_type": "markdown",
   "id": "c8f5e6de",
   "metadata": {},
   "source": [
    "#### Using Keras tuner:"
   ]
  },
  {
   "cell_type": "markdown",
   "id": "1a1f052f",
   "metadata": {},
   "source": [
    "- This part is inspired from: https://neptune.ai/blog/keras-tuner-tuning-hyperparameters-deep-learning-model/amp\n",
    "- https://keras.io/guides/keras_tuner/getting_started/\n",
    "- https://keras.io/api/utils/serialization_utils/"
   ]
  },
  {
   "cell_type": "code",
   "execution_count": 99,
   "id": "5d89ac70",
   "metadata": {},
   "outputs": [],
   "source": [
    "# # S.M.O.T.E\n",
    "\n",
    "# sm = SMOTE(k_neighbors=3, random_state=SEED)\n",
    "# x_train, y_train = sm.fit_resample(x_train, y_train)"
   ]
  },
  {
   "cell_type": "code",
   "execution_count": 100,
   "id": "36192b3a",
   "metadata": {},
   "outputs": [],
   "source": [
    "def focal_loss(gamma=2., alpha=.25):\n",
    "    def focal_loss_fixed(y_true, y_pred):\n",
    "        pt_1 = tf.where(tf.equal(y_true, 1), y_pred, tf.ones_like(y_pred))\n",
    "        pt_0 = tf.where(tf.equal(y_true, 0), y_pred, tf.zeros_like(y_pred))\n",
    "        return -K.mean(alpha * K.pow(1. - pt_1, gamma) * K.log(pt_1+K.epsilon())) - K.mean((1 - alpha) * K.pow(pt_0, gamma) * K.log(1. - pt_0 + K.epsilon()))\n",
    "    return focal_loss_fixed"
   ]
  },
  {
   "cell_type": "code",
   "execution_count": 101,
   "id": "d8171a21",
   "metadata": {},
   "outputs": [],
   "source": [
    "class_weights=dict(enumerate(class_weight.compute_class_weight('balanced', \n",
    "                            classes=np.unique(y_train), y=y_train)))"
   ]
  },
  {
   "cell_type": "code",
   "execution_count": 102,
   "id": "d6a257ec",
   "metadata": {},
   "outputs": [
    {
     "data": {
      "text/plain": [
       "(3341,)"
      ]
     },
     "execution_count": 102,
     "metadata": {},
     "output_type": "execute_result"
    }
   ],
   "source": [
    "y_train.shape"
   ]
  },
  {
   "cell_type": "code",
   "execution_count": 103,
   "id": "ad90cd4c",
   "metadata": {},
   "outputs": [],
   "source": [
    "# Defining the Recall, Precision and the F1-score:\n",
    "\n",
    "def recall_m(y_true, y_pred):\n",
    "    true_positives = K.sum(K.round(K.clip(y_true * y_pred, 0, 1)))\n",
    "    possible_positives = K.sum(K.round(K.clip(y_true, 0, 1)))\n",
    "    recall = true_positives / (possible_positives + K.epsilon())\n",
    "    return recall\n",
    "\n",
    "def precision_m(y_true, y_pred):\n",
    "    true_positives = K.sum(K.round(K.clip(y_true * y_pred, 0, 1)))\n",
    "    predicted_positives = K.sum(K.round(K.clip(y_pred, 0, 1)))\n",
    "    precision = true_positives / (predicted_positives + K.epsilon())\n",
    "    return precision\n",
    "\n",
    "def f1_m(y_true, y_pred):\n",
    "    precision = precision_m(y_true, y_pred)\n",
    "    recall = recall_m(y_true, y_pred)\n",
    "    return 2*((precision*recall)/(precision+recall+K.epsilon()))"
   ]
  },
  {
   "cell_type": "code",
   "execution_count": 104,
   "id": "83e26520",
   "metadata": {},
   "outputs": [],
   "source": [
    "# defining a call that will clean out output at the end of every training epoch\n",
    " \n",
    "class ClearTrainingOutput(tf.keras.callbacks.Callback):\n",
    "    def on_train_end(*args, **kwargs):\n",
    "        IPython.display.clear_output(wait = True)"
   ]
  },
  {
   "cell_type": "code",
   "execution_count": 105,
   "id": "111ce45c",
   "metadata": {},
   "outputs": [],
   "source": [
    "EarlyStop = EarlyStopping(monitor='f1_m', patience=3)\n",
    "Clear =  ClearTrainingOutput()\n",
    "Hist = History()\n",
    "\n",
    "CallBacksList = [EarlyStop, Clear, Hist] # Clear"
   ]
  },
  {
   "cell_type": "code",
   "execution_count": 106,
   "id": "44b386c7",
   "metadata": {},
   "outputs": [],
   "source": [
    "class FocalLoss(tf.keras.losses.Loss):\n",
    "    #def __init__(self, gamma, alpha):\n",
    "    def call(self, gamma, alpha, y_true, y_pred):\n",
    "        gamma = float(gamma)\n",
    "        alpha = float(alpha)\n",
    "        #def focal_loss_fixed(y_true, y_pred):\n",
    "        epsilon = 1.e-9\n",
    "        y_true = tf.convert_to_tensor(y_true, tf.float32)\n",
    "        y_pred = tf.convert_to_tensor(y_pred, tf.float32)\n",
    "\n",
    "        model_out = tf.add(y_pred, epsilon)\n",
    "        ce = tf.multiply(y_true, -tf.math.log(model_out))\n",
    "        weight = tf.multiply(y_true, tf.pow(tf.subtract(1., model_out), gamma))\n",
    "        fl = tf.multiply(alpha, tf.multiply(weight, ce))\n",
    "        reduced_fl = tf.reduce_max(fl, axis=1)\n",
    "        return tf.reduce_mean(reduced_fl)\n",
    "    #return focal_loss_fixed"
   ]
  },
  {
   "cell_type": "code",
   "execution_count": 107,
   "id": "b56f2786",
   "metadata": {},
   "outputs": [
    {
     "data": {
      "text/plain": [
       "<tensorflow_addons.losses.focal_loss.SigmoidFocalCrossEntropy at 0x7f88dc4ee310>"
      ]
     },
     "execution_count": 107,
     "metadata": {},
     "output_type": "execute_result"
    }
   ],
   "source": [
    "tfa.losses.SigmoidFocalCrossEntropy()"
   ]
  },
  {
   "cell_type": "code",
   "execution_count": 108,
   "id": "1adf1468",
   "metadata": {},
   "outputs": [
    {
     "data": {
      "text/plain": [
       "<keras.losses.BinaryCrossentropy at 0x7f88dc4ee700>"
      ]
     },
     "execution_count": 108,
     "metadata": {},
     "output_type": "execute_result"
    }
   ],
   "source": [
    "tf.keras.losses.BinaryCrossentropy()"
   ]
  },
  {
   "cell_type": "code",
   "execution_count": 109,
   "id": "e17149fb",
   "metadata": {},
   "outputs": [],
   "source": [
    "class MyHyperModel(kt.HyperModel):\n",
    "\n",
    "    def build(self ,hp):\n",
    "\n",
    "        hp_units_1 = hp.Choice(\"Layer 1\", [32, 64, 128,])\n",
    "        hp_units_2 = hp.Choice(\"Layer 2\", [16, 32, 64])\n",
    "        hp_units_3 = hp.Choice(\"Layer 3\", [4, 8, 16])\n",
    "        #hp_units_4 = hp.Choice(\"Layer 4\", [4, 8, 16])\n",
    "        hp_activation = hp.Choice(\"activation\", [\"relu\", \"tanh\"])\n",
    "        hp_learning_rate = hp.Float(\"learning_rate\", 1e-4, 1e-2, sampling=\"log\", default=1e-3)  \n",
    "        hp_loss = hp.Choice(\"loss_type\", [\"BC\", \"FL\"])\n",
    "                                          \n",
    "        model = Sequential()\n",
    "    \n",
    "        model.add(layers.Dense(units = hp_units_1,\n",
    "                        kernel_initializer = \"random_normal\", #\"glorot_uniform\",\n",
    "                        kernel_regularizer = tf.keras.regularizers.L2(0.1),\n",
    "                        activation = hp_activation,\n",
    "                        input_dim = x_train.shape[1]   \n",
    "                           )) \n",
    "    \n",
    "        # Tune whether to use dropout.\n",
    "#         if hp.Boolean(\"dropout\"):\n",
    "#             model.add(layers.Dropout(rate=0.5))\n",
    "    \n",
    "        model.add(layers.Dense(units = hp_units_2, \n",
    "                            kernel_initializer = \"random_normal\",   #\"glorot_uniform\", \n",
    "                            activation = hp_activation))\n",
    "            \n",
    "#         if hp.Boolean(\"dropout\"):\n",
    "#             model.add(layers.Dropout(rate=0.5))\n",
    "            \n",
    "        model.add(layers.Dense(units = hp_units_3, \n",
    "                            kernel_initializer = \"random_normal\",   #\"glorot_uniform\", \n",
    "                            activation = hp_activation))\n",
    "            \n",
    "#         if hp.Boolean(\"dropout\"):\n",
    "#             model.add(layers.Dropout(rate=0.5))\n",
    "            \n",
    "#         model.add(layers.Dense(units = hp_units_4, \n",
    "#                             kernel_initializer = \"random_normal\",   #\"glorot_uniform\", \n",
    "#                             activation = hp_activation))\n",
    "            \n",
    "#         if hp.Boolean(\"dropout\"):\n",
    "#             model.add(layers.Dropout(rate=0.5))\n",
    "            \n",
    "        model.add(layers.Dense(units=1, \n",
    "                            kernel_initializer = \"random_normal\",  #\"glorot_uniform\",\n",
    "                            activation=\"sigmoid\"))\n",
    "            \n",
    "        if hp_loss == \"BC\":\n",
    "            with hp.conditional_scope(\"loss_type\", [\"BC\"]):\n",
    "                model.compile(optimizer=tf.keras.optimizers.Adam(learning_rate = hp_learning_rate),\n",
    "                        loss = \"binary_crossentropy\",\n",
    "                        metrics= [\"accuracy\", tf.keras.metrics.AUC(), tf.keras.metrics.Recall()\n",
    "                            , f1_m])\n",
    "        if hp_loss == \"FL\":\n",
    "            with hp.conditional_scope(\"loss_type\", [\"FL\"]):\n",
    "                model.compile(optimizer=tf.keras.optimizers.Adam(learning_rate = hp_learning_rate),\n",
    "                        loss = focal_loss(alpha=.25, gamma=2),  \n",
    "                        metrics= [\"accuracy\", tf.keras.metrics.AUC(), tf.keras.metrics.Recall()\n",
    "                                    , f1_m])\n",
    "    \n",
    "        return model\n",
    "\n",
    "    def fit(self, hp, model, x, y, validation_data=None, **kwargs):\n",
    "        hp_batch_size = hp.Choice(\"batch_size\", [16, 32, 64])\n",
    "        #hp_epochs = hp.Choice(\"epochs\", [5, 10, 100])\n",
    "        \n",
    "#         if hp.Boolean(\"normalize\"):\n",
    "#             x = layers.Normalization()(x)\n",
    "        return model.fit(\n",
    "            x,\n",
    "            y,\n",
    "            # Tune whether to shuffle the data in each epoch.\n",
    "            shuffle=hp.Boolean(\"shuffle\"),\n",
    "            validation_data=validation_data,\n",
    "            #epochs = hp_epochs\n",
    "            batch_size = hp_batch_size,\n",
    "            class_weight = class_weights,\n",
    "            **kwargs,\n",
    "        )"
   ]
  },
  {
   "cell_type": "code",
   "execution_count": 110,
   "id": "020e4ee0",
   "metadata": {},
   "outputs": [],
   "source": [
    "tuner = kt.Hyperband(\n",
    "    hypermodel = MyHyperModel(),\n",
    "    objective = kt.Objective(\"f1_m\", direction=\"max\"),\n",
    "    #objective = 'val_accuracy', # to change\n",
    "    executions_per_trial=2, \n",
    "    overwrite=True,\n",
    "    directory = 'Deep_learning_project',\n",
    "    project_name=\"Default_predictions\"\n",
    ")"
   ]
  },
  {
   "cell_type": "code",
   "execution_count": 111,
   "id": "200beb5a",
   "metadata": {},
   "outputs": [
    {
     "name": "stdout",
     "output_type": "stream",
     "text": [
      "Trial 254 Complete [00h 00m 19s]\n",
      "f1_m: 0.21701329201459885\n",
      "\n",
      "Best f1_m So Far: 0.29446467757225037\n",
      "Total elapsed time: 01h 01m 43s\n",
      "INFO:tensorflow:Oracle triggered exit\n"
     ]
    }
   ],
   "source": [
    "tuner.search(x_train, y_train,\n",
    "             validation_data = (x_val, y_val),\n",
    "             epochs = 100,\n",
    "             verbose = 1,\n",
    "             initial_epoch = 0,\n",
    "             callbacks = CallBacksList,\n",
    "             use_multiprocessing = True,\n",
    "            )"
   ]
  },
  {
   "cell_type": "code",
   "execution_count": 143,
   "id": "9ae2148e",
   "metadata": {},
   "outputs": [
    {
     "name": "stdout",
     "output_type": "stream",
     "text": [
      "\n",
      "The hyperparameter search is complete. The optimal number of units in the first densely-connected\n",
      "layer is 32, the second layer is 16, \n",
      "the third layer is 4, the optimal activation function is relu, \n",
      "the best loss function is BC  \n",
      "and the optimal learning rate for the optimizer\n",
      "is 0.0007550056505506986.\n",
      "\n"
     ]
    }
   ],
   "source": [
    "# Get the optimal hyperparameters\n",
    "best_hps=tuner.get_best_hyperparameters(num_trials=1)[0]\n",
    "\n",
    "print(f\"\"\"\n",
    "The hyperparameter search is complete. The optimal number of units in the first densely-connected\n",
    "layer is {best_hps.get(\"Layer 1\")}, the second layer is {best_hps.get(\"Layer 2\")}, \n",
    "the third layer is {best_hps.get(\"Layer 3\")}, the optimal activation function is {best_hps.get(\"activation\")}, \n",
    "the best loss function is {best_hps.get(\"loss_type\")}  \n",
    "and the optimal learning rate for the optimizer\n",
    "is {best_hps.get('learning_rate')}.\n",
    "\"\"\")\n"
   ]
  },
  {
   "cell_type": "code",
   "execution_count": 144,
   "id": "78ee9071",
   "metadata": {},
   "outputs": [],
   "source": [
    "x_all = np.concatenate((x_train, x_val))\n",
    "y_all = np.concatenate((y_train, y_val))"
   ]
  },
  {
   "cell_type": "code",
   "execution_count": 145,
   "id": "2cd8daa3",
   "metadata": {},
   "outputs": [],
   "source": [
    "EarlyStop = EarlyStopping(monitor='accuracy', patience=3) # f1_m\n",
    "Hist = History()\n",
    "\n",
    "callbacks_list = [EarlyStop, Hist] # Clear"
   ]
  },
  {
   "cell_type": "code",
   "execution_count": 146,
   "id": "8b145655",
   "metadata": {},
   "outputs": [
    {
     "name": "stdout",
     "output_type": "stream",
     "text": [
      "Epoch 1/100\n",
      "105/105 [==============================] - 3s 11ms/step - loss: 0.7360 - accuracy: 0.9590 - auc_3: 0.4994 - recall_3: 0.0093 - f1_m: 5.9524e-04 - val_loss: 0.6702 - val_accuracy: 0.9677 - val_auc_3: 0.5000 - val_recall_3: 0.0000e+00 - val_f1_m: 0.0000e+00\n",
      "Epoch 2/100\n",
      "105/105 [==============================] - 1s 8ms/step - loss: 0.6451 - accuracy: 0.9677 - auc_3: 0.5349 - recall_3: 0.0000e+00 - f1_m: 0.0000e+00 - val_loss: 0.6244 - val_accuracy: 0.9677 - val_auc_3: 0.5000 - val_recall_3: 0.0000e+00 - val_f1_m: 0.0000e+00\n",
      "Epoch 3/100\n",
      "105/105 [==============================] - 1s 6ms/step - loss: 0.6080 - accuracy: 0.9677 - auc_3: 0.5125 - recall_3: 0.0000e+00 - f1_m: 0.0000e+00 - val_loss: 0.5919 - val_accuracy: 0.9677 - val_auc_3: 0.5000 - val_recall_3: 0.0000e+00 - val_f1_m: 0.0000e+00\n",
      "Epoch 4/100\n",
      "105/105 [==============================] - 1s 5ms/step - loss: 0.5771 - accuracy: 0.9677 - auc_3: 0.4992 - recall_3: 0.0000e+00 - f1_m: 0.0000e+00 - val_loss: 0.5623 - val_accuracy: 0.9677 - val_auc_3: 0.5000 - val_recall_3: 0.0000e+00 - val_f1_m: 0.0000e+00\n",
      "Epoch 5/100\n",
      "105/105 [==============================] - 1s 6ms/step - loss: 0.5485 - accuracy: 0.9677 - auc_3: 0.5276 - recall_3: 0.0000e+00 - f1_m: 0.0000e+00 - val_loss: 0.5346 - val_accuracy: 0.9677 - val_auc_3: 0.5000 - val_recall_3: 0.0000e+00 - val_f1_m: 0.0000e+00\n",
      "Epoch 6/100\n",
      "105/105 [==============================] - 1s 6ms/step - loss: 0.5218 - accuracy: 0.9677 - auc_3: 0.5312 - recall_3: 0.0000e+00 - f1_m: 0.0000e+00 - val_loss: 0.5088 - val_accuracy: 0.9677 - val_auc_3: 0.5000 - val_recall_3: 0.0000e+00 - val_f1_m: 0.0000e+00\n",
      "Epoch 7/100\n",
      "105/105 [==============================] - 1s 6ms/step - loss: 0.4968 - accuracy: 0.9677 - auc_3: 0.5219 - recall_3: 0.0000e+00 - f1_m: 0.0000e+00 - val_loss: 0.4846 - val_accuracy: 0.9677 - val_auc_3: 0.5000 - val_recall_3: 0.0000e+00 - val_f1_m: 0.0000e+00\n",
      "Epoch 8/100\n",
      "105/105 [==============================] - 1s 7ms/step - loss: 0.4734 - accuracy: 0.9677 - auc_3: 0.4891 - recall_3: 0.0000e+00 - f1_m: 0.0000e+00 - val_loss: 0.4620 - val_accuracy: 0.9677 - val_auc_3: 0.5000 - val_recall_3: 0.0000e+00 - val_f1_m: 0.0000e+00\n",
      "Epoch 9/100\n",
      "105/105 [==============================] - 1s 8ms/step - loss: 0.4515 - accuracy: 0.9677 - auc_3: 0.5193 - recall_3: 0.0000e+00 - f1_m: 0.0000e+00 - val_loss: 0.4409 - val_accuracy: 0.9677 - val_auc_3: 0.5000 - val_recall_3: 0.0000e+00 - val_f1_m: 0.0000e+00\n",
      "Epoch 10/100\n",
      "105/105 [==============================] - 1s 6ms/step - loss: 0.4311 - accuracy: 0.9677 - auc_3: 0.5155 - recall_3: 0.0000e+00 - f1_m: 0.0000e+00 - val_loss: 0.4212 - val_accuracy: 0.9677 - val_auc_3: 0.5000 - val_recall_3: 0.0000e+00 - val_f1_m: 0.0000e+00\n",
      "Epoch 11/100\n",
      "105/105 [==============================] - 1s 7ms/step - loss: 0.4121 - accuracy: 0.9677 - auc_3: 0.4977 - recall_3: 0.0000e+00 - f1_m: 0.0000e+00 - val_loss: 0.4028 - val_accuracy: 0.9677 - val_auc_3: 0.5000 - val_recall_3: 0.0000e+00 - val_f1_m: 0.0000e+00\n",
      "Epoch 12/100\n",
      "105/105 [==============================] - 0s 5ms/step - loss: 0.3943 - accuracy: 0.9677 - auc_3: 0.4831 - recall_3: 0.0000e+00 - f1_m: 0.0000e+00 - val_loss: 0.3856 - val_accuracy: 0.9677 - val_auc_3: 0.5000 - val_recall_3: 0.0000e+00 - val_f1_m: 0.0000e+00\n",
      "Epoch 13/100\n",
      "105/105 [==============================] - 1s 5ms/step - loss: 0.3777 - accuracy: 0.9677 - auc_3: 0.4770 - recall_3: 0.0000e+00 - f1_m: 0.0000e+00 - val_loss: 0.3695 - val_accuracy: 0.9677 - val_auc_3: 0.5000 - val_recall_3: 0.0000e+00 - val_f1_m: 0.0000e+00\n",
      "Epoch 14/100\n",
      "105/105 [==============================] - 0s 4ms/step - loss: 0.3622 - accuracy: 0.9677 - auc_3: 0.4573 - recall_3: 0.0000e+00 - f1_m: 0.0000e+00 - val_loss: 0.3545 - val_accuracy: 0.9677 - val_auc_3: 0.5000 - val_recall_3: 0.0000e+00 - val_f1_m: 0.0000e+00\n",
      "Epoch 15/100\n",
      "105/105 [==============================] - 0s 4ms/step - loss: 0.3477 - accuracy: 0.9677 - auc_3: 0.5136 - recall_3: 0.0000e+00 - f1_m: 0.0000e+00 - val_loss: 0.3406 - val_accuracy: 0.9677 - val_auc_3: 0.5000 - val_recall_3: 0.0000e+00 - val_f1_m: 0.0000e+00\n",
      "Epoch 16/100\n",
      "105/105 [==============================] - 0s 4ms/step - loss: 0.3341 - accuracy: 0.9677 - auc_3: 0.5565 - recall_3: 0.0000e+00 - f1_m: 0.0000e+00 - val_loss: 0.3275 - val_accuracy: 0.9677 - val_auc_3: 0.5000 - val_recall_3: 0.0000e+00 - val_f1_m: 0.0000e+00\n",
      "Epoch 17/100\n",
      "105/105 [==============================] - 0s 4ms/step - loss: 0.3214 - accuracy: 0.9677 - auc_3: 0.5159 - recall_3: 0.0000e+00 - f1_m: 0.0000e+00 - val_loss: 0.3152 - val_accuracy: 0.9677 - val_auc_3: 0.5000 - val_recall_3: 0.0000e+00 - val_f1_m: 0.0000e+00\n",
      "Epoch 18/100\n",
      "105/105 [==============================] - 0s 4ms/step - loss: 0.3096 - accuracy: 0.9677 - auc_3: 0.5145 - recall_3: 0.0000e+00 - f1_m: 0.0000e+00 - val_loss: 0.3037 - val_accuracy: 0.9677 - val_auc_3: 0.5000 - val_recall_3: 0.0000e+00 - val_f1_m: 0.0000e+00\n",
      "Epoch 19/100\n",
      "105/105 [==============================] - 0s 4ms/step - loss: 0.2984 - accuracy: 0.9677 - auc_3: 0.5463 - recall_3: 0.0000e+00 - f1_m: 0.0000e+00 - val_loss: 0.2930 - val_accuracy: 0.9677 - val_auc_3: 0.5000 - val_recall_3: 0.0000e+00 - val_f1_m: 0.0000e+00\n",
      "Epoch 20/100\n",
      "105/105 [==============================] - 0s 4ms/step - loss: 0.2881 - accuracy: 0.9677 - auc_3: 0.4857 - recall_3: 0.0000e+00 - f1_m: 0.0000e+00 - val_loss: 0.2830 - val_accuracy: 0.9677 - val_auc_3: 0.5000 - val_recall_3: 0.0000e+00 - val_f1_m: 0.0000e+00\n",
      "Epoch 21/100\n",
      "105/105 [==============================] - 1s 5ms/step - loss: 0.2784 - accuracy: 0.9677 - auc_3: 0.4973 - recall_3: 0.0000e+00 - f1_m: 0.0000e+00 - val_loss: 0.2736 - val_accuracy: 0.9677 - val_auc_3: 0.5000 - val_recall_3: 0.0000e+00 - val_f1_m: 0.0000e+00\n",
      "Epoch 22/100\n",
      "105/105 [==============================] - 1s 8ms/step - loss: 0.2693 - accuracy: 0.9677 - auc_3: 0.4862 - recall_3: 0.0000e+00 - f1_m: 0.0000e+00 - val_loss: 0.2648 - val_accuracy: 0.9677 - val_auc_3: 0.5000 - val_recall_3: 0.0000e+00 - val_f1_m: 0.0000e+00\n",
      "Epoch 23/100\n",
      "105/105 [==============================] - 1s 5ms/step - loss: 0.2608 - accuracy: 0.9677 - auc_3: 0.5109 - recall_3: 0.0000e+00 - f1_m: 0.0000e+00 - val_loss: 0.2567 - val_accuracy: 0.9677 - val_auc_3: 0.5000 - val_recall_3: 0.0000e+00 - val_f1_m: 0.0000e+00\n",
      "Epoch 24/100\n",
      "105/105 [==============================] - 0s 4ms/step - loss: 0.2529 - accuracy: 0.9677 - auc_3: 0.5071 - recall_3: 0.0000e+00 - f1_m: 0.0000e+00 - val_loss: 0.2489 - val_accuracy: 0.9677 - val_auc_3: 0.5000 - val_recall_3: 0.0000e+00 - val_f1_m: 0.0000e+00\n",
      "Epoch 25/100\n",
      "105/105 [==============================] - 0s 4ms/step - loss: 0.2454 - accuracy: 0.9677 - auc_3: 0.4735 - recall_3: 0.0000e+00 - f1_m: 0.0000e+00 - val_loss: 0.2416 - val_accuracy: 0.9677 - val_auc_3: 0.5000 - val_recall_3: 0.0000e+00 - val_f1_m: 0.0000e+00\n",
      "Epoch 26/100\n",
      "105/105 [==============================] - 1s 5ms/step - loss: 0.2384 - accuracy: 0.9677 - auc_3: 0.4867 - recall_3: 0.0000e+00 - f1_m: 0.0000e+00 - val_loss: 0.2349 - val_accuracy: 0.9677 - val_auc_3: 0.5000 - val_recall_3: 0.0000e+00 - val_f1_m: 0.0000e+00\n",
      "Epoch 27/100\n",
      "105/105 [==============================] - 1s 7ms/step - loss: 0.2319 - accuracy: 0.9677 - auc_3: 0.4865 - recall_3: 0.0000e+00 - f1_m: 0.0000e+00 - val_loss: 0.2286 - val_accuracy: 0.9677 - val_auc_3: 0.5000 - val_recall_3: 0.0000e+00 - val_f1_m: 0.0000e+00\n",
      "Epoch 28/100\n",
      "105/105 [==============================] - 1s 7ms/step - loss: 0.2258 - accuracy: 0.9677 - auc_3: 0.5195 - recall_3: 0.0000e+00 - f1_m: 0.0000e+00 - val_loss: 0.2227 - val_accuracy: 0.9677 - val_auc_3: 0.5000 - val_recall_3: 0.0000e+00 - val_f1_m: 0.0000e+00\n",
      "Epoch 29/100\n",
      "105/105 [==============================] - 1s 8ms/step - loss: 0.2200 - accuracy: 0.9677 - auc_3: 0.5226 - recall_3: 0.0000e+00 - f1_m: 0.0000e+00 - val_loss: 0.2171 - val_accuracy: 0.9677 - val_auc_3: 0.5000 - val_recall_3: 0.0000e+00 - val_f1_m: 0.0000e+00\n",
      "Epoch 30/100\n",
      "105/105 [==============================] - 1s 7ms/step - loss: 0.2146 - accuracy: 0.9677 - auc_3: 0.4774 - recall_3: 0.0000e+00 - f1_m: 0.0000e+00 - val_loss: 0.2119 - val_accuracy: 0.9677 - val_auc_3: 0.5000 - val_recall_3: 0.0000e+00 - val_f1_m: 0.0000e+00\n",
      "Epoch 31/100\n",
      "105/105 [==============================] - 1s 6ms/step - loss: 0.2096 - accuracy: 0.9677 - auc_3: 0.5076 - recall_3: 0.0000e+00 - f1_m: 0.0000e+00 - val_loss: 0.2071 - val_accuracy: 0.9677 - val_auc_3: 0.5000 - val_recall_3: 0.0000e+00 - val_f1_m: 0.0000e+00\n",
      "Epoch 32/100\n",
      "105/105 [==============================] - 1s 5ms/step - loss: 0.2049 - accuracy: 0.9677 - auc_3: 0.4659 - recall_3: 0.0000e+00 - f1_m: 0.0000e+00 - val_loss: 0.2024 - val_accuracy: 0.9677 - val_auc_3: 0.5000 - val_recall_3: 0.0000e+00 - val_f1_m: 0.0000e+00\n",
      "Epoch 33/100\n",
      "105/105 [==============================] - 1s 6ms/step - loss: 0.2005 - accuracy: 0.9677 - auc_3: 0.5325 - recall_3: 0.0000e+00 - f1_m: 0.0000e+00 - val_loss: 0.1982 - val_accuracy: 0.9677 - val_auc_3: 0.5000 - val_recall_3: 0.0000e+00 - val_f1_m: 0.0000e+00\n",
      "Epoch 34/100\n",
      "105/105 [==============================] - 1s 6ms/step - loss: 0.1964 - accuracy: 0.9677 - auc_3: 0.4749 - recall_3: 0.0000e+00 - f1_m: 0.0000e+00 - val_loss: 0.1942 - val_accuracy: 0.9677 - val_auc_3: 0.5000 - val_recall_3: 0.0000e+00 - val_f1_m: 0.0000e+00\n",
      "Epoch 35/100\n",
      "105/105 [==============================] - 1s 6ms/step - loss: 0.1925 - accuracy: 0.9677 - auc_3: 0.4735 - recall_3: 0.0000e+00 - f1_m: 0.0000e+00 - val_loss: 0.1905 - val_accuracy: 0.9677 - val_auc_3: 0.5000 - val_recall_3: 0.0000e+00 - val_f1_m: 0.0000e+00\n",
      "Epoch 36/100\n",
      "105/105 [==============================] - 1s 6ms/step - loss: 0.1889 - accuracy: 0.9677 - auc_3: 0.4901 - recall_3: 0.0000e+00 - f1_m: 0.0000e+00 - val_loss: 0.1870 - val_accuracy: 0.9677 - val_auc_3: 0.5000 - val_recall_3: 0.0000e+00 - val_f1_m: 0.0000e+00\n",
      "Epoch 37/100\n",
      "105/105 [==============================] - 1s 5ms/step - loss: 0.1855 - accuracy: 0.9677 - auc_3: 0.5101 - recall_3: 0.0000e+00 - f1_m: 0.0000e+00 - val_loss: 0.1837 - val_accuracy: 0.9677 - val_auc_3: 0.5000 - val_recall_3: 0.0000e+00 - val_f1_m: 0.0000e+00\n",
      "Epoch 38/100\n",
      "105/105 [==============================] - 1s 5ms/step - loss: 0.1823 - accuracy: 0.9677 - auc_3: 0.5000 - recall_3: 0.0000e+00 - f1_m: 0.0000e+00 - val_loss: 0.1806 - val_accuracy: 0.9677 - val_auc_3: 0.5000 - val_recall_3: 0.0000e+00 - val_f1_m: 0.0000e+00\n",
      "Epoch 39/100\n",
      "105/105 [==============================] - 1s 7ms/step - loss: 0.1793 - accuracy: 0.9677 - auc_3: 0.5228 - recall_3: 0.0000e+00 - f1_m: 0.0000e+00 - val_loss: 0.1777 - val_accuracy: 0.9677 - val_auc_3: 0.5000 - val_recall_3: 0.0000e+00 - val_f1_m: 0.0000e+00\n",
      "Epoch 40/100\n",
      "105/105 [==============================] - 0s 5ms/step - loss: 0.1766 - accuracy: 0.9677 - auc_3: 0.4598 - recall_3: 0.0000e+00 - f1_m: 0.0000e+00 - val_loss: 0.1751 - val_accuracy: 0.9677 - val_auc_3: 0.5000 - val_recall_3: 0.0000e+00 - val_f1_m: 0.0000e+00\n",
      "Epoch 41/100\n",
      "105/105 [==============================] - 1s 7ms/step - loss: 0.1740 - accuracy: 0.9677 - auc_3: 0.4946 - recall_3: 0.0000e+00 - f1_m: 0.0000e+00 - val_loss: 0.1725 - val_accuracy: 0.9677 - val_auc_3: 0.5000 - val_recall_3: 0.0000e+00 - val_f1_m: 0.0000e+00\n",
      "Epoch 42/100\n",
      "105/105 [==============================] - 1s 5ms/step - loss: 0.1715 - accuracy: 0.9677 - auc_3: 0.5000 - recall_3: 0.0000e+00 - f1_m: 0.0000e+00 - val_loss: 0.1702 - val_accuracy: 0.9677 - val_auc_3: 0.5000 - val_recall_3: 0.0000e+00 - val_f1_m: 0.0000e+00\n",
      "Epoch 43/100\n",
      "105/105 [==============================] - 1s 6ms/step - loss: 0.1693 - accuracy: 0.9677 - auc_3: 0.5165 - recall_3: 0.0000e+00 - f1_m: 0.0000e+00 - val_loss: 0.1680 - val_accuracy: 0.9677 - val_auc_3: 0.5000 - val_recall_3: 0.0000e+00 - val_f1_m: 0.0000e+00\n",
      "Epoch 44/100\n",
      "105/105 [==============================] - 1s 7ms/step - loss: 0.1671 - accuracy: 0.9677 - auc_3: 0.5000 - recall_3: 0.0000e+00 - f1_m: 0.0000e+00 - val_loss: 0.1659 - val_accuracy: 0.9677 - val_auc_3: 0.5000 - val_recall_3: 0.0000e+00 - val_f1_m: 0.0000e+00\n",
      "Epoch 45/100\n",
      "105/105 [==============================] - 1s 7ms/step - loss: 0.1652 - accuracy: 0.9677 - auc_3: 0.5079 - recall_3: 0.0000e+00 - f1_m: 0.0000e+00 - val_loss: 0.1641 - val_accuracy: 0.9677 - val_auc_3: 0.5000 - val_recall_3: 0.0000e+00 - val_f1_m: 0.0000e+00\n",
      "Epoch 46/100\n",
      "105/105 [==============================] - 1s 10ms/step - loss: 0.1633 - accuracy: 0.9677 - auc_3: 0.5124 - recall_3: 0.0000e+00 - f1_m: 0.0000e+00 - val_loss: 0.1623 - val_accuracy: 0.9677 - val_auc_3: 0.5000 - val_recall_3: 0.0000e+00 - val_f1_m: 0.0000e+00\n",
      "Epoch 47/100\n",
      "105/105 [==============================] - 1s 7ms/step - loss: 0.1616 - accuracy: 0.9677 - auc_3: 0.5000 - recall_3: 0.0000e+00 - f1_m: 0.0000e+00 - val_loss: 0.1606 - val_accuracy: 0.9677 - val_auc_3: 0.5000 - val_recall_3: 0.0000e+00 - val_f1_m: 0.0000e+00\n",
      "Epoch 48/100\n",
      "105/105 [==============================] - 1s 5ms/step - loss: 0.1600 - accuracy: 0.9677 - auc_3: 0.4982 - recall_3: 0.0000e+00 - f1_m: 0.0000e+00 - val_loss: 0.1591 - val_accuracy: 0.9677 - val_auc_3: 0.5000 - val_recall_3: 0.0000e+00 - val_f1_m: 0.0000e+00\n",
      "Epoch 49/100\n",
      "105/105 [==============================] - 1s 6ms/step - loss: 0.1586 - accuracy: 0.9677 - auc_3: 0.5000 - recall_3: 0.0000e+00 - f1_m: 0.0000e+00 - val_loss: 0.1577 - val_accuracy: 0.9677 - val_auc_3: 0.5000 - val_recall_3: 0.0000e+00 - val_f1_m: 0.0000e+00\n",
      "Epoch 50/100\n",
      "105/105 [==============================] - 0s 4ms/step - loss: 0.1572 - accuracy: 0.9677 - auc_3: 0.5000 - recall_3: 0.0000e+00 - f1_m: 0.0000e+00 - val_loss: 0.1564 - val_accuracy: 0.9677 - val_auc_3: 0.5000 - val_recall_3: 0.0000e+00 - val_f1_m: 0.0000e+00\n",
      "Epoch 51/100\n",
      "105/105 [==============================] - 0s 5ms/step - loss: 0.1559 - accuracy: 0.9677 - auc_3: 0.4837 - recall_3: 0.0000e+00 - f1_m: 0.0000e+00 - val_loss: 0.1551 - val_accuracy: 0.9677 - val_auc_3: 0.5000 - val_recall_3: 0.0000e+00 - val_f1_m: 0.0000e+00\n",
      "Epoch 52/100\n",
      "105/105 [==============================] - 0s 4ms/step - loss: 0.1548 - accuracy: 0.9677 - auc_3: 0.5000 - recall_3: 0.0000e+00 - f1_m: 0.0000e+00 - val_loss: 0.1540 - val_accuracy: 0.9677 - val_auc_3: 0.5000 - val_recall_3: 0.0000e+00 - val_f1_m: 0.0000e+00\n",
      "Epoch 53/100\n",
      "105/105 [==============================] - 1s 6ms/step - loss: 0.1537 - accuracy: 0.9677 - auc_3: 0.4901 - recall_3: 0.0000e+00 - f1_m: 0.0000e+00 - val_loss: 0.1530 - val_accuracy: 0.9677 - val_auc_3: 0.5000 - val_recall_3: 0.0000e+00 - val_f1_m: 0.0000e+00\n",
      "Epoch 54/100\n",
      "105/105 [==============================] - 1s 5ms/step - loss: 0.1526 - accuracy: 0.9677 - auc_3: 0.5000 - recall_3: 0.0000e+00 - f1_m: 0.0000e+00 - val_loss: 0.1520 - val_accuracy: 0.9677 - val_auc_3: 0.5000 - val_recall_3: 0.0000e+00 - val_f1_m: 0.0000e+00\n",
      "Epoch 55/100\n",
      "105/105 [==============================] - 1s 8ms/step - loss: 0.1517 - accuracy: 0.9677 - auc_3: 0.5000 - recall_3: 0.0000e+00 - f1_m: 0.0000e+00 - val_loss: 0.1511 - val_accuracy: 0.9677 - val_auc_3: 0.5000 - val_recall_3: 0.0000e+00 - val_f1_m: 0.0000e+00\n",
      "Epoch 56/100\n",
      "105/105 [==============================] - 1s 8ms/step - loss: 0.1508 - accuracy: 0.9677 - auc_3: 0.4708 - recall_3: 0.0000e+00 - f1_m: 0.0000e+00 - val_loss: 0.1502 - val_accuracy: 0.9677 - val_auc_3: 0.5000 - val_recall_3: 0.0000e+00 - val_f1_m: 0.0000e+00\n",
      "Epoch 57/100\n",
      "105/105 [==============================] - 0s 5ms/step - loss: 0.1501 - accuracy: 0.9677 - auc_3: 0.5000 - recall_3: 0.0000e+00 - f1_m: 0.0000e+00 - val_loss: 0.1495 - val_accuracy: 0.9677 - val_auc_3: 0.5000 - val_recall_3: 0.0000e+00 - val_f1_m: 0.0000e+00\n",
      "Epoch 58/100\n",
      "105/105 [==============================] - 1s 6ms/step - loss: 0.1493 - accuracy: 0.9677 - auc_3: 0.5000 - recall_3: 0.0000e+00 - f1_m: 0.0000e+00 - val_loss: 0.1488 - val_accuracy: 0.9677 - val_auc_3: 0.5000 - val_recall_3: 0.0000e+00 - val_f1_m: 0.0000e+00\n",
      "Epoch 59/100\n",
      "105/105 [==============================] - 1s 6ms/step - loss: 0.1487 - accuracy: 0.9677 - auc_3: 0.4764 - recall_3: 0.0000e+00 - f1_m: 0.0000e+00 - val_loss: 0.1482 - val_accuracy: 0.9677 - val_auc_3: 0.5000 - val_recall_3: 0.0000e+00 - val_f1_m: 0.0000e+00\n",
      "Epoch 60/100\n",
      "105/105 [==============================] - 1s 7ms/step - loss: 0.1481 - accuracy: 0.9677 - auc_3: 0.5000 - recall_3: 0.0000e+00 - f1_m: 0.0000e+00 - val_loss: 0.1476 - val_accuracy: 0.9677 - val_auc_3: 0.5000 - val_recall_3: 0.0000e+00 - val_f1_m: 0.0000e+00\n",
      "Epoch 61/100\n",
      "105/105 [==============================] - 1s 6ms/step - loss: 0.1475 - accuracy: 0.9677 - auc_3: 0.5000 - recall_3: 0.0000e+00 - f1_m: 0.0000e+00 - val_loss: 0.1471 - val_accuracy: 0.9677 - val_auc_3: 0.5000 - val_recall_3: 0.0000e+00 - val_f1_m: 0.0000e+00\n",
      "Epoch 62/100\n",
      "105/105 [==============================] - 0s 5ms/step - loss: 0.1470 - accuracy: 0.9677 - auc_3: 0.5000 - recall_3: 0.0000e+00 - f1_m: 0.0000e+00 - val_loss: 0.1466 - val_accuracy: 0.9677 - val_auc_3: 0.5000 - val_recall_3: 0.0000e+00 - val_f1_m: 0.0000e+00\n",
      "Epoch 63/100\n",
      "105/105 [==============================] - 1s 5ms/step - loss: 0.1466 - accuracy: 0.9677 - auc_3: 0.4739 - recall_3: 0.0000e+00 - f1_m: 0.0000e+00 - val_loss: 0.1461 - val_accuracy: 0.9677 - val_auc_3: 0.5000 - val_recall_3: 0.0000e+00 - val_f1_m: 0.0000e+00\n",
      "Epoch 64/100\n",
      "105/105 [==============================] - 0s 5ms/step - loss: 0.1462 - accuracy: 0.9677 - auc_3: 0.5000 - recall_3: 0.0000e+00 - f1_m: 0.0000e+00 - val_loss: 0.1458 - val_accuracy: 0.9677 - val_auc_3: 0.5000 - val_recall_3: 0.0000e+00 - val_f1_m: 0.0000e+00\n",
      "Epoch 65/100\n",
      "105/105 [==============================] - 1s 5ms/step - loss: 0.1458 - accuracy: 0.9677 - auc_3: 0.5000 - recall_3: 0.0000e+00 - f1_m: 0.0000e+00 - val_loss: 0.1454 - val_accuracy: 0.9677 - val_auc_3: 0.5000 - val_recall_3: 0.0000e+00 - val_f1_m: 0.0000e+00\n",
      "Epoch 66/100\n",
      "105/105 [==============================] - 0s 5ms/step - loss: 0.1454 - accuracy: 0.9677 - auc_3: 0.5000 - recall_3: 0.0000e+00 - f1_m: 0.0000e+00 - val_loss: 0.1451 - val_accuracy: 0.9677 - val_auc_3: 0.5000 - val_recall_3: 0.0000e+00 - val_f1_m: 0.0000e+00\n",
      "Epoch 67/100\n",
      "105/105 [==============================] - 1s 7ms/step - loss: 0.1451 - accuracy: 0.9677 - auc_3: 0.5000 - recall_3: 0.0000e+00 - f1_m: 0.0000e+00 - val_loss: 0.1448 - val_accuracy: 0.9677 - val_auc_3: 0.5000 - val_recall_3: 0.0000e+00 - val_f1_m: 0.0000e+00\n",
      "Epoch 68/100\n",
      "105/105 [==============================] - 0s 4ms/step - loss: 0.1449 - accuracy: 0.9677 - auc_3: 0.4827 - recall_3: 0.0000e+00 - f1_m: 0.0000e+00 - val_loss: 0.1445 - val_accuracy: 0.9677 - val_auc_3: 0.5000 - val_recall_3: 0.0000e+00 - val_f1_m: 0.0000e+00\n",
      "Epoch 69/100\n",
      "105/105 [==============================] - 1s 6ms/step - loss: 0.1446 - accuracy: 0.9677 - auc_3: 0.5000 - recall_3: 0.0000e+00 - f1_m: 0.0000e+00 - val_loss: 0.1443 - val_accuracy: 0.9677 - val_auc_3: 0.5000 - val_recall_3: 0.0000e+00 - val_f1_m: 0.0000e+00\n",
      "Epoch 70/100\n",
      "105/105 [==============================] - 0s 4ms/step - loss: 0.1444 - accuracy: 0.9677 - auc_3: 0.5000 - recall_3: 0.0000e+00 - f1_m: 0.0000e+00 - val_loss: 0.1441 - val_accuracy: 0.9677 - val_auc_3: 0.5000 - val_recall_3: 0.0000e+00 - val_f1_m: 0.0000e+00\n",
      "Epoch 71/100\n",
      "105/105 [==============================] - 0s 4ms/step - loss: 0.1442 - accuracy: 0.9677 - auc_3: 0.5000 - recall_3: 0.0000e+00 - f1_m: 0.0000e+00 - val_loss: 0.1439 - val_accuracy: 0.9677 - val_auc_3: 0.5000 - val_recall_3: 0.0000e+00 - val_f1_m: 0.0000e+00\n",
      "Epoch 72/100\n",
      "105/105 [==============================] - 0s 4ms/step - loss: 0.1440 - accuracy: 0.9677 - auc_3: 0.5000 - recall_3: 0.0000e+00 - f1_m: 0.0000e+00 - val_loss: 0.1437 - val_accuracy: 0.9677 - val_auc_3: 0.5000 - val_recall_3: 0.0000e+00 - val_f1_m: 0.0000e+00\n",
      "Epoch 73/100\n",
      "105/105 [==============================] - 1s 7ms/step - loss: 0.1439 - accuracy: 0.9677 - auc_3: 0.5000 - recall_3: 0.0000e+00 - f1_m: 0.0000e+00 - val_loss: 0.1436 - val_accuracy: 0.9677 - val_auc_3: 0.5000 - val_recall_3: 0.0000e+00 - val_f1_m: 0.0000e+00\n",
      "Epoch 74/100\n",
      "105/105 [==============================] - 0s 5ms/step - loss: 0.1437 - accuracy: 0.9677 - auc_3: 0.5000 - recall_3: 0.0000e+00 - f1_m: 0.0000e+00 - val_loss: 0.1435 - val_accuracy: 0.9677 - val_auc_3: 0.5000 - val_recall_3: 0.0000e+00 - val_f1_m: 0.0000e+00\n",
      "Epoch 75/100\n",
      "105/105 [==============================] - 1s 6ms/step - loss: 0.1436 - accuracy: 0.9677 - auc_3: 0.4906 - recall_3: 0.0000e+00 - f1_m: 0.0000e+00 - val_loss: 0.1433 - val_accuracy: 0.9677 - val_auc_3: 0.5000 - val_recall_3: 0.0000e+00 - val_f1_m: 0.0000e+00\n",
      "Epoch 76/100\n",
      "105/105 [==============================] - 1s 5ms/step - loss: 0.1435 - accuracy: 0.9677 - auc_3: 0.5000 - recall_3: 0.0000e+00 - f1_m: 0.0000e+00 - val_loss: 0.1432 - val_accuracy: 0.9677 - val_auc_3: 0.5000 - val_recall_3: 0.0000e+00 - val_f1_m: 0.0000e+00\n",
      "Epoch 77/100\n",
      "105/105 [==============================] - 1s 5ms/step - loss: 0.1434 - accuracy: 0.9677 - auc_3: 0.5000 - recall_3: 0.0000e+00 - f1_m: 0.0000e+00 - val_loss: 0.1431 - val_accuracy: 0.9677 - val_auc_3: 0.5000 - val_recall_3: 0.0000e+00 - val_f1_m: 0.0000e+00\n",
      "Epoch 78/100\n",
      "105/105 [==============================] - 1s 6ms/step - loss: 0.1433 - accuracy: 0.9677 - auc_3: 0.5000 - recall_3: 0.0000e+00 - f1_m: 0.0000e+00 - val_loss: 0.1431 - val_accuracy: 0.9677 - val_auc_3: 0.5000 - val_recall_3: 0.0000e+00 - val_f1_m: 0.0000e+00\n",
      "Epoch 79/100\n",
      "105/105 [==============================] - 1s 8ms/step - loss: 0.1433 - accuracy: 0.9677 - auc_3: 0.5000 - recall_3: 0.0000e+00 - f1_m: 0.0000e+00 - val_loss: 0.1430 - val_accuracy: 0.9677 - val_auc_3: 0.5000 - val_recall_3: 0.0000e+00 - val_f1_m: 0.0000e+00\n",
      "Epoch 80/100\n",
      "105/105 [==============================] - 1s 7ms/step - loss: 0.1432 - accuracy: 0.9677 - auc_3: 0.5000 - recall_3: 0.0000e+00 - f1_m: 0.0000e+00 - val_loss: 0.1429 - val_accuracy: 0.9677 - val_auc_3: 0.5000 - val_recall_3: 0.0000e+00 - val_f1_m: 0.0000e+00\n",
      "Epoch 81/100\n",
      "105/105 [==============================] - 1s 7ms/step - loss: 0.1431 - accuracy: 0.9677 - auc_3: 0.5000 - recall_3: 0.0000e+00 - f1_m: 0.0000e+00 - val_loss: 0.1429 - val_accuracy: 0.9677 - val_auc_3: 0.5000 - val_recall_3: 0.0000e+00 - val_f1_m: 0.0000e+00\n",
      "Epoch 82/100\n",
      "105/105 [==============================] - 1s 13ms/step - loss: 0.1431 - accuracy: 0.9677 - auc_3: 0.5000 - recall_3: 0.0000e+00 - f1_m: 0.0000e+00 - val_loss: 0.1428 - val_accuracy: 0.9677 - val_auc_3: 0.5000 - val_recall_3: 0.0000e+00 - val_f1_m: 0.0000e+00\n",
      "Epoch 83/100\n",
      "105/105 [==============================] - 1s 6ms/step - loss: 0.1430 - accuracy: 0.9677 - auc_3: 0.5000 - recall_3: 0.0000e+00 - f1_m: 0.0000e+00 - val_loss: 0.1428 - val_accuracy: 0.9677 - val_auc_3: 0.5000 - val_recall_3: 0.0000e+00 - val_f1_m: 0.0000e+00\n",
      "Epoch 84/100\n",
      "105/105 [==============================] - 1s 6ms/step - loss: 0.1430 - accuracy: 0.9677 - auc_3: 0.5000 - recall_3: 0.0000e+00 - f1_m: 0.0000e+00 - val_loss: 0.1427 - val_accuracy: 0.9677 - val_auc_3: 0.5000 - val_recall_3: 0.0000e+00 - val_f1_m: 0.0000e+00\n",
      "Epoch 85/100\n",
      "105/105 [==============================] - 1s 6ms/step - loss: 0.1430 - accuracy: 0.9677 - auc_3: 0.5000 - recall_3: 0.0000e+00 - f1_m: 0.0000e+00 - val_loss: 0.1427 - val_accuracy: 0.9677 - val_auc_3: 0.5000 - val_recall_3: 0.0000e+00 - val_f1_m: 0.0000e+00\n",
      "Epoch 86/100\n",
      "105/105 [==============================] - 1s 6ms/step - loss: 0.1429 - accuracy: 0.9677 - auc_3: 0.5000 - recall_3: 0.0000e+00 - f1_m: 0.0000e+00 - val_loss: 0.1427 - val_accuracy: 0.9677 - val_auc_3: 0.5000 - val_recall_3: 0.0000e+00 - val_f1_m: 0.0000e+00\n",
      "Epoch 87/100\n",
      "105/105 [==============================] - 1s 7ms/step - loss: 0.1429 - accuracy: 0.9677 - auc_3: 0.5000 - recall_3: 0.0000e+00 - f1_m: 0.0000e+00 - val_loss: 0.1427 - val_accuracy: 0.9677 - val_auc_3: 0.5000 - val_recall_3: 0.0000e+00 - val_f1_m: 0.0000e+00\n",
      "Epoch 88/100\n",
      "105/105 [==============================] - 1s 7ms/step - loss: 0.1429 - accuracy: 0.9677 - auc_3: 0.5000 - recall_3: 0.0000e+00 - f1_m: 0.0000e+00 - val_loss: 0.1426 - val_accuracy: 0.9677 - val_auc_3: 0.5000 - val_recall_3: 0.0000e+00 - val_f1_m: 0.0000e+00\n",
      "Epoch 89/100\n",
      "105/105 [==============================] - 1s 8ms/step - loss: 0.1429 - accuracy: 0.9677 - auc_3: 0.4951 - recall_3: 0.0000e+00 - f1_m: 0.0000e+00 - val_loss: 0.1426 - val_accuracy: 0.9677 - val_auc_3: 0.5000 - val_recall_3: 0.0000e+00 - val_f1_m: 0.0000e+00\n",
      "Epoch 90/100\n",
      "105/105 [==============================] - 0s 5ms/step - loss: 0.1428 - accuracy: 0.9677 - auc_3: 0.5000 - recall_3: 0.0000e+00 - f1_m: 0.0000e+00 - val_loss: 0.1426 - val_accuracy: 0.9677 - val_auc_3: 0.5000 - val_recall_3: 0.0000e+00 - val_f1_m: 0.0000e+00\n",
      "Epoch 91/100\n",
      "105/105 [==============================] - 0s 4ms/step - loss: 0.1428 - accuracy: 0.9677 - auc_3: 0.5000 - recall_3: 0.0000e+00 - f1_m: 0.0000e+00 - val_loss: 0.1426 - val_accuracy: 0.9677 - val_auc_3: 0.5000 - val_recall_3: 0.0000e+00 - val_f1_m: 0.0000e+00\n",
      "Epoch 92/100\n",
      "105/105 [==============================] - 0s 4ms/step - loss: 0.1428 - accuracy: 0.9677 - auc_3: 0.5000 - recall_3: 0.0000e+00 - f1_m: 0.0000e+00 - val_loss: 0.1426 - val_accuracy: 0.9677 - val_auc_3: 0.5000 - val_recall_3: 0.0000e+00 - val_f1_m: 0.0000e+00\n",
      "Epoch 93/100\n",
      "105/105 [==============================] - 1s 5ms/step - loss: 0.1428 - accuracy: 0.9677 - auc_3: 0.5000 - recall_3: 0.0000e+00 - f1_m: 0.0000e+00 - val_loss: 0.1426 - val_accuracy: 0.9677 - val_auc_3: 0.5000 - val_recall_3: 0.0000e+00 - val_f1_m: 0.0000e+00\n",
      "Epoch 94/100\n",
      "105/105 [==============================] - 1s 5ms/step - loss: 0.1428 - accuracy: 0.9677 - auc_3: 0.5000 - recall_3: 0.0000e+00 - f1_m: 0.0000e+00 - val_loss: 0.1426 - val_accuracy: 0.9677 - val_auc_3: 0.5000 - val_recall_3: 0.0000e+00 - val_f1_m: 0.0000e+00\n",
      "Epoch 95/100\n",
      "105/105 [==============================] - 1s 5ms/step - loss: 0.1428 - accuracy: 0.9677 - auc_3: 0.5000 - recall_3: 0.0000e+00 - f1_m: 0.0000e+00 - val_loss: 0.1425 - val_accuracy: 0.9677 - val_auc_3: 0.5000 - val_recall_3: 0.0000e+00 - val_f1_m: 0.0000e+00\n",
      "Epoch 96/100\n",
      "105/105 [==============================] - 0s 5ms/step - loss: 0.1428 - accuracy: 0.9677 - auc_3: 0.5000 - recall_3: 0.0000e+00 - f1_m: 0.0000e+00 - val_loss: 0.1425 - val_accuracy: 0.9677 - val_auc_3: 0.5000 - val_recall_3: 0.0000e+00 - val_f1_m: 0.0000e+00\n",
      "Epoch 97/100\n",
      "105/105 [==============================] - 1s 6ms/step - loss: 0.1428 - accuracy: 0.9677 - auc_3: 0.5000 - recall_3: 0.0000e+00 - f1_m: 0.0000e+00 - val_loss: 0.1425 - val_accuracy: 0.9677 - val_auc_3: 0.5000 - val_recall_3: 0.0000e+00 - val_f1_m: 0.0000e+00\n",
      "Epoch 98/100\n",
      "105/105 [==============================] - 1s 6ms/step - loss: 0.1428 - accuracy: 0.9677 - auc_3: 0.5000 - recall_3: 0.0000e+00 - f1_m: 0.0000e+00 - val_loss: 0.1425 - val_accuracy: 0.9677 - val_auc_3: 0.5000 - val_recall_3: 0.0000e+00 - val_f1_m: 0.0000e+00\n",
      "Epoch 99/100\n",
      "105/105 [==============================] - 1s 6ms/step - loss: 0.1428 - accuracy: 0.9677 - auc_3: 0.5000 - recall_3: 0.0000e+00 - f1_m: 0.0000e+00 - val_loss: 0.1425 - val_accuracy: 0.9677 - val_auc_3: 0.5000 - val_recall_3: 0.0000e+00 - val_f1_m: 0.0000e+00\n",
      "Epoch 100/100\n",
      "105/105 [==============================] - 1s 8ms/step - loss: 0.1428 - accuracy: 0.9677 - auc_3: 0.5000 - recall_3: 0.0000e+00 - f1_m: 0.0000e+00 - val_loss: 0.1425 - val_accuracy: 0.9677 - val_auc_3: 0.5000 - val_recall_3: 0.0000e+00 - val_f1_m: 0.0000e+00\n",
      "Best epoch: 1\n"
     ]
    }
   ],
   "source": [
    "# Build the model with the optimal hyperparameters and train it on the data for 100 epochs\n",
    "model = tuner.hypermodel.build(best_hps)\n",
    "history = model.fit(x_train, y_train, validation_data=(x_val,y_val), epochs=100)\n",
    "# , callbacks = callbacks_list\n",
    "\n",
    "val_f1_per_epoch = history.history['val_f1_m']\n",
    "best_epoch = val_f1_per_epoch.index(max(val_f1_per_epoch)) + 1\n",
    "print('Best epoch: %d' % (best_epoch,))"
   ]
  },
  {
   "cell_type": "code",
   "execution_count": 147,
   "id": "4ee164e6",
   "metadata": {},
   "outputs": [
    {
     "data": {
      "text/plain": [
       "{'loss': [0.7360378503799438,\n",
       "  0.6451238989830017,\n",
       "  0.6080355048179626,\n",
       "  0.577138364315033,\n",
       "  0.5485062599182129,\n",
       "  0.5217615962028503,\n",
       "  0.49676084518432617,\n",
       "  0.4733949303627014,\n",
       "  0.4515475630760193,\n",
       "  0.43114909529685974,\n",
       "  0.412090927362442,\n",
       "  0.39429929852485657,\n",
       "  0.3776722252368927,\n",
       "  0.36217060685157776,\n",
       "  0.3476681709289551,\n",
       "  0.3340935707092285,\n",
       "  0.3214001953601837,\n",
       "  0.30955177545547485,\n",
       "  0.298449844121933,\n",
       "  0.2880786955356598,\n",
       "  0.278390109539032,\n",
       "  0.26932039856910706,\n",
       "  0.2608281672000885,\n",
       "  0.25287023186683655,\n",
       "  0.2454085499048233,\n",
       "  0.23843704164028168,\n",
       "  0.2319028526544571,\n",
       "  0.2257663458585739,\n",
       "  0.22002804279327393,\n",
       "  0.21464931964874268,\n",
       "  0.20962409675121307,\n",
       "  0.20492064952850342,\n",
       "  0.20051705837249756,\n",
       "  0.19638453423976898,\n",
       "  0.19251830875873566,\n",
       "  0.18890079855918884,\n",
       "  0.18550963699817657,\n",
       "  0.18231849372386932,\n",
       "  0.17933763563632965,\n",
       "  0.17656315863132477,\n",
       "  0.17396403849124908,\n",
       "  0.17152610421180725,\n",
       "  0.16925504803657532,\n",
       "  0.16713948547840118,\n",
       "  0.16517776250839233,\n",
       "  0.16334262490272522,\n",
       "  0.1616326868534088,\n",
       "  0.1600385308265686,\n",
       "  0.15856604278087616,\n",
       "  0.15719886124134064,\n",
       "  0.15594054758548737,\n",
       "  0.15475250780582428,\n",
       "  0.15365846455097198,\n",
       "  0.15264461934566498,\n",
       "  0.15170812606811523,\n",
       "  0.15084949135780334,\n",
       "  0.15007111430168152,\n",
       "  0.14934656023979187,\n",
       "  0.14869822561740875,\n",
       "  0.14809519052505493,\n",
       "  0.14753946661949158,\n",
       "  0.14702986180782318,\n",
       "  0.14656755328178406,\n",
       "  0.14615540206432343,\n",
       "  0.14577512443065643,\n",
       "  0.14543327689170837,\n",
       "  0.14513199031352997,\n",
       "  0.14486956596374512,\n",
       "  0.14461995661258698,\n",
       "  0.1444087028503418,\n",
       "  0.14421282708644867,\n",
       "  0.14404019713401794,\n",
       "  0.14387363195419312,\n",
       "  0.1437399536371231,\n",
       "  0.14361006021499634,\n",
       "  0.14350152015686035,\n",
       "  0.14340709149837494,\n",
       "  0.14331810176372528,\n",
       "  0.1432502567768097,\n",
       "  0.14317204058170319,\n",
       "  0.1431196630001068,\n",
       "  0.14307822287082672,\n",
       "  0.14302031695842743,\n",
       "  0.14298468828201294,\n",
       "  0.1429516077041626,\n",
       "  0.14292791485786438,\n",
       "  0.14289957284927368,\n",
       "  0.14287348091602325,\n",
       "  0.14285500347614288,\n",
       "  0.1428421437740326,\n",
       "  0.14282536506652832,\n",
       "  0.1428188532590866,\n",
       "  0.1428065299987793,\n",
       "  0.1427890509366989,\n",
       "  0.142786905169487,\n",
       "  0.14277790486812592,\n",
       "  0.14278769493103027,\n",
       "  0.14276792109012604,\n",
       "  0.14276495575904846,\n",
       "  0.14276094734668732],\n",
       " 'accuracy': [0.9589943289756775,\n",
       "  0.9676743745803833,\n",
       "  0.9676743745803833,\n",
       "  0.9676743745803833,\n",
       "  0.9676743745803833,\n",
       "  0.9676743745803833,\n",
       "  0.9676743745803833,\n",
       "  0.9676743745803833,\n",
       "  0.9676743745803833,\n",
       "  0.9676743745803833,\n",
       "  0.9676743745803833,\n",
       "  0.9676743745803833,\n",
       "  0.9676743745803833,\n",
       "  0.9676743745803833,\n",
       "  0.9676743745803833,\n",
       "  0.9676743745803833,\n",
       "  0.9676743745803833,\n",
       "  0.9676743745803833,\n",
       "  0.9676743745803833,\n",
       "  0.9676743745803833,\n",
       "  0.9676743745803833,\n",
       "  0.9676743745803833,\n",
       "  0.9676743745803833,\n",
       "  0.9676743745803833,\n",
       "  0.9676743745803833,\n",
       "  0.9676743745803833,\n",
       "  0.9676743745803833,\n",
       "  0.9676743745803833,\n",
       "  0.9676743745803833,\n",
       "  0.9676743745803833,\n",
       "  0.9676743745803833,\n",
       "  0.9676743745803833,\n",
       "  0.9676743745803833,\n",
       "  0.9676743745803833,\n",
       "  0.9676743745803833,\n",
       "  0.9676743745803833,\n",
       "  0.9676743745803833,\n",
       "  0.9676743745803833,\n",
       "  0.9676743745803833,\n",
       "  0.9676743745803833,\n",
       "  0.9676743745803833,\n",
       "  0.9676743745803833,\n",
       "  0.9676743745803833,\n",
       "  0.9676743745803833,\n",
       "  0.9676743745803833,\n",
       "  0.9676743745803833,\n",
       "  0.9676743745803833,\n",
       "  0.9676743745803833,\n",
       "  0.9676743745803833,\n",
       "  0.9676743745803833,\n",
       "  0.9676743745803833,\n",
       "  0.9676743745803833,\n",
       "  0.9676743745803833,\n",
       "  0.9676743745803833,\n",
       "  0.9676743745803833,\n",
       "  0.9676743745803833,\n",
       "  0.9676743745803833,\n",
       "  0.9676743745803833,\n",
       "  0.9676743745803833,\n",
       "  0.9676743745803833,\n",
       "  0.9676743745803833,\n",
       "  0.9676743745803833,\n",
       "  0.9676743745803833,\n",
       "  0.9676743745803833,\n",
       "  0.9676743745803833,\n",
       "  0.9676743745803833,\n",
       "  0.9676743745803833,\n",
       "  0.9676743745803833,\n",
       "  0.9676743745803833,\n",
       "  0.9676743745803833,\n",
       "  0.9676743745803833,\n",
       "  0.9676743745803833,\n",
       "  0.9676743745803833,\n",
       "  0.9676743745803833,\n",
       "  0.9676743745803833,\n",
       "  0.9676743745803833,\n",
       "  0.9676743745803833,\n",
       "  0.9676743745803833,\n",
       "  0.9676743745803833,\n",
       "  0.9676743745803833,\n",
       "  0.9676743745803833,\n",
       "  0.9676743745803833,\n",
       "  0.9676743745803833,\n",
       "  0.9676743745803833,\n",
       "  0.9676743745803833,\n",
       "  0.9676743745803833,\n",
       "  0.9676743745803833,\n",
       "  0.9676743745803833,\n",
       "  0.9676743745803833,\n",
       "  0.9676743745803833,\n",
       "  0.9676743745803833,\n",
       "  0.9676743745803833,\n",
       "  0.9676743745803833,\n",
       "  0.9676743745803833,\n",
       "  0.9676743745803833,\n",
       "  0.9676743745803833,\n",
       "  0.9676743745803833,\n",
       "  0.9676743745803833,\n",
       "  0.9676743745803833,\n",
       "  0.9676743745803833],\n",
       " 'auc_3': [0.4994329512119293,\n",
       "  0.5349477529525757,\n",
       "  0.5125070214271545,\n",
       "  0.4992023706436157,\n",
       "  0.5276374816894531,\n",
       "  0.5311872959136963,\n",
       "  0.5218751430511475,\n",
       "  0.4890982508659363,\n",
       "  0.5193247199058533,\n",
       "  0.5155127644538879,\n",
       "  0.497681587934494,\n",
       "  0.4831311106681824,\n",
       "  0.47695496678352356,\n",
       "  0.45734524726867676,\n",
       "  0.5135552287101746,\n",
       "  0.5565264225006104,\n",
       "  0.5159323811531067,\n",
       "  0.5145304203033447,\n",
       "  0.5462604761123657,\n",
       "  0.4856729209423065,\n",
       "  0.4973335862159729,\n",
       "  0.4861583709716797,\n",
       "  0.510857343673706,\n",
       "  0.5071069598197937,\n",
       "  0.4735453426837921,\n",
       "  0.4866524040699005,\n",
       "  0.48647910356521606,\n",
       "  0.5194923281669617,\n",
       "  0.5226211547851562,\n",
       "  0.4774131774902344,\n",
       "  0.5076010227203369,\n",
       "  0.46585988998413086,\n",
       "  0.53251051902771,\n",
       "  0.4749344289302826,\n",
       "  0.47345229983329773,\n",
       "  0.4901192784309387,\n",
       "  0.5100883841514587,\n",
       "  0.5,\n",
       "  0.5227686762809753,\n",
       "  0.4597581624984741,\n",
       "  0.49458277225494385,\n",
       "  0.5,\n",
       "  0.5165109038352966,\n",
       "  0.5,\n",
       "  0.5079218149185181,\n",
       "  0.5124024748802185,\n",
       "  0.5,\n",
       "  0.4982143044471741,\n",
       "  0.5,\n",
       "  0.5,\n",
       "  0.48367100954055786,\n",
       "  0.5,\n",
       "  0.4901192784309387,\n",
       "  0.5,\n",
       "  0.5,\n",
       "  0.47080886363983154,\n",
       "  0.5,\n",
       "  0.5,\n",
       "  0.4764251410961151,\n",
       "  0.5,\n",
       "  0.5,\n",
       "  0.5,\n",
       "  0.47394633293151855,\n",
       "  0.5,\n",
       "  0.5,\n",
       "  0.5,\n",
       "  0.5,\n",
       "  0.4826914966106415,\n",
       "  0.5,\n",
       "  0.5,\n",
       "  0.5,\n",
       "  0.5,\n",
       "  0.5,\n",
       "  0.5,\n",
       "  0.49061331152915955,\n",
       "  0.5,\n",
       "  0.5,\n",
       "  0.5,\n",
       "  0.5,\n",
       "  0.5,\n",
       "  0.5,\n",
       "  0.5,\n",
       "  0.5,\n",
       "  0.5,\n",
       "  0.5,\n",
       "  0.5,\n",
       "  0.5,\n",
       "  0.5,\n",
       "  0.4950510263442993,\n",
       "  0.5,\n",
       "  0.5,\n",
       "  0.5,\n",
       "  0.5,\n",
       "  0.5,\n",
       "  0.5,\n",
       "  0.5,\n",
       "  0.5,\n",
       "  0.5,\n",
       "  0.5,\n",
       "  0.5],\n",
       " 'recall_3': [0.009259259328246117,\n",
       "  0.0,\n",
       "  0.0,\n",
       "  0.0,\n",
       "  0.0,\n",
       "  0.0,\n",
       "  0.0,\n",
       "  0.0,\n",
       "  0.0,\n",
       "  0.0,\n",
       "  0.0,\n",
       "  0.0,\n",
       "  0.0,\n",
       "  0.0,\n",
       "  0.0,\n",
       "  0.0,\n",
       "  0.0,\n",
       "  0.0,\n",
       "  0.0,\n",
       "  0.0,\n",
       "  0.0,\n",
       "  0.0,\n",
       "  0.0,\n",
       "  0.0,\n",
       "  0.0,\n",
       "  0.0,\n",
       "  0.0,\n",
       "  0.0,\n",
       "  0.0,\n",
       "  0.0,\n",
       "  0.0,\n",
       "  0.0,\n",
       "  0.0,\n",
       "  0.0,\n",
       "  0.0,\n",
       "  0.0,\n",
       "  0.0,\n",
       "  0.0,\n",
       "  0.0,\n",
       "  0.0,\n",
       "  0.0,\n",
       "  0.0,\n",
       "  0.0,\n",
       "  0.0,\n",
       "  0.0,\n",
       "  0.0,\n",
       "  0.0,\n",
       "  0.0,\n",
       "  0.0,\n",
       "  0.0,\n",
       "  0.0,\n",
       "  0.0,\n",
       "  0.0,\n",
       "  0.0,\n",
       "  0.0,\n",
       "  0.0,\n",
       "  0.0,\n",
       "  0.0,\n",
       "  0.0,\n",
       "  0.0,\n",
       "  0.0,\n",
       "  0.0,\n",
       "  0.0,\n",
       "  0.0,\n",
       "  0.0,\n",
       "  0.0,\n",
       "  0.0,\n",
       "  0.0,\n",
       "  0.0,\n",
       "  0.0,\n",
       "  0.0,\n",
       "  0.0,\n",
       "  0.0,\n",
       "  0.0,\n",
       "  0.0,\n",
       "  0.0,\n",
       "  0.0,\n",
       "  0.0,\n",
       "  0.0,\n",
       "  0.0,\n",
       "  0.0,\n",
       "  0.0,\n",
       "  0.0,\n",
       "  0.0,\n",
       "  0.0,\n",
       "  0.0,\n",
       "  0.0,\n",
       "  0.0,\n",
       "  0.0,\n",
       "  0.0,\n",
       "  0.0,\n",
       "  0.0,\n",
       "  0.0,\n",
       "  0.0,\n",
       "  0.0,\n",
       "  0.0,\n",
       "  0.0,\n",
       "  0.0,\n",
       "  0.0,\n",
       "  0.0],\n",
       " 'f1_m': [0.0005952380015514791,\n",
       "  0.0,\n",
       "  0.0,\n",
       "  0.0,\n",
       "  0.0,\n",
       "  0.0,\n",
       "  0.0,\n",
       "  0.0,\n",
       "  0.0,\n",
       "  0.0,\n",
       "  0.0,\n",
       "  0.0,\n",
       "  0.0,\n",
       "  0.0,\n",
       "  0.0,\n",
       "  0.0,\n",
       "  0.0,\n",
       "  0.0,\n",
       "  0.0,\n",
       "  0.0,\n",
       "  0.0,\n",
       "  0.0,\n",
       "  0.0,\n",
       "  0.0,\n",
       "  0.0,\n",
       "  0.0,\n",
       "  0.0,\n",
       "  0.0,\n",
       "  0.0,\n",
       "  0.0,\n",
       "  0.0,\n",
       "  0.0,\n",
       "  0.0,\n",
       "  0.0,\n",
       "  0.0,\n",
       "  0.0,\n",
       "  0.0,\n",
       "  0.0,\n",
       "  0.0,\n",
       "  0.0,\n",
       "  0.0,\n",
       "  0.0,\n",
       "  0.0,\n",
       "  0.0,\n",
       "  0.0,\n",
       "  0.0,\n",
       "  0.0,\n",
       "  0.0,\n",
       "  0.0,\n",
       "  0.0,\n",
       "  0.0,\n",
       "  0.0,\n",
       "  0.0,\n",
       "  0.0,\n",
       "  0.0,\n",
       "  0.0,\n",
       "  0.0,\n",
       "  0.0,\n",
       "  0.0,\n",
       "  0.0,\n",
       "  0.0,\n",
       "  0.0,\n",
       "  0.0,\n",
       "  0.0,\n",
       "  0.0,\n",
       "  0.0,\n",
       "  0.0,\n",
       "  0.0,\n",
       "  0.0,\n",
       "  0.0,\n",
       "  0.0,\n",
       "  0.0,\n",
       "  0.0,\n",
       "  0.0,\n",
       "  0.0,\n",
       "  0.0,\n",
       "  0.0,\n",
       "  0.0,\n",
       "  0.0,\n",
       "  0.0,\n",
       "  0.0,\n",
       "  0.0,\n",
       "  0.0,\n",
       "  0.0,\n",
       "  0.0,\n",
       "  0.0,\n",
       "  0.0,\n",
       "  0.0,\n",
       "  0.0,\n",
       "  0.0,\n",
       "  0.0,\n",
       "  0.0,\n",
       "  0.0,\n",
       "  0.0,\n",
       "  0.0,\n",
       "  0.0,\n",
       "  0.0,\n",
       "  0.0,\n",
       "  0.0,\n",
       "  0.0],\n",
       " 'val_loss': [0.6701597571372986,\n",
       "  0.6244218349456787,\n",
       "  0.5919250845909119,\n",
       "  0.5622886419296265,\n",
       "  0.5346349477767944,\n",
       "  0.5087504982948303,\n",
       "  0.4846348762512207,\n",
       "  0.4620031714439392,\n",
       "  0.4409484267234802,\n",
       "  0.4212200939655304,\n",
       "  0.40282711386680603,\n",
       "  0.38558658957481384,\n",
       "  0.3695305585861206,\n",
       "  0.35453304648399353,\n",
       "  0.34059086441993713,\n",
       "  0.32746005058288574,\n",
       "  0.3151744306087494,\n",
       "  0.3037344515323639,\n",
       "  0.2930237352848053,\n",
       "  0.28296053409576416,\n",
       "  0.27355971932411194,\n",
       "  0.2648003101348877,\n",
       "  0.2566554844379425,\n",
       "  0.24888625741004944,\n",
       "  0.2416483610868454,\n",
       "  0.23493632674217224,\n",
       "  0.2285754680633545,\n",
       "  0.22267799079418182,\n",
       "  0.2171114832162857,\n",
       "  0.211909681558609,\n",
       "  0.20708617568016052,\n",
       "  0.2024088203907013,\n",
       "  0.19823141396045685,\n",
       "  0.19420075416564941,\n",
       "  0.19048184156417847,\n",
       "  0.18698938190937042,\n",
       "  0.18372072279453278,\n",
       "  0.18064208328723907,\n",
       "  0.17773029208183289,\n",
       "  0.1750812977552414,\n",
       "  0.17254173755645752,\n",
       "  0.17021231353282928,\n",
       "  0.16798292100429535,\n",
       "  0.16592206060886383,\n",
       "  0.1640584021806717,\n",
       "  0.1623145490884781,\n",
       "  0.16062840819358826,\n",
       "  0.1591130495071411,\n",
       "  0.1576726734638214,\n",
       "  0.1563897281885147,\n",
       "  0.15513797104358673,\n",
       "  0.15402105450630188,\n",
       "  0.15296292304992676,\n",
       "  0.15196725726127625,\n",
       "  0.15108050405979156,\n",
       "  0.15024808049201965,\n",
       "  0.14946812391281128,\n",
       "  0.14881883561611176,\n",
       "  0.14817790687084198,\n",
       "  0.14762504398822784,\n",
       "  0.14708393812179565,\n",
       "  0.14658008515834808,\n",
       "  0.14614802598953247,\n",
       "  0.1457776129245758,\n",
       "  0.14540831744670868,\n",
       "  0.14505526423454285,\n",
       "  0.14475975930690765,\n",
       "  0.14451864361763,\n",
       "  0.14429031312465668,\n",
       "  0.14409683644771576,\n",
       "  0.14389635622501373,\n",
       "  0.1437297910451889,\n",
       "  0.14358706772327423,\n",
       "  0.1434517800807953,\n",
       "  0.14333990216255188,\n",
       "  0.14322693645954132,\n",
       "  0.14313822984695435,\n",
       "  0.14305604994297028,\n",
       "  0.14296987652778625,\n",
       "  0.14291071891784668,\n",
       "  0.14286373555660248,\n",
       "  0.1428089588880539,\n",
       "  0.14277581870555878,\n",
       "  0.1427411437034607,\n",
       "  0.14270947873592377,\n",
       "  0.14267706871032715,\n",
       "  0.14265760779380798,\n",
       "  0.1426348090171814,\n",
       "  0.14261466264724731,\n",
       "  0.14260056614875793,\n",
       "  0.14258766174316406,\n",
       "  0.14257749915122986,\n",
       "  0.14256572723388672,\n",
       "  0.14255794882774353,\n",
       "  0.14254805445671082,\n",
       "  0.14254377782344818,\n",
       "  0.1425391137599945,\n",
       "  0.14253321290016174,\n",
       "  0.14252899587154388,\n",
       "  0.14252588152885437],\n",
       " 'val_accuracy': [0.9677419066429138,\n",
       "  0.9677419066429138,\n",
       "  0.9677419066429138,\n",
       "  0.9677419066429138,\n",
       "  0.9677419066429138,\n",
       "  0.9677419066429138,\n",
       "  0.9677419066429138,\n",
       "  0.9677419066429138,\n",
       "  0.9677419066429138,\n",
       "  0.9677419066429138,\n",
       "  0.9677419066429138,\n",
       "  0.9677419066429138,\n",
       "  0.9677419066429138,\n",
       "  0.9677419066429138,\n",
       "  0.9677419066429138,\n",
       "  0.9677419066429138,\n",
       "  0.9677419066429138,\n",
       "  0.9677419066429138,\n",
       "  0.9677419066429138,\n",
       "  0.9677419066429138,\n",
       "  0.9677419066429138,\n",
       "  0.9677419066429138,\n",
       "  0.9677419066429138,\n",
       "  0.9677419066429138,\n",
       "  0.9677419066429138,\n",
       "  0.9677419066429138,\n",
       "  0.9677419066429138,\n",
       "  0.9677419066429138,\n",
       "  0.9677419066429138,\n",
       "  0.9677419066429138,\n",
       "  0.9677419066429138,\n",
       "  0.9677419066429138,\n",
       "  0.9677419066429138,\n",
       "  0.9677419066429138,\n",
       "  0.9677419066429138,\n",
       "  0.9677419066429138,\n",
       "  0.9677419066429138,\n",
       "  0.9677419066429138,\n",
       "  0.9677419066429138,\n",
       "  0.9677419066429138,\n",
       "  0.9677419066429138,\n",
       "  0.9677419066429138,\n",
       "  0.9677419066429138,\n",
       "  0.9677419066429138,\n",
       "  0.9677419066429138,\n",
       "  0.9677419066429138,\n",
       "  0.9677419066429138,\n",
       "  0.9677419066429138,\n",
       "  0.9677419066429138,\n",
       "  0.9677419066429138,\n",
       "  0.9677419066429138,\n",
       "  0.9677419066429138,\n",
       "  0.9677419066429138,\n",
       "  0.9677419066429138,\n",
       "  0.9677419066429138,\n",
       "  0.9677419066429138,\n",
       "  0.9677419066429138,\n",
       "  0.9677419066429138,\n",
       "  0.9677419066429138,\n",
       "  0.9677419066429138,\n",
       "  0.9677419066429138,\n",
       "  0.9677419066429138,\n",
       "  0.9677419066429138,\n",
       "  0.9677419066429138,\n",
       "  0.9677419066429138,\n",
       "  0.9677419066429138,\n",
       "  0.9677419066429138,\n",
       "  0.9677419066429138,\n",
       "  0.9677419066429138,\n",
       "  0.9677419066429138,\n",
       "  0.9677419066429138,\n",
       "  0.9677419066429138,\n",
       "  0.9677419066429138,\n",
       "  0.9677419066429138,\n",
       "  0.9677419066429138,\n",
       "  0.9677419066429138,\n",
       "  0.9677419066429138,\n",
       "  0.9677419066429138,\n",
       "  0.9677419066429138,\n",
       "  0.9677419066429138,\n",
       "  0.9677419066429138,\n",
       "  0.9677419066429138,\n",
       "  0.9677419066429138,\n",
       "  0.9677419066429138,\n",
       "  0.9677419066429138,\n",
       "  0.9677419066429138,\n",
       "  0.9677419066429138,\n",
       "  0.9677419066429138,\n",
       "  0.9677419066429138,\n",
       "  0.9677419066429138,\n",
       "  0.9677419066429138,\n",
       "  0.9677419066429138,\n",
       "  0.9677419066429138,\n",
       "  0.9677419066429138,\n",
       "  0.9677419066429138,\n",
       "  0.9677419066429138,\n",
       "  0.9677419066429138,\n",
       "  0.9677419066429138,\n",
       "  0.9677419066429138,\n",
       "  0.9677419066429138],\n",
       " 'val_auc_3': [0.5,\n",
       "  0.5,\n",
       "  0.5,\n",
       "  0.5,\n",
       "  0.5,\n",
       "  0.5,\n",
       "  0.5,\n",
       "  0.5,\n",
       "  0.5,\n",
       "  0.5,\n",
       "  0.5,\n",
       "  0.5,\n",
       "  0.5,\n",
       "  0.5,\n",
       "  0.5,\n",
       "  0.5,\n",
       "  0.5,\n",
       "  0.5,\n",
       "  0.5,\n",
       "  0.5,\n",
       "  0.5,\n",
       "  0.5,\n",
       "  0.5,\n",
       "  0.5,\n",
       "  0.5,\n",
       "  0.5,\n",
       "  0.5,\n",
       "  0.5,\n",
       "  0.5,\n",
       "  0.5,\n",
       "  0.5,\n",
       "  0.5,\n",
       "  0.5,\n",
       "  0.5,\n",
       "  0.5,\n",
       "  0.5,\n",
       "  0.5,\n",
       "  0.5,\n",
       "  0.5,\n",
       "  0.5,\n",
       "  0.5,\n",
       "  0.5,\n",
       "  0.5,\n",
       "  0.5,\n",
       "  0.5,\n",
       "  0.5,\n",
       "  0.5,\n",
       "  0.5,\n",
       "  0.5,\n",
       "  0.5,\n",
       "  0.5,\n",
       "  0.5,\n",
       "  0.5,\n",
       "  0.5,\n",
       "  0.5,\n",
       "  0.5,\n",
       "  0.5,\n",
       "  0.5,\n",
       "  0.5,\n",
       "  0.5,\n",
       "  0.5,\n",
       "  0.5,\n",
       "  0.5,\n",
       "  0.5,\n",
       "  0.5,\n",
       "  0.5,\n",
       "  0.5,\n",
       "  0.5,\n",
       "  0.5,\n",
       "  0.5,\n",
       "  0.5,\n",
       "  0.5,\n",
       "  0.5,\n",
       "  0.5,\n",
       "  0.5,\n",
       "  0.5,\n",
       "  0.5,\n",
       "  0.5,\n",
       "  0.5,\n",
       "  0.5,\n",
       "  0.5,\n",
       "  0.5,\n",
       "  0.5,\n",
       "  0.5,\n",
       "  0.5,\n",
       "  0.5,\n",
       "  0.5,\n",
       "  0.5,\n",
       "  0.5,\n",
       "  0.5,\n",
       "  0.5,\n",
       "  0.5,\n",
       "  0.5,\n",
       "  0.5,\n",
       "  0.5,\n",
       "  0.5,\n",
       "  0.5,\n",
       "  0.5,\n",
       "  0.5,\n",
       "  0.5],\n",
       " 'val_recall_3': [0.0,\n",
       "  0.0,\n",
       "  0.0,\n",
       "  0.0,\n",
       "  0.0,\n",
       "  0.0,\n",
       "  0.0,\n",
       "  0.0,\n",
       "  0.0,\n",
       "  0.0,\n",
       "  0.0,\n",
       "  0.0,\n",
       "  0.0,\n",
       "  0.0,\n",
       "  0.0,\n",
       "  0.0,\n",
       "  0.0,\n",
       "  0.0,\n",
       "  0.0,\n",
       "  0.0,\n",
       "  0.0,\n",
       "  0.0,\n",
       "  0.0,\n",
       "  0.0,\n",
       "  0.0,\n",
       "  0.0,\n",
       "  0.0,\n",
       "  0.0,\n",
       "  0.0,\n",
       "  0.0,\n",
       "  0.0,\n",
       "  0.0,\n",
       "  0.0,\n",
       "  0.0,\n",
       "  0.0,\n",
       "  0.0,\n",
       "  0.0,\n",
       "  0.0,\n",
       "  0.0,\n",
       "  0.0,\n",
       "  0.0,\n",
       "  0.0,\n",
       "  0.0,\n",
       "  0.0,\n",
       "  0.0,\n",
       "  0.0,\n",
       "  0.0,\n",
       "  0.0,\n",
       "  0.0,\n",
       "  0.0,\n",
       "  0.0,\n",
       "  0.0,\n",
       "  0.0,\n",
       "  0.0,\n",
       "  0.0,\n",
       "  0.0,\n",
       "  0.0,\n",
       "  0.0,\n",
       "  0.0,\n",
       "  0.0,\n",
       "  0.0,\n",
       "  0.0,\n",
       "  0.0,\n",
       "  0.0,\n",
       "  0.0,\n",
       "  0.0,\n",
       "  0.0,\n",
       "  0.0,\n",
       "  0.0,\n",
       "  0.0,\n",
       "  0.0,\n",
       "  0.0,\n",
       "  0.0,\n",
       "  0.0,\n",
       "  0.0,\n",
       "  0.0,\n",
       "  0.0,\n",
       "  0.0,\n",
       "  0.0,\n",
       "  0.0,\n",
       "  0.0,\n",
       "  0.0,\n",
       "  0.0,\n",
       "  0.0,\n",
       "  0.0,\n",
       "  0.0,\n",
       "  0.0,\n",
       "  0.0,\n",
       "  0.0,\n",
       "  0.0,\n",
       "  0.0,\n",
       "  0.0,\n",
       "  0.0,\n",
       "  0.0,\n",
       "  0.0,\n",
       "  0.0,\n",
       "  0.0,\n",
       "  0.0,\n",
       "  0.0,\n",
       "  0.0],\n",
       " 'val_f1_m': [0.0,\n",
       "  0.0,\n",
       "  0.0,\n",
       "  0.0,\n",
       "  0.0,\n",
       "  0.0,\n",
       "  0.0,\n",
       "  0.0,\n",
       "  0.0,\n",
       "  0.0,\n",
       "  0.0,\n",
       "  0.0,\n",
       "  0.0,\n",
       "  0.0,\n",
       "  0.0,\n",
       "  0.0,\n",
       "  0.0,\n",
       "  0.0,\n",
       "  0.0,\n",
       "  0.0,\n",
       "  0.0,\n",
       "  0.0,\n",
       "  0.0,\n",
       "  0.0,\n",
       "  0.0,\n",
       "  0.0,\n",
       "  0.0,\n",
       "  0.0,\n",
       "  0.0,\n",
       "  0.0,\n",
       "  0.0,\n",
       "  0.0,\n",
       "  0.0,\n",
       "  0.0,\n",
       "  0.0,\n",
       "  0.0,\n",
       "  0.0,\n",
       "  0.0,\n",
       "  0.0,\n",
       "  0.0,\n",
       "  0.0,\n",
       "  0.0,\n",
       "  0.0,\n",
       "  0.0,\n",
       "  0.0,\n",
       "  0.0,\n",
       "  0.0,\n",
       "  0.0,\n",
       "  0.0,\n",
       "  0.0,\n",
       "  0.0,\n",
       "  0.0,\n",
       "  0.0,\n",
       "  0.0,\n",
       "  0.0,\n",
       "  0.0,\n",
       "  0.0,\n",
       "  0.0,\n",
       "  0.0,\n",
       "  0.0,\n",
       "  0.0,\n",
       "  0.0,\n",
       "  0.0,\n",
       "  0.0,\n",
       "  0.0,\n",
       "  0.0,\n",
       "  0.0,\n",
       "  0.0,\n",
       "  0.0,\n",
       "  0.0,\n",
       "  0.0,\n",
       "  0.0,\n",
       "  0.0,\n",
       "  0.0,\n",
       "  0.0,\n",
       "  0.0,\n",
       "  0.0,\n",
       "  0.0,\n",
       "  0.0,\n",
       "  0.0,\n",
       "  0.0,\n",
       "  0.0,\n",
       "  0.0,\n",
       "  0.0,\n",
       "  0.0,\n",
       "  0.0,\n",
       "  0.0,\n",
       "  0.0,\n",
       "  0.0,\n",
       "  0.0,\n",
       "  0.0,\n",
       "  0.0,\n",
       "  0.0,\n",
       "  0.0,\n",
       "  0.0,\n",
       "  0.0,\n",
       "  0.0,\n",
       "  0.0,\n",
       "  0.0,\n",
       "  0.0]}"
      ]
     },
     "execution_count": 147,
     "metadata": {},
     "output_type": "execute_result"
    }
   ],
   "source": [
    "history.history"
   ]
  },
  {
   "cell_type": "code",
   "execution_count": 148,
   "id": "6c50aa84",
   "metadata": {},
   "outputs": [
    {
     "data": {
      "image/png": "[encoded data removed]",
      "text/plain": [
       "<Figure size 576x396 with 1 Axes>"
      ]
     },
     "metadata": {},
     "output_type": "display_data"
    }
   ],
   "source": [
    "visualize_accuracy(history, \"title\")"
   ]
  },
  {
   "cell_type": "code",
   "execution_count": 149,
   "id": "4ca41dac",
   "metadata": {},
   "outputs": [
    {
     "name": "stdout",
     "output_type": "stream",
     "text": [
      "169/169 [==============================] - 1s 3ms/step - loss: 0.5734 - accuracy: 0.9655 - auc_4: 0.5403 - recall_4: 0.0000e+00 - f1_m: 0.0000e+00\n"
     ]
    },
    {
     "data": {
      "text/plain": [
       "<keras.callbacks.History at 0x7f88e2d09dc0>"
      ]
     },
     "execution_count": 149,
     "metadata": {},
     "output_type": "execute_result"
    }
   ],
   "source": [
    "hypermodel = tuner.hypermodel.build(best_hps)\n",
    "\n",
    "# Retrain the model\n",
    "hypermodel.fit(x_all, y_all, epochs = best_epoch)"
   ]
  },
  {
   "cell_type": "markdown",
   "id": "d062bc71",
   "metadata": {},
   "source": [
    "- https://www.tensorflow.org/tutorials/keras/keras_tuner"
   ]
  },
  {
   "cell_type": "code",
   "execution_count": null,
   "id": "0ca5e7c4",
   "metadata": {},
   "outputs": [],
   "source": []
  },
  {
   "cell_type": "code",
   "execution_count": 119,
   "id": "e529386f",
   "metadata": {},
   "outputs": [],
   "source": [
    "# # This function is similar to the one above:\n",
    "\n",
    "# def build_model(hp, nl=1):\n",
    "    \n",
    "#     hp_units = hp.Int('units', min_value = 32, max_value = 256, step = 32)\n",
    "#     hp_activation = hp.Choice(\"activation\", [\"relu\", \"tanh\"])\n",
    "#     hp_learning_rate = hp.Choice('learning_rate', values = [1e-2, 1e-3, 1e-4])\n",
    "#     classifier = Sequential()\n",
    "    \n",
    "#     classifier.add(Dense(units= hp_units,\n",
    "#                          kernel_initializer=\"glorot_uniform\",\n",
    "#                          kernel_regularizer = tf.keras.regularizers.L2(0.1),\n",
    "#                          activation = hp_activation,\n",
    "#                          input_shape = (X_train.shape[1], )\n",
    "#                         )) \n",
    "    \n",
    "#     # Tune whether to use dropout.\n",
    "#     if hp.Boolean(\"dropout\"):\n",
    "#         classifier.add(layers.Dropout(rate=0.25))\n",
    "    \n",
    "#     #for _ in range(nl):\n",
    "#     classifier.add(Dense(units=16, \n",
    "#                          kernel_initializer=\"glorot_uniform\", \n",
    "#                          activation = hp_activation))\n",
    "#     classifier.add(Dense(units=1, \n",
    "#                          kernel_initializer=\"glorot_uniform\",\n",
    "#                          activation=\"sigmoid\"))\n",
    "            \n",
    "#     classifier.compile(optimizer=tf.keras.optimizers.Adam(learning_rate = hp_learning_rate),\n",
    "#                 loss='binary_crossentropy',metrics= f1_m)\n",
    "    \n",
    "#     return classifier"
   ]
  },
  {
   "cell_type": "code",
   "execution_count": 120,
   "id": "4de854ce",
   "metadata": {},
   "outputs": [],
   "source": [
    "# X_train.shape[1]"
   ]
  },
  {
   "cell_type": "code",
   "execution_count": 121,
   "id": "d18df4d7",
   "metadata": {},
   "outputs": [],
   "source": [
    "# # Does this use cross validation or not?\n",
    "\n",
    "# tuner = kt.Hyperband(\n",
    "#     hypermodel = build_model,\n",
    "#     objective = kt.Objective(\"f1_m\", direction=\"max\"),\n",
    "#     max_trials = 3,\n",
    "#     #max_epochs = 10,\n",
    "#     max_trials=3,\n",
    "#     executions_per_trial=2,\n",
    "#     overwrite=True,\n",
    "#     overwrite=True,\n",
    "#     directory = 'Deep_learning_project',\n",
    "#     project_name=\"Default_prediction\"\n",
    "# )"
   ]
  },
  {
   "cell_type": "code",
   "execution_count": 122,
   "id": "bd96a844",
   "metadata": {},
   "outputs": [],
   "source": [
    "# tuner.search_space_summary()"
   ]
  },
  {
   "cell_type": "code",
   "execution_count": null,
   "id": "6295de0f",
   "metadata": {},
   "outputs": [],
   "source": []
  },
  {
   "cell_type": "code",
   "execution_count": null,
   "id": "d8716597",
   "metadata": {},
   "outputs": [],
   "source": []
  },
  {
   "cell_type": "code",
   "execution_count": 123,
   "id": "adbe74a3",
   "metadata": {},
   "outputs": [],
   "source": [
    "# tuner.results_summary()"
   ]
  },
  {
   "cell_type": "code",
   "execution_count": 124,
   "id": "f5312487",
   "metadata": {},
   "outputs": [],
   "source": [
    "# x_all = np.concatenate((x_train, x_val))\n",
    "# y_all = np.concatenate((y_train, y_val))"
   ]
  },
  {
   "cell_type": "code",
   "execution_count": 125,
   "id": "45fee627",
   "metadata": {},
   "outputs": [],
   "source": [
    "# hypermodel = MyHyperModel()\n",
    "# best_hp = tuner.get_best_hyperparameters()[0]\n",
    "# model = hypermodel.build(best_hp)\n",
    "# #hist = hypermodel.fit(best_hp, model, x_all, y_all)"
   ]
  },
  {
   "cell_type": "code",
   "execution_count": 150,
   "id": "6e6ee3f4",
   "metadata": {},
   "outputs": [
    {
     "name": "stdout",
     "output_type": "stream",
     "text": [
      "Model: \"sequential_4\"\n",
      "_________________________________________________________________\n",
      " Layer (type)                Output Shape              Param #   \n",
      "=================================================================\n",
      " dense_16 (Dense)            (None, 32)                672       \n",
      "                                                                 \n",
      " dense_17 (Dense)            (None, 16)                528       \n",
      "                                                                 \n",
      " dense_18 (Dense)            (None, 4)                 68        \n",
      "                                                                 \n",
      " dense_19 (Dense)            (None, 1)                 5         \n",
      "                                                                 \n",
      "=================================================================\n",
      "Total params: 1,273\n",
      "Trainable params: 1,273\n",
      "Non-trainable params: 0\n",
      "_________________________________________________________________\n"
     ]
    }
   ],
   "source": [
    "hypermodel.summary()"
   ]
  },
  {
   "cell_type": "code",
   "execution_count": null,
   "id": "80888300",
   "metadata": {},
   "outputs": [],
   "source": []
  },
  {
   "cell_type": "code",
   "execution_count": 127,
   "id": "b3aec9bb",
   "metadata": {},
   "outputs": [],
   "source": [
    "#model.history"
   ]
  },
  {
   "cell_type": "code",
   "execution_count": 128,
   "id": "365ea351",
   "metadata": {},
   "outputs": [],
   "source": [
    "# visualize_loss(hist, \"Loss function\")"
   ]
  },
  {
   "cell_type": "code",
   "execution_count": 129,
   "id": "776a33a1",
   "metadata": {},
   "outputs": [],
   "source": [
    "# best_hyperparameters = tuner.get_best_hyperparameters(1)[0]"
   ]
  },
  {
   "cell_type": "code",
   "execution_count": 130,
   "id": "bedd3c14",
   "metadata": {},
   "outputs": [],
   "source": [
    "# best_model.summary()"
   ]
  },
  {
   "cell_type": "code",
   "execution_count": 131,
   "id": "c678aea5",
   "metadata": {},
   "outputs": [],
   "source": [
    "# I need to resbuild a model here."
   ]
  },
  {
   "cell_type": "code",
   "execution_count": 151,
   "id": "b83d5177",
   "metadata": {},
   "outputs": [],
   "source": [
    "y_pred_all = hypermodel.predict(x_all)\n",
    "y_pred_test = hypermodel.predict(x_test)"
   ]
  },
  {
   "cell_type": "code",
   "execution_count": 152,
   "id": "1824a7b1",
   "metadata": {},
   "outputs": [],
   "source": [
    "y_pred_all = (y_pred_all>0.5).astype(int)\n",
    "y_pred_test = (y_pred_test>0.5).astype(int)"
   ]
  },
  {
   "cell_type": "code",
   "execution_count": 153,
   "id": "bc304e4e",
   "metadata": {},
   "outputs": [
    {
     "data": {
      "image/png": "[encoded data removed]",
      "text/plain": [
       "<Figure size 576x396 with 2 Axes>"
      ]
     },
     "metadata": {},
     "output_type": "display_data"
    }
   ],
   "source": [
    "# Showing the confusion matrix\n",
    "\n",
    "cm = metrics.confusion_matrix(y_test, y_pred_test)\n",
    "labels = ['True Neg','False Pos','False Neg','True Pos']\n",
    "categories = ['0', '1']\n",
    "make_confusion_matrix(cm, group_names=labels, categories=categories, cmap='Blues')"
   ]
  },
  {
   "cell_type": "code",
   "execution_count": 154,
   "id": "7a582d67",
   "metadata": {},
   "outputs": [
    {
     "name": "stdout",
     "output_type": "stream",
     "text": [
      "              precision    recall  f1-score   support\n",
      "\n",
      "  No Default       0.97      1.00      0.98      1386\n",
      "     Default       0.00      0.00      0.00        46\n",
      "\n",
      "    accuracy                           0.97      1432\n",
      "   macro avg       0.48      0.50      0.49      1432\n",
      "weighted avg       0.94      0.97      0.95      1432\n",
      "\n"
     ]
    }
   ],
   "source": [
    "# Showing the classification report:\n",
    "\n",
    "target_names=[\"No Default\", \"Default\"]\n",
    "print(classification_report(y_test, y_pred_test, target_names=target_names))"
   ]
  },
  {
   "cell_type": "code",
   "execution_count": 155,
   "id": "ed93e1f3",
   "metadata": {},
   "outputs": [
    {
     "data": {
      "text/html": [
       "<div>\n",
       "<style scoped>\n",
       "    .dataframe tbody tr th:only-of-type {\n",
       "        vertical-align: middle;\n",
       "    }\n",
       "\n",
       "    .dataframe tbody tr th {\n",
       "        vertical-align: top;\n",
       "    }\n",
       "\n",
       "    .dataframe thead th {\n",
       "        text-align: right;\n",
       "    }\n",
       "</style>\n",
       "<table border=\"1\" class=\"dataframe\">\n",
       "  <thead>\n",
       "    <tr style=\"text-align: right;\">\n",
       "      <th></th>\n",
       "      <th>Measure</th>\n",
       "      <th>Train</th>\n",
       "      <th>Test</th>\n",
       "    </tr>\n",
       "  </thead>\n",
       "  <tbody>\n",
       "    <tr>\n",
       "      <th>0</th>\n",
       "      <td>ACCURACY</td>\n",
       "      <td>0.9677</td>\n",
       "      <td>0.967877</td>\n",
       "    </tr>\n",
       "    <tr>\n",
       "      <th>1</th>\n",
       "      <td>PRECISION</td>\n",
       "      <td>0.0000</td>\n",
       "      <td>0.000000</td>\n",
       "    </tr>\n",
       "    <tr>\n",
       "      <th>2</th>\n",
       "      <td>RECALL</td>\n",
       "      <td>0.0000</td>\n",
       "      <td>0.000000</td>\n",
       "    </tr>\n",
       "    <tr>\n",
       "      <th>3</th>\n",
       "      <td>F1 SCORE</td>\n",
       "      <td>0.0000</td>\n",
       "      <td>0.000000</td>\n",
       "    </tr>\n",
       "    <tr>\n",
       "      <th>4</th>\n",
       "      <td>AUC</td>\n",
       "      <td>0.5000</td>\n",
       "      <td>0.500000</td>\n",
       "    </tr>\n",
       "  </tbody>\n",
       "</table>\n",
       "</div>"
      ],
      "text/plain": [
       "     Measure   Train      Test\n",
       "0   ACCURACY  0.9677  0.967877\n",
       "1  PRECISION  0.0000  0.000000\n",
       "2     RECALL  0.0000  0.000000\n",
       "3   F1 SCORE  0.0000  0.000000\n",
       "4        AUC  0.5000  0.500000"
      ]
     },
     "execution_count": 155,
     "metadata": {},
     "output_type": "execute_result"
    }
   ],
   "source": [
    "# Showing the results performance.\n",
    "\n",
    "resultsDF = performanceMetricsDF(metrics, y_all, y_pred_all, \n",
    "                                 y_test, y_pred_test)\n",
    "resultsDF"
   ]
  },
  {
   "cell_type": "markdown",
   "id": "0d7af136",
   "metadata": {},
   "source": [
    "#### Using Scikit Learn wrapper:"
   ]
  },
  {
   "cell_type": "markdown",
   "id": "abf9e7b0",
   "metadata": {},
   "source": [
    "https://machinelearningmastery.com/use-keras-deep-learning-models-scikit-learn-python/"
   ]
  },
  {
   "cell_type": "code",
   "execution_count": 137,
   "id": "41fe316b",
   "metadata": {
    "scrolled": true
   },
   "outputs": [],
   "source": [
    "# keras_classifier = KerasClassifier(build_fn=create_model, verbose=1)\n",
    "# # epochs=50, batch_size=256"
   ]
  },
  {
   "cell_type": "code",
   "execution_count": 138,
   "id": "80cd3753",
   "metadata": {
    "scrolled": true
   },
   "outputs": [],
   "source": [
    "# create model\n",
    "# evaluate using 10-fold cross validation\n",
    "\n",
    "# kfold = StratifiedKFold(n_splits=10, shuffle=True, random_state=SEED)\n",
    "# results = cross_val_score(keras_classifier, X_train, y_train, cv=kfold)\n",
    "# print(results.mean())\n",
    "# print(results.std())"
   ]
  },
  {
   "cell_type": "code",
   "execution_count": 139,
   "id": "df03b5dc",
   "metadata": {
    "scrolled": false
   },
   "outputs": [],
   "source": [
    "# optimizers = ['rmsprop', 'adam']\n",
    "# init = ['glorot_uniform', 'normal', 'uniform']\n",
    "# epochs = [50, 100, 150]\n",
    "# batches = [64, 128, 256]\n",
    "\n",
    "# param_grid = dict(optim=optimizers, epochs=epochs, batch_size=batches, init=init)\n",
    "\n",
    "# random_search = RandomizedSearchCV(estimator=keras_classifier, param_distributions=param_grid)\n",
    "\n",
    "# random_search_results = grid.fit(X_train, y_train)\n",
    "\n",
    "\n",
    "# # summarize results\n",
    "# print(\"Best: %f using %s\" % (random_search_results.best_score_, random_search_results.best_params_))"
   ]
  },
  {
   "cell_type": "code",
   "execution_count": 140,
   "id": "0c62b89e",
   "metadata": {
    "scrolled": true
   },
   "outputs": [],
   "source": [
    "# means = random_search_results.cv_results_['mean_test_score']\n",
    "# stds = random_search_results.cv_results_['std_test_score']\n",
    "# params = random_search_results.cv_results_['params']\n",
    "# for mean, stdev, param in zip(means, stds, params):\n",
    "#     print(\"%f (%f) with: %r\" % (mean, stdev, param))"
   ]
  },
  {
   "cell_type": "markdown",
   "id": "29375b4c",
   "metadata": {},
   "source": [
    "#### Building the model:"
   ]
  },
  {
   "cell_type": "code",
   "execution_count": 141,
   "id": "cd6ea2ea",
   "metadata": {
    "scrolled": true
   },
   "outputs": [],
   "source": [
    "# Now that we have the best hyper parameters we can build the model:\n",
    "\n",
    "# classifier = create_model(nn=16, here i should include all the found parameters)"
   ]
  },
  {
   "cell_type": "code",
   "execution_count": 142,
   "id": "95422cf4",
   "metadata": {
    "scrolled": true
   },
   "outputs": [
    {
     "ename": "NameError",
     "evalue": "name 'classifier' is not defined",
     "output_type": "error",
     "traceback": [
      "\u001b[0;31m---------------------------------------------------------------------------\u001b[0m",
      "\u001b[0;31mNameError\u001b[0m                                 Traceback (most recent call last)",
      "\u001b[0;32m<ipython-input-142-720ff4421f43>\u001b[0m in \u001b[0;36m<module>\u001b[0;34m\u001b[0m\n\u001b[0;32m----> 1\u001b[0;31m \u001b[0mclassifier\u001b[0m\u001b[0;34m.\u001b[0m\u001b[0msummary\u001b[0m\u001b[0;34m(\u001b[0m\u001b[0;34m)\u001b[0m\u001b[0;34m\u001b[0m\u001b[0;34m\u001b[0m\u001b[0m\n\u001b[0m",
      "\u001b[0;31mNameError\u001b[0m: name 'classifier' is not defined"
     ]
    }
   ],
   "source": [
    "classifier.summary()"
   ]
  },
  {
   "cell_type": "code",
   "execution_count": null,
   "id": "5a52577f",
   "metadata": {
    "scrolled": true
   },
   "outputs": [],
   "source": [
    "# Path + name of the file we wanna create.\n",
    "path_checkpoint = \"First_model.h5\"\n",
    "\n",
    "early_stopping = EarlyStopping(monitor=\"val_loss\", patience=10, mode=\"auto\") # I don't know if i should use this.\n",
    "\n",
    "model_save = ModelCheckpoint(monitor=\"val_loss\", filepath=path_checkpoint, verbose=1, \n",
    "                             save_best_only=True)\n",
    "\n",
    "Hist_first = History()"
   ]
  },
  {
   "cell_type": "code",
   "execution_count": null,
   "id": "b1155b2d",
   "metadata": {
    "scrolled": true
   },
   "outputs": [],
   "source": [
    "hist = classifier.fit(X_train, y_train,  \n",
    "                      batch_size=64,\n",
    "                      validation_split=0.2,\n",
    "                      # the number of epochs can be high, early stopping will stop training when the val_loss is not improving\n",
    "                      epochs=1000, \n",
    "                      callbacks = [early_stopping, model_save, Hist_first])"
   ]
  },
  {
   "cell_type": "code",
   "execution_count": null,
   "id": "1fdbad24",
   "metadata": {
    "scrolled": true
   },
   "outputs": [],
   "source": [
    "y_pred_train = classifier.predict(X_train)\n",
    "y_pred_test = classifier.predict(X_test)"
   ]
  },
  {
   "cell_type": "code",
   "execution_count": null,
   "id": "4abec128",
   "metadata": {
    "scrolled": true
   },
   "outputs": [],
   "source": [
    "# Converting the predictions to the right format:\n",
    "\n",
    "y_pred_train=(y_pred_train>0.5).astype(int)\n",
    "y_pred_test=(y_pred_test>0.5).astype(int)"
   ]
  },
  {
   "cell_type": "code",
   "execution_count": null,
   "id": "8ebc5608",
   "metadata": {
    "scrolled": true
   },
   "outputs": [],
   "source": [
    "# Showing the confusion matrix\n",
    "cm = metrics.confusion_matrix(y_test,y_pred_test)\n",
    "labels = ['True Neg','False Pos','False Neg','True Pos']\n",
    "categories = ['0', '1']\n",
    "make_confusion_matrix(cm, group_names=labels, categories=categories, cmap='Blues')"
   ]
  },
  {
   "cell_type": "code",
   "execution_count": null,
   "id": "e8533a0c",
   "metadata": {
    "scrolled": true
   },
   "outputs": [],
   "source": [
    "# Showing the classification report:\n",
    "\n",
    "target_names=[\"No Default\", \"Default\"]\n",
    "print(classification_report(y_test, y_pred_test, target_names=target_names))"
   ]
  },
  {
   "cell_type": "code",
   "execution_count": null,
   "id": "6dc56301",
   "metadata": {
    "scrolled": true
   },
   "outputs": [],
   "source": [
    "# Showing the results performance.\n",
    "\n",
    "resultsDF = performanceMetricsDF(metrics, y_train, y_pred_train, \n",
    "                                 y_test, y_pred_test)\n",
    "resultsDF"
   ]
  },
  {
   "cell_type": "code",
   "execution_count": null,
   "id": "4ba7b2ca",
   "metadata": {
    "scrolled": true
   },
   "outputs": [],
   "source": [
    "# Visualizing the train and validation loss:\n",
    "\n",
    "visualize_loss(hist, \"Training and validation loss\")"
   ]
  },
  {
   "cell_type": "code",
   "execution_count": null,
   "id": "66fccfca",
   "metadata": {
    "scrolled": true
   },
   "outputs": [],
   "source": [
    "# Visualizing the train and validation accuracy:\n",
    "\n",
    "visualize_accuracy(hist, \"Training and validation accuracy\")"
   ]
  },
  {
   "cell_type": "code",
   "execution_count": null,
   "id": "d2c69731",
   "metadata": {},
   "outputs": [],
   "source": [
    "# Maybe i can also add other plots."
   ]
  },
  {
   "cell_type": "markdown",
   "id": "0a27ee66",
   "metadata": {},
   "source": [
    "## Using class_weight:"
   ]
  },
  {
   "cell_type": "code",
   "execution_count": null,
   "id": "52c0abe7",
   "metadata": {},
   "outputs": [],
   "source": [
    "# Getting the weights of each class\n",
    "\n",
    "class_weights=dict(enumerate(class_weight.compute_class_weight('balanced', \n",
    "                            classes=np.unique(y_train), y=y_train)))"
   ]
  },
  {
   "cell_type": "code",
   "execution_count": null,
   "id": "29862270",
   "metadata": {},
   "outputs": [],
   "source": [
    "# Now that we have the best hyper parameters we can build the model:\n",
    "\n",
    "# classifier = create_model(nn=16, here i should include all the found parameters)"
   ]
  },
  {
   "cell_type": "code",
   "execution_count": null,
   "id": "faea4868",
   "metadata": {},
   "outputs": [],
   "source": [
    "# Path + name of the file we wanna create.\n",
    "path_checkpoint = \"Second_model.h5\"\n",
    "\n",
    "early_stopping = EarlyStopping(monitor=\"val_loss\", patience=10, mode=\"auto\")\n",
    "\n",
    "model_save = ModelCheckpoint(monitor=\"val_loss\", filepath=path_checkpoint, verbose=1, \n",
    "                             save_best_only=True)\n",
    "\n",
    "Hist_second = History()"
   ]
  },
  {
   "cell_type": "code",
   "execution_count": null,
   "id": "48f50cbf",
   "metadata": {},
   "outputs": [],
   "source": [
    "# I SHOULD PAY ATTENTION TO THE MODEL NAME.\n",
    "\n",
    "hist = classifier.fit(X_train, y_train,  \n",
    "                      batch_size=64,\n",
    "                      validation_split=0.2,\n",
    "                      epochs=1000,\n",
    "                      callbacks = [early_stopping, model_save, Hist_second],  \n",
    "                      class_weight=class_weights\n",
    "                     )"
   ]
  },
  {
   "cell_type": "code",
   "execution_count": null,
   "id": "4d5b8f08",
   "metadata": {},
   "outputs": [],
   "source": [
    "y_pred_train = classifier.predict(X_train)\n",
    "y_pred_test = classifier.predict(X_test)"
   ]
  },
  {
   "cell_type": "code",
   "execution_count": null,
   "id": "ed47fca9",
   "metadata": {},
   "outputs": [],
   "source": [
    "# Converting the predictions to the right format:\n",
    "\n",
    "y_pred_train=(y_pred_train>0.5).astype(int)\n",
    "y_pred_test=(y_pred_test>0.5).astype(int)"
   ]
  },
  {
   "cell_type": "code",
   "execution_count": null,
   "id": "c0e99100",
   "metadata": {},
   "outputs": [],
   "source": [
    "# Showing the confusion matrix\n",
    "\n",
    "cm = metrics.confusion_matrix(y_test,y_pred_test)\n",
    "labels = ['True Neg','False Pos','False Neg','True Pos']\n",
    "categories = ['0', '1']\n",
    "make_confusion_matrix(cm, group_names=labels, categories=categories, cmap='Blues')"
   ]
  },
  {
   "cell_type": "code",
   "execution_count": null,
   "id": "b01de49b",
   "metadata": {},
   "outputs": [],
   "source": [
    "# Showing the classification report:\n",
    "\n",
    "target_names=[\"No Default\", \"Default\"]\n",
    "print(classification_report(y_test, y_pred_test, target_names=target_names))"
   ]
  },
  {
   "cell_type": "code",
   "execution_count": null,
   "id": "b0757e4d",
   "metadata": {},
   "outputs": [],
   "source": [
    "# Showing the results performance.\n",
    "\n",
    "resultsDF = performanceMetricsDF(metrics, y_train, y_pred_train, \n",
    "                                 y_test, y_pred_test)\n",
    "resultsDF"
   ]
  },
  {
   "cell_type": "code",
   "execution_count": null,
   "id": "e76a9277",
   "metadata": {},
   "outputs": [],
   "source": [
    "# Visualizing the train and validation loss:\n",
    "\n",
    "visualize_loss(hist, \"Training and validation loss\")"
   ]
  },
  {
   "cell_type": "code",
   "execution_count": null,
   "id": "8711d2f9",
   "metadata": {},
   "outputs": [],
   "source": [
    "# Visualizing the train and validation accuracy:\n",
    "\n",
    "visualize_accuracy(hist, \"Training and validation accuracy\")"
   ]
  },
  {
   "cell_type": "markdown",
   "id": "0fdab4f3",
   "metadata": {},
   "source": [
    "## Using a Focal Loss:"
   ]
  },
  {
   "cell_type": "markdown",
   "id": "e041a17a",
   "metadata": {},
   "source": [
    "https://github.com/umbertogriffo/focal-loss-keras\n",
    "- I should add few comments about the focal loss function, and why we choose to use it.\n",
    "- \"focal loss down-weights the well-classified examples. This has the net effect of putting more training emphasis on that data that is hard to classify. In a practical setting where we have a data imbalance, our majority class will quickly become well-classified since we have much more data for it. Thus, in order to insure that we also achieve high accuracy on our minority class, we can use the focal loss to give those minority class examples more relative weight during training.\""
   ]
  },
  {
   "cell_type": "code",
   "execution_count": null,
   "id": "04e097a3",
   "metadata": {
    "scrolled": true
   },
   "outputs": [],
   "source": []
  },
  {
   "cell_type": "code",
   "execution_count": null,
   "id": "03af2589",
   "metadata": {
    "scrolled": true
   },
   "outputs": [],
   "source": [
    "# MAKE SURE YOU CHOOSE THE RIGHT PARAMETERS, I NEED TO CHECK THAT OLD FILE AND SEE IF ITS THE SAME OR NOT.\n",
    "\n",
    "create_model(loss = focal_loss(gamma=1.5,alpha=0.25))"
   ]
  },
  {
   "cell_type": "code",
   "execution_count": null,
   "id": "f9ba97f4",
   "metadata": {
    "scrolled": true
   },
   "outputs": [],
   "source": [
    "# Path + name of the file we wanna create.\n",
    "path_checkpoint = \"Third_model.h5\"\n",
    "\n",
    "early_stopping = EarlyStopping(monitor=\"val_loss\", patience=10, mode=\"auto\")\n",
    "\n",
    "model_save = ModelCheckpoint(monitor=\"val_loss\", filepath=path_checkpoint, verbose=1, \n",
    "                             save_best_only=True)\n",
    "\n",
    "Hist_third = History()"
   ]
  },
  {
   "cell_type": "code",
   "execution_count": null,
   "id": "572ea3c6",
   "metadata": {},
   "outputs": [],
   "source": [
    "# I SHOULD PAY ATTENTION TO THE MODEL NAME.\n",
    "\n",
    "hist = classifier.fit(X_train, y_train,  \n",
    "                      batch_size=64,\n",
    "                      validation_split=0.2,\n",
    "                      epochs=1000,\n",
    "                      callbacks = [early_stopping, model_save, Hist_third], \n",
    "                     )"
   ]
  },
  {
   "cell_type": "code",
   "execution_count": null,
   "id": "5dc71e31",
   "metadata": {},
   "outputs": [],
   "source": [
    "y_pred_train = classifier.predict(X_train)\n",
    "y_pred_test = classifier.predict(X_test)"
   ]
  },
  {
   "cell_type": "code",
   "execution_count": null,
   "id": "f14aa9f0",
   "metadata": {},
   "outputs": [],
   "source": [
    "# Converting the predictions to the right format:\n",
    "\n",
    "y_pred_train=(y_pred_train>0.5).astype(int)\n",
    "y_pred_test=(y_pred_test>0.5).astype(int)"
   ]
  },
  {
   "cell_type": "code",
   "execution_count": null,
   "id": "ea4b1c97",
   "metadata": {},
   "outputs": [],
   "source": [
    "# Showing the confusion matrix\n",
    "\n",
    "cm = metrics.confusion_matrix(y_test,y_pred_test)\n",
    "labels = ['True Neg','False Pos','False Neg','True Pos']\n",
    "categories = ['0', '1']\n",
    "make_confusion_matrix(cm, group_names=labels, categories=categories, cmap='Blues')"
   ]
  },
  {
   "cell_type": "code",
   "execution_count": null,
   "id": "b33e65e9",
   "metadata": {},
   "outputs": [],
   "source": [
    "# Showing the classification report:\n",
    "\n",
    "target_names=[\"No Default\", \"Default\"]\n",
    "print(classification_report(y_test, y_pred_test, target_names=target_names))"
   ]
  },
  {
   "cell_type": "code",
   "execution_count": null,
   "id": "195a20b3",
   "metadata": {},
   "outputs": [],
   "source": [
    "# Showing the results performance.\n",
    "\n",
    "resultsDF = performanceMetricsDF(metrics, y_train, y_pred_train, \n",
    "                                 y_test, y_pred_test)\n",
    "resultsDF"
   ]
  },
  {
   "cell_type": "code",
   "execution_count": null,
   "id": "761fe5ef",
   "metadata": {},
   "outputs": [],
   "source": [
    "# Visualizing the train and validation loss:\n",
    "\n",
    "visualize_loss(hist, \"Training and validation loss\")"
   ]
  },
  {
   "cell_type": "code",
   "execution_count": null,
   "id": "29eda88b",
   "metadata": {},
   "outputs": [],
   "source": [
    "# Visualizing the train and validation accuracy:\n",
    "\n",
    "visualize_accuracy(hist, \"Training and validation accuracy\")"
   ]
  },
  {
   "cell_type": "markdown",
   "id": "e731e1de",
   "metadata": {},
   "source": [
    "## Using S.M.O.T.E:"
   ]
  },
  {
   "cell_type": "markdown",
   "id": "6712856b",
   "metadata": {},
   "source": [
    "- Should insert a small introduction about what S.M.O.T.E is."
   ]
  },
  {
   "cell_type": "code",
   "execution_count": null,
   "id": "c2be74e2",
   "metadata": {
    "scrolled": true
   },
   "outputs": [],
   "source": [
    "# S.M.O.T.E\n",
    "\n",
    "sm = SMOTE(k_neighbors=10, random_state=SEED)\n",
    "X_train, y_train = sm.fit_resample(X_train, y_train)"
   ]
  },
  {
   "cell_type": "code",
   "execution_count": null,
   "id": "e1f7960a",
   "metadata": {
    "scrolled": true
   },
   "outputs": [],
   "source": [
    "# MAKE SURE YOU CHOOSE THE RIGHT PARAMETERS, I NEED TO CHECK THAT OLD FILE AND SEE IF ITS THE SAME OR NOT.\n",
    "\n",
    "# create_model()"
   ]
  },
  {
   "cell_type": "code",
   "execution_count": null,
   "id": "fb4e0851",
   "metadata": {},
   "outputs": [],
   "source": [
    "# Path + name of the file we wanna create.\n",
    "path_checkpoint = \"Fourth_model.h5\"\n",
    "\n",
    "early_stopping = EarlyStopping(monitor=\"val_loss\", patience=10, mode=\"auto\")\n",
    "\n",
    "model_save = ModelCheckpoint(monitor=\"val_loss\", filepath=path_checkpoint, verbose=1, \n",
    "                             save_best_only=True)\n",
    "\n",
    "Hist_fourth = History()"
   ]
  },
  {
   "cell_type": "code",
   "execution_count": null,
   "id": "87744a91",
   "metadata": {},
   "outputs": [],
   "source": [
    "# I SHOULD PAY ATTENTION TO THE MODEL NAME.\n",
    "\n",
    "hist = classifier.fit(X_train, y_train,  \n",
    "                      batch_size=64,\n",
    "                      validation_split=0.2,\n",
    "                      epochs=1000,\n",
    "                      callbacks = [early_stopping, model_save, Hist_third], \n",
    "                     )"
   ]
  },
  {
   "cell_type": "code",
   "execution_count": null,
   "id": "af6e869c",
   "metadata": {},
   "outputs": [],
   "source": [
    "y_pred_train = classifier.predict(X_train)\n",
    "y_pred_test = classifier.predict(X_test)"
   ]
  },
  {
   "cell_type": "code",
   "execution_count": null,
   "id": "28494505",
   "metadata": {},
   "outputs": [],
   "source": [
    "# Converting the predictions to the right format:\n",
    "\n",
    "y_pred_train=(y_pred_train>0.5).astype(int)\n",
    "y_pred_test=(y_pred_test>0.5).astype(int)"
   ]
  },
  {
   "cell_type": "code",
   "execution_count": null,
   "id": "143affae",
   "metadata": {},
   "outputs": [],
   "source": [
    "# Showing the confusion matrix\n",
    "\n",
    "cm = metrics.confusion_matrix(y_test,y_pred_test)\n",
    "labels = ['True Neg','False Pos','False Neg','True Pos']\n",
    "categories = ['0', '1']\n",
    "make_confusion_matrix(cm, group_names=labels, categories=categories, cmap='Blues')"
   ]
  },
  {
   "cell_type": "code",
   "execution_count": null,
   "id": "84f62fc1",
   "metadata": {},
   "outputs": [],
   "source": [
    "# Showing the classification report:\n",
    "\n",
    "target_names=[\"No Default\", \"Default\"]\n",
    "print(classification_report(y_test, y_pred_test, target_names=target_names))"
   ]
  },
  {
   "cell_type": "code",
   "execution_count": null,
   "id": "ea2b9dc7",
   "metadata": {},
   "outputs": [],
   "source": [
    "# Showing the results performance.\n",
    "\n",
    "resultsDF = performanceMetricsDF(metrics, y_train, y_pred_train, \n",
    "                                 y_test, y_pred_test)\n",
    "resultsDF"
   ]
  },
  {
   "cell_type": "code",
   "execution_count": null,
   "id": "e55b9950",
   "metadata": {},
   "outputs": [],
   "source": [
    "# Visualizing the train and validation loss:\n",
    "\n",
    "visualize_loss(hist, \"Training and validation loss\")"
   ]
  },
  {
   "cell_type": "code",
   "execution_count": null,
   "id": "f36b99c5",
   "metadata": {},
   "outputs": [],
   "source": [
    "# Visualizing the train and validation accuracy:\n",
    "\n",
    "visualize_accuracy(hist, \"Training and validation accuracy\")"
   ]
  },
  {
   "cell_type": "markdown",
   "id": "8d47be6b",
   "metadata": {},
   "source": [
    "## Results discussion:"
   ]
  },
  {
   "cell_type": "markdown",
   "id": "a63acf26",
   "metadata": {},
   "source": [
    "- Insert results discussion here:"
   ]
  },
  {
   "cell_type": "code",
   "execution_count": null,
   "id": "3ff69c83",
   "metadata": {
    "scrolled": true
   },
   "outputs": [],
   "source": [
    "t2 = time.perf_counter()\n",
    "print('time taken to run:',(t2-t1)/60.0)"
   ]
  }
 ],
 "metadata": {
  "interpreter": {
   "hash": "906eca577c2ad557738f7e0b329f306984fd9e1bcf6cf4e2410c28cafd87502b"
  },
  "kernelspec": {
   "display_name": "Python 3.8.8 ('base')",
   "language": "python",
   "name": "python3"
  },
  "language_info": {
   "codemirror_mode": {
    "name": "ipython",
    "version": 3
   },
   "file_extension": ".py",
   "mimetype": "text/x-python",
   "name": "python",
   "nbconvert_exporter": "python",
   "pygments_lexer": "ipython3",
   "version": "3.8.8"
  }
 },
 "nbformat": 4,
 "nbformat_minor": 5
}
